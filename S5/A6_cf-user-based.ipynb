{
  "cells": [
    {
      "cell_type": "markdown",
      "source": [
        "<a href=\"https://colab.research.google.com/github/yeha98555/data-course-sample/blob/main/S5/A6_cf-used-based.ipynb\" target=\"_parent\"><img src=\"https://colab.research.google.com/assets/colab-badge.svg\" alt=\"Open In Colab\"/></a>"
      ],
      "metadata": {
        "id": "view-in-github",
        "colab_type": "text"
      }
    },
    {
      "cell_type": "markdown",
      "source": [
        "# User-based collaborative filtering"
      ],
      "metadata": {
        "id": "Vh50qqZ-kzyj"
      }
    },
    {
      "cell_type": "markdown",
      "source": [
        "## 基礎建設"
      ],
      "metadata": {
        "id": "cYIwaSR4kzyn"
      }
    },
    {
      "cell_type": "code",
      "execution_count": null,
      "source": [
        "import pandas as pd\n",
        "import gzip, json\n",
        "\n",
        "def parse(path):\n",
        "    g = gzip.open(path, 'rb')\n",
        "    for l in g:\n",
        "        yield json.loads(l)\n",
        "\n",
        "def getDF(path):\n",
        "    i = 0\n",
        "    df = {}\n",
        "    for d in parse(path):\n",
        "        df[i] = d\n",
        "        i += 1\n",
        "    return pd.DataFrame.from_dict(df, orient='index')"
      ],
      "outputs": [],
      "metadata": {
        "scrolled": true,
        "id": "-sSodn1-kzyo"
      }
    },
    {
      "cell_type": "markdown",
      "source": [
        "## 載入資料"
      ],
      "metadata": {
        "id": "wm6nL9F_kzys"
      }
    },
    {
      "cell_type": "code",
      "execution_count": null,
      "source": [
        "!wget http://deepyeti.ucsd.edu/jianmo/amazon/categoryFilesSmall/All_Beauty.csv\n",
        "!wget http://deepyeti.ucsd.edu/jianmo/amazon/metaFiles2/meta_All_Beauty.json.gz"
      ],
      "outputs": [
        {
          "output_type": "stream",
          "name": "stdout",
          "text": [
            "--2022-01-09 06:47:48--  http://deepyeti.ucsd.edu/jianmo/amazon/categoryFilesSmall/All_Beauty.csv\n",
            "Resolving deepyeti.ucsd.edu (deepyeti.ucsd.edu)... 169.228.63.50\n",
            "Connecting to deepyeti.ucsd.edu (deepyeti.ucsd.edu)|169.228.63.50|:80... connected.\n",
            "HTTP request sent, awaiting response... 200 OK\n",
            "Length: 15499476 (15M) [application/octet-stream]\n",
            "Saving to: ‘All_Beauty.csv’\n",
            "\n",
            "All_Beauty.csv      100%[===================>]  14.78M  19.1MB/s    in 0.8s    \n",
            "\n",
            "2022-01-09 06:47:49 (19.1 MB/s) - ‘All_Beauty.csv’ saved [15499476/15499476]\n",
            "\n",
            "--2022-01-09 06:47:49--  http://deepyeti.ucsd.edu/jianmo/amazon/metaFiles2/meta_All_Beauty.json.gz\n",
            "Resolving deepyeti.ucsd.edu (deepyeti.ucsd.edu)... 169.228.63.50\n",
            "Connecting to deepyeti.ucsd.edu (deepyeti.ucsd.edu)|169.228.63.50|:80... connected.\n",
            "HTTP request sent, awaiting response... 200 OK\n",
            "Length: 10329961 (9.9M) [application/octet-stream]\n",
            "Saving to: ‘meta_All_Beauty.json.gz’\n",
            "\n",
            "meta_All_Beauty.jso 100%[===================>]   9.85M  14.0MB/s    in 0.7s    \n",
            "\n",
            "2022-01-09 06:47:50 (14.0 MB/s) - ‘meta_All_Beauty.json.gz’ saved [10329961/10329961]\n",
            "\n"
          ]
        }
      ],
      "metadata": {
        "id": "Sv38r5b1kzyt",
        "outputId": "2eeb1e6b-5025-41de-c374-d5776aacf291",
        "colab": {
          "base_uri": "https://localhost:8080/"
        }
      }
    },
    {
      "cell_type": "code",
      "execution_count": null,
      "source": [
        "metadata = getDF('/content/meta_All_Beauty.json.gz')\n",
        "ratings = pd.read_csv('/content/All_Beauty.csv', names=['asin', 'reviewerID', 'overall', 'unixReviewTime'], header=None)"
      ],
      "outputs": [],
      "metadata": {
        "id": "H6Bflm5Bkzyt"
      }
    },
    {
      "cell_type": "code",
      "execution_count": null,
      "source": [
        "metadata.head()"
      ],
      "outputs": [
        {
          "output_type": "execute_result",
          "data": {
            "text/plain": [
              "  category  ...                                    imageURLHighRes\n",
              "0       []  ...                                                 []\n",
              "1       []  ...                                                 []\n",
              "2       []  ...                                                 []\n",
              "3       []  ...  [https://images-na.ssl-images-amazon.com/image...\n",
              "4       []  ...  [https://images-na.ssl-images-amazon.com/image...\n",
              "\n",
              "[5 rows x 19 columns]"
            ],
            "text/html": [
              "\n",
              "  <div id=\"df-79c9c973-d4bf-47cd-b835-36b92eb900a4\">\n",
              "    <div class=\"colab-df-container\">\n",
              "      <div>\n",
              "<style scoped>\n",
              "    .dataframe tbody tr th:only-of-type {\n",
              "        vertical-align: middle;\n",
              "    }\n",
              "\n",
              "    .dataframe tbody tr th {\n",
              "        vertical-align: top;\n",
              "    }\n",
              "\n",
              "    .dataframe thead th {\n",
              "        text-align: right;\n",
              "    }\n",
              "</style>\n",
              "<table border=\"1\" class=\"dataframe\">\n",
              "  <thead>\n",
              "    <tr style=\"text-align: right;\">\n",
              "      <th></th>\n",
              "      <th>category</th>\n",
              "      <th>tech1</th>\n",
              "      <th>description</th>\n",
              "      <th>fit</th>\n",
              "      <th>title</th>\n",
              "      <th>also_buy</th>\n",
              "      <th>tech2</th>\n",
              "      <th>brand</th>\n",
              "      <th>feature</th>\n",
              "      <th>rank</th>\n",
              "      <th>also_view</th>\n",
              "      <th>details</th>\n",
              "      <th>main_cat</th>\n",
              "      <th>similar_item</th>\n",
              "      <th>date</th>\n",
              "      <th>price</th>\n",
              "      <th>asin</th>\n",
              "      <th>imageURL</th>\n",
              "      <th>imageURLHighRes</th>\n",
              "    </tr>\n",
              "  </thead>\n",
              "  <tbody>\n",
              "    <tr>\n",
              "      <th>0</th>\n",
              "      <td>[]</td>\n",
              "      <td></td>\n",
              "      <td>[Loud 'N Clear Personal Sound Amplifier allows...</td>\n",
              "      <td></td>\n",
              "      <td>Loud 'N Clear&amp;trade; Personal Sound Amplifier</td>\n",
              "      <td>[]</td>\n",
              "      <td></td>\n",
              "      <td>idea village</td>\n",
              "      <td>[]</td>\n",
              "      <td>2,938,573 in Beauty &amp; Personal Care (</td>\n",
              "      <td>[]</td>\n",
              "      <td>{'ASIN: ': '6546546450'}</td>\n",
              "      <td>All Beauty</td>\n",
              "      <td></td>\n",
              "      <td></td>\n",
              "      <td></td>\n",
              "      <td>6546546450</td>\n",
              "      <td>[]</td>\n",
              "      <td>[]</td>\n",
              "    </tr>\n",
              "    <tr>\n",
              "      <th>1</th>\n",
              "      <td>[]</td>\n",
              "      <td></td>\n",
              "      <td>[No7 Lift &amp; Luminate Triple Action Serum 50ml ...</td>\n",
              "      <td></td>\n",
              "      <td>No7 Lift &amp;amp; Luminate Triple Action Serum 50...</td>\n",
              "      <td>[B01E7LCSL6, B008X5RVME]</td>\n",
              "      <td></td>\n",
              "      <td></td>\n",
              "      <td>[]</td>\n",
              "      <td>872,854 in Beauty &amp; Personal Care (</td>\n",
              "      <td>[]</td>\n",
              "      <td>{'Shipping Weight:': '0.3 ounces (', 'ASIN: ':...</td>\n",
              "      <td>All Beauty</td>\n",
              "      <td>class=\"a-bordered a-horizontal-stripes  a-spa...</td>\n",
              "      <td></td>\n",
              "      <td>$44.99</td>\n",
              "      <td>7178680776</td>\n",
              "      <td>[]</td>\n",
              "      <td>[]</td>\n",
              "    </tr>\n",
              "    <tr>\n",
              "      <th>2</th>\n",
              "      <td>[]</td>\n",
              "      <td></td>\n",
              "      <td>[No7 Stay Perfect Foundation now stays perfect...</td>\n",
              "      <td></td>\n",
              "      <td>No7 Stay Perfect Foundation Cool Vanilla by No7</td>\n",
              "      <td>[]</td>\n",
              "      <td></td>\n",
              "      <td>No7</td>\n",
              "      <td>[]</td>\n",
              "      <td>956,696 in Beauty &amp; Personal Care (</td>\n",
              "      <td>[B01B8BR0O8, B01B8BR0NO, B014MHXXM8]</td>\n",
              "      <td>{'Shipping Weight:': '3.5 ounces (', 'ASIN: ':...</td>\n",
              "      <td>All Beauty</td>\n",
              "      <td></td>\n",
              "      <td></td>\n",
              "      <td>$28.76</td>\n",
              "      <td>7250468162</td>\n",
              "      <td>[]</td>\n",
              "      <td>[]</td>\n",
              "    </tr>\n",
              "    <tr>\n",
              "      <th>3</th>\n",
              "      <td>[]</td>\n",
              "      <td></td>\n",
              "      <td>[]</td>\n",
              "      <td></td>\n",
              "      <td>Wella Koleston Perfect Hair Colour 44/44 Mediu...</td>\n",
              "      <td>[B0041PBXX8]</td>\n",
              "      <td></td>\n",
              "      <td></td>\n",
              "      <td>[]</td>\n",
              "      <td>1,870,258 in Beauty &amp; Personal Care (</td>\n",
              "      <td>[]</td>\n",
              "      <td>{'\n",
              "    Item Weight: \n",
              "    ': '1.76 ounces', 'Sh...</td>\n",
              "      <td>All Beauty</td>\n",
              "      <td></td>\n",
              "      <td></td>\n",
              "      <td></td>\n",
              "      <td>7367905066</td>\n",
              "      <td>[https://images-na.ssl-images-amazon.com/image...</td>\n",
              "      <td>[https://images-na.ssl-images-amazon.com/image...</td>\n",
              "    </tr>\n",
              "    <tr>\n",
              "      <th>4</th>\n",
              "      <td>[]</td>\n",
              "      <td></td>\n",
              "      <td>[Lacto Calamine Skin Balance Daily Nourishing ...</td>\n",
              "      <td></td>\n",
              "      <td>Lacto Calamine Skin Balance Oil control 120 ml...</td>\n",
              "      <td>[]</td>\n",
              "      <td></td>\n",
              "      <td>Pirmal Healthcare</td>\n",
              "      <td>[]</td>\n",
              "      <td>67,701 in Beauty &amp; Personal Care (</td>\n",
              "      <td>[3254895630, B007VL1D9S, B00EH9A0RI, B0773MBG4...</td>\n",
              "      <td>{'Shipping Weight:': '12 ounces (', 'ASIN: ': ...</td>\n",
              "      <td>All Beauty</td>\n",
              "      <td></td>\n",
              "      <td></td>\n",
              "      <td>$12.15</td>\n",
              "      <td>7414204790</td>\n",
              "      <td>[https://images-na.ssl-images-amazon.com/image...</td>\n",
              "      <td>[https://images-na.ssl-images-amazon.com/image...</td>\n",
              "    </tr>\n",
              "  </tbody>\n",
              "</table>\n",
              "</div>\n",
              "      <button class=\"colab-df-convert\" onclick=\"convertToInteractive('df-79c9c973-d4bf-47cd-b835-36b92eb900a4')\"\n",
              "              title=\"Convert this dataframe to an interactive table.\"\n",
              "              style=\"display:none;\">\n",
              "        \n",
              "  <svg xmlns=\"http://www.w3.org/2000/svg\" height=\"24px\"viewBox=\"0 0 24 24\"\n",
              "       width=\"24px\">\n",
              "    <path d=\"M0 0h24v24H0V0z\" fill=\"none\"/>\n",
              "    <path d=\"M18.56 5.44l.94 2.06.94-2.06 2.06-.94-2.06-.94-.94-2.06-.94 2.06-2.06.94zm-11 1L8.5 8.5l.94-2.06 2.06-.94-2.06-.94L8.5 2.5l-.94 2.06-2.06.94zm10 10l.94 2.06.94-2.06 2.06-.94-2.06-.94-.94-2.06-.94 2.06-2.06.94z\"/><path d=\"M17.41 7.96l-1.37-1.37c-.4-.4-.92-.59-1.43-.59-.52 0-1.04.2-1.43.59L10.3 9.45l-7.72 7.72c-.78.78-.78 2.05 0 2.83L4 21.41c.39.39.9.59 1.41.59.51 0 1.02-.2 1.41-.59l7.78-7.78 2.81-2.81c.8-.78.8-2.07 0-2.86zM5.41 20L4 18.59l7.72-7.72 1.47 1.35L5.41 20z\"/>\n",
              "  </svg>\n",
              "      </button>\n",
              "      \n",
              "  <style>\n",
              "    .colab-df-container {\n",
              "      display:flex;\n",
              "      flex-wrap:wrap;\n",
              "      gap: 12px;\n",
              "    }\n",
              "\n",
              "    .colab-df-convert {\n",
              "      background-color: #E8F0FE;\n",
              "      border: none;\n",
              "      border-radius: 50%;\n",
              "      cursor: pointer;\n",
              "      display: none;\n",
              "      fill: #1967D2;\n",
              "      height: 32px;\n",
              "      padding: 0 0 0 0;\n",
              "      width: 32px;\n",
              "    }\n",
              "\n",
              "    .colab-df-convert:hover {\n",
              "      background-color: #E2EBFA;\n",
              "      box-shadow: 0px 1px 2px rgba(60, 64, 67, 0.3), 0px 1px 3px 1px rgba(60, 64, 67, 0.15);\n",
              "      fill: #174EA6;\n",
              "    }\n",
              "\n",
              "    [theme=dark] .colab-df-convert {\n",
              "      background-color: #3B4455;\n",
              "      fill: #D2E3FC;\n",
              "    }\n",
              "\n",
              "    [theme=dark] .colab-df-convert:hover {\n",
              "      background-color: #434B5C;\n",
              "      box-shadow: 0px 1px 3px 1px rgba(0, 0, 0, 0.15);\n",
              "      filter: drop-shadow(0px 1px 2px rgba(0, 0, 0, 0.3));\n",
              "      fill: #FFFFFF;\n",
              "    }\n",
              "  </style>\n",
              "\n",
              "      <script>\n",
              "        const buttonEl =\n",
              "          document.querySelector('#df-79c9c973-d4bf-47cd-b835-36b92eb900a4 button.colab-df-convert');\n",
              "        buttonEl.style.display =\n",
              "          google.colab.kernel.accessAllowed ? 'block' : 'none';\n",
              "\n",
              "        async function convertToInteractive(key) {\n",
              "          const element = document.querySelector('#df-79c9c973-d4bf-47cd-b835-36b92eb900a4');\n",
              "          const dataTable =\n",
              "            await google.colab.kernel.invokeFunction('convertToInteractive',\n",
              "                                                     [key], {});\n",
              "          if (!dataTable) return;\n",
              "\n",
              "          const docLinkHtml = 'Like what you see? Visit the ' +\n",
              "            '<a target=\"_blank\" href=https://colab.research.google.com/notebooks/data_table.ipynb>data table notebook</a>'\n",
              "            + ' to learn more about interactive tables.';\n",
              "          element.innerHTML = '';\n",
              "          dataTable['output_type'] = 'display_data';\n",
              "          await google.colab.output.renderOutput(dataTable, element);\n",
              "          const docLink = document.createElement('div');\n",
              "          docLink.innerHTML = docLinkHtml;\n",
              "          element.appendChild(docLink);\n",
              "        }\n",
              "      </script>\n",
              "    </div>\n",
              "  </div>\n",
              "  "
            ]
          },
          "metadata": {},
          "execution_count": 4
        }
      ],
      "metadata": {
        "id": "-CAPiBQokzyu",
        "outputId": "22eebc19-1729-4d59-ffdf-e7651923b345",
        "colab": {
          "base_uri": "https://localhost:8080/",
          "height": 630
        }
      }
    },
    {
      "cell_type": "code",
      "execution_count": null,
      "source": [
        "ratings.head()"
      ],
      "outputs": [
        {
          "output_type": "execute_result",
          "data": {
            "text/plain": [
              "         asin      reviewerID  overall  unixReviewTime\n",
              "0  0143026860  A1V6B6TNIC10QE      1.0      1424304000\n",
              "1  0143026860  A2F5GHSXFQ0W6J      4.0      1418860800\n",
              "2  0143026860  A1572GUYS7DGSR      4.0      1407628800\n",
              "3  0143026860   A1PSGLFK1NSVO      5.0      1362960000\n",
              "4  0143026860   A6IKXKZMTKGSC      5.0      1324771200"
            ],
            "text/html": [
              "\n",
              "  <div id=\"df-adb0514e-d797-4e63-a91b-507fcddd6375\">\n",
              "    <div class=\"colab-df-container\">\n",
              "      <div>\n",
              "<style scoped>\n",
              "    .dataframe tbody tr th:only-of-type {\n",
              "        vertical-align: middle;\n",
              "    }\n",
              "\n",
              "    .dataframe tbody tr th {\n",
              "        vertical-align: top;\n",
              "    }\n",
              "\n",
              "    .dataframe thead th {\n",
              "        text-align: right;\n",
              "    }\n",
              "</style>\n",
              "<table border=\"1\" class=\"dataframe\">\n",
              "  <thead>\n",
              "    <tr style=\"text-align: right;\">\n",
              "      <th></th>\n",
              "      <th>asin</th>\n",
              "      <th>reviewerID</th>\n",
              "      <th>overall</th>\n",
              "      <th>unixReviewTime</th>\n",
              "    </tr>\n",
              "  </thead>\n",
              "  <tbody>\n",
              "    <tr>\n",
              "      <th>0</th>\n",
              "      <td>0143026860</td>\n",
              "      <td>A1V6B6TNIC10QE</td>\n",
              "      <td>1.0</td>\n",
              "      <td>1424304000</td>\n",
              "    </tr>\n",
              "    <tr>\n",
              "      <th>1</th>\n",
              "      <td>0143026860</td>\n",
              "      <td>A2F5GHSXFQ0W6J</td>\n",
              "      <td>4.0</td>\n",
              "      <td>1418860800</td>\n",
              "    </tr>\n",
              "    <tr>\n",
              "      <th>2</th>\n",
              "      <td>0143026860</td>\n",
              "      <td>A1572GUYS7DGSR</td>\n",
              "      <td>4.0</td>\n",
              "      <td>1407628800</td>\n",
              "    </tr>\n",
              "    <tr>\n",
              "      <th>3</th>\n",
              "      <td>0143026860</td>\n",
              "      <td>A1PSGLFK1NSVO</td>\n",
              "      <td>5.0</td>\n",
              "      <td>1362960000</td>\n",
              "    </tr>\n",
              "    <tr>\n",
              "      <th>4</th>\n",
              "      <td>0143026860</td>\n",
              "      <td>A6IKXKZMTKGSC</td>\n",
              "      <td>5.0</td>\n",
              "      <td>1324771200</td>\n",
              "    </tr>\n",
              "  </tbody>\n",
              "</table>\n",
              "</div>\n",
              "      <button class=\"colab-df-convert\" onclick=\"convertToInteractive('df-adb0514e-d797-4e63-a91b-507fcddd6375')\"\n",
              "              title=\"Convert this dataframe to an interactive table.\"\n",
              "              style=\"display:none;\">\n",
              "        \n",
              "  <svg xmlns=\"http://www.w3.org/2000/svg\" height=\"24px\"viewBox=\"0 0 24 24\"\n",
              "       width=\"24px\">\n",
              "    <path d=\"M0 0h24v24H0V0z\" fill=\"none\"/>\n",
              "    <path d=\"M18.56 5.44l.94 2.06.94-2.06 2.06-.94-2.06-.94-.94-2.06-.94 2.06-2.06.94zm-11 1L8.5 8.5l.94-2.06 2.06-.94-2.06-.94L8.5 2.5l-.94 2.06-2.06.94zm10 10l.94 2.06.94-2.06 2.06-.94-2.06-.94-.94-2.06-.94 2.06-2.06.94z\"/><path d=\"M17.41 7.96l-1.37-1.37c-.4-.4-.92-.59-1.43-.59-.52 0-1.04.2-1.43.59L10.3 9.45l-7.72 7.72c-.78.78-.78 2.05 0 2.83L4 21.41c.39.39.9.59 1.41.59.51 0 1.02-.2 1.41-.59l7.78-7.78 2.81-2.81c.8-.78.8-2.07 0-2.86zM5.41 20L4 18.59l7.72-7.72 1.47 1.35L5.41 20z\"/>\n",
              "  </svg>\n",
              "      </button>\n",
              "      \n",
              "  <style>\n",
              "    .colab-df-container {\n",
              "      display:flex;\n",
              "      flex-wrap:wrap;\n",
              "      gap: 12px;\n",
              "    }\n",
              "\n",
              "    .colab-df-convert {\n",
              "      background-color: #E8F0FE;\n",
              "      border: none;\n",
              "      border-radius: 50%;\n",
              "      cursor: pointer;\n",
              "      display: none;\n",
              "      fill: #1967D2;\n",
              "      height: 32px;\n",
              "      padding: 0 0 0 0;\n",
              "      width: 32px;\n",
              "    }\n",
              "\n",
              "    .colab-df-convert:hover {\n",
              "      background-color: #E2EBFA;\n",
              "      box-shadow: 0px 1px 2px rgba(60, 64, 67, 0.3), 0px 1px 3px 1px rgba(60, 64, 67, 0.15);\n",
              "      fill: #174EA6;\n",
              "    }\n",
              "\n",
              "    [theme=dark] .colab-df-convert {\n",
              "      background-color: #3B4455;\n",
              "      fill: #D2E3FC;\n",
              "    }\n",
              "\n",
              "    [theme=dark] .colab-df-convert:hover {\n",
              "      background-color: #434B5C;\n",
              "      box-shadow: 0px 1px 3px 1px rgba(0, 0, 0, 0.15);\n",
              "      filter: drop-shadow(0px 1px 2px rgba(0, 0, 0, 0.3));\n",
              "      fill: #FFFFFF;\n",
              "    }\n",
              "  </style>\n",
              "\n",
              "      <script>\n",
              "        const buttonEl =\n",
              "          document.querySelector('#df-adb0514e-d797-4e63-a91b-507fcddd6375 button.colab-df-convert');\n",
              "        buttonEl.style.display =\n",
              "          google.colab.kernel.accessAllowed ? 'block' : 'none';\n",
              "\n",
              "        async function convertToInteractive(key) {\n",
              "          const element = document.querySelector('#df-adb0514e-d797-4e63-a91b-507fcddd6375');\n",
              "          const dataTable =\n",
              "            await google.colab.kernel.invokeFunction('convertToInteractive',\n",
              "                                                     [key], {});\n",
              "          if (!dataTable) return;\n",
              "\n",
              "          const docLinkHtml = 'Like what you see? Visit the ' +\n",
              "            '<a target=\"_blank\" href=https://colab.research.google.com/notebooks/data_table.ipynb>data table notebook</a>'\n",
              "            + ' to learn more about interactive tables.';\n",
              "          element.innerHTML = '';\n",
              "          dataTable['output_type'] = 'display_data';\n",
              "          await google.colab.output.renderOutput(dataTable, element);\n",
              "          const docLink = document.createElement('div');\n",
              "          docLink.innerHTML = docLinkHtml;\n",
              "          element.appendChild(docLink);\n",
              "        }\n",
              "      </script>\n",
              "    </div>\n",
              "  </div>\n",
              "  "
            ]
          },
          "metadata": {},
          "execution_count": 5
        }
      ],
      "metadata": {
        "id": "iPLjCu1okzyw",
        "outputId": "0f6dfdb9-400a-45ee-f3e9-b5aba19199de",
        "colab": {
          "base_uri": "https://localhost:8080/",
          "height": 256
        }
      }
    },
    {
      "cell_type": "markdown",
      "source": [
        "## 資料整理"
      ],
      "metadata": {
        "id": "4Rc799ISkzy2"
      }
    },
    {
      "cell_type": "code",
      "execution_count": null,
      "source": [
        "ratings['DATE'] = pd.to_datetime(ratings['unixReviewTime'], unit='s')"
      ],
      "outputs": [],
      "metadata": {
        "id": "mLL7i28Mkzy3"
      }
    },
    {
      "cell_type": "markdown",
      "source": [
        "### 去除重複資料"
      ],
      "metadata": {
        "id": "vEAX5qLxlNri"
      }
    },
    {
      "cell_type": "markdown",
      "source": [
        "#### metadata（資料完全一樣的商品）"
      ],
      "metadata": {
        "id": "ZSCdgubhlTmT"
      }
    },
    {
      "cell_type": "code",
      "execution_count": null,
      "source": [
        "print('Original Num of metadata: {0}'.format(len(metadata)))\n",
        "print('Num of duplicated metadata: {0}'.format(metadata.duplicated(subset=['asin', 'title']).sum()))\n",
        "\n",
        "print('Drop duplicated metadata...')\n",
        "metadata.drop_duplicates(subset=['asin', 'title'], keep=False, inplace=True)\n",
        "metadata = metadata.reset_index(drop=True)\n",
        "print('Current Num of metadata: {0}'.format(len(metadata)))"
      ],
      "outputs": [
        {
          "output_type": "stream",
          "name": "stdout",
          "text": [
            "Original Num of metadata: 32892\n",
            "Num of duplicated metadata: 404\n",
            "Drop duplicated metadata...\n",
            "Current Num of metadata: 32084\n"
          ]
        }
      ],
      "metadata": {
        "id": "0aYjIIzelQMm",
        "outputId": "a2145391-0480-4f0a-9b6c-2d7400af36eb",
        "colab": {
          "base_uri": "https://localhost:8080/"
        }
      }
    },
    {
      "cell_type": "markdown",
      "source": [
        "#### ratings\n",
        "重複評分，將在資料探索時處理。"
      ],
      "metadata": {
        "id": "OEFFGfTTlGdM"
      }
    },
    {
      "cell_type": "markdown",
      "source": [
        "## 資料切分"
      ],
      "metadata": {
        "id": "ueuryxQakzy3"
      }
    },
    {
      "cell_type": "code",
      "execution_count": null,
      "source": [
        "ratings_trainings = ratings[\n",
        "    (ratings['DATE'] < '2018-09-01')\n",
        "]\n",
        "ratings_testings = ratings[\n",
        "    (ratings['DATE'] >= '2018-09-01') & \n",
        "    (ratings['DATE'] <= '2018-09-30')\n",
        "]\n",
        "ratings_testings_by_user = ratings_testings.groupby('reviewerID').agg(list).reset_index()[['reviewerID', 'asin']].to_dict('records')\n",
        "ratings_testings_by_user = { rating['reviewerID']: rating['asin'] for rating in ratings_testings_by_user }\n",
        "users = list(ratings_testings_by_user.keys())"
      ],
      "outputs": [],
      "metadata": {
        "id": "-jrkCcuCkzy3"
      }
    },
    {
      "cell_type": "markdown",
      "source": [
        "---"
      ],
      "metadata": {
        "id": "-NlEHRgslhE-"
      }
    },
    {
      "cell_type": "markdown",
      "source": [
        "保留原始資料，複製一份出來處理。"
      ],
      "metadata": {
        "id": "CqSttpHuli_a"
      }
    },
    {
      "cell_type": "code",
      "execution_count": null,
      "source": [
        "metadata_tmp = metadata.copy()\n",
        "\n",
        "ratings_trainings_tmp = ratings_trainings.copy()\n",
        "ratings_testings_tmp = ratings_testings.copy()\n",
        "\n",
        "users_testing_tmp = users.copy()"
      ],
      "outputs": [],
      "metadata": {
        "id": "-N82mch5lk8D"
      }
    },
    {
      "cell_type": "markdown",
      "source": [
        "---"
      ],
      "metadata": {
        "id": "Y2CsMPLelfrr"
      }
    },
    {
      "cell_type": "markdown",
      "source": [
        "## 資料探索"
      ],
      "metadata": {
        "id": "Sn0B2Lr9loqg"
      }
    },
    {
      "cell_type": "code",
      "execution_count": null,
      "source": [
        "import numpy as np\n",
        "import matplotlib.pyplot as plt"
      ],
      "outputs": [],
      "metadata": {
        "id": "BenA_G5VloQt"
      }
    },
    {
      "cell_type": "markdown",
      "source": [
        "### 測試資料集"
      ],
      "metadata": {
        "id": "Rkl26eozmDXV"
      }
    },
    {
      "cell_type": "markdown",
      "source": [
        "查看測試資料集中的用戶有多少人曾經留下評分過？各留下多少呢？"
      ],
      "metadata": {
        "id": "44z0-G3PmF-g"
      }
    },
    {
      "cell_type": "code",
      "execution_count": null,
      "source": [
        "num_rating_user = ratings_trainings_tmp[ratings_trainings_tmp['reviewerID'].isin(users_testing_tmp)]['reviewerID'].nunique()\n",
        "print('多少人曾留過評分 : {0} ({1}%)'.format(num_rating_user, round(num_rating_user / len(users_testing_tmp)*100)))"
      ],
      "outputs": [
        {
          "output_type": "stream",
          "name": "stdout",
          "text": [
            "多少人曾留過評分 : 38 (7%)\n"
          ]
        }
      ],
      "metadata": {
        "colab": {
          "base_uri": "https://localhost:8080/"
        },
        "id": "mPg43fuGmIVB",
        "outputId": "1355e858-ed0d-4893-e283-ce6d23727d9a"
      }
    },
    {
      "cell_type": "code",
      "execution_count": null,
      "source": [
        "print(ratings_trainings_tmp[ratings_trainings_tmp['reviewerID'].isin(users_testing_tmp)].groupby('reviewerID').agg({'asin':'size'}))\n",
        "print('這些人平均對多少商品評分: {0}'.format(ratings_trainings_tmp[ratings_trainings_tmp['reviewerID'].isin(users_testing_tmp)].groupby('reviewerID').agg({'asin':'size'}).mean()[0]))"
      ],
      "outputs": [
        {
          "output_type": "stream",
          "name": "stdout",
          "text": [
            "                asin\n",
            "reviewerID          \n",
            "A13JU88JAHN72I     1\n",
            "A16Y7V1CZCWKFV     1\n",
            "A19503XX7GU6J2     2\n",
            "A1EY751AUVO5NZ     1\n",
            "A1PR178735XC70     1\n",
            "A1SA3N793WT2LM     4\n",
            "A1TP9JHTIY468V     2\n",
            "A1UAOE8KO7Q1DZ     1\n",
            "A1WEFBEJ7OHSVZ     1\n",
            "A1WSZED2O5MA5T     2\n",
            "A28E3FNV1BYC94     1\n",
            "A29834GBB4DOP1     1\n",
            "A2AAQWBJJTK3E1     1\n",
            "A2BU6N5956T9NH     1\n",
            "A2GFPTQ4VWDX96     1\n",
            "A2IMJV0CQMZLGC     1\n",
            "A2IOBG1ERS4JP3     1\n",
            "A2JCBLTLYDPQLW     1\n",
            "A2M4YSOJZELJ6N     1\n",
            "A2XFJ8CTY7VDNN     1\n",
            "A2XY3CJ3ZCAD03     1\n",
            "A3BE6JK97CYAGA     1\n",
            "A3BT1WLPENXMD6     3\n",
            "A3DXW3542E4QUC     1\n",
            "A3GRQ9WMP4OXFE     1\n",
            "A3H8Z7JS7XJHJJ     2\n",
            "A3JEQJCEMX20GI     2\n",
            "A4IQXCCXDEAKW      2\n",
            "A7JUHUYLXIUVQ      1\n",
            "A7Y4ETTLARUGI      1\n",
            "ACE1ZIOI3U6PY      3\n",
            "AGRZQOBCF8H87      1\n",
            "AITF34BGBMVJJ      1\n",
            "AK7YIZE6ZZ1N9      1\n",
            "ANR73TPVBCQ9K      1\n",
            "AQYL4TDY2HU8Z      1\n",
            "ASGIVOW34XNQS      3\n",
            "ATJRZUXNWAWIK      1\n",
            "這些人平均對多少商品評分: 1.394736842105263\n"
          ]
        }
      ],
      "metadata": {
        "colab": {
          "base_uri": "https://localhost:8080/"
        },
        "id": "_2PtI4XWmJfv",
        "outputId": "a6abe77f-0c8a-41fd-e53e-c49d8b6c7205"
      }
    },
    {
      "cell_type": "markdown",
      "source": [
        "如果未曾留下評分，則無法得知喜好，也無法找過去購買的商品推薦類似的，只能用rule-based。<br>\n",
        "發現有留過評分的占少數，故rule-based方法對整體推薦系統recall影響大。"
      ],
      "metadata": {
        "id": "TyLyKBfamN4V"
      }
    },
    {
      "cell_type": "markdown",
      "source": [
        "### 訓練資料集"
      ],
      "metadata": {
        "id": "9I44TuvamPSi"
      }
    },
    {
      "cell_type": "markdown",
      "source": [
        "#### 是否有不同日重複評分？"
      ],
      "metadata": {
        "id": "ikR0SlyKmUPp"
      }
    },
    {
      "cell_type": "code",
      "execution_count": null,
      "source": [
        "ratings_trainings_tmp.groupby(['reviewerID', 'asin'])['DATE'].nunique().describe()"
      ],
      "outputs": [
        {
          "output_type": "execute_result",
          "data": {
            "text/plain": [
              "count    361012.000000\n",
              "mean          1.001651\n",
              "std           0.044442\n",
              "min           1.000000\n",
              "25%           1.000000\n",
              "50%           1.000000\n",
              "75%           1.000000\n",
              "max           7.000000\n",
              "Name: DATE, dtype: float64"
            ]
          },
          "metadata": {},
          "execution_count": 13
        }
      ],
      "metadata": {
        "colab": {
          "base_uri": "https://localhost:8080/"
        },
        "id": "FrqxGhAomRzc",
        "outputId": "6e4c5b58-32c7-4c57-96bc-8b0d1533560a"
      }
    },
    {
      "cell_type": "markdown",
      "source": [
        "發現有重複評分，甚至有一用戶對同商品評分達6次。"
      ],
      "metadata": {
        "id": "fgeWGG3EmT9j"
      }
    },
    {
      "cell_type": "markdown",
      "source": [
        "找出重複的部分。"
      ],
      "metadata": {
        "id": "e-j_5WyQmdLw"
      }
    },
    {
      "cell_type": "code",
      "execution_count": null,
      "source": [
        "duplicate = ratings_trainings_tmp[ratings_trainings_tmp.duplicated(subset=['reviewerID', 'asin'], keep=False)]\n",
        "duplicate.head()"
      ],
      "outputs": [
        {
          "output_type": "execute_result",
          "data": {
            "text/plain": [
              "            asin      reviewerID  overall  unixReviewTime       DATE\n",
              "2352  1620213982   AD80MGOY5CJZ4      5.0      1451692800 2016-01-02\n",
              "4017  1620213982   AD80MGOY5CJZ4      5.0      1422662400 2015-01-31\n",
              "6904  B000052YAN   ACTVXNBEPLW2S      4.0      1422144000 2015-01-25\n",
              "6905  B000052YAN   ACTVXNBEPLW2S      4.0      1422144000 2015-01-25\n",
              "6941  B0000530HU  A2CTM1BYAXTYLX      5.0      1243987200 2009-06-03"
            ],
            "text/html": [
              "\n",
              "  <div id=\"df-647e60a0-ad8b-4c41-9c07-173d229fa4fc\">\n",
              "    <div class=\"colab-df-container\">\n",
              "      <div>\n",
              "<style scoped>\n",
              "    .dataframe tbody tr th:only-of-type {\n",
              "        vertical-align: middle;\n",
              "    }\n",
              "\n",
              "    .dataframe tbody tr th {\n",
              "        vertical-align: top;\n",
              "    }\n",
              "\n",
              "    .dataframe thead th {\n",
              "        text-align: right;\n",
              "    }\n",
              "</style>\n",
              "<table border=\"1\" class=\"dataframe\">\n",
              "  <thead>\n",
              "    <tr style=\"text-align: right;\">\n",
              "      <th></th>\n",
              "      <th>asin</th>\n",
              "      <th>reviewerID</th>\n",
              "      <th>overall</th>\n",
              "      <th>unixReviewTime</th>\n",
              "      <th>DATE</th>\n",
              "    </tr>\n",
              "  </thead>\n",
              "  <tbody>\n",
              "    <tr>\n",
              "      <th>2352</th>\n",
              "      <td>1620213982</td>\n",
              "      <td>AD80MGOY5CJZ4</td>\n",
              "      <td>5.0</td>\n",
              "      <td>1451692800</td>\n",
              "      <td>2016-01-02</td>\n",
              "    </tr>\n",
              "    <tr>\n",
              "      <th>4017</th>\n",
              "      <td>1620213982</td>\n",
              "      <td>AD80MGOY5CJZ4</td>\n",
              "      <td>5.0</td>\n",
              "      <td>1422662400</td>\n",
              "      <td>2015-01-31</td>\n",
              "    </tr>\n",
              "    <tr>\n",
              "      <th>6904</th>\n",
              "      <td>B000052YAN</td>\n",
              "      <td>ACTVXNBEPLW2S</td>\n",
              "      <td>4.0</td>\n",
              "      <td>1422144000</td>\n",
              "      <td>2015-01-25</td>\n",
              "    </tr>\n",
              "    <tr>\n",
              "      <th>6905</th>\n",
              "      <td>B000052YAN</td>\n",
              "      <td>ACTVXNBEPLW2S</td>\n",
              "      <td>4.0</td>\n",
              "      <td>1422144000</td>\n",
              "      <td>2015-01-25</td>\n",
              "    </tr>\n",
              "    <tr>\n",
              "      <th>6941</th>\n",
              "      <td>B0000530HU</td>\n",
              "      <td>A2CTM1BYAXTYLX</td>\n",
              "      <td>5.0</td>\n",
              "      <td>1243987200</td>\n",
              "      <td>2009-06-03</td>\n",
              "    </tr>\n",
              "  </tbody>\n",
              "</table>\n",
              "</div>\n",
              "      <button class=\"colab-df-convert\" onclick=\"convertToInteractive('df-647e60a0-ad8b-4c41-9c07-173d229fa4fc')\"\n",
              "              title=\"Convert this dataframe to an interactive table.\"\n",
              "              style=\"display:none;\">\n",
              "        \n",
              "  <svg xmlns=\"http://www.w3.org/2000/svg\" height=\"24px\"viewBox=\"0 0 24 24\"\n",
              "       width=\"24px\">\n",
              "    <path d=\"M0 0h24v24H0V0z\" fill=\"none\"/>\n",
              "    <path d=\"M18.56 5.44l.94 2.06.94-2.06 2.06-.94-2.06-.94-.94-2.06-.94 2.06-2.06.94zm-11 1L8.5 8.5l.94-2.06 2.06-.94-2.06-.94L8.5 2.5l-.94 2.06-2.06.94zm10 10l.94 2.06.94-2.06 2.06-.94-2.06-.94-.94-2.06-.94 2.06-2.06.94z\"/><path d=\"M17.41 7.96l-1.37-1.37c-.4-.4-.92-.59-1.43-.59-.52 0-1.04.2-1.43.59L10.3 9.45l-7.72 7.72c-.78.78-.78 2.05 0 2.83L4 21.41c.39.39.9.59 1.41.59.51 0 1.02-.2 1.41-.59l7.78-7.78 2.81-2.81c.8-.78.8-2.07 0-2.86zM5.41 20L4 18.59l7.72-7.72 1.47 1.35L5.41 20z\"/>\n",
              "  </svg>\n",
              "      </button>\n",
              "      \n",
              "  <style>\n",
              "    .colab-df-container {\n",
              "      display:flex;\n",
              "      flex-wrap:wrap;\n",
              "      gap: 12px;\n",
              "    }\n",
              "\n",
              "    .colab-df-convert {\n",
              "      background-color: #E8F0FE;\n",
              "      border: none;\n",
              "      border-radius: 50%;\n",
              "      cursor: pointer;\n",
              "      display: none;\n",
              "      fill: #1967D2;\n",
              "      height: 32px;\n",
              "      padding: 0 0 0 0;\n",
              "      width: 32px;\n",
              "    }\n",
              "\n",
              "    .colab-df-convert:hover {\n",
              "      background-color: #E2EBFA;\n",
              "      box-shadow: 0px 1px 2px rgba(60, 64, 67, 0.3), 0px 1px 3px 1px rgba(60, 64, 67, 0.15);\n",
              "      fill: #174EA6;\n",
              "    }\n",
              "\n",
              "    [theme=dark] .colab-df-convert {\n",
              "      background-color: #3B4455;\n",
              "      fill: #D2E3FC;\n",
              "    }\n",
              "\n",
              "    [theme=dark] .colab-df-convert:hover {\n",
              "      background-color: #434B5C;\n",
              "      box-shadow: 0px 1px 3px 1px rgba(0, 0, 0, 0.15);\n",
              "      filter: drop-shadow(0px 1px 2px rgba(0, 0, 0, 0.3));\n",
              "      fill: #FFFFFF;\n",
              "    }\n",
              "  </style>\n",
              "\n",
              "      <script>\n",
              "        const buttonEl =\n",
              "          document.querySelector('#df-647e60a0-ad8b-4c41-9c07-173d229fa4fc button.colab-df-convert');\n",
              "        buttonEl.style.display =\n",
              "          google.colab.kernel.accessAllowed ? 'block' : 'none';\n",
              "\n",
              "        async function convertToInteractive(key) {\n",
              "          const element = document.querySelector('#df-647e60a0-ad8b-4c41-9c07-173d229fa4fc');\n",
              "          const dataTable =\n",
              "            await google.colab.kernel.invokeFunction('convertToInteractive',\n",
              "                                                     [key], {});\n",
              "          if (!dataTable) return;\n",
              "\n",
              "          const docLinkHtml = 'Like what you see? Visit the ' +\n",
              "            '<a target=\"_blank\" href=https://colab.research.google.com/notebooks/data_table.ipynb>data table notebook</a>'\n",
              "            + ' to learn more about interactive tables.';\n",
              "          element.innerHTML = '';\n",
              "          dataTable['output_type'] = 'display_data';\n",
              "          await google.colab.output.renderOutput(dataTable, element);\n",
              "          const docLink = document.createElement('div');\n",
              "          docLink.innerHTML = docLinkHtml;\n",
              "          element.appendChild(docLink);\n",
              "        }\n",
              "      </script>\n",
              "    </div>\n",
              "  </div>\n",
              "  "
            ]
          },
          "metadata": {},
          "execution_count": 14
        }
      ],
      "metadata": {
        "colab": {
          "base_uri": "https://localhost:8080/",
          "height": 204
        },
        "id": "6p1Cb8YlmcqZ",
        "outputId": "ab6f6641-5e1f-4532-9ec7-705293064de6"
      }
    },
    {
      "cell_type": "code",
      "execution_count": null,
      "source": [
        "print('總評分筆數: {0}'.format(len(ratings_trainings_tmp)))\n",
        "print('總重複筆數: {0}'.format(len(duplicate)))"
      ],
      "outputs": [
        {
          "output_type": "stream",
          "name": "stdout",
          "text": [
            "總評分筆數: 370752\n",
            "總重複筆數: 19218\n"
          ]
        }
      ],
      "metadata": {
        "colab": {
          "base_uri": "https://localhost:8080/"
        },
        "id": "TAoI1cu2mi2j",
        "outputId": "3e147def-7075-4a7a-cd7f-790f4e0ccd4f"
      }
    },
    {
      "cell_type": "markdown",
      "source": [
        "在想重複評分要用平均數還是用最近評分，用平均思考的是因為可能同商品出貨品質不一定而導致評分不同，用最近則思考有可能同商品但近期品質有改變。認為是後面能分別測試看看的。"
      ],
      "metadata": {
        "id": "l1ZrE3Ahmlfm"
      }
    },
    {
      "cell_type": "code",
      "execution_count": null,
      "source": [
        "# 如果只有一筆就直接填該筆評分，如果有多筆，overall_mean填入評分平均值、overall_lastest填入最近的評分值。\n",
        "ratings_trainings_unique = ratings_trainings_tmp.groupby(['reviewerID', 'asin']) \\\n",
        "                    .agg(overall_lastest=('overall', lambda x: list(x)[0]), overall_mean=('overall', np.mean)) \\\n",
        "                    .reset_index()\n",
        "ratings_trainings_unique.head()"
      ],
      "outputs": [
        {
          "output_type": "execute_result",
          "data": {
            "text/plain": [
              "             reviewerID        asin  overall_lastest  overall_mean\n",
              "0  A0010876CNE3ILIM9HV0  B01FHDYGQ8              5.0           5.0\n",
              "1  A001170867ZBE9FORRQL  B01B18T01Y              5.0           5.0\n",
              "2  A001170867ZBE9FORRQL  B01FCW88D6              5.0           5.0\n",
              "3  A0028738FYF1SKPPC7B1  B00TZ8XK1E              5.0           5.0\n",
              "4  A0045356A23634W7RI4M  B018H0EJI8              3.0           3.0"
            ],
            "text/html": [
              "\n",
              "  <div id=\"df-ae7498f4-fb9a-4ae8-89b9-6676f9608f16\">\n",
              "    <div class=\"colab-df-container\">\n",
              "      <div>\n",
              "<style scoped>\n",
              "    .dataframe tbody tr th:only-of-type {\n",
              "        vertical-align: middle;\n",
              "    }\n",
              "\n",
              "    .dataframe tbody tr th {\n",
              "        vertical-align: top;\n",
              "    }\n",
              "\n",
              "    .dataframe thead th {\n",
              "        text-align: right;\n",
              "    }\n",
              "</style>\n",
              "<table border=\"1\" class=\"dataframe\">\n",
              "  <thead>\n",
              "    <tr style=\"text-align: right;\">\n",
              "      <th></th>\n",
              "      <th>reviewerID</th>\n",
              "      <th>asin</th>\n",
              "      <th>overall_lastest</th>\n",
              "      <th>overall_mean</th>\n",
              "    </tr>\n",
              "  </thead>\n",
              "  <tbody>\n",
              "    <tr>\n",
              "      <th>0</th>\n",
              "      <td>A0010876CNE3ILIM9HV0</td>\n",
              "      <td>B01FHDYGQ8</td>\n",
              "      <td>5.0</td>\n",
              "      <td>5.0</td>\n",
              "    </tr>\n",
              "    <tr>\n",
              "      <th>1</th>\n",
              "      <td>A001170867ZBE9FORRQL</td>\n",
              "      <td>B01B18T01Y</td>\n",
              "      <td>5.0</td>\n",
              "      <td>5.0</td>\n",
              "    </tr>\n",
              "    <tr>\n",
              "      <th>2</th>\n",
              "      <td>A001170867ZBE9FORRQL</td>\n",
              "      <td>B01FCW88D6</td>\n",
              "      <td>5.0</td>\n",
              "      <td>5.0</td>\n",
              "    </tr>\n",
              "    <tr>\n",
              "      <th>3</th>\n",
              "      <td>A0028738FYF1SKPPC7B1</td>\n",
              "      <td>B00TZ8XK1E</td>\n",
              "      <td>5.0</td>\n",
              "      <td>5.0</td>\n",
              "    </tr>\n",
              "    <tr>\n",
              "      <th>4</th>\n",
              "      <td>A0045356A23634W7RI4M</td>\n",
              "      <td>B018H0EJI8</td>\n",
              "      <td>3.0</td>\n",
              "      <td>3.0</td>\n",
              "    </tr>\n",
              "  </tbody>\n",
              "</table>\n",
              "</div>\n",
              "      <button class=\"colab-df-convert\" onclick=\"convertToInteractive('df-ae7498f4-fb9a-4ae8-89b9-6676f9608f16')\"\n",
              "              title=\"Convert this dataframe to an interactive table.\"\n",
              "              style=\"display:none;\">\n",
              "        \n",
              "  <svg xmlns=\"http://www.w3.org/2000/svg\" height=\"24px\"viewBox=\"0 0 24 24\"\n",
              "       width=\"24px\">\n",
              "    <path d=\"M0 0h24v24H0V0z\" fill=\"none\"/>\n",
              "    <path d=\"M18.56 5.44l.94 2.06.94-2.06 2.06-.94-2.06-.94-.94-2.06-.94 2.06-2.06.94zm-11 1L8.5 8.5l.94-2.06 2.06-.94-2.06-.94L8.5 2.5l-.94 2.06-2.06.94zm10 10l.94 2.06.94-2.06 2.06-.94-2.06-.94-.94-2.06-.94 2.06-2.06.94z\"/><path d=\"M17.41 7.96l-1.37-1.37c-.4-.4-.92-.59-1.43-.59-.52 0-1.04.2-1.43.59L10.3 9.45l-7.72 7.72c-.78.78-.78 2.05 0 2.83L4 21.41c.39.39.9.59 1.41.59.51 0 1.02-.2 1.41-.59l7.78-7.78 2.81-2.81c.8-.78.8-2.07 0-2.86zM5.41 20L4 18.59l7.72-7.72 1.47 1.35L5.41 20z\"/>\n",
              "  </svg>\n",
              "      </button>\n",
              "      \n",
              "  <style>\n",
              "    .colab-df-container {\n",
              "      display:flex;\n",
              "      flex-wrap:wrap;\n",
              "      gap: 12px;\n",
              "    }\n",
              "\n",
              "    .colab-df-convert {\n",
              "      background-color: #E8F0FE;\n",
              "      border: none;\n",
              "      border-radius: 50%;\n",
              "      cursor: pointer;\n",
              "      display: none;\n",
              "      fill: #1967D2;\n",
              "      height: 32px;\n",
              "      padding: 0 0 0 0;\n",
              "      width: 32px;\n",
              "    }\n",
              "\n",
              "    .colab-df-convert:hover {\n",
              "      background-color: #E2EBFA;\n",
              "      box-shadow: 0px 1px 2px rgba(60, 64, 67, 0.3), 0px 1px 3px 1px rgba(60, 64, 67, 0.15);\n",
              "      fill: #174EA6;\n",
              "    }\n",
              "\n",
              "    [theme=dark] .colab-df-convert {\n",
              "      background-color: #3B4455;\n",
              "      fill: #D2E3FC;\n",
              "    }\n",
              "\n",
              "    [theme=dark] .colab-df-convert:hover {\n",
              "      background-color: #434B5C;\n",
              "      box-shadow: 0px 1px 3px 1px rgba(0, 0, 0, 0.15);\n",
              "      filter: drop-shadow(0px 1px 2px rgba(0, 0, 0, 0.3));\n",
              "      fill: #FFFFFF;\n",
              "    }\n",
              "  </style>\n",
              "\n",
              "      <script>\n",
              "        const buttonEl =\n",
              "          document.querySelector('#df-ae7498f4-fb9a-4ae8-89b9-6676f9608f16 button.colab-df-convert');\n",
              "        buttonEl.style.display =\n",
              "          google.colab.kernel.accessAllowed ? 'block' : 'none';\n",
              "\n",
              "        async function convertToInteractive(key) {\n",
              "          const element = document.querySelector('#df-ae7498f4-fb9a-4ae8-89b9-6676f9608f16');\n",
              "          const dataTable =\n",
              "            await google.colab.kernel.invokeFunction('convertToInteractive',\n",
              "                                                     [key], {});\n",
              "          if (!dataTable) return;\n",
              "\n",
              "          const docLinkHtml = 'Like what you see? Visit the ' +\n",
              "            '<a target=\"_blank\" href=https://colab.research.google.com/notebooks/data_table.ipynb>data table notebook</a>'\n",
              "            + ' to learn more about interactive tables.';\n",
              "          element.innerHTML = '';\n",
              "          dataTable['output_type'] = 'display_data';\n",
              "          await google.colab.output.renderOutput(dataTable, element);\n",
              "          const docLink = document.createElement('div');\n",
              "          docLink.innerHTML = docLinkHtml;\n",
              "          element.appendChild(docLink);\n",
              "        }\n",
              "      </script>\n",
              "    </div>\n",
              "  </div>\n",
              "  "
            ]
          },
          "metadata": {},
          "execution_count": 16
        }
      ],
      "metadata": {
        "colab": {
          "base_uri": "https://localhost:8080/",
          "height": 204
        },
        "id": "o01KbI9tmj5V",
        "outputId": "e4d08662-21a4-40b9-a59c-82a3b800f4cd"
      }
    },
    {
      "cell_type": "code",
      "execution_count": null,
      "source": [
        "print('重複合併後，總評分筆數: {0}'.format(len(ratings_trainings_unique)))"
      ],
      "outputs": [
        {
          "output_type": "stream",
          "name": "stdout",
          "text": [
            "重複合併後，總評分筆數: 361012\n"
          ]
        }
      ],
      "metadata": {
        "colab": {
          "base_uri": "https://localhost:8080/"
        },
        "id": "OGQiwxz9mrFV",
        "outputId": "7308218d-efbd-4d19-d1ac-f4a5b469786e"
      }
    },
    {
      "cell_type": "markdown",
      "source": [
        "#### 用戶有多少曾經留下評分過？"
      ],
      "metadata": {
        "id": "pNAwj2hzmuoh"
      }
    },
    {
      "cell_type": "code",
      "execution_count": null,
      "source": [
        "ratings_trainings_user = ratings_trainings_unique.groupby('reviewerID') \\\n",
        "       .agg({'asin':'size', 'overall_mean':'mean'}) \\\n",
        "       .rename(columns={'asin':'asin_count','overall':'mean_score'}) \\\n",
        "       .reset_index().sort_values('asin_count', ascending=False)\n",
        "ratings_trainings_user.head()"
      ],
      "outputs": [
        {
          "output_type": "execute_result",
          "data": {
            "text/plain": [
              "            reviewerID  asin_count  overall_mean\n",
              "124969  A2GJX2KCUSR0EI          24      4.479167\n",
              "49192   A1KSC91G9AIY2Z          22      3.000000\n",
              "272887   AENH50GW3OKDA          20      4.550000\n",
              "91223   A22CW0ZHY3NJH8          18      4.231481\n",
              "72941   A1UQBFCERIP7VJ          16      4.625000"
            ],
            "text/html": [
              "\n",
              "  <div id=\"df-576d8856-54c4-4c6c-91d4-a2862de7812e\">\n",
              "    <div class=\"colab-df-container\">\n",
              "      <div>\n",
              "<style scoped>\n",
              "    .dataframe tbody tr th:only-of-type {\n",
              "        vertical-align: middle;\n",
              "    }\n",
              "\n",
              "    .dataframe tbody tr th {\n",
              "        vertical-align: top;\n",
              "    }\n",
              "\n",
              "    .dataframe thead th {\n",
              "        text-align: right;\n",
              "    }\n",
              "</style>\n",
              "<table border=\"1\" class=\"dataframe\">\n",
              "  <thead>\n",
              "    <tr style=\"text-align: right;\">\n",
              "      <th></th>\n",
              "      <th>reviewerID</th>\n",
              "      <th>asin_count</th>\n",
              "      <th>overall_mean</th>\n",
              "    </tr>\n",
              "  </thead>\n",
              "  <tbody>\n",
              "    <tr>\n",
              "      <th>124969</th>\n",
              "      <td>A2GJX2KCUSR0EI</td>\n",
              "      <td>24</td>\n",
              "      <td>4.479167</td>\n",
              "    </tr>\n",
              "    <tr>\n",
              "      <th>49192</th>\n",
              "      <td>A1KSC91G9AIY2Z</td>\n",
              "      <td>22</td>\n",
              "      <td>3.000000</td>\n",
              "    </tr>\n",
              "    <tr>\n",
              "      <th>272887</th>\n",
              "      <td>AENH50GW3OKDA</td>\n",
              "      <td>20</td>\n",
              "      <td>4.550000</td>\n",
              "    </tr>\n",
              "    <tr>\n",
              "      <th>91223</th>\n",
              "      <td>A22CW0ZHY3NJH8</td>\n",
              "      <td>18</td>\n",
              "      <td>4.231481</td>\n",
              "    </tr>\n",
              "    <tr>\n",
              "      <th>72941</th>\n",
              "      <td>A1UQBFCERIP7VJ</td>\n",
              "      <td>16</td>\n",
              "      <td>4.625000</td>\n",
              "    </tr>\n",
              "  </tbody>\n",
              "</table>\n",
              "</div>\n",
              "      <button class=\"colab-df-convert\" onclick=\"convertToInteractive('df-576d8856-54c4-4c6c-91d4-a2862de7812e')\"\n",
              "              title=\"Convert this dataframe to an interactive table.\"\n",
              "              style=\"display:none;\">\n",
              "        \n",
              "  <svg xmlns=\"http://www.w3.org/2000/svg\" height=\"24px\"viewBox=\"0 0 24 24\"\n",
              "       width=\"24px\">\n",
              "    <path d=\"M0 0h24v24H0V0z\" fill=\"none\"/>\n",
              "    <path d=\"M18.56 5.44l.94 2.06.94-2.06 2.06-.94-2.06-.94-.94-2.06-.94 2.06-2.06.94zm-11 1L8.5 8.5l.94-2.06 2.06-.94-2.06-.94L8.5 2.5l-.94 2.06-2.06.94zm10 10l.94 2.06.94-2.06 2.06-.94-2.06-.94-.94-2.06-.94 2.06-2.06.94z\"/><path d=\"M17.41 7.96l-1.37-1.37c-.4-.4-.92-.59-1.43-.59-.52 0-1.04.2-1.43.59L10.3 9.45l-7.72 7.72c-.78.78-.78 2.05 0 2.83L4 21.41c.39.39.9.59 1.41.59.51 0 1.02-.2 1.41-.59l7.78-7.78 2.81-2.81c.8-.78.8-2.07 0-2.86zM5.41 20L4 18.59l7.72-7.72 1.47 1.35L5.41 20z\"/>\n",
              "  </svg>\n",
              "      </button>\n",
              "      \n",
              "  <style>\n",
              "    .colab-df-container {\n",
              "      display:flex;\n",
              "      flex-wrap:wrap;\n",
              "      gap: 12px;\n",
              "    }\n",
              "\n",
              "    .colab-df-convert {\n",
              "      background-color: #E8F0FE;\n",
              "      border: none;\n",
              "      border-radius: 50%;\n",
              "      cursor: pointer;\n",
              "      display: none;\n",
              "      fill: #1967D2;\n",
              "      height: 32px;\n",
              "      padding: 0 0 0 0;\n",
              "      width: 32px;\n",
              "    }\n",
              "\n",
              "    .colab-df-convert:hover {\n",
              "      background-color: #E2EBFA;\n",
              "      box-shadow: 0px 1px 2px rgba(60, 64, 67, 0.3), 0px 1px 3px 1px rgba(60, 64, 67, 0.15);\n",
              "      fill: #174EA6;\n",
              "    }\n",
              "\n",
              "    [theme=dark] .colab-df-convert {\n",
              "      background-color: #3B4455;\n",
              "      fill: #D2E3FC;\n",
              "    }\n",
              "\n",
              "    [theme=dark] .colab-df-convert:hover {\n",
              "      background-color: #434B5C;\n",
              "      box-shadow: 0px 1px 3px 1px rgba(0, 0, 0, 0.15);\n",
              "      filter: drop-shadow(0px 1px 2px rgba(0, 0, 0, 0.3));\n",
              "      fill: #FFFFFF;\n",
              "    }\n",
              "  </style>\n",
              "\n",
              "      <script>\n",
              "        const buttonEl =\n",
              "          document.querySelector('#df-576d8856-54c4-4c6c-91d4-a2862de7812e button.colab-df-convert');\n",
              "        buttonEl.style.display =\n",
              "          google.colab.kernel.accessAllowed ? 'block' : 'none';\n",
              "\n",
              "        async function convertToInteractive(key) {\n",
              "          const element = document.querySelector('#df-576d8856-54c4-4c6c-91d4-a2862de7812e');\n",
              "          const dataTable =\n",
              "            await google.colab.kernel.invokeFunction('convertToInteractive',\n",
              "                                                     [key], {});\n",
              "          if (!dataTable) return;\n",
              "\n",
              "          const docLinkHtml = 'Like what you see? Visit the ' +\n",
              "            '<a target=\"_blank\" href=https://colab.research.google.com/notebooks/data_table.ipynb>data table notebook</a>'\n",
              "            + ' to learn more about interactive tables.';\n",
              "          element.innerHTML = '';\n",
              "          dataTable['output_type'] = 'display_data';\n",
              "          await google.colab.output.renderOutput(dataTable, element);\n",
              "          const docLink = document.createElement('div');\n",
              "          docLink.innerHTML = docLinkHtml;\n",
              "          element.appendChild(docLink);\n",
              "        }\n",
              "      </script>\n",
              "    </div>\n",
              "  </div>\n",
              "  "
            ]
          },
          "metadata": {},
          "execution_count": 18
        }
      ],
      "metadata": {
        "colab": {
          "base_uri": "https://localhost:8080/",
          "height": 204
        },
        "id": "3H2LFadKmuAR",
        "outputId": "1bef0b14-aa75-4535-e1fe-ae6f3cbff1e2"
      }
    },
    {
      "cell_type": "code",
      "execution_count": null,
      "source": [
        "print('多少人曾留過評分 : {0} ({1}%)'.format(len(ratings_trainings_user), round(len(ratings_trainings_user)/len(ratings_trainings_tmp.groupby('reviewerID').nunique())*100)))"
      ],
      "outputs": [
        {
          "output_type": "stream",
          "name": "stdout",
          "text": [
            "多少人曾留過評分 : 323489 (100%)\n"
          ]
        }
      ],
      "metadata": {
        "colab": {
          "base_uri": "https://localhost:8080/"
        },
        "id": "NzaQQy2um2Z3",
        "outputId": "1710302c-683d-4e18-a657-969b7bd5944c"
      }
    },
    {
      "cell_type": "code",
      "execution_count": null,
      "source": [
        "print(ratings_trainings_user['asin_count'])\n",
        "print('這些人平均對多少商品評分 {0}'.format(ratings_trainings_user['asin_count'].mean()))"
      ],
      "outputs": [
        {
          "output_type": "stream",
          "name": "stdout",
          "text": [
            "124969    24\n",
            "49192     22\n",
            "272887    20\n",
            "91223     18\n",
            "72941     16\n",
            "          ..\n",
            "112944     1\n",
            "112943     1\n",
            "112941     1\n",
            "112940     1\n",
            "161744     1\n",
            "Name: asin_count, Length: 323489, dtype: int64\n",
            "這些人平均對多少商品評分 1.1159946706070376\n"
          ]
        }
      ],
      "metadata": {
        "colab": {
          "base_uri": "https://localhost:8080/"
        },
        "id": "89zomv3fm5Ze",
        "outputId": "5a67f4b0-1cc8-47bc-ab55-5b2401536208"
      }
    },
    {
      "cell_type": "markdown",
      "source": [
        "但認為只有評分過一個商品的用戶沒有用，因為由該商品找到與用戶相似後，就無能推薦的商品，故移除該用戶。"
      ],
      "metadata": {
        "id": "Zyg9Q2yGnCCf"
      }
    },
    {
      "cell_type": "code",
      "execution_count": null,
      "source": [
        "ratings_trainings_user = ratings_trainings_user[ratings_trainings_user['asin_count'] > 1]\n",
        "print('移除只有評分過一個商品的用戶，剩下剩下 {0} ({1}%)'.format(len(ratings_trainings_user), round(len(ratings_trainings_user)/len(ratings_trainings_tmp.groupby('reviewerID').nunique())*100)))"
      ],
      "outputs": [
        {
          "output_type": "stream",
          "name": "stdout",
          "text": [
            "移除只有評分過一個商品的用戶，剩下剩下 29605 (9%)\n"
          ]
        }
      ],
      "metadata": {
        "colab": {
          "base_uri": "https://localhost:8080/"
        },
        "id": "cDeZSJa7nDhy",
        "outputId": "5e1aee74-9f55-445c-9cf9-5f8725b838aa"
      }
    },
    {
      "cell_type": "code",
      "execution_count": null,
      "source": [
        "print(ratings_trainings_user['asin_count'])\n",
        "print('這些人平均對多少商品評分 {0}'.format(ratings_trainings_user['asin_count'].mean()))"
      ],
      "outputs": [
        {
          "output_type": "stream",
          "name": "stdout",
          "text": [
            "124969    24\n",
            "49192     22\n",
            "272887    20\n",
            "91223     18\n",
            "72941     16\n",
            "          ..\n",
            "81202      2\n",
            "181989     2\n",
            "102424     2\n",
            "167306     2\n",
            "94223      2\n",
            "Name: asin_count, Length: 29605, dtype: int64\n",
            "這些人平均對多少商品評分 2.2674548218206385\n"
          ]
        }
      ],
      "metadata": {
        "colab": {
          "base_uri": "https://localhost:8080/"
        },
        "id": "1_WAZWYsnuAL",
        "outputId": "da4a99d3-ace7-4ec8-a61c-f1a8b246d8ba"
      }
    },
    {
      "cell_type": "code",
      "execution_count": null,
      "source": [
        "plt.hist(ratings_trainings_user['asin_count'])\n",
        "plt.show()\n",
        "print('將評分商品數超過5個的放大來看...')\n",
        "plt.hist(ratings_trainings_user[ratings_trainings_user['asin_count'] > 4]['asin_count'])\n",
        "plt.show()\n",
        "print('將評分商品數超過10個的放大來看...')\n",
        "plt.hist(ratings_trainings_user[ratings_trainings_user['asin_count'] > 9]['asin_count'])\n",
        "plt.show()"
      ],
      "outputs": [
        {
          "output_type": "display_data",
          "data": {
            "text/plain": [
              "<Figure size 432x288 with 1 Axes>"
            ],
            "image/png": "[encoded data removed]"
          },
          "metadata": {
            "needs_background": "light"
          }
        },
        {
          "output_type": "stream",
          "name": "stdout",
          "text": [
            "將評分商品數超過5個的放大來看...\n"
          ]
        },
        {
          "output_type": "display_data",
          "data": {
            "text/plain": [
              "<Figure size 432x288 with 1 Axes>"
            ],
            "image/png": "[encoded data removed]"
          },
          "metadata": {
            "needs_background": "light"
          }
        },
        {
          "output_type": "stream",
          "name": "stdout",
          "text": [
            "將評分商品數超過10個的放大來看...\n"
          ]
        },
        {
          "output_type": "display_data",
          "data": {
            "text/plain": [
              "<Figure size 432x288 with 1 Axes>"
            ],
            "image/png": "[encoded data removed]"
          },
          "metadata": {
            "needs_background": "light"
          }
        }
      ],
      "metadata": {
        "colab": {
          "base_uri": "https://localhost:8080/",
          "height": 797
        },
        "id": "OxHLTwBin9Co",
        "outputId": "e1fdccd5-d347-438f-9d8d-3bb2087f101b"
      }
    },
    {
      "cell_type": "markdown",
      "source": [
        "發現大多用戶評分的商品數只有5個以下。\n",
        "也思考多少個商品評分才能夠代表一個人的購買喜好？認為可留到之後測試。"
      ],
      "metadata": {
        "id": "p6vbkoACoDac"
      }
    },
    {
      "cell_type": "markdown",
      "source": [
        "### 商品資料"
      ],
      "metadata": {
        "id": "Ya9ObzKPoF8q"
      }
    },
    {
      "cell_type": "markdown",
      "source": [
        "根據上份作業的資料探索，將多餘欄位剔除，新增有意義欄位(商品評論數、平均評分、季節性等)。主要是想用於找不到相似用戶時的推薦設計使用。"
      ],
      "metadata": {
        "id": "IOYFEU7koKVg"
      }
    },
    {
      "cell_type": "markdown",
      "source": [
        "在此的ratings_trainings都不剔除重複評分，視其各自為獨立購買紀錄，皆列入分析計算。"
      ],
      "metadata": {
        "id": "QrURflaooLku"
      }
    },
    {
      "cell_type": "code",
      "execution_count": null,
      "source": [
        "# 剔除有問題的資料\n",
        "metadata_tmp = metadata_tmp.drop(metadata[metadata['title'] == ''].index).reset_index(drop=True)"
      ],
      "outputs": [],
      "metadata": {
        "id": "UaEA3s4MoNhR"
      }
    },
    {
      "cell_type": "markdown",
      "source": [
        "#### 剔除多餘欄位"
      ],
      "metadata": {
        "id": "a7esOc4UoVaF"
      }
    },
    {
      "cell_type": "code",
      "execution_count": null,
      "source": [
        "metadata_tmp = metadata_tmp.drop(['category', 'tech1', 'fit', 'tech2', 'feature', 'date', 'imageURLHighRes', 'main_cat', 'details'], axis=1)"
      ],
      "outputs": [],
      "metadata": {
        "id": "9_yWtB8GoOuV"
      }
    },
    {
      "cell_type": "markdown",
      "source": [
        "##### `rank`: 內含有商品類別和其商品於該類別排名，將其拆成`RANK`、`CATEGORY`兩欄位。"
      ],
      "metadata": {
        "id": "7KKd796DocbH"
      }
    },
    {
      "cell_type": "code",
      "execution_count": null,
      "source": [
        "metadata_tmp[['RANK', 'CATEGORY']] = metadata_tmp['rank'].str.split(' in ', 1, expand=True)\n",
        "metadata_tmp['CATEGORY'] = metadata_tmp['CATEGORY'].str.replace(' \\(', '')\n",
        "metadata_tmp['CATEGORY'] = metadata_tmp['CATEGORY'].str.replace('\\&amp;', '&')\n",
        "metadata_tmp['CATEGORY'].value_counts()"
      ],
      "outputs": [
        {
          "output_type": "execute_result",
          "data": {
            "text/plain": [
              "Beauty & Personal Care       31650\n",
              "Grocery & Gourmet Food          36\n",
              "Health & Household              21\n",
              "Sports & Outdoors                3\n",
              "Toys & Games                     3\n",
              "Baby                             2\n",
              "Clothing, Shoes & Jewelry        2\n",
              "Tools & Home Improvement         1\n",
              "Automotive                       1\n",
              "Home & Kitchen                   1\n",
              "Name: CATEGORY, dtype: int64"
            ]
          },
          "metadata": {},
          "execution_count": 27
        }
      ],
      "metadata": {
        "colab": {
          "base_uri": "https://localhost:8080/"
        },
        "id": "SI6hKE-RoZ1H",
        "outputId": "1d2740b8-69e0-407c-b2ec-c2167b52020d"
      }
    },
    {
      "cell_type": "code",
      "execution_count": null,
      "source": [
        "metadata_tmp = metadata_tmp.drop(['rank'], axis=1)"
      ],
      "outputs": [],
      "metadata": {
        "id": "bvwtBFYfoouk"
      }
    },
    {
      "cell_type": "markdown",
      "source": [
        "##### `similar_item`: 將其資料html表格轉為asin列表，與`also_buy`、`also_view`合併成`SIMILAR_ITEM`欄位。"
      ],
      "metadata": {
        "id": "WMdPapOYoxBJ"
      }
    },
    {
      "cell_type": "code",
      "execution_count": null,
      "source": [
        "from bs4 import BeautifulSoup\n",
        "metadata['asin'] = metadata['asin'].astype(str)\n",
        "\n",
        "def convert_similar_table_to_asin_list(html):\n",
        "#     if (html == ''): return []\n",
        "    asin_list = []\n",
        "    \n",
        "    soup = BeautifulSoup(html)\n",
        "    \n",
        "    compare_list = soup.findAll('th', {'class': 'comparison_image_title_cell'})\n",
        "    for item in compare_list:\n",
        "        title = item.span.text.strip()\n",
        "        if (len(metadata[metadata['title'] == title]) > 0):\n",
        "            asin = metadata[metadata['title'] == title]['asin'].iloc[0]\n",
        "#             if (not any(asin.str in s for s in asin_list)):  # 去除重複\n",
        "            asin_list.append(asin)\n",
        "    \n",
        "    return asin_list"
      ],
      "outputs": [],
      "metadata": {
        "id": "GagesRK2oqts"
      }
    },
    {
      "cell_type": "code",
      "execution_count": null,
      "source": [
        "metadata_tmp['SIMILAR_ITEM'] = metadata_tmp['similar_item'].apply(lambda x: convert_similar_table_to_asin_list(x) if x != ''  else x)"
      ],
      "outputs": [],
      "metadata": {
        "id": "3O93b8xlozR7"
      }
    },
    {
      "cell_type": "code",
      "execution_count": null,
      "source": [
        "metadata_tmp['SIMILAR'] = [set(list(x)+y+z) for x, y, z in zip(metadata_tmp.SIMILAR_ITEM, metadata_tmp.also_view, metadata_tmp.also_buy)]"
      ],
      "outputs": [],
      "metadata": {
        "id": "SpBPqPf2o_Ed"
      }
    },
    {
      "cell_type": "code",
      "execution_count": null,
      "source": [
        "metadata_tmp = metadata_tmp.drop(['SIMILAR_ITEM', 'similar_item', 'also_view', 'also_buy'], axis=1)"
      ],
      "outputs": [],
      "metadata": {
        "id": "fBY3BvI-pAut"
      }
    },
    {
      "cell_type": "code",
      "execution_count": null,
      "source": [
        "metadata_tmp.info()"
      ],
      "outputs": [
        {
          "output_type": "stream",
          "name": "stdout",
          "text": [
            "<class 'pandas.core.frame.DataFrame'>\n",
            "RangeIndex: 32083 entries, 0 to 32082\n",
            "Data columns (total 9 columns):\n",
            " #   Column       Non-Null Count  Dtype \n",
            "---  ------       --------------  ----- \n",
            " 0   description  32083 non-null  object\n",
            " 1   title        32083 non-null  object\n",
            " 2   brand        32083 non-null  object\n",
            " 3   price        32083 non-null  object\n",
            " 4   asin         32083 non-null  object\n",
            " 5   imageURL     32083 non-null  object\n",
            " 6   RANK         31720 non-null  object\n",
            " 7   CATEGORY     31720 non-null  object\n",
            " 8   SIMILAR      32083 non-null  object\n",
            "dtypes: object(9)\n",
            "memory usage: 2.2+ MB\n"
          ]
        }
      ],
      "metadata": {
        "colab": {
          "base_uri": "https://localhost:8080/"
        },
        "id": "Li20phnepHLs",
        "outputId": "8fb6ce4f-dc38-46d3-d4a7-2aa4c5b7e663"
      }
    },
    {
      "cell_type": "markdown",
      "source": [
        "#### 加入評分\n",
        "(同用戶對同商品不同時間或不同評分，做為獨立評分(未合併)，分別計入)"
      ],
      "metadata": {
        "id": "f8ZfxiBdpOBI"
      }
    },
    {
      "cell_type": "code",
      "execution_count": null,
      "source": [
        "rating_mean = ratings_trainings_tmp.groupby('asin')['overall'].mean().round(2).reset_index(name='RATE')\n",
        "rating_count = pd.DataFrame(ratings_trainings_tmp.asin.value_counts())\n",
        "rating_count.reset_index(inplace=True)\n",
        "rating_count.columns = ['asin', 'RATE(COUNT)']\n",
        "# merge\n",
        "rating_data = rating_mean.merge(rating_count, on='asin')\n",
        "metadata_tmp = pd.merge(rating_data, metadata_tmp, left_on=\"asin\", right_on=\"asin\", how='right')"
      ],
      "outputs": [],
      "metadata": {
        "id": "Ega65KdspIoW"
      }
    },
    {
      "cell_type": "code",
      "execution_count": null,
      "source": [
        "metadata_tmp.fillna({'RATE(COUNT)':0}, inplace=True)"
      ],
      "outputs": [],
      "metadata": {
        "id": "KzsLUbZ8pVMe"
      }
    },
    {
      "cell_type": "code",
      "execution_count": null,
      "source": [
        "# clear not-used DataFrame\n",
        "del rating_data"
      ],
      "outputs": [],
      "metadata": {
        "id": "_-zE2b8JpXN_"
      }
    },
    {
      "cell_type": "markdown",
      "source": [
        "#### 加入季節性\n",
        "(`None`: 代表商品無季節性)"
      ],
      "metadata": {
        "id": "AWVexU7OpbyR"
      }
    },
    {
      "cell_type": "code",
      "execution_count": null,
      "source": [
        "def MonthToSeason(x):   \n",
        "    global season\n",
        "    if x == 3 or x == 4 or x == 5:\n",
        "         season = \"Spring\"\n",
        "    elif x == 6 or x == 7 or x == 8:\n",
        "         season = \"Summer\"\n",
        "    elif x == 9 or x == 10 or x == 11:\n",
        "         season = \"Autumn\"\n",
        "    elif x == 12 or x == 1 or x == 2:\n",
        "         season = \"Winter\"\n",
        "    else:\n",
        "         season = np.nan \n",
        "    return season\n",
        "\n",
        "tmp_data = ratings_trainings_tmp.drop('unixReviewTime', axis=1)\n",
        "tmp_data['SEASON'] = tmp_data['DATE'].dt.month.apply(lambda x : MonthToSeason(x))\n",
        "tmp_data.head()"
      ],
      "outputs": [
        {
          "output_type": "execute_result",
          "data": {
            "text/plain": [
              "         asin      reviewerID  overall       DATE  SEASON\n",
              "0  0143026860  A1V6B6TNIC10QE      1.0 2015-02-19  Winter\n",
              "1  0143026860  A2F5GHSXFQ0W6J      4.0 2014-12-18  Winter\n",
              "2  0143026860  A1572GUYS7DGSR      4.0 2014-08-10  Summer\n",
              "3  0143026860   A1PSGLFK1NSVO      5.0 2013-03-11  Spring\n",
              "4  0143026860   A6IKXKZMTKGSC      5.0 2011-12-25  Winter"
            ],
            "text/html": [
              "\n",
              "  <div id=\"df-244c5bf1-21b1-4f94-b160-f3136435e43c\">\n",
              "    <div class=\"colab-df-container\">\n",
              "      <div>\n",
              "<style scoped>\n",
              "    .dataframe tbody tr th:only-of-type {\n",
              "        vertical-align: middle;\n",
              "    }\n",
              "\n",
              "    .dataframe tbody tr th {\n",
              "        vertical-align: top;\n",
              "    }\n",
              "\n",
              "    .dataframe thead th {\n",
              "        text-align: right;\n",
              "    }\n",
              "</style>\n",
              "<table border=\"1\" class=\"dataframe\">\n",
              "  <thead>\n",
              "    <tr style=\"text-align: right;\">\n",
              "      <th></th>\n",
              "      <th>asin</th>\n",
              "      <th>reviewerID</th>\n",
              "      <th>overall</th>\n",
              "      <th>DATE</th>\n",
              "      <th>SEASON</th>\n",
              "    </tr>\n",
              "  </thead>\n",
              "  <tbody>\n",
              "    <tr>\n",
              "      <th>0</th>\n",
              "      <td>0143026860</td>\n",
              "      <td>A1V6B6TNIC10QE</td>\n",
              "      <td>1.0</td>\n",
              "      <td>2015-02-19</td>\n",
              "      <td>Winter</td>\n",
              "    </tr>\n",
              "    <tr>\n",
              "      <th>1</th>\n",
              "      <td>0143026860</td>\n",
              "      <td>A2F5GHSXFQ0W6J</td>\n",
              "      <td>4.0</td>\n",
              "      <td>2014-12-18</td>\n",
              "      <td>Winter</td>\n",
              "    </tr>\n",
              "    <tr>\n",
              "      <th>2</th>\n",
              "      <td>0143026860</td>\n",
              "      <td>A1572GUYS7DGSR</td>\n",
              "      <td>4.0</td>\n",
              "      <td>2014-08-10</td>\n",
              "      <td>Summer</td>\n",
              "    </tr>\n",
              "    <tr>\n",
              "      <th>3</th>\n",
              "      <td>0143026860</td>\n",
              "      <td>A1PSGLFK1NSVO</td>\n",
              "      <td>5.0</td>\n",
              "      <td>2013-03-11</td>\n",
              "      <td>Spring</td>\n",
              "    </tr>\n",
              "    <tr>\n",
              "      <th>4</th>\n",
              "      <td>0143026860</td>\n",
              "      <td>A6IKXKZMTKGSC</td>\n",
              "      <td>5.0</td>\n",
              "      <td>2011-12-25</td>\n",
              "      <td>Winter</td>\n",
              "    </tr>\n",
              "  </tbody>\n",
              "</table>\n",
              "</div>\n",
              "      <button class=\"colab-df-convert\" onclick=\"convertToInteractive('df-244c5bf1-21b1-4f94-b160-f3136435e43c')\"\n",
              "              title=\"Convert this dataframe to an interactive table.\"\n",
              "              style=\"display:none;\">\n",
              "        \n",
              "  <svg xmlns=\"http://www.w3.org/2000/svg\" height=\"24px\"viewBox=\"0 0 24 24\"\n",
              "       width=\"24px\">\n",
              "    <path d=\"M0 0h24v24H0V0z\" fill=\"none\"/>\n",
              "    <path d=\"M18.56 5.44l.94 2.06.94-2.06 2.06-.94-2.06-.94-.94-2.06-.94 2.06-2.06.94zm-11 1L8.5 8.5l.94-2.06 2.06-.94-2.06-.94L8.5 2.5l-.94 2.06-2.06.94zm10 10l.94 2.06.94-2.06 2.06-.94-2.06-.94-.94-2.06-.94 2.06-2.06.94z\"/><path d=\"M17.41 7.96l-1.37-1.37c-.4-.4-.92-.59-1.43-.59-.52 0-1.04.2-1.43.59L10.3 9.45l-7.72 7.72c-.78.78-.78 2.05 0 2.83L4 21.41c.39.39.9.59 1.41.59.51 0 1.02-.2 1.41-.59l7.78-7.78 2.81-2.81c.8-.78.8-2.07 0-2.86zM5.41 20L4 18.59l7.72-7.72 1.47 1.35L5.41 20z\"/>\n",
              "  </svg>\n",
              "      </button>\n",
              "      \n",
              "  <style>\n",
              "    .colab-df-container {\n",
              "      display:flex;\n",
              "      flex-wrap:wrap;\n",
              "      gap: 12px;\n",
              "    }\n",
              "\n",
              "    .colab-df-convert {\n",
              "      background-color: #E8F0FE;\n",
              "      border: none;\n",
              "      border-radius: 50%;\n",
              "      cursor: pointer;\n",
              "      display: none;\n",
              "      fill: #1967D2;\n",
              "      height: 32px;\n",
              "      padding: 0 0 0 0;\n",
              "      width: 32px;\n",
              "    }\n",
              "\n",
              "    .colab-df-convert:hover {\n",
              "      background-color: #E2EBFA;\n",
              "      box-shadow: 0px 1px 2px rgba(60, 64, 67, 0.3), 0px 1px 3px 1px rgba(60, 64, 67, 0.15);\n",
              "      fill: #174EA6;\n",
              "    }\n",
              "\n",
              "    [theme=dark] .colab-df-convert {\n",
              "      background-color: #3B4455;\n",
              "      fill: #D2E3FC;\n",
              "    }\n",
              "\n",
              "    [theme=dark] .colab-df-convert:hover {\n",
              "      background-color: #434B5C;\n",
              "      box-shadow: 0px 1px 3px 1px rgba(0, 0, 0, 0.15);\n",
              "      filter: drop-shadow(0px 1px 2px rgba(0, 0, 0, 0.3));\n",
              "      fill: #FFFFFF;\n",
              "    }\n",
              "  </style>\n",
              "\n",
              "      <script>\n",
              "        const buttonEl =\n",
              "          document.querySelector('#df-244c5bf1-21b1-4f94-b160-f3136435e43c button.colab-df-convert');\n",
              "        buttonEl.style.display =\n",
              "          google.colab.kernel.accessAllowed ? 'block' : 'none';\n",
              "\n",
              "        async function convertToInteractive(key) {\n",
              "          const element = document.querySelector('#df-244c5bf1-21b1-4f94-b160-f3136435e43c');\n",
              "          const dataTable =\n",
              "            await google.colab.kernel.invokeFunction('convertToInteractive',\n",
              "                                                     [key], {});\n",
              "          if (!dataTable) return;\n",
              "\n",
              "          const docLinkHtml = 'Like what you see? Visit the ' +\n",
              "            '<a target=\"_blank\" href=https://colab.research.google.com/notebooks/data_table.ipynb>data table notebook</a>'\n",
              "            + ' to learn more about interactive tables.';\n",
              "          element.innerHTML = '';\n",
              "          dataTable['output_type'] = 'display_data';\n",
              "          await google.colab.output.renderOutput(dataTable, element);\n",
              "          const docLink = document.createElement('div');\n",
              "          docLink.innerHTML = docLinkHtml;\n",
              "          element.appendChild(docLink);\n",
              "        }\n",
              "      </script>\n",
              "    </div>\n",
              "  </div>\n",
              "  "
            ]
          },
          "metadata": {},
          "execution_count": 38
        }
      ],
      "metadata": {
        "colab": {
          "base_uri": "https://localhost:8080/",
          "height": 204
        },
        "id": "b1IKZJBupdxb",
        "outputId": "48176b16-efdc-44cb-cde8-de36a585c18e"
      }
    },
    {
      "cell_type": "code",
      "execution_count": null,
      "source": [
        "tmp_data = tmp_data.groupby(['SEASON', 'asin']).size().reset_index(name='count')\n",
        "\n",
        "tmp_data = tmp_data.pivot(index='asin', columns='SEASON',values='count').reset_index()\n",
        "tmp_data.fillna(0.0, inplace=True)\n",
        "tmp_data.set_index(\"asin\" , inplace=True)"
      ],
      "outputs": [],
      "metadata": {
        "id": "SG-Z5vAzpfaJ"
      }
    },
    {
      "cell_type": "code",
      "execution_count": null,
      "source": [
        "tmp_data['sum'] = tmp_data[['Autumn', 'Spring', 'Summer', 'Winter']].sum(axis=1).astype(int)\n",
        "\n",
        "sum_threshold = 60\n",
        "tmp_data = tmp_data[tmp_data['sum'] > sum_threshold]  # 希望至少有一定的銷售紀錄(評分紀錄)才做判別\n",
        "\n",
        "tmp_data['mean'] = tmp_data[['Autumn', 'Spring', 'Summer', 'Winter']].mean(axis=1).round(2).astype(float)\n",
        "tmp_data['std'] = tmp_data[['Autumn', 'Spring', 'Summer', 'Winter']].std(axis=1).round(3).astype(float)\n",
        "tmp_data['fstd'] = tmp_data['std'] / tmp_data['mean']  # fixed std"
      ],
      "outputs": [
        {
          "output_type": "stream",
          "name": "stderr",
          "text": [
            "/usr/local/lib/python3.7/dist-packages/ipykernel_launcher.py:6: SettingWithCopyWarning: \n",
            "A value is trying to be set on a copy of a slice from a DataFrame.\n",
            "Try using .loc[row_indexer,col_indexer] = value instead\n",
            "\n",
            "See the caveats in the documentation: https://pandas.pydata.org/pandas-docs/stable/user_guide/indexing.html#returning-a-view-versus-a-copy\n",
            "  \n",
            "/usr/local/lib/python3.7/dist-packages/ipykernel_launcher.py:7: SettingWithCopyWarning: \n",
            "A value is trying to be set on a copy of a slice from a DataFrame.\n",
            "Try using .loc[row_indexer,col_indexer] = value instead\n",
            "\n",
            "See the caveats in the documentation: https://pandas.pydata.org/pandas-docs/stable/user_guide/indexing.html#returning-a-view-versus-a-copy\n",
            "  import sys\n",
            "/usr/local/lib/python3.7/dist-packages/ipykernel_launcher.py:8: SettingWithCopyWarning: \n",
            "A value is trying to be set on a copy of a slice from a DataFrame.\n",
            "Try using .loc[row_indexer,col_indexer] = value instead\n",
            "\n",
            "See the caveats in the documentation: https://pandas.pydata.org/pandas-docs/stable/user_guide/indexing.html#returning-a-view-versus-a-copy\n",
            "  \n"
          ]
        }
      ],
      "metadata": {
        "colab": {
          "base_uri": "https://localhost:8080/"
        },
        "id": "wH_wL_Vopu54",
        "outputId": "bbcec0b5-1669-46b9-9724-e8c750995a20"
      }
    },
    {
      "cell_type": "code",
      "execution_count": null,
      "source": [
        "# 使用fstd篩選\n",
        "season_tmp_data = tmp_data[tmp_data['fstd'] > 1]\n",
        "print('以最低至少{0}的銷售紀錄為門檻時，得到的季節性商品占全部商品的約{1}%。\\n'.format(sum_threshold, round(len(season_tmp_data) / len(tmp_data) * 100)))\n",
        "print(season_tmp_data)"
      ],
      "outputs": [
        {
          "output_type": "stream",
          "name": "stdout",
          "text": [
            "以最低至少60的銷售紀錄為門檻時，得到的季節性商品占全部商品的約2%。\n",
            "\n",
            "SEASON      Autumn  Spring  Summer  Winter  sum   mean      std      fstd\n",
            "asin                                                                     \n",
            "B000I6AZHE     1.0   161.0     1.0     1.0  164  41.00   80.000  1.951220\n",
            "B00182JYSS    32.0     7.0   133.0    18.0  190  47.50   57.911  1.219179\n",
            "B002GP80EU    93.0     4.0    10.0    13.0  120  30.00   42.166  1.405533\n",
            "B002OXSKF8     2.0     0.0     1.0   104.0  107  26.75   51.506  1.925458\n",
            "B00D8FUHFC    28.0     9.0   208.0    21.0  266  66.50   94.659  1.423444\n",
            "B00KGKQR2Y     7.0    63.0    16.0    10.0   96  24.00   26.268  1.094500\n",
            "B00RCNHRQ8    12.0    30.0    12.0    87.0  141  35.25   35.528  1.007887\n",
            "B00U0PABWW     8.0    10.0    58.0     7.0   83  20.75   24.865  1.198313\n",
            "B0189CM3U0     0.0    33.0     9.0   260.0  302  75.50  123.786  1.639550\n",
            "B019FOXB70    10.0    84.0     7.0   293.0  394  98.50  134.468  1.365157\n",
            "B01AUOTSVW     7.0    63.0    22.0     7.0   99  24.75   26.462  1.069172\n",
            "B01B54XW54    24.0   260.0    72.0    15.0  371  92.75  114.273  1.232054\n",
            "B01B5GTUM6     6.0    94.0    12.0    14.0  126  31.50   41.805  1.327143\n",
            "B01BEWYRJ2    42.0     2.0     6.0    12.0   62  15.50   18.138  1.170194\n",
            "B01CJNZKZK    17.0     6.0    96.0    10.0  129  32.25   42.742  1.325333\n",
            "B01E0DO7GU    13.0    33.0    96.0     5.0  147  36.75   41.218  1.121578\n",
            "B01F0QLD3G     8.0     8.0    48.0     5.0   69  17.25   20.549  1.191246\n",
            "B01FLJROJ4     8.0    37.0    16.0   135.0  196  49.00   58.623  1.196388\n"
          ]
        }
      ],
      "metadata": {
        "colab": {
          "base_uri": "https://localhost:8080/"
        },
        "id": "F9_64sctpzf6",
        "outputId": "b7a0cecb-e4e3-4753-d26b-4bc49d843683"
      }
    },
    {
      "cell_type": "code",
      "execution_count": null,
      "source": [
        "season_data = season_tmp_data.drop(['sum', 'mean', 'std', 'fstd'], axis=1)\n",
        "season_data = season_data.idxmax(axis=1).reset_index(name='SEASON')\n",
        "season_data"
      ],
      "outputs": [
        {
          "output_type": "execute_result",
          "data": {
            "text/plain": [
              "          asin  SEASON\n",
              "0   B000I6AZHE  Spring\n",
              "1   B00182JYSS  Summer\n",
              "2   B002GP80EU  Autumn\n",
              "3   B002OXSKF8  Winter\n",
              "4   B00D8FUHFC  Summer\n",
              "5   B00KGKQR2Y  Spring\n",
              "6   B00RCNHRQ8  Winter\n",
              "7   B00U0PABWW  Summer\n",
              "8   B0189CM3U0  Winter\n",
              "9   B019FOXB70  Winter\n",
              "10  B01AUOTSVW  Spring\n",
              "11  B01B54XW54  Spring\n",
              "12  B01B5GTUM6  Spring\n",
              "13  B01BEWYRJ2  Autumn\n",
              "14  B01CJNZKZK  Summer\n",
              "15  B01E0DO7GU  Summer\n",
              "16  B01F0QLD3G  Summer\n",
              "17  B01FLJROJ4  Winter"
            ],
            "text/html": [
              "\n",
              "  <div id=\"df-33ce4e86-02a5-4ec2-ad3d-cd276b2b485a\">\n",
              "    <div class=\"colab-df-container\">\n",
              "      <div>\n",
              "<style scoped>\n",
              "    .dataframe tbody tr th:only-of-type {\n",
              "        vertical-align: middle;\n",
              "    }\n",
              "\n",
              "    .dataframe tbody tr th {\n",
              "        vertical-align: top;\n",
              "    }\n",
              "\n",
              "    .dataframe thead th {\n",
              "        text-align: right;\n",
              "    }\n",
              "</style>\n",
              "<table border=\"1\" class=\"dataframe\">\n",
              "  <thead>\n",
              "    <tr style=\"text-align: right;\">\n",
              "      <th></th>\n",
              "      <th>asin</th>\n",
              "      <th>SEASON</th>\n",
              "    </tr>\n",
              "  </thead>\n",
              "  <tbody>\n",
              "    <tr>\n",
              "      <th>0</th>\n",
              "      <td>B000I6AZHE</td>\n",
              "      <td>Spring</td>\n",
              "    </tr>\n",
              "    <tr>\n",
              "      <th>1</th>\n",
              "      <td>B00182JYSS</td>\n",
              "      <td>Summer</td>\n",
              "    </tr>\n",
              "    <tr>\n",
              "      <th>2</th>\n",
              "      <td>B002GP80EU</td>\n",
              "      <td>Autumn</td>\n",
              "    </tr>\n",
              "    <tr>\n",
              "      <th>3</th>\n",
              "      <td>B002OXSKF8</td>\n",
              "      <td>Winter</td>\n",
              "    </tr>\n",
              "    <tr>\n",
              "      <th>4</th>\n",
              "      <td>B00D8FUHFC</td>\n",
              "      <td>Summer</td>\n",
              "    </tr>\n",
              "    <tr>\n",
              "      <th>5</th>\n",
              "      <td>B00KGKQR2Y</td>\n",
              "      <td>Spring</td>\n",
              "    </tr>\n",
              "    <tr>\n",
              "      <th>6</th>\n",
              "      <td>B00RCNHRQ8</td>\n",
              "      <td>Winter</td>\n",
              "    </tr>\n",
              "    <tr>\n",
              "      <th>7</th>\n",
              "      <td>B00U0PABWW</td>\n",
              "      <td>Summer</td>\n",
              "    </tr>\n",
              "    <tr>\n",
              "      <th>8</th>\n",
              "      <td>B0189CM3U0</td>\n",
              "      <td>Winter</td>\n",
              "    </tr>\n",
              "    <tr>\n",
              "      <th>9</th>\n",
              "      <td>B019FOXB70</td>\n",
              "      <td>Winter</td>\n",
              "    </tr>\n",
              "    <tr>\n",
              "      <th>10</th>\n",
              "      <td>B01AUOTSVW</td>\n",
              "      <td>Spring</td>\n",
              "    </tr>\n",
              "    <tr>\n",
              "      <th>11</th>\n",
              "      <td>B01B54XW54</td>\n",
              "      <td>Spring</td>\n",
              "    </tr>\n",
              "    <tr>\n",
              "      <th>12</th>\n",
              "      <td>B01B5GTUM6</td>\n",
              "      <td>Spring</td>\n",
              "    </tr>\n",
              "    <tr>\n",
              "      <th>13</th>\n",
              "      <td>B01BEWYRJ2</td>\n",
              "      <td>Autumn</td>\n",
              "    </tr>\n",
              "    <tr>\n",
              "      <th>14</th>\n",
              "      <td>B01CJNZKZK</td>\n",
              "      <td>Summer</td>\n",
              "    </tr>\n",
              "    <tr>\n",
              "      <th>15</th>\n",
              "      <td>B01E0DO7GU</td>\n",
              "      <td>Summer</td>\n",
              "    </tr>\n",
              "    <tr>\n",
              "      <th>16</th>\n",
              "      <td>B01F0QLD3G</td>\n",
              "      <td>Summer</td>\n",
              "    </tr>\n",
              "    <tr>\n",
              "      <th>17</th>\n",
              "      <td>B01FLJROJ4</td>\n",
              "      <td>Winter</td>\n",
              "    </tr>\n",
              "  </tbody>\n",
              "</table>\n",
              "</div>\n",
              "      <button class=\"colab-df-convert\" onclick=\"convertToInteractive('df-33ce4e86-02a5-4ec2-ad3d-cd276b2b485a')\"\n",
              "              title=\"Convert this dataframe to an interactive table.\"\n",
              "              style=\"display:none;\">\n",
              "        \n",
              "  <svg xmlns=\"http://www.w3.org/2000/svg\" height=\"24px\"viewBox=\"0 0 24 24\"\n",
              "       width=\"24px\">\n",
              "    <path d=\"M0 0h24v24H0V0z\" fill=\"none\"/>\n",
              "    <path d=\"M18.56 5.44l.94 2.06.94-2.06 2.06-.94-2.06-.94-.94-2.06-.94 2.06-2.06.94zm-11 1L8.5 8.5l.94-2.06 2.06-.94-2.06-.94L8.5 2.5l-.94 2.06-2.06.94zm10 10l.94 2.06.94-2.06 2.06-.94-2.06-.94-.94-2.06-.94 2.06-2.06.94z\"/><path d=\"M17.41 7.96l-1.37-1.37c-.4-.4-.92-.59-1.43-.59-.52 0-1.04.2-1.43.59L10.3 9.45l-7.72 7.72c-.78.78-.78 2.05 0 2.83L4 21.41c.39.39.9.59 1.41.59.51 0 1.02-.2 1.41-.59l7.78-7.78 2.81-2.81c.8-.78.8-2.07 0-2.86zM5.41 20L4 18.59l7.72-7.72 1.47 1.35L5.41 20z\"/>\n",
              "  </svg>\n",
              "      </button>\n",
              "      \n",
              "  <style>\n",
              "    .colab-df-container {\n",
              "      display:flex;\n",
              "      flex-wrap:wrap;\n",
              "      gap: 12px;\n",
              "    }\n",
              "\n",
              "    .colab-df-convert {\n",
              "      background-color: #E8F0FE;\n",
              "      border: none;\n",
              "      border-radius: 50%;\n",
              "      cursor: pointer;\n",
              "      display: none;\n",
              "      fill: #1967D2;\n",
              "      height: 32px;\n",
              "      padding: 0 0 0 0;\n",
              "      width: 32px;\n",
              "    }\n",
              "\n",
              "    .colab-df-convert:hover {\n",
              "      background-color: #E2EBFA;\n",
              "      box-shadow: 0px 1px 2px rgba(60, 64, 67, 0.3), 0px 1px 3px 1px rgba(60, 64, 67, 0.15);\n",
              "      fill: #174EA6;\n",
              "    }\n",
              "\n",
              "    [theme=dark] .colab-df-convert {\n",
              "      background-color: #3B4455;\n",
              "      fill: #D2E3FC;\n",
              "    }\n",
              "\n",
              "    [theme=dark] .colab-df-convert:hover {\n",
              "      background-color: #434B5C;\n",
              "      box-shadow: 0px 1px 3px 1px rgba(0, 0, 0, 0.15);\n",
              "      filter: drop-shadow(0px 1px 2px rgba(0, 0, 0, 0.3));\n",
              "      fill: #FFFFFF;\n",
              "    }\n",
              "  </style>\n",
              "\n",
              "      <script>\n",
              "        const buttonEl =\n",
              "          document.querySelector('#df-33ce4e86-02a5-4ec2-ad3d-cd276b2b485a button.colab-df-convert');\n",
              "        buttonEl.style.display =\n",
              "          google.colab.kernel.accessAllowed ? 'block' : 'none';\n",
              "\n",
              "        async function convertToInteractive(key) {\n",
              "          const element = document.querySelector('#df-33ce4e86-02a5-4ec2-ad3d-cd276b2b485a');\n",
              "          const dataTable =\n",
              "            await google.colab.kernel.invokeFunction('convertToInteractive',\n",
              "                                                     [key], {});\n",
              "          if (!dataTable) return;\n",
              "\n",
              "          const docLinkHtml = 'Like what you see? Visit the ' +\n",
              "            '<a target=\"_blank\" href=https://colab.research.google.com/notebooks/data_table.ipynb>data table notebook</a>'\n",
              "            + ' to learn more about interactive tables.';\n",
              "          element.innerHTML = '';\n",
              "          dataTable['output_type'] = 'display_data';\n",
              "          await google.colab.output.renderOutput(dataTable, element);\n",
              "          const docLink = document.createElement('div');\n",
              "          docLink.innerHTML = docLinkHtml;\n",
              "          element.appendChild(docLink);\n",
              "        }\n",
              "      </script>\n",
              "    </div>\n",
              "  </div>\n",
              "  "
            ]
          },
          "metadata": {},
          "execution_count": 42
        }
      ],
      "metadata": {
        "colab": {
          "base_uri": "https://localhost:8080/",
          "height": 607
        },
        "id": "pvYIwiSPp5ko",
        "outputId": "881f05b0-2a3d-474e-e7a5-17253c4bfd4d"
      }
    },
    {
      "cell_type": "code",
      "execution_count": null,
      "source": [
        "metadata_tmp = pd.merge(season_data, metadata_tmp, left_on=\"asin\", right_on=\"asin\", how='right')\n",
        "metadata_tmp['SEASON'].fillna('None', inplace=True)"
      ],
      "outputs": [],
      "metadata": {
        "id": "_ueAyWVSp8tP"
      }
    },
    {
      "cell_type": "code",
      "execution_count": null,
      "source": [
        "# clear not-used DataFrame\n",
        "del tmp_data\n",
        "del season_data"
      ],
      "outputs": [],
      "metadata": {
        "id": "x4erl1yTqB33"
      }
    },
    {
      "cell_type": "markdown",
      "source": [
        "---"
      ],
      "metadata": {
        "id": "Lu3pmfLaqKjZ"
      }
    },
    {
      "cell_type": "markdown",
      "source": [
        "## 若沒有相似用戶的替代推薦"
      ],
      "metadata": {
        "id": "d9Vl8kyMqKFz"
      }
    },
    {
      "cell_type": "code",
      "execution_count": null,
      "source": [
        "ratings_trainings['YEAR'] = ratings_trainings['DATE'].dt.year.astype(str)"
      ],
      "outputs": [
        {
          "output_type": "stream",
          "name": "stderr",
          "text": [
            "/usr/local/lib/python3.7/dist-packages/ipykernel_launcher.py:1: SettingWithCopyWarning: \n",
            "A value is trying to be set on a copy of a slice from a DataFrame.\n",
            "Try using .loc[row_indexer,col_indexer] = value instead\n",
            "\n",
            "See the caveats in the documentation: https://pandas.pydata.org/pandas-docs/stable/user_guide/indexing.html#returning-a-view-versus-a-copy\n",
            "  \"\"\"Entry point for launching an IPython kernel.\n"
          ]
        }
      ],
      "metadata": {
        "colab": {
          "base_uri": "https://localhost:8080/"
        },
        "id": "oVwFx3cFqHyA",
        "outputId": "7ab49a52-93f9-4024-82cc-979163932c70"
      }
    },
    {
      "cell_type": "markdown",
      "source": [
        "### 熱銷商品\n",
        "分近期熱銷、長期熱銷討論。"
      ],
      "metadata": {
        "id": "4grykzaOq8WL"
      }
    },
    {
      "cell_type": "markdown",
      "source": [
        "#### 近期熱銷"
      ],
      "metadata": {
        "id": "XlisAqVHrSsB"
      }
    },
    {
      "cell_type": "code",
      "execution_count": null,
      "source": [
        "def get_recent_topN(method='month', k=10):\n",
        "    if (method == 'three_month'):\n",
        "        recent_training_data = ratings_trainings[(ratings_trainings['DATE'] >= '2018-06-01') \\\n",
        "                                      & (ratings_trainings['DATE'] < '2018-09-01')]\n",
        "    elif (method == 'this_year'):\n",
        "        recent_training_data = ratings_trainings[(ratings_trainings['DATE'] >= '2018-01-01') \\\n",
        "                                      & (ratings_trainings['DATE'] < '2018-09-01')]\n",
        "    elif (method == 'year'):\n",
        "        recent_training_data = ratings_trainings[(ratings_trainings['DATE'] >= '2017-09-01') \\\n",
        "                                      & (ratings_trainings['DATE'] < '2018-09-01')]\n",
        "    else:\n",
        "        recent_training_data = ratings_trainings[(ratings_trainings['DATE'] >= '2018-08-01') \\\n",
        "                                      & (ratings_trainings['DATE'] < '2018-09-01')]\n",
        "    \n",
        "    recent_top = recent_training_data.groupby('asin') \\\n",
        "           .agg({'asin':'size', 'overall':'mean'}) \\\n",
        "           .rename(columns={'asin':'sold_count','overall':'mean_score'}) \\\n",
        "           .reset_index().sort_values('sold_count', ascending=False) \\\n",
        "           .head(k).asin.reset_index(drop=True).to_list()\n",
        "    \n",
        "    return recent_top"
      ],
      "outputs": [],
      "metadata": {
        "id": "FjLuk2d4q2YP"
      }
    },
    {
      "cell_type": "markdown",
      "source": [
        "#### 長期熱銷\n",
        "從「評分筆數大於平均筆數加3倍標準差(即評分筆數約為前面0.15%)且平均評分大於3的商品」中挑選，長期評分多。"
      ],
      "metadata": {
        "id": "8gHjshZRr3wR"
      }
    },
    {
      "cell_type": "code",
      "execution_count": null,
      "source": [
        "longterm_top_3std = metadata_tmp[metadata_tmp['RATE(COUNT)'] > round(metadata_tmp['RATE(COUNT)'].mean() + 3*metadata_tmp['RATE(COUNT)'].std())]\n",
        "longterm_top_3std = longterm_top_3std[longterm_top_3std['RATE'] > 3]\n",
        "print('共有 {} 個商品，視為長期熱銷商品候選名單。'.format(len(longterm_top_3std)))"
      ],
      "outputs": [
        {
          "output_type": "stream",
          "name": "stdout",
          "text": [
            "共有 125 個商品，視為長期熱銷商品候選名單。\n"
          ]
        }
      ],
      "metadata": {
        "colab": {
          "base_uri": "https://localhost:8080/"
        },
        "id": "L--ol54Pr6SR",
        "outputId": "aa2e1eb6-6f65-419c-8fae-568d094dbca6"
      }
    },
    {
      "cell_type": "markdown",
      "source": [
        "剔除近年已不熱銷的商品"
      ],
      "metadata": {
        "id": "gDueOFwAszBn"
      }
    },
    {
      "cell_type": "code",
      "execution_count": null,
      "source": [
        "longterm_top_tmp = ratings_trainings[ratings_trainings['asin'].isin(longterm_top_3std['asin'])].groupby(['YEAR', 'asin']).size().reset_index(name='count')\n",
        "\n",
        "longterm_top_tmp2 = longterm_top_tmp.pivot(index='asin', columns='YEAR', values='count').reset_index()\n",
        "longterm_top_tmp2.fillna(0.0, inplace=True)\n",
        "# longterm_top_tmp2.set_index(\"asin\" , inplace=True)"
      ],
      "outputs": [],
      "metadata": {
        "id": "rhfWOxLQsHh0"
      }
    },
    {
      "cell_type": "code",
      "execution_count": null,
      "source": [
        "longterm_top_tmp2['mean'] = longterm_top_tmp2[longterm_top_tmp2.columns].mean(axis=1).round(2).astype(float)\n",
        "longterm_top_tmp2['std'] = longterm_top_tmp2[longterm_top_tmp2.columns[:16]].std(axis=1).round(3).astype(float)\n",
        "longterm_top_tmp2['fstd'] = longterm_top_tmp2['std'] / longterm_top_tmp2['mean']"
      ],
      "outputs": [],
      "metadata": {
        "id": "bSaGyh7ttQhE"
      }
    },
    {
      "cell_type": "code",
      "execution_count": null,
      "source": [
        "longterm_top_tmp2"
      ],
      "outputs": [
        {
          "output_type": "execute_result",
          "data": {
            "text/plain": [
              "YEAR        asin  2004  2005  2006  ...    2018    mean      std      fstd\n",
              "0     B0009RF9DW   2.0   4.0   1.0  ...    25.0   51.60   59.202  1.147326\n",
              "1     B000BJ1CGQ   0.0   4.0   4.0  ...    25.0   63.87   88.744  1.389447\n",
              "2     B000EE9XYG   0.0   0.0   0.0  ...    20.0   34.40   43.251  1.257297\n",
              "3     B000FI4S1E   2.0   4.0   1.0  ...    26.0   51.67   59.170  1.145152\n",
              "4     B000FOI48G   0.0   0.0  27.0  ...    80.0  578.13  620.235  1.072830\n",
              "..           ...   ...   ...   ...  ...     ...     ...      ...       ...\n",
              "70    B01BZV6VVY   0.0   0.0   0.0  ...   204.0   29.20   77.267  2.646130\n",
              "71    B01C4ZAPGM   0.0   0.0   0.0  ...    73.0   20.53   43.783  2.132635\n",
              "72    B01DDQXRWU   0.0   0.0   0.0  ...   130.0   26.80   55.601  2.074664\n",
              "73    B01DFHDMS6   0.0   0.0   0.0  ...    69.0   54.87  112.424  2.048916\n",
              "74    B01DKQAXC0   0.0   0.0   0.0  ...  1196.0  279.80  586.394  2.095761\n",
              "\n",
              "[75 rows x 19 columns]"
            ],
            "text/html": [
              "\n",
              "  <div id=\"df-34580bb4-f0c8-4607-aa2b-594d5120e83b\">\n",
              "    <div class=\"colab-df-container\">\n",
              "      <div>\n",
              "<style scoped>\n",
              "    .dataframe tbody tr th:only-of-type {\n",
              "        vertical-align: middle;\n",
              "    }\n",
              "\n",
              "    .dataframe tbody tr th {\n",
              "        vertical-align: top;\n",
              "    }\n",
              "\n",
              "    .dataframe thead th {\n",
              "        text-align: right;\n",
              "    }\n",
              "</style>\n",
              "<table border=\"1\" class=\"dataframe\">\n",
              "  <thead>\n",
              "    <tr style=\"text-align: right;\">\n",
              "      <th>YEAR</th>\n",
              "      <th>asin</th>\n",
              "      <th>2004</th>\n",
              "      <th>2005</th>\n",
              "      <th>2006</th>\n",
              "      <th>2007</th>\n",
              "      <th>2008</th>\n",
              "      <th>2009</th>\n",
              "      <th>2010</th>\n",
              "      <th>2011</th>\n",
              "      <th>2012</th>\n",
              "      <th>2013</th>\n",
              "      <th>2014</th>\n",
              "      <th>2015</th>\n",
              "      <th>2016</th>\n",
              "      <th>2017</th>\n",
              "      <th>2018</th>\n",
              "      <th>mean</th>\n",
              "      <th>std</th>\n",
              "      <th>fstd</th>\n",
              "    </tr>\n",
              "  </thead>\n",
              "  <tbody>\n",
              "    <tr>\n",
              "      <th>0</th>\n",
              "      <td>B0009RF9DW</td>\n",
              "      <td>2.0</td>\n",
              "      <td>4.0</td>\n",
              "      <td>1.0</td>\n",
              "      <td>2.0</td>\n",
              "      <td>8.0</td>\n",
              "      <td>14.0</td>\n",
              "      <td>17.0</td>\n",
              "      <td>32.0</td>\n",
              "      <td>34.0</td>\n",
              "      <td>117.0</td>\n",
              "      <td>127.0</td>\n",
              "      <td>172.0</td>\n",
              "      <td>143.0</td>\n",
              "      <td>76.0</td>\n",
              "      <td>25.0</td>\n",
              "      <td>51.60</td>\n",
              "      <td>59.202</td>\n",
              "      <td>1.147326</td>\n",
              "    </tr>\n",
              "    <tr>\n",
              "      <th>1</th>\n",
              "      <td>B000BJ1CGQ</td>\n",
              "      <td>0.0</td>\n",
              "      <td>4.0</td>\n",
              "      <td>4.0</td>\n",
              "      <td>16.0</td>\n",
              "      <td>20.0</td>\n",
              "      <td>14.0</td>\n",
              "      <td>9.0</td>\n",
              "      <td>14.0</td>\n",
              "      <td>32.0</td>\n",
              "      <td>118.0</td>\n",
              "      <td>171.0</td>\n",
              "      <td>312.0</td>\n",
              "      <td>155.0</td>\n",
              "      <td>64.0</td>\n",
              "      <td>25.0</td>\n",
              "      <td>63.87</td>\n",
              "      <td>88.744</td>\n",
              "      <td>1.389447</td>\n",
              "    </tr>\n",
              "    <tr>\n",
              "      <th>2</th>\n",
              "      <td>B000EE9XYG</td>\n",
              "      <td>0.0</td>\n",
              "      <td>0.0</td>\n",
              "      <td>0.0</td>\n",
              "      <td>3.0</td>\n",
              "      <td>2.0</td>\n",
              "      <td>16.0</td>\n",
              "      <td>6.0</td>\n",
              "      <td>18.0</td>\n",
              "      <td>17.0</td>\n",
              "      <td>48.0</td>\n",
              "      <td>107.0</td>\n",
              "      <td>118.0</td>\n",
              "      <td>112.0</td>\n",
              "      <td>49.0</td>\n",
              "      <td>20.0</td>\n",
              "      <td>34.40</td>\n",
              "      <td>43.251</td>\n",
              "      <td>1.257297</td>\n",
              "    </tr>\n",
              "    <tr>\n",
              "      <th>3</th>\n",
              "      <td>B000FI4S1E</td>\n",
              "      <td>2.0</td>\n",
              "      <td>4.0</td>\n",
              "      <td>1.0</td>\n",
              "      <td>2.0</td>\n",
              "      <td>8.0</td>\n",
              "      <td>14.0</td>\n",
              "      <td>17.0</td>\n",
              "      <td>32.0</td>\n",
              "      <td>34.0</td>\n",
              "      <td>117.0</td>\n",
              "      <td>127.0</td>\n",
              "      <td>172.0</td>\n",
              "      <td>143.0</td>\n",
              "      <td>76.0</td>\n",
              "      <td>26.0</td>\n",
              "      <td>51.67</td>\n",
              "      <td>59.170</td>\n",
              "      <td>1.145152</td>\n",
              "    </tr>\n",
              "    <tr>\n",
              "      <th>4</th>\n",
              "      <td>B000FOI48G</td>\n",
              "      <td>0.0</td>\n",
              "      <td>0.0</td>\n",
              "      <td>27.0</td>\n",
              "      <td>334.0</td>\n",
              "      <td>410.0</td>\n",
              "      <td>286.0</td>\n",
              "      <td>448.0</td>\n",
              "      <td>570.0</td>\n",
              "      <td>817.0</td>\n",
              "      <td>2229.0</td>\n",
              "      <td>1431.0</td>\n",
              "      <td>1157.0</td>\n",
              "      <td>657.0</td>\n",
              "      <td>226.0</td>\n",
              "      <td>80.0</td>\n",
              "      <td>578.13</td>\n",
              "      <td>620.235</td>\n",
              "      <td>1.072830</td>\n",
              "    </tr>\n",
              "    <tr>\n",
              "      <th>...</th>\n",
              "      <td>...</td>\n",
              "      <td>...</td>\n",
              "      <td>...</td>\n",
              "      <td>...</td>\n",
              "      <td>...</td>\n",
              "      <td>...</td>\n",
              "      <td>...</td>\n",
              "      <td>...</td>\n",
              "      <td>...</td>\n",
              "      <td>...</td>\n",
              "      <td>...</td>\n",
              "      <td>...</td>\n",
              "      <td>...</td>\n",
              "      <td>...</td>\n",
              "      <td>...</td>\n",
              "      <td>...</td>\n",
              "      <td>...</td>\n",
              "      <td>...</td>\n",
              "      <td>...</td>\n",
              "    </tr>\n",
              "    <tr>\n",
              "      <th>70</th>\n",
              "      <td>B01BZV6VVY</td>\n",
              "      <td>0.0</td>\n",
              "      <td>0.0</td>\n",
              "      <td>0.0</td>\n",
              "      <td>0.0</td>\n",
              "      <td>0.0</td>\n",
              "      <td>0.0</td>\n",
              "      <td>0.0</td>\n",
              "      <td>0.0</td>\n",
              "      <td>0.0</td>\n",
              "      <td>0.0</td>\n",
              "      <td>0.0</td>\n",
              "      <td>0.0</td>\n",
              "      <td>0.0</td>\n",
              "      <td>234.0</td>\n",
              "      <td>204.0</td>\n",
              "      <td>29.20</td>\n",
              "      <td>77.267</td>\n",
              "      <td>2.646130</td>\n",
              "    </tr>\n",
              "    <tr>\n",
              "      <th>71</th>\n",
              "      <td>B01C4ZAPGM</td>\n",
              "      <td>0.0</td>\n",
              "      <td>0.0</td>\n",
              "      <td>0.0</td>\n",
              "      <td>0.0</td>\n",
              "      <td>0.0</td>\n",
              "      <td>0.0</td>\n",
              "      <td>0.0</td>\n",
              "      <td>0.0</td>\n",
              "      <td>0.0</td>\n",
              "      <td>0.0</td>\n",
              "      <td>0.0</td>\n",
              "      <td>0.0</td>\n",
              "      <td>107.0</td>\n",
              "      <td>128.0</td>\n",
              "      <td>73.0</td>\n",
              "      <td>20.53</td>\n",
              "      <td>43.783</td>\n",
              "      <td>2.132635</td>\n",
              "    </tr>\n",
              "    <tr>\n",
              "      <th>72</th>\n",
              "      <td>B01DDQXRWU</td>\n",
              "      <td>0.0</td>\n",
              "      <td>0.0</td>\n",
              "      <td>0.0</td>\n",
              "      <td>0.0</td>\n",
              "      <td>0.0</td>\n",
              "      <td>0.0</td>\n",
              "      <td>0.0</td>\n",
              "      <td>0.0</td>\n",
              "      <td>0.0</td>\n",
              "      <td>0.0</td>\n",
              "      <td>0.0</td>\n",
              "      <td>0.0</td>\n",
              "      <td>127.0</td>\n",
              "      <td>145.0</td>\n",
              "      <td>130.0</td>\n",
              "      <td>26.80</td>\n",
              "      <td>55.601</td>\n",
              "      <td>2.074664</td>\n",
              "    </tr>\n",
              "    <tr>\n",
              "      <th>73</th>\n",
              "      <td>B01DFHDMS6</td>\n",
              "      <td>0.0</td>\n",
              "      <td>0.0</td>\n",
              "      <td>0.0</td>\n",
              "      <td>0.0</td>\n",
              "      <td>0.0</td>\n",
              "      <td>0.0</td>\n",
              "      <td>0.0</td>\n",
              "      <td>4.0</td>\n",
              "      <td>21.0</td>\n",
              "      <td>36.0</td>\n",
              "      <td>39.0</td>\n",
              "      <td>404.0</td>\n",
              "      <td>224.0</td>\n",
              "      <td>26.0</td>\n",
              "      <td>69.0</td>\n",
              "      <td>54.87</td>\n",
              "      <td>112.424</td>\n",
              "      <td>2.048916</td>\n",
              "    </tr>\n",
              "    <tr>\n",
              "      <th>74</th>\n",
              "      <td>B01DKQAXC0</td>\n",
              "      <td>0.0</td>\n",
              "      <td>0.0</td>\n",
              "      <td>0.0</td>\n",
              "      <td>0.0</td>\n",
              "      <td>0.0</td>\n",
              "      <td>0.0</td>\n",
              "      <td>0.0</td>\n",
              "      <td>0.0</td>\n",
              "      <td>0.0</td>\n",
              "      <td>0.0</td>\n",
              "      <td>0.0</td>\n",
              "      <td>115.0</td>\n",
              "      <td>1007.0</td>\n",
              "      <td>1879.0</td>\n",
              "      <td>1196.0</td>\n",
              "      <td>279.80</td>\n",
              "      <td>586.394</td>\n",
              "      <td>2.095761</td>\n",
              "    </tr>\n",
              "  </tbody>\n",
              "</table>\n",
              "<p>75 rows × 19 columns</p>\n",
              "</div>\n",
              "      <button class=\"colab-df-convert\" onclick=\"convertToInteractive('df-34580bb4-f0c8-4607-aa2b-594d5120e83b')\"\n",
              "              title=\"Convert this dataframe to an interactive table.\"\n",
              "              style=\"display:none;\">\n",
              "        \n",
              "  <svg xmlns=\"http://www.w3.org/2000/svg\" height=\"24px\"viewBox=\"0 0 24 24\"\n",
              "       width=\"24px\">\n",
              "    <path d=\"M0 0h24v24H0V0z\" fill=\"none\"/>\n",
              "    <path d=\"M18.56 5.44l.94 2.06.94-2.06 2.06-.94-2.06-.94-.94-2.06-.94 2.06-2.06.94zm-11 1L8.5 8.5l.94-2.06 2.06-.94-2.06-.94L8.5 2.5l-.94 2.06-2.06.94zm10 10l.94 2.06.94-2.06 2.06-.94-2.06-.94-.94-2.06-.94 2.06-2.06.94z\"/><path d=\"M17.41 7.96l-1.37-1.37c-.4-.4-.92-.59-1.43-.59-.52 0-1.04.2-1.43.59L10.3 9.45l-7.72 7.72c-.78.78-.78 2.05 0 2.83L4 21.41c.39.39.9.59 1.41.59.51 0 1.02-.2 1.41-.59l7.78-7.78 2.81-2.81c.8-.78.8-2.07 0-2.86zM5.41 20L4 18.59l7.72-7.72 1.47 1.35L5.41 20z\"/>\n",
              "  </svg>\n",
              "      </button>\n",
              "      \n",
              "  <style>\n",
              "    .colab-df-container {\n",
              "      display:flex;\n",
              "      flex-wrap:wrap;\n",
              "      gap: 12px;\n",
              "    }\n",
              "\n",
              "    .colab-df-convert {\n",
              "      background-color: #E8F0FE;\n",
              "      border: none;\n",
              "      border-radius: 50%;\n",
              "      cursor: pointer;\n",
              "      display: none;\n",
              "      fill: #1967D2;\n",
              "      height: 32px;\n",
              "      padding: 0 0 0 0;\n",
              "      width: 32px;\n",
              "    }\n",
              "\n",
              "    .colab-df-convert:hover {\n",
              "      background-color: #E2EBFA;\n",
              "      box-shadow: 0px 1px 2px rgba(60, 64, 67, 0.3), 0px 1px 3px 1px rgba(60, 64, 67, 0.15);\n",
              "      fill: #174EA6;\n",
              "    }\n",
              "\n",
              "    [theme=dark] .colab-df-convert {\n",
              "      background-color: #3B4455;\n",
              "      fill: #D2E3FC;\n",
              "    }\n",
              "\n",
              "    [theme=dark] .colab-df-convert:hover {\n",
              "      background-color: #434B5C;\n",
              "      box-shadow: 0px 1px 3px 1px rgba(0, 0, 0, 0.15);\n",
              "      filter: drop-shadow(0px 1px 2px rgba(0, 0, 0, 0.3));\n",
              "      fill: #FFFFFF;\n",
              "    }\n",
              "  </style>\n",
              "\n",
              "      <script>\n",
              "        const buttonEl =\n",
              "          document.querySelector('#df-34580bb4-f0c8-4607-aa2b-594d5120e83b button.colab-df-convert');\n",
              "        buttonEl.style.display =\n",
              "          google.colab.kernel.accessAllowed ? 'block' : 'none';\n",
              "\n",
              "        async function convertToInteractive(key) {\n",
              "          const element = document.querySelector('#df-34580bb4-f0c8-4607-aa2b-594d5120e83b');\n",
              "          const dataTable =\n",
              "            await google.colab.kernel.invokeFunction('convertToInteractive',\n",
              "                                                     [key], {});\n",
              "          if (!dataTable) return;\n",
              "\n",
              "          const docLinkHtml = 'Like what you see? Visit the ' +\n",
              "            '<a target=\"_blank\" href=https://colab.research.google.com/notebooks/data_table.ipynb>data table notebook</a>'\n",
              "            + ' to learn more about interactive tables.';\n",
              "          element.innerHTML = '';\n",
              "          dataTable['output_type'] = 'display_data';\n",
              "          await google.colab.output.renderOutput(dataTable, element);\n",
              "          const docLink = document.createElement('div');\n",
              "          docLink.innerHTML = docLinkHtml;\n",
              "          element.appendChild(docLink);\n",
              "        }\n",
              "      </script>\n",
              "    </div>\n",
              "  </div>\n",
              "  "
            ]
          },
          "metadata": {},
          "execution_count": 52
        }
      ],
      "metadata": {
        "colab": {
          "base_uri": "https://localhost:8080/",
          "height": 471
        },
        "id": "S_6tSxIbt1RK",
        "outputId": "ee924406-6a23-4f39-d913-3aff29da552e"
      }
    },
    {
      "cell_type": "code",
      "execution_count": null,
      "source": [
        "# 去除連兩年銷售都低於熱銷候選評分筆數平均值\n",
        "longterm_top_tmp2 = longterm_top_tmp2[(longterm_top_tmp2['2018'] > longterm_top_tmp2['mean'].min()) & (longterm_top_tmp2['2017'] > longterm_top_tmp2['mean'].min())].reset_index(drop=True)\n",
        "print('剔除了 {} 個商品，剩下 {} 個商品於熱銷商品候選名單中。'.format(len(longterm_top_3std)-len(longterm_top_tmp2), len(longterm_top_tmp2)))"
      ],
      "outputs": [
        {
          "output_type": "stream",
          "name": "stdout",
          "text": [
            "剔除了 50 個商品，剩下 75 個商品於熱銷商品候選名單中。\n"
          ]
        }
      ],
      "metadata": {
        "colab": {
          "base_uri": "https://localhost:8080/"
        },
        "id": "GkkLwm1TtmpR",
        "outputId": "6d22d15a-5910-4630-af54-7eb55306b16f"
      }
    },
    {
      "cell_type": "code",
      "execution_count": null,
      "source": [
        "# 暫時以這些當作長期熱銷\n",
        "longterm_top_list =  metadata_tmp[metadata['asin'].isin(longterm_top_tmp2['asin'])] \\\n",
        "                        .sort_values('RATE(COUNT)', ascending=False) \\\n",
        "                        .asin.reset_index(drop=True).to_list()\n",
        "# TODO: 找連續年數大於平均數（連續次數越多，則越是長期）\n",
        "# 認為不是很急迫需這樣計算，是因為將範圍縮小到3倍標準差，表示評分筆數很多，不易是集中在某一年發生。"
      ],
      "outputs": [
        {
          "output_type": "stream",
          "name": "stderr",
          "text": [
            "/usr/local/lib/python3.7/dist-packages/ipykernel_launcher.py:3: UserWarning: Boolean Series key will be reindexed to match DataFrame index.\n",
            "  This is separate from the ipykernel package so we can avoid doing imports until\n"
          ]
        }
      ],
      "metadata": {
        "colab": {
          "base_uri": "https://localhost:8080/"
        },
        "id": "FGOrCMrtt77L",
        "outputId": "734272f1-769f-411e-9818-2a4b6bf81651"
      }
    },
    {
      "cell_type": "code",
      "execution_count": null,
      "source": [
        "# clear not-used DataFrame\n",
        "del longterm_top_3std\n",
        "del longterm_top_tmp\n",
        "del longterm_top_tmp2"
      ],
      "outputs": [],
      "metadata": {
        "id": "aAJtn9SGtuIZ"
      }
    },
    {
      "cell_type": "markdown",
      "source": [
        "---"
      ],
      "metadata": {
        "id": "ksfUcNEnteeu"
      }
    },
    {
      "cell_type": "markdown",
      "source": [
        "## 產生推薦"
      ],
      "metadata": {
        "id": "h8zLobH5kzy4"
      }
    },
    {
      "cell_type": "code",
      "execution_count": null,
      "source": [
        "import pandas as pd\n",
        "from itertools import combinations\n",
        "from collections import defaultdict\n",
        "\n",
        "# header: user_id,item_id,rating,timestamp\n",
        "\n",
        "def get_user_similarity(training_data, cmethod=1):\n",
        "\n",
        "    # loading data from dataframe\n",
        "    # user_to_items dict:\n",
        "    # {\n",
        "    #   'user': {\n",
        "    #       'item': ratings...\n",
        "    #   }...\n",
        "    # }\n",
        "    user_to_items = defaultdict(dict)\n",
        "    for _, row in training_data.iterrows():\n",
        "        row = dict(row)\n",
        "        user = row['reviewerID']\n",
        "        item = row['asin']\n",
        "        if (cmethod == 1):  # 當重複評分時取最近評分\n",
        "            rating = float(row['overall_lastest'])\n",
        "        else:  # 當重複評分時取平均評分\n",
        "            rating = float(row['overall_mean'])\n",
        "\n",
        "        user_to_items[user][item] = rating\n",
        "\n",
        "#     print(\"total users before filtering: \", len(user_to_items))\n",
        "\n",
        "    # remove obscure user to decrease data size\n",
        "    # filtering params\n",
        "    remove_obscure_user = True\n",
        "    user_rating_threshold = 3\n",
        "    all_users = list(user_to_items.keys())\n",
        "    for user in all_users:\n",
        "        ratings = user_to_items[user]\n",
        "        if remove_obscure_user and len(ratings) < user_rating_threshold:\n",
        "            del user_to_items[user]\n",
        "\n",
        "#     print(\"total users  after filtering: \", len(user_to_items))\n",
        "    \n",
        "    # generate item to user mapping dict\n",
        "    # {\n",
        "    #   'item': {\n",
        "    #       'user': ratings...\n",
        "    #   }...\n",
        "    # }\n",
        "    item_to_users = defaultdict(dict)\n",
        "    for user, items in user_to_items.items():\n",
        "        for item, rating in items.items():\n",
        "            item_to_users[item][user] = rating\n",
        "\n",
        "    # prepare data of computing user similarity \n",
        "    init_sim = lambda: [0 for _ in range(3)]\n",
        "    factory = lambda: defaultdict(init_sim)\n",
        "    pre_user_similarity = defaultdict(factory)\n",
        "    n = len(item_to_users)\n",
        "    index = 0\n",
        "    for item, user_ratings in item_to_users.items():\n",
        "        if len(user_ratings) > 1:\n",
        "            # print(f\"item: {item} have been rated by {len(user_ratings)} users progress: {index}/{n}\")\n",
        "            for user1, user2 in combinations(user_ratings.keys(), 2):\n",
        "                xy = user_ratings[user1] * user_ratings[user2]\n",
        "                xx = user_ratings[user1] ** 2\n",
        "                yy = user_ratings[user2] ** 2\n",
        "                pre_user_similarity[user1][user2][0] += xy\n",
        "                pre_user_similarity[user1][user2][1] += xx\n",
        "                pre_user_similarity[user1][user2][2] += yy\n",
        "\n",
        "                pre_user_similarity[user2][user1][0] += xy\n",
        "                pre_user_similarity[user2][user1][1] += xx\n",
        "                pre_user_similarity[user2][user1][2] += yy\n",
        "        index += 1\n",
        "\n",
        "    user_similarity = {}\n",
        "    for src_user in pre_user_similarity:\n",
        "        user_similarity_order = []\n",
        "        for dst_user, val in pre_user_similarity[src_user].items():\n",
        "            xy = val[0]\n",
        "            xx = val[1]\n",
        "            yy = val[2]\n",
        "            div = ((xx*yy) ** 0.5)\n",
        "            if div == 0:\n",
        "                continue\n",
        "            similarity = xy / div\n",
        "            if similarity < 0:\n",
        "                continue\n",
        "            for i, s in enumerate(user_similarity_order):\n",
        "                target_similarity = s[1]\n",
        "                if target_similarity < similarity:\n",
        "                    user_similarity_order.insert(i, (dst_user, similarity))\n",
        "                    break\n",
        "            else:\n",
        "                user_similarity_order.append((dst_user, similarity))\n",
        "        user_similarity[src_user] = user_similarity_order\n",
        "        \n",
        "    return user_similarity, user_to_items"
      ],
      "outputs": [],
      "metadata": {
        "id": "lnLhvXgdkzy5"
      }
    },
    {
      "cell_type": "code",
      "execution_count": null,
      "source": [
        "def recomend_item_sort(user, recommended_items, k=10):\n",
        "    \n",
        "    # 儲存原本list順序\n",
        "    recommended_dict = dict()\n",
        "    for idx in range(len(recommended_items)):\n",
        "        if recommended_items[idx] not in recommended_dict:\n",
        "            recommended_dict[recommended_items[idx]] = idx\n",
        "#     recommended_dict = {k: v for v, k in enumerate(recommended_items) if k not in recommended_dict}\n",
        "    \n",
        "    for item in recommended_items:\n",
        "        if (metadata_tmp['asin'].str.contains(item).any()):\n",
        "            item_info = metadata_tmp[metadata_tmp['asin'] == item]\n",
        "            # 剔除除分數過低的\n",
        "            if (item_info['RATE'].values[0] < 3):\n",
        "#                 recommended_items.remove(item)\n",
        "                del recommended_dict[item]\n",
        "            # 剔除非當季商品\n",
        "            elif ((item_info['SEASON'].values[0] != 'None') or (item_info['SEASON'].values[0] == 'Autumn') or (item_info['SEASON'].values[0] == 'Winter')):\n",
        "#                 recommended_items.remove(item)\n",
        "                del recommended_dict[item]\n",
        "            # TODO: 剔除近兩年未銷售出去過的商品\n",
        "        \n",
        "    \n",
        "#     # 剔除重複商品\n",
        "#     recommended_items = list(set(recommended_items))\n",
        "    \n",
        "#     # 依照RATE(COUNT)排序\n",
        "# #     print(metadata_tmp[metadata_tmp['asin'].isin(recommended_items)].sort_values('RATE', ascending=False) \\\n",
        "# #                                .head(k))\n",
        "#     recommended_list = metadata_tmp[metadata_tmp['asin'].isin(recommended_items)].sort_values('RATE', ascending=False) \\\n",
        "#                                .head(k).asin.reset_index(drop=True).to_list()\n",
        "    # 依照舊有list順序排序\n",
        "    # TODO: 考慮[每個用戶相似度x商品評論數]，才接著非來自相似用戶的推薦\n",
        "    recommended_list = [key for (key, value) in sorted(recommended_dict.items(), key=lambda x: x[1])]\n",
        "    \n",
        "    return recommended_list"
      ],
      "outputs": [],
      "metadata": {
        "id": "qLhXO95_u9oF"
      }
    },
    {
      "cell_type": "code",
      "execution_count": null,
      "source": [
        "# cmethod: 找相似用戶的算法, rmethod: 找不到相似用戶時用的算法\n",
        "def recommender(training_data, users=[], k=10, cmethod=1, rmethod=1, is_sorted=True):\n",
        "    \n",
        "    user_similarity, user_to_items = get_user_similarity(training_data, cmethod)\n",
        "    \n",
        "    if (rmethod == 1):\n",
        "        recent_method = 'month'\n",
        "    elif (rmethod == 2):\n",
        "        recent_method = 'three_month'\n",
        "    elif (rmethod == 3):\n",
        "        recent_method = 'this_year'\n",
        "    elif (rmethod == 4):\n",
        "        recent_method = 'year'\n",
        "\n",
        "    recommendation = {}\n",
        "    \n",
        "    # 如果要排序就先找出兩倍k的資料\n",
        "    n = 2*k if is_sorted else k\n",
        "    \n",
        "    for user in users:\n",
        "        if user in user_similarity:\n",
        "            sim_users = user_similarity[user]\n",
        "            recommended_items = []\n",
        "            recommended_items_set = set()\n",
        "            user_have_rated = set(user_to_items[user])\n",
        "            stop_recommend = False\n",
        "            for sim_user, _ in sim_users:\n",
        "                items_from_sim_user = sorted(list(user_to_items[sim_user].items()), key=lambda item: item[1])\n",
        "                for item, _ in items_from_sim_user:\n",
        "                    if item not in user_have_rated and item not in recommended_items_set:\n",
        "                        recommended_items.append(item)\n",
        "                        recommended_items_set.add(item)\n",
        "                    if len(recommended_items) >= n:\n",
        "                        stop_recommend = True\n",
        "                        break\n",
        "                if stop_recommend:\n",
        "                    break\n",
        "            # 若不足k個補足\n",
        "            if len(recommended_items) < n:\n",
        "                if (rmethod == 5):\n",
        "                    recommended_items = recommended_items + longterm_top_list[:n-len(recommended_items)]\n",
        "                else:\n",
        "                    recommended_items = recommended_items + get_recent_topN(recent_method, n-len(recommended_items))\n",
        "            recommendation[user] = recomend_item_sort(user, recommended_items, k) if is_sorted else recommended_items\n",
        "        else:\n",
        "            if (rmethod == 5):\n",
        "                recommended_items = longterm_top_list[:n]\n",
        "            else:\n",
        "                recommended_items = get_recent_topN(recent_method, n)\n",
        "            recommendation[user] = recomend_item_sort(user, recommended_items, k) if is_sorted else recommended_items\n",
        "    return recommendation"
      ],
      "outputs": [],
      "metadata": {
        "id": "qUu9cqXtvFNz"
      }
    },
    {
      "cell_type": "markdown",
      "source": [
        "## 結果評估"
      ],
      "metadata": {
        "id": "FAk9vQsqkzy9"
      }
    },
    {
      "cell_type": "code",
      "execution_count": null,
      "source": [
        "def evaluate(ratings_testings_by_user={}, ratings_by_user={}, method=None):\n",
        "    '''\n",
        "    * ratings_testings_by_user: dict 真實被購買的商品資料（2018-09-01 以後資料）\n",
        "    * ratings_by_user: dict 利用訓練資料學習的推薦商品\n",
        "    * method: str\n",
        "    * score: float\n",
        "    '''\n",
        "    total = 0\n",
        "    for d in ratings_testings_by_user:\n",
        "        if d in ratings_by_user:\n",
        "            total += len(set(ratings_by_user[d]) & set(ratings_testings_by_user[d]))\n",
        "\n",
        "    score = total / len(ratings_testings)\n",
        "    return score"
      ],
      "outputs": [],
      "metadata": {
        "id": "chrSPrHYkzy9"
      }
    },
    {
      "cell_type": "markdown",
      "source": [
        "### 方案1： 當重複評分時取最近評分，而找不到相似用戶則用最近一個月的熱銷推薦，未排序和剔除評分過低。"
      ],
      "metadata": {
        "id": "3Am0kyonwWjl"
      }
    },
    {
      "cell_type": "code",
      "execution_count": null,
      "source": [
        "for k in [10, 20]:\n",
        "    ratings_by_user = recommender(ratings_trainings_unique, users, k=k, cmethod=1, is_sorted=False)\n",
        "    print(f'top{k} Recall： {evaluate(ratings_testings_by_user, ratings_by_user)} ')"
      ],
      "outputs": [
        {
          "output_type": "stream",
          "name": "stdout",
          "text": [
            "top10 Recall： 0.15423728813559323 \n",
            "top20 Recall： 0.19322033898305085 \n"
          ]
        }
      ],
      "metadata": {
        "id": "xFVlhNL9kzy-",
        "colab": {
          "base_uri": "https://localhost:8080/"
        },
        "outputId": "e3b1fea4-2801-47f9-f6b1-f19226c186bd"
      }
    },
    {
      "cell_type": "markdown",
      "source": [
        "### 方案2： 當重複評分時取平均評分，而找不到相似用戶則用最近一個月的熱銷推薦，未排序和剔除評分過低。"
      ],
      "metadata": {
        "id": "3eDgFBmrwPWK"
      }
    },
    {
      "cell_type": "code",
      "execution_count": 62,
      "source": [
        "for k in [10, 20]:\n",
        "    ratings_by_user = recommender(ratings_trainings_unique, users, k=k, cmethod=2, is_sorted=False)\n",
        "    print(f'top{k} Recall： {evaluate(ratings_testings_by_user, ratings_by_user)}')"
      ],
      "outputs": [
        {
          "output_type": "stream",
          "name": "stdout",
          "text": [
            "top10 Recall： 0.15423728813559323\n",
            "top20 Recall： 0.19322033898305085\n"
          ]
        }
      ],
      "metadata": {
        "id": "2_tPQO9Hkzy-",
        "colab": {
          "base_uri": "https://localhost:8080/"
        },
        "outputId": "ddeff999-7348-4028-b48c-e482fdaf95fb"
      }
    },
    {
      "cell_type": "markdown",
      "source": [
        "發現用`overall_lastest`、`overall_mean`兩者的Recall差異不大，回去查看差異比數，和平均差異多少。"
      ],
      "metadata": {
        "id": "iYgLL_kTxmte"
      }
    },
    {
      "cell_type": "code",
      "execution_count": null,
      "source": [
        "ratings_trainings_unique_diff = ratings_trainings_unique[ratings_trainings_unique['overall_lastest'] != ratings_trainings_unique['overall_mean']]\n",
        "print('共有{0}筆評分，其中有{1}筆平均評比和最近評比不同'.format(len(ratings_trainings_unique), len(ratings_trainings_unique_diff)))\n",
        "print('這些平均差了{}分'.format(sum(pd.Series.abs(ratings_trainings_unique_diff['overall_lastest'] - ratings_trainings_unique_diff['overall_mean'])) / len(ratings_trainings_unique_diff)))"
      ],
      "outputs": [
        {
          "output_type": "stream",
          "name": "stdout",
          "text": [
            "共有361012筆評分，其中有212筆平均評比和最近評比不同\n",
            "這些平均差了0.7902122641509433分\n"
          ]
        }
      ],
      "metadata": {
        "id": "A7jCTRwpkzy_",
        "colab": {
          "base_uri": "https://localhost:8080/"
        },
        "outputId": "0bcc48b9-0342-44cb-f799-e500332d0523"
      }
    },
    {
      "cell_type": "markdown",
      "source": [
        "發現兩者有不同的評分，其差異平均只有0.7902122641509433分，或許使得在這用哪一個差異沒有很大。"
      ],
      "metadata": {
        "id": "mhuEsp78x8gg"
      }
    },
    {
      "cell_type": "markdown",
      "source": [
        "### 方案3：當重複評分時取平均評分，而找不到相似用戶則用近一個月的熱銷推薦，剔除評分過低、非當季商品(秋冬)。"
      ],
      "metadata": {
        "id": "Lo5K75lByLlj"
      }
    },
    {
      "cell_type": "code",
      "execution_count": 63,
      "source": [
        "for k in [10, 20]:\n",
        "    ratings_by_user = recommender(ratings_trainings_unique, users, k=k, cmethod=2)\n",
        "    print(f'top{k} Recall： {evaluate(ratings_testings_by_user, ratings_by_user)}')"
      ],
      "outputs": [
        {
          "output_type": "stream",
          "name": "stdout",
          "text": [
            "top10 Recall： 0.1711864406779661\n",
            "top20 Recall： 0.2711864406779661\n"
          ]
        }
      ],
      "metadata": {
        "id": "JfYzH58NxurZ",
        "colab": {
          "base_uri": "https://localhost:8080/"
        },
        "outputId": "9f9f5173-d297-4647-f49f-abcca07d9300"
      }
    }
  ],
  "metadata": {
    "kernelspec": {
      "display_name": "Python 3",
      "language": "python",
      "name": "python3"
    },
    "language_info": {
      "codemirror_mode": {
        "name": "ipython",
        "version": 3
      },
      "file_extension": ".py",
      "mimetype": "text/x-python",
      "name": "python",
      "nbconvert_exporter": "python",
      "pygments_lexer": "ipython3",
      "version": "3.9.0"
    },
    "colab": {
      "name": "A6_cf-used-based.ipynb",
      "provenance": [],
      "collapsed_sections": [
        "cYIwaSR4kzyn",
        "wm6nL9F_kzys",
        "4Rc799ISkzy2",
        "vEAX5qLxlNri",
        "ueuryxQakzy3"
      ],
      "include_colab_link": true
    }
  },
  "nbformat": 4,
  "nbformat_minor": 5
}
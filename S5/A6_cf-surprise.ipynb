{
 "cells": [
  {
   "cell_type": "markdown",
   "metadata": {},
   "source": [
    "# Surprise Collabrative filtering"
   ]
  },
  {
   "cell_type": "markdown",
   "metadata": {},
   "source": [
    "## 基礎建設"
   ]
  },
  {
   "cell_type": "code",
   "execution_count": 1,
   "metadata": {
    "scrolled": true
   },
   "outputs": [],
   "source": [
    "import pandas as pd\n",
    "import gzip, json\n",
    "\n",
    "def parse(path):\n",
    "    g = gzip.open(path, 'rb')\n",
    "    for l in g:\n",
    "        yield json.loads(l)\n",
    "\n",
    "def getDF(path):\n",
    "    i = 0\n",
    "    df = {}\n",
    "    for d in parse(path):\n",
    "        df[i] = d\n",
    "        i += 1\n",
    "    return pd.DataFrame.from_dict(df, orient='index')"
   ]
  },
  {
   "cell_type": "markdown",
   "metadata": {},
   "source": [
    "## 載入資料"
   ]
  },
  {
   "cell_type": "code",
   "execution_count": 3,
   "metadata": {},
   "outputs": [],
   "source": [
    "!wget http://deepyeti.ucsd.edu/jianmo/amazon/categoryFilesSmall/All_Beauty.csv\n",
    "!wget http://deepyeti.ucsd.edu/jianmo/amazon/metaFiles2/meta_All_Beauty.json.gz"
   ]
  },
  {
   "cell_type": "code",
   "execution_count": 4,
   "metadata": {},
   "outputs": [],
   "source": [
    "metadata = getDF('/content/meta_All_Beauty.json.gz')\n",
    "ratings = pd.read_csv('/content/All_Beauty.csv', names=['asin', 'reviewerID', 'overall', 'unixReviewTime'], header=None)"
   ]
  },
  {
   "cell_type": "code",
   "execution_count": 6,
   "metadata": {},
   "outputs": [
    {
     "data": {
      "text/html": [
       "<div>\n",
       "<style scoped>\n",
       "    .dataframe tbody tr th:only-of-type {\n",
       "        vertical-align: middle;\n",
       "    }\n",
       "\n",
       "    .dataframe tbody tr th {\n",
       "        vertical-align: top;\n",
       "    }\n",
       "\n",
       "    .dataframe thead th {\n",
       "        text-align: right;\n",
       "    }\n",
       "</style>\n",
       "<table border=\"1\" class=\"dataframe\">\n",
       "  <thead>\n",
       "    <tr style=\"text-align: right;\">\n",
       "      <th></th>\n",
       "      <th>category</th>\n",
       "      <th>tech1</th>\n",
       "      <th>description</th>\n",
       "      <th>fit</th>\n",
       "      <th>title</th>\n",
       "      <th>also_buy</th>\n",
       "      <th>tech2</th>\n",
       "      <th>brand</th>\n",
       "      <th>feature</th>\n",
       "      <th>rank</th>\n",
       "      <th>also_view</th>\n",
       "      <th>details</th>\n",
       "      <th>main_cat</th>\n",
       "      <th>similar_item</th>\n",
       "      <th>date</th>\n",
       "      <th>price</th>\n",
       "      <th>asin</th>\n",
       "      <th>imageURL</th>\n",
       "      <th>imageURLHighRes</th>\n",
       "    </tr>\n",
       "  </thead>\n",
       "  <tbody>\n",
       "    <tr>\n",
       "      <th>0</th>\n",
       "      <td>[]</td>\n",
       "      <td></td>\n",
       "      <td>[Loud 'N Clear Personal Sound Amplifier allows...</td>\n",
       "      <td></td>\n",
       "      <td>Loud 'N Clear&amp;trade; Personal Sound Amplifier</td>\n",
       "      <td>[]</td>\n",
       "      <td></td>\n",
       "      <td>idea village</td>\n",
       "      <td>[]</td>\n",
       "      <td>2,938,573 in Beauty &amp; Personal Care (</td>\n",
       "      <td>[]</td>\n",
       "      <td>{'ASIN: ': '6546546450'}</td>\n",
       "      <td>All Beauty</td>\n",
       "      <td></td>\n",
       "      <td></td>\n",
       "      <td></td>\n",
       "      <td>6546546450</td>\n",
       "      <td>[]</td>\n",
       "      <td>[]</td>\n",
       "    </tr>\n",
       "    <tr>\n",
       "      <th>1</th>\n",
       "      <td>[]</td>\n",
       "      <td></td>\n",
       "      <td>[No7 Lift &amp; Luminate Triple Action Serum 50ml ...</td>\n",
       "      <td></td>\n",
       "      <td>No7 Lift &amp;amp; Luminate Triple Action Serum 50...</td>\n",
       "      <td>[B01E7LCSL6, B008X5RVME]</td>\n",
       "      <td></td>\n",
       "      <td></td>\n",
       "      <td>[]</td>\n",
       "      <td>872,854 in Beauty &amp; Personal Care (</td>\n",
       "      <td>[]</td>\n",
       "      <td>{'Shipping Weight:': '0.3 ounces (', 'ASIN: ':...</td>\n",
       "      <td>All Beauty</td>\n",
       "      <td>class=\"a-bordered a-horizontal-stripes  a-spa...</td>\n",
       "      <td></td>\n",
       "      <td>$44.99</td>\n",
       "      <td>7178680776</td>\n",
       "      <td>[]</td>\n",
       "      <td>[]</td>\n",
       "    </tr>\n",
       "    <tr>\n",
       "      <th>2</th>\n",
       "      <td>[]</td>\n",
       "      <td></td>\n",
       "      <td>[No7 Stay Perfect Foundation now stays perfect...</td>\n",
       "      <td></td>\n",
       "      <td>No7 Stay Perfect Foundation Cool Vanilla by No7</td>\n",
       "      <td>[]</td>\n",
       "      <td></td>\n",
       "      <td>No7</td>\n",
       "      <td>[]</td>\n",
       "      <td>956,696 in Beauty &amp; Personal Care (</td>\n",
       "      <td>[B01B8BR0O8, B01B8BR0NO, B014MHXXM8]</td>\n",
       "      <td>{'Shipping Weight:': '3.5 ounces (', 'ASIN: ':...</td>\n",
       "      <td>All Beauty</td>\n",
       "      <td></td>\n",
       "      <td></td>\n",
       "      <td>$28.76</td>\n",
       "      <td>7250468162</td>\n",
       "      <td>[]</td>\n",
       "      <td>[]</td>\n",
       "    </tr>\n",
       "    <tr>\n",
       "      <th>3</th>\n",
       "      <td>[]</td>\n",
       "      <td></td>\n",
       "      <td>[]</td>\n",
       "      <td></td>\n",
       "      <td>Wella Koleston Perfect Hair Colour 44/44 Mediu...</td>\n",
       "      <td>[B0041PBXX8]</td>\n",
       "      <td></td>\n",
       "      <td></td>\n",
       "      <td>[]</td>\n",
       "      <td>1,870,258 in Beauty &amp; Personal Care (</td>\n",
       "      <td>[]</td>\n",
       "      <td>{'\n",
       "    Item Weight: \n",
       "    ': '1.76 ounces', 'Sh...</td>\n",
       "      <td>All Beauty</td>\n",
       "      <td></td>\n",
       "      <td></td>\n",
       "      <td></td>\n",
       "      <td>7367905066</td>\n",
       "      <td>[https://images-na.ssl-images-amazon.com/image...</td>\n",
       "      <td>[https://images-na.ssl-images-amazon.com/image...</td>\n",
       "    </tr>\n",
       "    <tr>\n",
       "      <th>4</th>\n",
       "      <td>[]</td>\n",
       "      <td></td>\n",
       "      <td>[Lacto Calamine Skin Balance Daily Nourishing ...</td>\n",
       "      <td></td>\n",
       "      <td>Lacto Calamine Skin Balance Oil control 120 ml...</td>\n",
       "      <td>[]</td>\n",
       "      <td></td>\n",
       "      <td>Pirmal Healthcare</td>\n",
       "      <td>[]</td>\n",
       "      <td>67,701 in Beauty &amp; Personal Care (</td>\n",
       "      <td>[3254895630, B007VL1D9S, B00EH9A0RI, B0773MBG4...</td>\n",
       "      <td>{'Shipping Weight:': '12 ounces (', 'ASIN: ': ...</td>\n",
       "      <td>All Beauty</td>\n",
       "      <td></td>\n",
       "      <td></td>\n",
       "      <td>$12.15</td>\n",
       "      <td>7414204790</td>\n",
       "      <td>[https://images-na.ssl-images-amazon.com/image...</td>\n",
       "      <td>[https://images-na.ssl-images-amazon.com/image...</td>\n",
       "    </tr>\n",
       "  </tbody>\n",
       "</table>\n",
       "</div>"
      ],
      "text/plain": [
       "  category tech1                                        description fit  \\\n",
       "0       []        [Loud 'N Clear Personal Sound Amplifier allows...       \n",
       "1       []        [No7 Lift & Luminate Triple Action Serum 50ml ...       \n",
       "2       []        [No7 Stay Perfect Foundation now stays perfect...       \n",
       "3       []                                                       []       \n",
       "4       []        [Lacto Calamine Skin Balance Daily Nourishing ...       \n",
       "\n",
       "                                               title  \\\n",
       "0      Loud 'N Clear&trade; Personal Sound Amplifier   \n",
       "1  No7 Lift &amp; Luminate Triple Action Serum 50...   \n",
       "2    No7 Stay Perfect Foundation Cool Vanilla by No7   \n",
       "3  Wella Koleston Perfect Hair Colour 44/44 Mediu...   \n",
       "4  Lacto Calamine Skin Balance Oil control 120 ml...   \n",
       "\n",
       "                   also_buy tech2              brand feature  \\\n",
       "0                        []             idea village      []   \n",
       "1  [B01E7LCSL6, B008X5RVME]                               []   \n",
       "2                        []                      No7      []   \n",
       "3              [B0041PBXX8]                               []   \n",
       "4                        []        Pirmal Healthcare      []   \n",
       "\n",
       "                                    rank  \\\n",
       "0  2,938,573 in Beauty & Personal Care (   \n",
       "1    872,854 in Beauty & Personal Care (   \n",
       "2    956,696 in Beauty & Personal Care (   \n",
       "3  1,870,258 in Beauty & Personal Care (   \n",
       "4     67,701 in Beauty & Personal Care (   \n",
       "\n",
       "                                           also_view  \\\n",
       "0                                                 []   \n",
       "1                                                 []   \n",
       "2               [B01B8BR0O8, B01B8BR0NO, B014MHXXM8]   \n",
       "3                                                 []   \n",
       "4  [3254895630, B007VL1D9S, B00EH9A0RI, B0773MBG4...   \n",
       "\n",
       "                                             details    main_cat  \\\n",
       "0                           {'ASIN: ': '6546546450'}  All Beauty   \n",
       "1  {'Shipping Weight:': '0.3 ounces (', 'ASIN: ':...  All Beauty   \n",
       "2  {'Shipping Weight:': '3.5 ounces (', 'ASIN: ':...  All Beauty   \n",
       "3  {'\n",
       "    Item Weight: \n",
       "    ': '1.76 ounces', 'Sh...  All Beauty   \n",
       "4  {'Shipping Weight:': '12 ounces (', 'ASIN: ': ...  All Beauty   \n",
       "\n",
       "                                        similar_item date   price        asin  \\\n",
       "0                                                                  6546546450   \n",
       "1   class=\"a-bordered a-horizontal-stripes  a-spa...       $44.99  7178680776   \n",
       "2                                                          $28.76  7250468162   \n",
       "3                                                                  7367905066   \n",
       "4                                                          $12.15  7414204790   \n",
       "\n",
       "                                            imageURL  \\\n",
       "0                                                 []   \n",
       "1                                                 []   \n",
       "2                                                 []   \n",
       "3  [https://images-na.ssl-images-amazon.com/image...   \n",
       "4  [https://images-na.ssl-images-amazon.com/image...   \n",
       "\n",
       "                                     imageURLHighRes  \n",
       "0                                                 []  \n",
       "1                                                 []  \n",
       "2                                                 []  \n",
       "3  [https://images-na.ssl-images-amazon.com/image...  \n",
       "4  [https://images-na.ssl-images-amazon.com/image...  "
      ]
     },
     "execution_count": 6,
     "metadata": {},
     "output_type": "execute_result"
    }
   ],
   "source": [
    "metadata.head()"
   ]
  },
  {
   "cell_type": "code",
   "execution_count": 7,
   "metadata": {},
   "outputs": [
    {
     "data": {
      "text/html": [
       "<div>\n",
       "<style scoped>\n",
       "    .dataframe tbody tr th:only-of-type {\n",
       "        vertical-align: middle;\n",
       "    }\n",
       "\n",
       "    .dataframe tbody tr th {\n",
       "        vertical-align: top;\n",
       "    }\n",
       "\n",
       "    .dataframe thead th {\n",
       "        text-align: right;\n",
       "    }\n",
       "</style>\n",
       "<table border=\"1\" class=\"dataframe\">\n",
       "  <thead>\n",
       "    <tr style=\"text-align: right;\">\n",
       "      <th></th>\n",
       "      <th>asin</th>\n",
       "      <th>reviewerID</th>\n",
       "      <th>overall</th>\n",
       "      <th>unixReviewTime</th>\n",
       "    </tr>\n",
       "  </thead>\n",
       "  <tbody>\n",
       "    <tr>\n",
       "      <th>0</th>\n",
       "      <td>0143026860</td>\n",
       "      <td>A1V6B6TNIC10QE</td>\n",
       "      <td>1.0</td>\n",
       "      <td>1424304000</td>\n",
       "    </tr>\n",
       "    <tr>\n",
       "      <th>1</th>\n",
       "      <td>0143026860</td>\n",
       "      <td>A2F5GHSXFQ0W6J</td>\n",
       "      <td>4.0</td>\n",
       "      <td>1418860800</td>\n",
       "    </tr>\n",
       "    <tr>\n",
       "      <th>2</th>\n",
       "      <td>0143026860</td>\n",
       "      <td>A1572GUYS7DGSR</td>\n",
       "      <td>4.0</td>\n",
       "      <td>1407628800</td>\n",
       "    </tr>\n",
       "    <tr>\n",
       "      <th>3</th>\n",
       "      <td>0143026860</td>\n",
       "      <td>A1PSGLFK1NSVO</td>\n",
       "      <td>5.0</td>\n",
       "      <td>1362960000</td>\n",
       "    </tr>\n",
       "    <tr>\n",
       "      <th>4</th>\n",
       "      <td>0143026860</td>\n",
       "      <td>A6IKXKZMTKGSC</td>\n",
       "      <td>5.0</td>\n",
       "      <td>1324771200</td>\n",
       "    </tr>\n",
       "  </tbody>\n",
       "</table>\n",
       "</div>"
      ],
      "text/plain": [
       "         asin      reviewerID  overall  unixReviewTime\n",
       "0  0143026860  A1V6B6TNIC10QE      1.0      1424304000\n",
       "1  0143026860  A2F5GHSXFQ0W6J      4.0      1418860800\n",
       "2  0143026860  A1572GUYS7DGSR      4.0      1407628800\n",
       "3  0143026860   A1PSGLFK1NSVO      5.0      1362960000\n",
       "4  0143026860   A6IKXKZMTKGSC      5.0      1324771200"
      ]
     },
     "execution_count": 7,
     "metadata": {},
     "output_type": "execute_result"
    }
   ],
   "source": [
    "ratings.head()"
   ]
  },
  {
   "cell_type": "markdown",
   "metadata": {},
   "source": [
    "---"
   ]
  },
  {
   "cell_type": "markdown",
   "metadata": {},
   "source": [
    "## 資料整理"
   ]
  },
  {
   "cell_type": "code",
   "execution_count": 6,
   "metadata": {},
   "outputs": [],
   "source": [
    "ratings['DATE'] = pd.to_datetime(ratings['unixReviewTime'], unit='s')"
   ]
  },
  {
   "cell_type": "markdown",
   "metadata": {},
   "source": [
    "### 去除重複資料"
   ]
  },
  {
   "cell_type": "code",
   "execution_count": 7,
   "metadata": {},
   "outputs": [
    {
     "name": "stdout",
     "output_type": "stream",
     "text": [
      "Original Num of metadata: 32892\n",
      "Num of duplicated metadata: 404\n",
      "Drop duplicated metadata...\n",
      "Current Num of metadata: 32084\n"
     ]
    }
   ],
   "source": [
    "print('Original Num of metadata: {0}'.format(len(metadata)))\n",
    "print('Num of duplicated metadata: {0}'.format(metadata.duplicated(subset=['asin', 'title']).sum()))\n",
    "\n",
    "print('Drop duplicated metadata...')\n",
    "metadata.drop_duplicates(subset=['asin', 'title'], keep=False, inplace=True)\n",
    "metadata = metadata.reset_index(drop=True)\n",
    "print('Current Num of metadata: {0}'.format(len(metadata)))"
   ]
  },
  {
   "cell_type": "markdown",
   "metadata": {},
   "source": [
    "## 資料切分"
   ]
  },
  {
   "cell_type": "code",
   "execution_count": 8,
   "metadata": {},
   "outputs": [],
   "source": [
    "ratings_trainings = ratings[\n",
    "    (ratings['DATE'] < '2018-09-01')\n",
    "]\n",
    "ratings_testings = ratings[\n",
    "    (ratings['DATE'] >= '2018-09-01') & \n",
    "    (ratings['DATE'] <= '2018-09-30')\n",
    "]\n",
    "ratings_testings_by_user = ratings_testings.groupby('reviewerID').agg(list).reset_index()[['reviewerID', 'asin']].to_dict('records')\n",
    "ratings_testings_by_user = { rating['reviewerID']: rating['asin'] for rating in ratings_testings_by_user }\n",
    "users = list(ratings_testings_by_user.keys())"
   ]
  },
  {
   "cell_type": "markdown",
   "metadata": {},
   "source": [
    "---"
   ]
  },
  {
   "cell_type": "markdown",
   "metadata": {},
   "source": [
    "保留原始資料，複製一份出來處理。"
   ]
  },
  {
   "cell_type": "code",
   "execution_count": 9,
   "metadata": {},
   "outputs": [],
   "source": [
    "metadata_tmp = metadata.copy()\n",
    "\n",
    "ratings_trainings_tmp = ratings_trainings.copy()\n",
    "ratings_testings_tmp = ratings_testings.copy()\n",
    "\n",
    "users_testing_tmp = users.copy()"
   ]
  },
  {
   "cell_type": "markdown",
   "metadata": {},
   "source": [
    "---"
   ]
  },
  {
   "cell_type": "markdown",
   "metadata": {},
   "source": [
    "## 資料探索"
   ]
  },
  {
   "cell_type": "code",
   "execution_count": 10,
   "metadata": {},
   "outputs": [],
   "source": [
    "import numpy as np\n",
    "import matplotlib.pyplot as plt"
   ]
  },
  {
   "cell_type": "markdown",
   "metadata": {},
   "source": [
    "### 訓練集資料"
   ]
  },
  {
   "cell_type": "code",
   "execution_count": 11,
   "metadata": {},
   "outputs": [
    {
     "data": {
      "text/html": [
       "<div>\n",
       "<style scoped>\n",
       "    .dataframe tbody tr th:only-of-type {\n",
       "        vertical-align: middle;\n",
       "    }\n",
       "\n",
       "    .dataframe tbody tr th {\n",
       "        vertical-align: top;\n",
       "    }\n",
       "\n",
       "    .dataframe thead th {\n",
       "        text-align: right;\n",
       "    }\n",
       "</style>\n",
       "<table border=\"1\" class=\"dataframe\">\n",
       "  <thead>\n",
       "    <tr style=\"text-align: right;\">\n",
       "      <th></th>\n",
       "      <th>reviewerID</th>\n",
       "      <th>asin</th>\n",
       "      <th>DATE</th>\n",
       "      <th>overall</th>\n",
       "    </tr>\n",
       "  </thead>\n",
       "  <tbody>\n",
       "    <tr>\n",
       "      <th>0</th>\n",
       "      <td>A0010876CNE3ILIM9HV0</td>\n",
       "      <td>B01FHDYGQ8</td>\n",
       "      <td>2016-10-12</td>\n",
       "      <td>5.0</td>\n",
       "    </tr>\n",
       "    <tr>\n",
       "      <th>1</th>\n",
       "      <td>A001170867ZBE9FORRQL</td>\n",
       "      <td>B01B18T01Y</td>\n",
       "      <td>2017-02-16</td>\n",
       "      <td>5.0</td>\n",
       "    </tr>\n",
       "    <tr>\n",
       "      <th>2</th>\n",
       "      <td>A001170867ZBE9FORRQL</td>\n",
       "      <td>B01FCW88D6</td>\n",
       "      <td>2016-10-16</td>\n",
       "      <td>5.0</td>\n",
       "    </tr>\n",
       "    <tr>\n",
       "      <th>3</th>\n",
       "      <td>A0028738FYF1SKPPC7B1</td>\n",
       "      <td>B00TZ8XK1E</td>\n",
       "      <td>2015-08-20</td>\n",
       "      <td>5.0</td>\n",
       "    </tr>\n",
       "    <tr>\n",
       "      <th>4</th>\n",
       "      <td>A0045356A23634W7RI4M</td>\n",
       "      <td>B018H0EJI8</td>\n",
       "      <td>2016-05-23</td>\n",
       "      <td>3.0</td>\n",
       "    </tr>\n",
       "  </tbody>\n",
       "</table>\n",
       "</div>"
      ],
      "text/plain": [
       "             reviewerID        asin       DATE  overall\n",
       "0  A0010876CNE3ILIM9HV0  B01FHDYGQ8 2016-10-12      5.0\n",
       "1  A001170867ZBE9FORRQL  B01B18T01Y 2017-02-16      5.0\n",
       "2  A001170867ZBE9FORRQL  B01FCW88D6 2016-10-16      5.0\n",
       "3  A0028738FYF1SKPPC7B1  B00TZ8XK1E 2015-08-20      5.0\n",
       "4  A0045356A23634W7RI4M  B018H0EJI8 2016-05-23      3.0"
      ]
     },
     "execution_count": 11,
     "metadata": {},
     "output_type": "execute_result"
    }
   ],
   "source": [
    "# 如果只有一筆就直接填該筆評分，如果有多筆，overall_mean填入評分平均值、overall_lastest填入最近的評分值。\n",
    "ratings_trainings_unique = ratings_trainings_tmp.groupby(['reviewerID', 'asin', 'DATE']) \\\n",
    "                    .agg(overall=('overall', np.mean)) \\\n",
    "                    .reset_index()\n",
    "ratings_trainings_unique.head()"
   ]
  },
  {
   "cell_type": "code",
   "execution_count": 12,
   "metadata": {},
   "outputs": [
    {
     "data": {
      "text/html": [
       "<div>\n",
       "<style scoped>\n",
       "    .dataframe tbody tr th:only-of-type {\n",
       "        vertical-align: middle;\n",
       "    }\n",
       "\n",
       "    .dataframe tbody tr th {\n",
       "        vertical-align: top;\n",
       "    }\n",
       "\n",
       "    .dataframe thead th {\n",
       "        text-align: right;\n",
       "    }\n",
       "</style>\n",
       "<table border=\"1\" class=\"dataframe\">\n",
       "  <thead>\n",
       "    <tr style=\"text-align: right;\">\n",
       "      <th></th>\n",
       "      <th>asin</th>\n",
       "      <th>rating_count</th>\n",
       "      <th>mean_score</th>\n",
       "    </tr>\n",
       "  </thead>\n",
       "  <tbody>\n",
       "    <tr>\n",
       "      <th>939</th>\n",
       "      <td>B000FOI48G</td>\n",
       "      <td>8667</td>\n",
       "      <td>4.394369</td>\n",
       "    </tr>\n",
       "    <tr>\n",
       "      <th>1059</th>\n",
       "      <td>B000GLRREU</td>\n",
       "      <td>8341</td>\n",
       "      <td>4.405107</td>\n",
       "    </tr>\n",
       "    <tr>\n",
       "      <th>59</th>\n",
       "      <td>1620213982</td>\n",
       "      <td>4792</td>\n",
       "      <td>4.798414</td>\n",
       "    </tr>\n",
       "    <tr>\n",
       "      <th>3301</th>\n",
       "      <td>B001QY8QXM</td>\n",
       "      <td>4542</td>\n",
       "      <td>4.555923</td>\n",
       "    </tr>\n",
       "    <tr>\n",
       "      <th>29552</th>\n",
       "      <td>B01DKQAXC0</td>\n",
       "      <td>4196</td>\n",
       "      <td>4.212107</td>\n",
       "    </tr>\n",
       "  </tbody>\n",
       "</table>\n",
       "</div>"
      ],
      "text/plain": [
       "             asin  rating_count  mean_score\n",
       "939    B000FOI48G          8667    4.394369\n",
       "1059   B000GLRREU          8341    4.405107\n",
       "59     1620213982          4792    4.798414\n",
       "3301   B001QY8QXM          4542    4.555923\n",
       "29552  B01DKQAXC0          4196    4.212107"
      ]
     },
     "execution_count": 12,
     "metadata": {},
     "output_type": "execute_result"
    }
   ],
   "source": [
    "ratings_trainings_item = ratings_trainings_unique.groupby('asin') \\\n",
    "       .agg({'reviewerID':'size', 'overall':'mean'}) \\\n",
    "       .rename(columns={'reviewerID':'rating_count','overall':'mean_score'}) \\\n",
    "       .reset_index().sort_values('rating_count', ascending=False)\n",
    "ratings_trainings_item.head()"
   ]
  },
  {
   "cell_type": "code",
   "execution_count": 13,
   "metadata": {},
   "outputs": [],
   "source": [
    "ratings_trainings_item = ratings_trainings_item[ratings_trainings_item['rating_count'] > 1]"
   ]
  },
  {
   "cell_type": "markdown",
   "metadata": {},
   "source": [
    "### 商品資料集"
   ]
  },
  {
   "cell_type": "markdown",
   "metadata": {},
   "source": [
    "根據上份作業的資料探索，將多餘欄位剔除，新增有意義欄位(商品評論數、平均評分、季節性等)。主要是想用於找不到相似用戶時的推薦設計使用。"
   ]
  },
  {
   "cell_type": "markdown",
   "metadata": {},
   "source": [
    "在此的ratings_trainings都不剔除重複評分，視其各自為獨立購買紀錄，皆列入分析計算。"
   ]
  },
  {
   "cell_type": "code",
   "execution_count": 14,
   "metadata": {},
   "outputs": [],
   "source": [
    "# 剔除有問題的資料\n",
    "metadata_tmp = metadata_tmp.drop(metadata[metadata['title'] == ''].index).reset_index(drop=True)"
   ]
  },
  {
   "cell_type": "code",
   "execution_count": 15,
   "metadata": {},
   "outputs": [],
   "source": [
    "# 剔除評分數小於等於1的商品\n",
    "metadata_tmp = metadata_tmp[metadata_tmp['asin'].isin(ratings_trainings_item['asin'].unique())]"
   ]
  },
  {
   "cell_type": "code",
   "execution_count": 16,
   "metadata": {},
   "outputs": [
    {
     "data": {
      "text/plain": [
       "18741"
      ]
     },
     "execution_count": 16,
     "metadata": {},
     "output_type": "execute_result"
    }
   ],
   "source": [
    "metadata_tmp['asin'].count()"
   ]
  },
  {
   "cell_type": "markdown",
   "metadata": {},
   "source": [
    "#### 剔除多餘欄位"
   ]
  },
  {
   "cell_type": "code",
   "execution_count": 17,
   "metadata": {},
   "outputs": [],
   "source": [
    "metadata_tmp = metadata_tmp.drop(['category', 'tech1', 'fit', 'tech2', 'feature', 'date', 'imageURLHighRes', 'main_cat', 'details'], axis=1)"
   ]
  },
  {
   "cell_type": "markdown",
   "metadata": {},
   "source": [
    "##### `rank`: 內含有商品類別和其商品於該類別排名，將其拆成`RANK`、`CATEGORY`兩欄位。"
   ]
  },
  {
   "cell_type": "code",
   "execution_count": 18,
   "metadata": {},
   "outputs": [
    {
     "data": {
      "text/plain": [
       "Beauty & Personal Care       18574\n",
       "Grocery & Gourmet Food          25\n",
       "Health & Household              11\n",
       "Sports & Outdoors                3\n",
       "Clothing, Shoes & Jewelry        2\n",
       "Automotive                       1\n",
       "Toys & Games                     1\n",
       "Tools & Home Improvement         1\n",
       "Name: CATEGORY, dtype: int64"
      ]
     },
     "execution_count": 18,
     "metadata": {},
     "output_type": "execute_result"
    }
   ],
   "source": [
    "metadata_tmp[['RANK', 'CATEGORY']] = metadata_tmp['rank'].str.split(' in ', 1, expand=True)\n",
    "metadata_tmp['CATEGORY'] = metadata_tmp['CATEGORY'].str.replace(' \\(', '')\n",
    "metadata_tmp['CATEGORY'] = metadata_tmp['CATEGORY'].str.replace('\\&amp;', '&')\n",
    "metadata_tmp['CATEGORY'].value_counts()"
   ]
  },
  {
   "cell_type": "code",
   "execution_count": 19,
   "metadata": {},
   "outputs": [],
   "source": [
    "metadata_tmp = metadata_tmp.drop(['rank'], axis=1)"
   ]
  },
  {
   "cell_type": "markdown",
   "metadata": {},
   "source": [
    "##### `similar_item`: 將其資料html表格轉為asin列表，與`also_buy`、`also_view`合併成`SIMILAR_ITEM`欄位。"
   ]
  },
  {
   "cell_type": "code",
   "execution_count": 20,
   "metadata": {},
   "outputs": [],
   "source": [
    "from bs4 import BeautifulSoup\n",
    "metadata['asin'] = metadata['asin'].astype(str)\n",
    "\n",
    "def convert_similar_table_to_asin_list(html):\n",
    "#     if (html == ''): return []\n",
    "    asin_list = []\n",
    "    \n",
    "    soup = BeautifulSoup(html)\n",
    "    \n",
    "    compare_list = soup.findAll('th', {'class': 'comparison_image_title_cell'})\n",
    "    for item in compare_list:\n",
    "        title = item.span.text.strip()\n",
    "        if (len(metadata[metadata['title'] == title]) > 0):\n",
    "            asin = metadata[metadata['title'] == title]['asin'].iloc[0]\n",
    "#             if (not any(asin.str in s for s in asin_list)):  # 去除重複\n",
    "            asin_list.append(asin)\n",
    "    \n",
    "    return asin_list"
   ]
  },
  {
   "cell_type": "code",
   "execution_count": 21,
   "metadata": {},
   "outputs": [],
   "source": [
    "metadata_tmp['SIMILAR_ITEM'] = metadata_tmp['similar_item'].apply(lambda x: convert_similar_table_to_asin_list(x) if x != ''  else x)"
   ]
  },
  {
   "cell_type": "code",
   "execution_count": 22,
   "metadata": {},
   "outputs": [],
   "source": [
    "metadata_tmp['SIMILAR'] = [set(list(x)+y+z) for x, y, z in zip(metadata_tmp.SIMILAR_ITEM, metadata_tmp.also_view, metadata_tmp.also_buy)]"
   ]
  },
  {
   "cell_type": "code",
   "execution_count": 23,
   "metadata": {},
   "outputs": [],
   "source": [
    "metadata_tmp = metadata_tmp.drop(['SIMILAR_ITEM', 'similar_item', 'also_view', 'also_buy'], axis=1)"
   ]
  },
  {
   "cell_type": "code",
   "execution_count": 24,
   "metadata": {},
   "outputs": [
    {
     "name": "stdout",
     "output_type": "stream",
     "text": [
      "<class 'pandas.core.frame.DataFrame'>\n",
      "Int64Index: 18741 entries, 0 to 32082\n",
      "Data columns (total 9 columns):\n",
      " #   Column       Non-Null Count  Dtype \n",
      "---  ------       --------------  ----- \n",
      " 0   description  18741 non-null  object\n",
      " 1   title        18741 non-null  object\n",
      " 2   brand        18741 non-null  object\n",
      " 3   price        18741 non-null  object\n",
      " 4   asin         18741 non-null  object\n",
      " 5   imageURL     18741 non-null  object\n",
      " 6   RANK         18618 non-null  object\n",
      " 7   CATEGORY     18618 non-null  object\n",
      " 8   SIMILAR      18741 non-null  object\n",
      "dtypes: object(9)\n",
      "memory usage: 1.4+ MB\n"
     ]
    }
   ],
   "source": [
    "metadata_tmp.info()"
   ]
  },
  {
   "cell_type": "markdown",
   "metadata": {},
   "source": [
    "#### 加入評分\n",
    "(同用戶對同商品不同時間或不同評分，做為獨立評分(未合併)，分別計入)"
   ]
  },
  {
   "cell_type": "code",
   "execution_count": 25,
   "metadata": {},
   "outputs": [],
   "source": [
    "rating_mean = ratings_trainings_tmp.groupby('asin')['overall'].mean().round(2).reset_index(name='RATE')\n",
    "rating_count = pd.DataFrame(ratings_trainings_tmp.asin.value_counts())\n",
    "rating_count.reset_index(inplace=True)\n",
    "rating_count.columns = ['asin', 'RATE(COUNT)']\n",
    "# merge\n",
    "rating_data = rating_mean.merge(rating_count, on='asin')\n",
    "metadata_tmp = pd.merge(rating_data, metadata_tmp, left_on=\"asin\", right_on=\"asin\", how='right')"
   ]
  },
  {
   "cell_type": "code",
   "execution_count": 26,
   "metadata": {},
   "outputs": [],
   "source": [
    "metadata_tmp.fillna({'RATE(COUNT)':0}, inplace=True)"
   ]
  },
  {
   "cell_type": "code",
   "execution_count": 27,
   "metadata": {},
   "outputs": [],
   "source": [
    "# clear not-used DataFrame\n",
    "del rating_data"
   ]
  },
  {
   "cell_type": "markdown",
   "metadata": {},
   "source": [
    "#### 加入季節性\n",
    "(`None`: 代表商品無季節性)"
   ]
  },
  {
   "cell_type": "code",
   "execution_count": 28,
   "metadata": {},
   "outputs": [
    {
     "data": {
      "text/html": [
       "<div>\n",
       "<style scoped>\n",
       "    .dataframe tbody tr th:only-of-type {\n",
       "        vertical-align: middle;\n",
       "    }\n",
       "\n",
       "    .dataframe tbody tr th {\n",
       "        vertical-align: top;\n",
       "    }\n",
       "\n",
       "    .dataframe thead th {\n",
       "        text-align: right;\n",
       "    }\n",
       "</style>\n",
       "<table border=\"1\" class=\"dataframe\">\n",
       "  <thead>\n",
       "    <tr style=\"text-align: right;\">\n",
       "      <th></th>\n",
       "      <th>asin</th>\n",
       "      <th>reviewerID</th>\n",
       "      <th>overall</th>\n",
       "      <th>DATE</th>\n",
       "      <th>SEASON</th>\n",
       "    </tr>\n",
       "  </thead>\n",
       "  <tbody>\n",
       "    <tr>\n",
       "      <th>0</th>\n",
       "      <td>0143026860</td>\n",
       "      <td>A1V6B6TNIC10QE</td>\n",
       "      <td>1.0</td>\n",
       "      <td>2015-02-19</td>\n",
       "      <td>Winter</td>\n",
       "    </tr>\n",
       "    <tr>\n",
       "      <th>1</th>\n",
       "      <td>0143026860</td>\n",
       "      <td>A2F5GHSXFQ0W6J</td>\n",
       "      <td>4.0</td>\n",
       "      <td>2014-12-18</td>\n",
       "      <td>Winter</td>\n",
       "    </tr>\n",
       "    <tr>\n",
       "      <th>2</th>\n",
       "      <td>0143026860</td>\n",
       "      <td>A1572GUYS7DGSR</td>\n",
       "      <td>4.0</td>\n",
       "      <td>2014-08-10</td>\n",
       "      <td>Summer</td>\n",
       "    </tr>\n",
       "    <tr>\n",
       "      <th>3</th>\n",
       "      <td>0143026860</td>\n",
       "      <td>A1PSGLFK1NSVO</td>\n",
       "      <td>5.0</td>\n",
       "      <td>2013-03-11</td>\n",
       "      <td>Spring</td>\n",
       "    </tr>\n",
       "    <tr>\n",
       "      <th>4</th>\n",
       "      <td>0143026860</td>\n",
       "      <td>A6IKXKZMTKGSC</td>\n",
       "      <td>5.0</td>\n",
       "      <td>2011-12-25</td>\n",
       "      <td>Winter</td>\n",
       "    </tr>\n",
       "  </tbody>\n",
       "</table>\n",
       "</div>"
      ],
      "text/plain": [
       "         asin      reviewerID  overall       DATE  SEASON\n",
       "0  0143026860  A1V6B6TNIC10QE      1.0 2015-02-19  Winter\n",
       "1  0143026860  A2F5GHSXFQ0W6J      4.0 2014-12-18  Winter\n",
       "2  0143026860  A1572GUYS7DGSR      4.0 2014-08-10  Summer\n",
       "3  0143026860   A1PSGLFK1NSVO      5.0 2013-03-11  Spring\n",
       "4  0143026860   A6IKXKZMTKGSC      5.0 2011-12-25  Winter"
      ]
     },
     "execution_count": 28,
     "metadata": {},
     "output_type": "execute_result"
    }
   ],
   "source": [
    "def MonthToSeason(x):   \n",
    "    global season\n",
    "    if x == 3 or x == 4 or x == 5:\n",
    "         season = \"Spring\"\n",
    "    elif x == 6 or x == 7 or x == 8:\n",
    "         season = \"Summer\"\n",
    "    elif x == 9 or x == 10 or x == 11:\n",
    "         season = \"Autumn\"\n",
    "    elif x == 12 or x == 1 or x == 2:\n",
    "         season = \"Winter\"\n",
    "    else:\n",
    "         season = np.nan \n",
    "    return season\n",
    "\n",
    "tmp_data = ratings_trainings_tmp.drop('unixReviewTime', axis=1)\n",
    "tmp_data['SEASON'] = tmp_data['DATE'].dt.month.apply(lambda x : MonthToSeason(x))\n",
    "tmp_data.head()"
   ]
  },
  {
   "cell_type": "code",
   "execution_count": 29,
   "metadata": {},
   "outputs": [],
   "source": [
    "tmp_data = tmp_data.groupby(['SEASON', 'asin']).size().reset_index(name='count')\n",
    "\n",
    "tmp_data = tmp_data.pivot(index='asin', columns='SEASON',values='count').reset_index()\n",
    "tmp_data.fillna(0.0, inplace=True)\n",
    "tmp_data.set_index(\"asin\" , inplace=True)"
   ]
  },
  {
   "cell_type": "code",
   "execution_count": 30,
   "metadata": {},
   "outputs": [],
   "source": [
    "tmp_data['sum'] = tmp_data[['Autumn', 'Spring', 'Summer', 'Winter']].sum(axis=1).astype(int)\n",
    "\n",
    "sum_threshold = 60\n",
    "tmp_data = tmp_data[tmp_data['sum'] > sum_threshold]  # 希望至少有一定的銷售紀錄(評分紀錄)才做判別\n",
    "\n",
    "tmp_data['mean'] = tmp_data[['Autumn', 'Spring', 'Summer', 'Winter']].mean(axis=1).round(2).astype(float)\n",
    "tmp_data['std'] = tmp_data[['Autumn', 'Spring', 'Summer', 'Winter']].std(axis=1).round(3).astype(float)\n",
    "tmp_data['fstd'] = tmp_data['std'] / tmp_data['mean']  # fixed std"
   ]
  },
  {
   "cell_type": "code",
   "execution_count": 31,
   "metadata": {},
   "outputs": [
    {
     "name": "stdout",
     "output_type": "stream",
     "text": [
      "以最低至少60的銷售紀錄為門檻時，得到的季節性商品占全部商品的約2%。\n",
      "\n",
      "SEASON      Autumn  Spring  Summer  Winter  sum   mean      std      fstd\n",
      "asin                                                                     \n",
      "B000I6AZHE     1.0   161.0     1.0     1.0  164  41.00   80.000  1.951220\n",
      "B00182JYSS    32.0     7.0   133.0    18.0  190  47.50   57.911  1.219179\n",
      "B002GP80EU    93.0     4.0    10.0    13.0  120  30.00   42.166  1.405533\n",
      "B002OXSKF8     2.0     0.0     1.0   104.0  107  26.75   51.506  1.925458\n",
      "B00D8FUHFC    28.0     9.0   208.0    21.0  266  66.50   94.659  1.423444\n",
      "B00KGKQR2Y     7.0    63.0    16.0    10.0   96  24.00   26.268  1.094500\n",
      "B00RCNHRQ8    12.0    30.0    12.0    87.0  141  35.25   35.528  1.007887\n",
      "B00U0PABWW     8.0    10.0    58.0     7.0   83  20.75   24.865  1.198313\n",
      "B0189CM3U0     0.0    33.0     9.0   260.0  302  75.50  123.786  1.639550\n",
      "B019FOXB70    10.0    84.0     7.0   293.0  394  98.50  134.468  1.365157\n",
      "B01AUOTSVW     7.0    63.0    22.0     7.0   99  24.75   26.462  1.069172\n",
      "B01B54XW54    24.0   260.0    72.0    15.0  371  92.75  114.273  1.232054\n",
      "B01B5GTUM6     6.0    94.0    12.0    14.0  126  31.50   41.805  1.327143\n",
      "B01BEWYRJ2    42.0     2.0     6.0    12.0   62  15.50   18.138  1.170194\n",
      "B01CJNZKZK    17.0     6.0    96.0    10.0  129  32.25   42.742  1.325333\n",
      "B01E0DO7GU    13.0    33.0    96.0     5.0  147  36.75   41.218  1.121578\n",
      "B01F0QLD3G     8.0     8.0    48.0     5.0   69  17.25   20.549  1.191246\n",
      "B01FLJROJ4     8.0    37.0    16.0   135.0  196  49.00   58.623  1.196388\n"
     ]
    }
   ],
   "source": [
    "# 使用fstd篩選\n",
    "season_tmp_data = tmp_data[tmp_data['fstd'] > 1]\n",
    "print('以最低至少{0}的銷售紀錄為門檻時，得到的季節性商品占全部商品的約{1}%。\\n'.format(sum_threshold, round(len(season_tmp_data) / len(tmp_data) * 100)))\n",
    "print(season_tmp_data)"
   ]
  },
  {
   "cell_type": "code",
   "execution_count": 32,
   "metadata": {},
   "outputs": [
    {
     "data": {
      "text/html": [
       "<div>\n",
       "<style scoped>\n",
       "    .dataframe tbody tr th:only-of-type {\n",
       "        vertical-align: middle;\n",
       "    }\n",
       "\n",
       "    .dataframe tbody tr th {\n",
       "        vertical-align: top;\n",
       "    }\n",
       "\n",
       "    .dataframe thead th {\n",
       "        text-align: right;\n",
       "    }\n",
       "</style>\n",
       "<table border=\"1\" class=\"dataframe\">\n",
       "  <thead>\n",
       "    <tr style=\"text-align: right;\">\n",
       "      <th></th>\n",
       "      <th>asin</th>\n",
       "      <th>SEASON</th>\n",
       "    </tr>\n",
       "  </thead>\n",
       "  <tbody>\n",
       "    <tr>\n",
       "      <th>0</th>\n",
       "      <td>B000I6AZHE</td>\n",
       "      <td>Spring</td>\n",
       "    </tr>\n",
       "    <tr>\n",
       "      <th>1</th>\n",
       "      <td>B00182JYSS</td>\n",
       "      <td>Summer</td>\n",
       "    </tr>\n",
       "    <tr>\n",
       "      <th>2</th>\n",
       "      <td>B002GP80EU</td>\n",
       "      <td>Autumn</td>\n",
       "    </tr>\n",
       "    <tr>\n",
       "      <th>3</th>\n",
       "      <td>B002OXSKF8</td>\n",
       "      <td>Winter</td>\n",
       "    </tr>\n",
       "    <tr>\n",
       "      <th>4</th>\n",
       "      <td>B00D8FUHFC</td>\n",
       "      <td>Summer</td>\n",
       "    </tr>\n",
       "    <tr>\n",
       "      <th>5</th>\n",
       "      <td>B00KGKQR2Y</td>\n",
       "      <td>Spring</td>\n",
       "    </tr>\n",
       "    <tr>\n",
       "      <th>6</th>\n",
       "      <td>B00RCNHRQ8</td>\n",
       "      <td>Winter</td>\n",
       "    </tr>\n",
       "    <tr>\n",
       "      <th>7</th>\n",
       "      <td>B00U0PABWW</td>\n",
       "      <td>Summer</td>\n",
       "    </tr>\n",
       "    <tr>\n",
       "      <th>8</th>\n",
       "      <td>B0189CM3U0</td>\n",
       "      <td>Winter</td>\n",
       "    </tr>\n",
       "    <tr>\n",
       "      <th>9</th>\n",
       "      <td>B019FOXB70</td>\n",
       "      <td>Winter</td>\n",
       "    </tr>\n",
       "    <tr>\n",
       "      <th>10</th>\n",
       "      <td>B01AUOTSVW</td>\n",
       "      <td>Spring</td>\n",
       "    </tr>\n",
       "    <tr>\n",
       "      <th>11</th>\n",
       "      <td>B01B54XW54</td>\n",
       "      <td>Spring</td>\n",
       "    </tr>\n",
       "    <tr>\n",
       "      <th>12</th>\n",
       "      <td>B01B5GTUM6</td>\n",
       "      <td>Spring</td>\n",
       "    </tr>\n",
       "    <tr>\n",
       "      <th>13</th>\n",
       "      <td>B01BEWYRJ2</td>\n",
       "      <td>Autumn</td>\n",
       "    </tr>\n",
       "    <tr>\n",
       "      <th>14</th>\n",
       "      <td>B01CJNZKZK</td>\n",
       "      <td>Summer</td>\n",
       "    </tr>\n",
       "    <tr>\n",
       "      <th>15</th>\n",
       "      <td>B01E0DO7GU</td>\n",
       "      <td>Summer</td>\n",
       "    </tr>\n",
       "    <tr>\n",
       "      <th>16</th>\n",
       "      <td>B01F0QLD3G</td>\n",
       "      <td>Summer</td>\n",
       "    </tr>\n",
       "    <tr>\n",
       "      <th>17</th>\n",
       "      <td>B01FLJROJ4</td>\n",
       "      <td>Winter</td>\n",
       "    </tr>\n",
       "  </tbody>\n",
       "</table>\n",
       "</div>"
      ],
      "text/plain": [
       "          asin  SEASON\n",
       "0   B000I6AZHE  Spring\n",
       "1   B00182JYSS  Summer\n",
       "2   B002GP80EU  Autumn\n",
       "3   B002OXSKF8  Winter\n",
       "4   B00D8FUHFC  Summer\n",
       "5   B00KGKQR2Y  Spring\n",
       "6   B00RCNHRQ8  Winter\n",
       "7   B00U0PABWW  Summer\n",
       "8   B0189CM3U0  Winter\n",
       "9   B019FOXB70  Winter\n",
       "10  B01AUOTSVW  Spring\n",
       "11  B01B54XW54  Spring\n",
       "12  B01B5GTUM6  Spring\n",
       "13  B01BEWYRJ2  Autumn\n",
       "14  B01CJNZKZK  Summer\n",
       "15  B01E0DO7GU  Summer\n",
       "16  B01F0QLD3G  Summer\n",
       "17  B01FLJROJ4  Winter"
      ]
     },
     "execution_count": 32,
     "metadata": {},
     "output_type": "execute_result"
    }
   ],
   "source": [
    "season_data = season_tmp_data.drop(['sum', 'mean', 'std', 'fstd'], axis=1)\n",
    "season_data = season_data.idxmax(axis=1).reset_index(name='SEASON')\n",
    "season_data"
   ]
  },
  {
   "cell_type": "code",
   "execution_count": 33,
   "metadata": {},
   "outputs": [],
   "source": [
    "metadata_tmp = pd.merge(season_data, metadata_tmp, left_on=\"asin\", right_on=\"asin\", how='right')\n",
    "metadata_tmp['SEASON'].fillna('None', inplace=True)"
   ]
  },
  {
   "cell_type": "code",
   "execution_count": 34,
   "metadata": {},
   "outputs": [],
   "source": [
    "# clear not-used DataFrame\n",
    "del tmp_data\n",
    "del season_data"
   ]
  },
  {
   "cell_type": "markdown",
   "metadata": {},
   "source": [
    "---"
   ]
  },
  {
   "cell_type": "markdown",
   "metadata": {},
   "source": [
    "## 若沒有相似商品的替代推薦"
   ]
  },
  {
   "cell_type": "markdown",
   "metadata": {},
   "source": [
    "### 近一個月熱銷\n",
    "由`A6_cf-user-based.ipynb`作業發現，近一個月熱銷比其他最近熱銷、長期熱銷更好，故在這熱銷只選擇這種方式。"
   ]
  },
  {
   "cell_type": "code",
   "execution_count": 35,
   "metadata": {},
   "outputs": [],
   "source": [
    "def get_recent_topN(k=10):\n",
    "    recent_training_data = ratings_trainings[(ratings_trainings['DATE'] >= '2018-08-01') \\\n",
    "                                  & (ratings_trainings['DATE'] < '2018-09-01')]\n",
    "    \n",
    "    recent_top = recent_training_data.groupby('asin') \\\n",
    "           .agg({'asin':'size', 'overall':'mean'}) \\\n",
    "           .rename(columns={'asin':'sold_count','overall':'mean_score'}) \\\n",
    "           .reset_index().sort_values('sold_count', ascending=False) \\\n",
    "           .head(k).asin.reset_index(drop=True).to_list()\n",
    "    \n",
    "    return recent_top"
   ]
  },
  {
   "cell_type": "markdown",
   "metadata": {},
   "source": [
    "---"
   ]
  },
  {
   "cell_type": "markdown",
   "metadata": {},
   "source": [
    "## 產生推薦"
   ]
  },
  {
   "cell_type": "code",
   "execution_count": 36,
   "metadata": {},
   "outputs": [],
   "source": [
    "def recomend_item_sort(user, recommended_items, k=10):\n",
    "    # 儲存原本list順序\n",
    "    recommended_dict = dict()\n",
    "    for idx in range(len(recommended_items)):\n",
    "        if recommended_items[idx] not in recommended_dict:\n",
    "            recommended_dict[recommended_items[idx]] = idx\n",
    "#     recommended_dict = {k: v for v, k in enumerate(recommended_items) if k not in recommended_dict}\n",
    "    \n",
    "    for item in recommended_items:\n",
    "        if ((metadata_tmp['asin'].str.contains(item).any()) & (item in recommended_dict)):\n",
    "            item_info = metadata_tmp[metadata_tmp['asin'] == item]\n",
    "            # 剔除除分數過低的\n",
    "            if (item_info['RATE'].values[0] < 3):\n",
    "#                 recommended_items.remove(item)\n",
    "                del recommended_dict[item]\n",
    "            # 剔除非當季商品\n",
    "            elif ((item_info['SEASON'].values[0] != 'None') or (item_info['SEASON'].values[0] == 'Autumn') or (item_info['SEASON'].values[0] == 'Winter')):\n",
    "#                 recommended_items.remove(item)\n",
    "                del recommended_dict[item]\n",
    "            # TODO: 剔除近兩年未銷售出去過的商品\n",
    "        \n",
    "    \n",
    "#     # 剔除重複商品\n",
    "#     recommended_items = list(set(recommended_items))\n",
    "    \n",
    "#     # 依照RATE(COUNT)排序\n",
    "# #     print(metadata_tmp[metadata_tmp['asin'].isin(recommended_items)].sort_values('RATE', ascending=False) \\\n",
    "# #                                .head(k))\n",
    "#     recommended_list = metadata_tmp[metadata_tmp['asin'].isin(recommended_items)].sort_values('RATE', ascending=False) \\\n",
    "#                                .head(k).asin.reset_index(drop=True).to_list()\n",
    "    # 依照舊有list順序排序\n",
    "    # TODO: 考慮[每個用戶相似度x商品評論數]，才接著非來自相似用戶的推薦\n",
    "    recommended_list = [key for (key, value) in sorted(recommended_dict.items(), key=lambda x: x[1])]\n",
    "    \n",
    "    return recommended_list"
   ]
  },
  {
   "cell_type": "code",
   "execution_count": 37,
   "metadata": {},
   "outputs": [],
   "source": [
    "import time\n",
    "import pandas as pd\n",
    "from surprise import Reader\n",
    "from surprise import Dataset\n",
    "from surprise import KNNBasic"
   ]
  },
  {
   "cell_type": "code",
   "execution_count": 38,
   "metadata": {},
   "outputs": [],
   "source": [
    "def recommender(training_data, users=[], k=10, user_based=False, algo=KNNBasic, is_sorted=True):\n",
    "\n",
    "    training_data = (\n",
    "        training_data\n",
    "        .sort_values(\"DATE\", ascending=False)\n",
    "        .groupby(['reviewerID', 'asin']).head(1)\n",
    "    )\n",
    "\n",
    "    reader = Reader(rating_scale=(0, 5))\n",
    "    training_data = training_data[['reviewerID', 'asin', 'overall']]\n",
    "    data = Dataset.load_from_df(training_data, reader=reader)\n",
    "\n",
    "    sim_options = {\n",
    "        'name': 'cosine',\n",
    "        'user_based': user_based  # compute similarities between items\n",
    "    }\n",
    "    algo_impl = algo(sim_options=sim_options)\n",
    "    trainset = data.build_full_trainset()\n",
    "    algo_impl.fit(trainset)\n",
    "\n",
    "    recommendation = {}\n",
    "    \n",
    "    # 如果要排序就先找出兩倍k的資料\n",
    "    n = 2*k if is_sorted else k\n",
    "    \n",
    "    for user in users:\n",
    "        items_user_rated = set(training_data.loc[training_data['reviewerID'] == user]['asin'].to_list())\n",
    "        recommend_item_list = []\n",
    "        recommend_item_set = set()\n",
    "        for item in items_user_rated:\n",
    "            iid = algo_impl.trainset.to_inner_iid(item)\n",
    "            recommend_items_iid = algo_impl.get_neighbors(iid, n)\n",
    "            for sim_item_iid in recommend_items_iid:\n",
    "                item_raw_id = algo_impl.trainset.to_raw_iid(sim_item_iid)\n",
    "                if item_raw_id not in items_user_rated and item_raw_id not in recommend_item_set:\n",
    "                    recommend_item_list.append(item_raw_id)\n",
    "                    recommend_item_set.add(item_raw_id)\n",
    "\n",
    "            if len(recommend_item_list) >= n:\n",
    "                recommend_item_list = recommend_item_list[:n]\n",
    "                break\n",
    "                \n",
    "        if len(recommend_item_list) < n:\n",
    "            recommend_item_list = recommend_item_list + get_recent_topN(n-len(recommend_item_list))\n",
    "            \n",
    "        recommendation[user] = recomend_item_sort(user, recommend_item_list, k) if is_sorted else recommend_item_list\n",
    "\n",
    "    return recommendation"
   ]
  },
  {
   "cell_type": "markdown",
   "metadata": {},
   "source": [
    "---"
   ]
  },
  {
   "cell_type": "markdown",
   "metadata": {},
   "source": [
    "## 結果評估"
   ]
  },
  {
   "cell_type": "code",
   "execution_count": 39,
   "metadata": {},
   "outputs": [],
   "source": [
    "def evaluate(ratings_testings_by_user={}, ratings_by_user={}, method=None):\n",
    "    '''\n",
    "    * ratings_testings_by_user: dict 真實被購買的商品資料（2018-09-01 以後資料）\n",
    "    * ratings_by_user: dict 利用訓練資料學習的推薦商品\n",
    "    * method: str\n",
    "    * score: float\n",
    "    '''\n",
    "    total = 0\n",
    "    for d in ratings_testings_by_user:\n",
    "        if d in ratings_by_user:\n",
    "            total += len(set(ratings_by_user[d]) & set(ratings_testings_by_user[d]))\n",
    "\n",
    "    score = total / len(ratings_testings)\n",
    "    return score"
   ]
  },
  {
   "cell_type": "markdown",
   "metadata": {},
   "source": [
    "### 方案1：item-based (KNNBasic)"
   ]
  },
  {
   "cell_type": "code",
   "execution_count": 44,
   "metadata": {},
   "outputs": [
    {
     "name": "stdout",
     "output_type": "stream",
     "text": [
      "Computing the cosine similarity matrix...\n",
      "Done computing similarity matrix.\n",
      "top10 Recall： 0.16440677966101694\n",
      "Computing the cosine similarity matrix...\n",
      "Done computing similarity matrix.\n",
      "top20 Recall： 0.16440677966101694\n"
     ]
    }
   ],
   "source": [
    "for k in [10, 20]:\n",
    "    ratings_by_user = recommender(ratings_trainings_unique, users)\n",
    "    print(f'top{k} Recall： {evaluate(ratings_testings_by_user, ratings_by_user)}')"
   ]
  },
  {
   "cell_type": "markdown",
   "metadata": {},
   "source": [
    "### 方案2：item-based (KNNWithMeans)"
   ]
  },
  {
   "cell_type": "code",
   "execution_count": 43,
   "metadata": {
    "scrolled": false
   },
   "outputs": [
    {
     "name": "stdout",
     "output_type": "stream",
     "text": [
      "Computing the cosine similarity matrix...\n",
      "Done computing similarity matrix.\n",
      "top10 Recall： 0.16440677966101694\n",
      "Computing the cosine similarity matrix...\n",
      "Done computing similarity matrix.\n",
      "top20 Recall： 0.16440677966101694\n"
     ]
    }
   ],
   "source": [
    "from surprise import KNNWithMeans\n",
    "for k in [10, 20]:\n",
    "    ratings_by_user = recommender(ratings_trainings_unique, users, algo=KNNWithMeans)\n",
    "    print(f'top{k} Recall： {evaluate(ratings_testings_by_user, ratings_by_user)}')"
   ]
  }
 ],
 "metadata": {
  "kernelspec": {
   "display_name": "Python 3",
   "language": "python",
   "name": "python3"
  },
  "language_info": {
   "codemirror_mode": {
    "name": "ipython",
    "version": 3
   },
   "file_extension": ".py",
   "mimetype": "text/x-python",
   "name": "python",
   "nbconvert_exporter": "python",
   "pygments_lexer": "ipython3",
   "version": "3.7.1"
  }
 },
 "nbformat": 4,
 "nbformat_minor": 5
}

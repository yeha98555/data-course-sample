{
  "cells": [
    {
      "cell_type": "markdown",
      "metadata": {
        "id": "view-in-github",
        "colab_type": "text"
      },
      "source": [
        "<a href=\"https://colab.research.google.com/github/yeha98555/data-course-sample/blob/main/S5/A6_cf-item-based.ipynb\" target=\"_parent\"><img src=\"https://colab.research.google.com/assets/colab-badge.svg\" alt=\"Open In Colab\"/></a>"
      ]
    },
    {
      "cell_type": "markdown",
      "source": [
        "# Item-based collaborative filtering"
      ],
      "metadata": {
        "id": "q8dERN-c6rd3"
      },
      "id": "q8dERN-c6rd3"
    },
    {
      "cell_type": "markdown",
      "source": [
        "## 基礎建設"
      ],
      "metadata": {
        "id": "kawSkfL16rd-"
      },
      "id": "kawSkfL16rd-"
    },
    {
      "cell_type": "code",
      "execution_count": 8,
      "source": [
        "import pandas as pd\n",
        "import gzip, json\n",
        "\n",
        "def parse(path):\n",
        "    g = gzip.open(path, 'rb')\n",
        "    for l in g:\n",
        "        yield json.loads(l)\n",
        "\n",
        "def getDF(path):\n",
        "    i = 0\n",
        "    df = {}\n",
        "    for d in parse(path):\n",
        "        df[i] = d\n",
        "        i += 1\n",
        "    return pd.DataFrame.from_dict(df, orient='index')"
      ],
      "outputs": [],
      "metadata": {
        "scrolled": true,
        "id": "Prk6_EUJ6reA"
      },
      "id": "Prk6_EUJ6reA"
    },
    {
      "cell_type": "markdown",
      "source": [
        "## 載入資料"
      ],
      "metadata": {
        "id": "DXvpOBld6reD"
      },
      "id": "DXvpOBld6reD"
    },
    {
      "cell_type": "code",
      "execution_count": 9,
      "source": [
        "!wget http://deepyeti.ucsd.edu/jianmo/amazon/categoryFilesSmall/All_Beauty.csv\n",
        "!wget http://deepyeti.ucsd.edu/jianmo/amazon/metaFiles2/meta_All_Beauty.json.gz"
      ],
      "outputs": [
        {
          "output_type": "stream",
          "name": "stdout",
          "text": [
            "--2022-01-09 13:03:53--  http://deepyeti.ucsd.edu/jianmo/amazon/categoryFilesSmall/All_Beauty.csv\n",
            "Resolving deepyeti.ucsd.edu (deepyeti.ucsd.edu)... 169.228.63.50\n",
            "Connecting to deepyeti.ucsd.edu (deepyeti.ucsd.edu)|169.228.63.50|:80... connected.\n",
            "HTTP request sent, awaiting response... 200 OK\n",
            "Length: 15499476 (15M) [application/octet-stream]\n",
            "Saving to: ‘All_Beauty.csv.1’\n",
            "\n",
            "All_Beauty.csv.1    100%[===================>]  14.78M  10.2MB/s    in 1.5s    \n",
            "\n",
            "2022-01-09 13:03:55 (10.2 MB/s) - ‘All_Beauty.csv.1’ saved [15499476/15499476]\n",
            "\n",
            "--2022-01-09 13:03:55--  http://deepyeti.ucsd.edu/jianmo/amazon/metaFiles2/meta_All_Beauty.json.gz\n",
            "Resolving deepyeti.ucsd.edu (deepyeti.ucsd.edu)... 169.228.63.50\n",
            "Connecting to deepyeti.ucsd.edu (deepyeti.ucsd.edu)|169.228.63.50|:80... connected.\n",
            "HTTP request sent, awaiting response... 200 OK\n",
            "Length: 10329961 (9.9M) [application/octet-stream]\n",
            "Saving to: ‘meta_All_Beauty.json.gz.1’\n",
            "\n",
            "meta_All_Beauty.jso 100%[===================>]   9.85M  7.56MB/s    in 1.3s    \n",
            "\n",
            "2022-01-09 13:03:56 (7.56 MB/s) - ‘meta_All_Beauty.json.gz.1’ saved [10329961/10329961]\n",
            "\n"
          ]
        }
      ],
      "metadata": {
        "id": "fOe-c1lV6reE",
        "colab": {
          "base_uri": "https://localhost:8080/"
        },
        "outputId": "939f4edb-dfab-4b88-da85-ad4d7fceec8a"
      },
      "id": "fOe-c1lV6reE"
    },
    {
      "cell_type": "code",
      "execution_count": 10,
      "source": [
        "metadata = getDF('/content/meta_All_Beauty.json.gz')\n",
        "ratings = pd.read_csv('/content/All_Beauty.csv', names=['asin', 'reviewerID', 'overall', 'unixReviewTime'], header=None)"
      ],
      "outputs": [],
      "metadata": {
        "id": "z-P_zu2O6reF"
      },
      "id": "z-P_zu2O6reF"
    },
    {
      "cell_type": "code",
      "execution_count": 11,
      "source": [
        "metadata.head()"
      ],
      "outputs": [
        {
          "output_type": "execute_result",
          "data": {
            "text/html": [
              "\n",
              "  <div id=\"df-ff45a1e9-cd0b-408e-8393-899236f665d9\">\n",
              "    <div class=\"colab-df-container\">\n",
              "      <div>\n",
              "<style scoped>\n",
              "    .dataframe tbody tr th:only-of-type {\n",
              "        vertical-align: middle;\n",
              "    }\n",
              "\n",
              "    .dataframe tbody tr th {\n",
              "        vertical-align: top;\n",
              "    }\n",
              "\n",
              "    .dataframe thead th {\n",
              "        text-align: right;\n",
              "    }\n",
              "</style>\n",
              "<table border=\"1\" class=\"dataframe\">\n",
              "  <thead>\n",
              "    <tr style=\"text-align: right;\">\n",
              "      <th></th>\n",
              "      <th>category</th>\n",
              "      <th>tech1</th>\n",
              "      <th>description</th>\n",
              "      <th>fit</th>\n",
              "      <th>title</th>\n",
              "      <th>also_buy</th>\n",
              "      <th>tech2</th>\n",
              "      <th>brand</th>\n",
              "      <th>feature</th>\n",
              "      <th>rank</th>\n",
              "      <th>also_view</th>\n",
              "      <th>details</th>\n",
              "      <th>main_cat</th>\n",
              "      <th>similar_item</th>\n",
              "      <th>date</th>\n",
              "      <th>price</th>\n",
              "      <th>asin</th>\n",
              "      <th>imageURL</th>\n",
              "      <th>imageURLHighRes</th>\n",
              "    </tr>\n",
              "  </thead>\n",
              "  <tbody>\n",
              "    <tr>\n",
              "      <th>0</th>\n",
              "      <td>[]</td>\n",
              "      <td></td>\n",
              "      <td>[Loud 'N Clear Personal Sound Amplifier allows...</td>\n",
              "      <td></td>\n",
              "      <td>Loud 'N Clear&amp;trade; Personal Sound Amplifier</td>\n",
              "      <td>[]</td>\n",
              "      <td></td>\n",
              "      <td>idea village</td>\n",
              "      <td>[]</td>\n",
              "      <td>2,938,573 in Beauty &amp; Personal Care (</td>\n",
              "      <td>[]</td>\n",
              "      <td>{'ASIN: ': '6546546450'}</td>\n",
              "      <td>All Beauty</td>\n",
              "      <td></td>\n",
              "      <td></td>\n",
              "      <td></td>\n",
              "      <td>6546546450</td>\n",
              "      <td>[]</td>\n",
              "      <td>[]</td>\n",
              "    </tr>\n",
              "    <tr>\n",
              "      <th>1</th>\n",
              "      <td>[]</td>\n",
              "      <td></td>\n",
              "      <td>[No7 Lift &amp; Luminate Triple Action Serum 50ml ...</td>\n",
              "      <td></td>\n",
              "      <td>No7 Lift &amp;amp; Luminate Triple Action Serum 50...</td>\n",
              "      <td>[B01E7LCSL6, B008X5RVME]</td>\n",
              "      <td></td>\n",
              "      <td></td>\n",
              "      <td>[]</td>\n",
              "      <td>872,854 in Beauty &amp; Personal Care (</td>\n",
              "      <td>[]</td>\n",
              "      <td>{'Shipping Weight:': '0.3 ounces (', 'ASIN: ':...</td>\n",
              "      <td>All Beauty</td>\n",
              "      <td>class=\"a-bordered a-horizontal-stripes  a-spa...</td>\n",
              "      <td></td>\n",
              "      <td>$44.99</td>\n",
              "      <td>7178680776</td>\n",
              "      <td>[]</td>\n",
              "      <td>[]</td>\n",
              "    </tr>\n",
              "    <tr>\n",
              "      <th>2</th>\n",
              "      <td>[]</td>\n",
              "      <td></td>\n",
              "      <td>[No7 Stay Perfect Foundation now stays perfect...</td>\n",
              "      <td></td>\n",
              "      <td>No7 Stay Perfect Foundation Cool Vanilla by No7</td>\n",
              "      <td>[]</td>\n",
              "      <td></td>\n",
              "      <td>No7</td>\n",
              "      <td>[]</td>\n",
              "      <td>956,696 in Beauty &amp; Personal Care (</td>\n",
              "      <td>[B01B8BR0O8, B01B8BR0NO, B014MHXXM8]</td>\n",
              "      <td>{'Shipping Weight:': '3.5 ounces (', 'ASIN: ':...</td>\n",
              "      <td>All Beauty</td>\n",
              "      <td></td>\n",
              "      <td></td>\n",
              "      <td>$28.76</td>\n",
              "      <td>7250468162</td>\n",
              "      <td>[]</td>\n",
              "      <td>[]</td>\n",
              "    </tr>\n",
              "    <tr>\n",
              "      <th>3</th>\n",
              "      <td>[]</td>\n",
              "      <td></td>\n",
              "      <td>[]</td>\n",
              "      <td></td>\n",
              "      <td>Wella Koleston Perfect Hair Colour 44/44 Mediu...</td>\n",
              "      <td>[B0041PBXX8]</td>\n",
              "      <td></td>\n",
              "      <td></td>\n",
              "      <td>[]</td>\n",
              "      <td>1,870,258 in Beauty &amp; Personal Care (</td>\n",
              "      <td>[]</td>\n",
              "      <td>{'\n",
              "    Item Weight: \n",
              "    ': '1.76 ounces', 'Sh...</td>\n",
              "      <td>All Beauty</td>\n",
              "      <td></td>\n",
              "      <td></td>\n",
              "      <td></td>\n",
              "      <td>7367905066</td>\n",
              "      <td>[https://images-na.ssl-images-amazon.com/image...</td>\n",
              "      <td>[https://images-na.ssl-images-amazon.com/image...</td>\n",
              "    </tr>\n",
              "    <tr>\n",
              "      <th>4</th>\n",
              "      <td>[]</td>\n",
              "      <td></td>\n",
              "      <td>[Lacto Calamine Skin Balance Daily Nourishing ...</td>\n",
              "      <td></td>\n",
              "      <td>Lacto Calamine Skin Balance Oil control 120 ml...</td>\n",
              "      <td>[]</td>\n",
              "      <td></td>\n",
              "      <td>Pirmal Healthcare</td>\n",
              "      <td>[]</td>\n",
              "      <td>67,701 in Beauty &amp; Personal Care (</td>\n",
              "      <td>[3254895630, B007VL1D9S, B00EH9A0RI, B0773MBG4...</td>\n",
              "      <td>{'Shipping Weight:': '12 ounces (', 'ASIN: ': ...</td>\n",
              "      <td>All Beauty</td>\n",
              "      <td></td>\n",
              "      <td></td>\n",
              "      <td>$12.15</td>\n",
              "      <td>7414204790</td>\n",
              "      <td>[https://images-na.ssl-images-amazon.com/image...</td>\n",
              "      <td>[https://images-na.ssl-images-amazon.com/image...</td>\n",
              "    </tr>\n",
              "  </tbody>\n",
              "</table>\n",
              "</div>\n",
              "      <button class=\"colab-df-convert\" onclick=\"convertToInteractive('df-ff45a1e9-cd0b-408e-8393-899236f665d9')\"\n",
              "              title=\"Convert this dataframe to an interactive table.\"\n",
              "              style=\"display:none;\">\n",
              "        \n",
              "  <svg xmlns=\"http://www.w3.org/2000/svg\" height=\"24px\"viewBox=\"0 0 24 24\"\n",
              "       width=\"24px\">\n",
              "    <path d=\"M0 0h24v24H0V0z\" fill=\"none\"/>\n",
              "    <path d=\"M18.56 5.44l.94 2.06.94-2.06 2.06-.94-2.06-.94-.94-2.06-.94 2.06-2.06.94zm-11 1L8.5 8.5l.94-2.06 2.06-.94-2.06-.94L8.5 2.5l-.94 2.06-2.06.94zm10 10l.94 2.06.94-2.06 2.06-.94-2.06-.94-.94-2.06-.94 2.06-2.06.94z\"/><path d=\"M17.41 7.96l-1.37-1.37c-.4-.4-.92-.59-1.43-.59-.52 0-1.04.2-1.43.59L10.3 9.45l-7.72 7.72c-.78.78-.78 2.05 0 2.83L4 21.41c.39.39.9.59 1.41.59.51 0 1.02-.2 1.41-.59l7.78-7.78 2.81-2.81c.8-.78.8-2.07 0-2.86zM5.41 20L4 18.59l7.72-7.72 1.47 1.35L5.41 20z\"/>\n",
              "  </svg>\n",
              "      </button>\n",
              "      \n",
              "  <style>\n",
              "    .colab-df-container {\n",
              "      display:flex;\n",
              "      flex-wrap:wrap;\n",
              "      gap: 12px;\n",
              "    }\n",
              "\n",
              "    .colab-df-convert {\n",
              "      background-color: #E8F0FE;\n",
              "      border: none;\n",
              "      border-radius: 50%;\n",
              "      cursor: pointer;\n",
              "      display: none;\n",
              "      fill: #1967D2;\n",
              "      height: 32px;\n",
              "      padding: 0 0 0 0;\n",
              "      width: 32px;\n",
              "    }\n",
              "\n",
              "    .colab-df-convert:hover {\n",
              "      background-color: #E2EBFA;\n",
              "      box-shadow: 0px 1px 2px rgba(60, 64, 67, 0.3), 0px 1px 3px 1px rgba(60, 64, 67, 0.15);\n",
              "      fill: #174EA6;\n",
              "    }\n",
              "\n",
              "    [theme=dark] .colab-df-convert {\n",
              "      background-color: #3B4455;\n",
              "      fill: #D2E3FC;\n",
              "    }\n",
              "\n",
              "    [theme=dark] .colab-df-convert:hover {\n",
              "      background-color: #434B5C;\n",
              "      box-shadow: 0px 1px 3px 1px rgba(0, 0, 0, 0.15);\n",
              "      filter: drop-shadow(0px 1px 2px rgba(0, 0, 0, 0.3));\n",
              "      fill: #FFFFFF;\n",
              "    }\n",
              "  </style>\n",
              "\n",
              "      <script>\n",
              "        const buttonEl =\n",
              "          document.querySelector('#df-ff45a1e9-cd0b-408e-8393-899236f665d9 button.colab-df-convert');\n",
              "        buttonEl.style.display =\n",
              "          google.colab.kernel.accessAllowed ? 'block' : 'none';\n",
              "\n",
              "        async function convertToInteractive(key) {\n",
              "          const element = document.querySelector('#df-ff45a1e9-cd0b-408e-8393-899236f665d9');\n",
              "          const dataTable =\n",
              "            await google.colab.kernel.invokeFunction('convertToInteractive',\n",
              "                                                     [key], {});\n",
              "          if (!dataTable) return;\n",
              "\n",
              "          const docLinkHtml = 'Like what you see? Visit the ' +\n",
              "            '<a target=\"_blank\" href=https://colab.research.google.com/notebooks/data_table.ipynb>data table notebook</a>'\n",
              "            + ' to learn more about interactive tables.';\n",
              "          element.innerHTML = '';\n",
              "          dataTable['output_type'] = 'display_data';\n",
              "          await google.colab.output.renderOutput(dataTable, element);\n",
              "          const docLink = document.createElement('div');\n",
              "          docLink.innerHTML = docLinkHtml;\n",
              "          element.appendChild(docLink);\n",
              "        }\n",
              "      </script>\n",
              "    </div>\n",
              "  </div>\n",
              "  "
            ],
            "text/plain": [
              "  category  ...                                    imageURLHighRes\n",
              "0       []  ...                                                 []\n",
              "1       []  ...                                                 []\n",
              "2       []  ...                                                 []\n",
              "3       []  ...  [https://images-na.ssl-images-amazon.com/image...\n",
              "4       []  ...  [https://images-na.ssl-images-amazon.com/image...\n",
              "\n",
              "[5 rows x 19 columns]"
            ]
          },
          "metadata": {},
          "execution_count": 11
        }
      ],
      "metadata": {
        "id": "dt3Xf9KL6reG",
        "outputId": "e3c8f8e8-57b3-4774-a0aa-e3bdd71f5906",
        "colab": {
          "base_uri": "https://localhost:8080/",
          "height": 630
        }
      },
      "id": "dt3Xf9KL6reG"
    },
    {
      "cell_type": "code",
      "execution_count": 12,
      "source": [
        "ratings.head()"
      ],
      "outputs": [
        {
          "output_type": "execute_result",
          "data": {
            "text/html": [
              "\n",
              "  <div id=\"df-a27083a2-49fc-4d90-857f-cf39793f7f94\">\n",
              "    <div class=\"colab-df-container\">\n",
              "      <div>\n",
              "<style scoped>\n",
              "    .dataframe tbody tr th:only-of-type {\n",
              "        vertical-align: middle;\n",
              "    }\n",
              "\n",
              "    .dataframe tbody tr th {\n",
              "        vertical-align: top;\n",
              "    }\n",
              "\n",
              "    .dataframe thead th {\n",
              "        text-align: right;\n",
              "    }\n",
              "</style>\n",
              "<table border=\"1\" class=\"dataframe\">\n",
              "  <thead>\n",
              "    <tr style=\"text-align: right;\">\n",
              "      <th></th>\n",
              "      <th>asin</th>\n",
              "      <th>reviewerID</th>\n",
              "      <th>overall</th>\n",
              "      <th>unixReviewTime</th>\n",
              "    </tr>\n",
              "  </thead>\n",
              "  <tbody>\n",
              "    <tr>\n",
              "      <th>0</th>\n",
              "      <td>0143026860</td>\n",
              "      <td>A1V6B6TNIC10QE</td>\n",
              "      <td>1.0</td>\n",
              "      <td>1424304000</td>\n",
              "    </tr>\n",
              "    <tr>\n",
              "      <th>1</th>\n",
              "      <td>0143026860</td>\n",
              "      <td>A2F5GHSXFQ0W6J</td>\n",
              "      <td>4.0</td>\n",
              "      <td>1418860800</td>\n",
              "    </tr>\n",
              "    <tr>\n",
              "      <th>2</th>\n",
              "      <td>0143026860</td>\n",
              "      <td>A1572GUYS7DGSR</td>\n",
              "      <td>4.0</td>\n",
              "      <td>1407628800</td>\n",
              "    </tr>\n",
              "    <tr>\n",
              "      <th>3</th>\n",
              "      <td>0143026860</td>\n",
              "      <td>A1PSGLFK1NSVO</td>\n",
              "      <td>5.0</td>\n",
              "      <td>1362960000</td>\n",
              "    </tr>\n",
              "    <tr>\n",
              "      <th>4</th>\n",
              "      <td>0143026860</td>\n",
              "      <td>A6IKXKZMTKGSC</td>\n",
              "      <td>5.0</td>\n",
              "      <td>1324771200</td>\n",
              "    </tr>\n",
              "  </tbody>\n",
              "</table>\n",
              "</div>\n",
              "      <button class=\"colab-df-convert\" onclick=\"convertToInteractive('df-a27083a2-49fc-4d90-857f-cf39793f7f94')\"\n",
              "              title=\"Convert this dataframe to an interactive table.\"\n",
              "              style=\"display:none;\">\n",
              "        \n",
              "  <svg xmlns=\"http://www.w3.org/2000/svg\" height=\"24px\"viewBox=\"0 0 24 24\"\n",
              "       width=\"24px\">\n",
              "    <path d=\"M0 0h24v24H0V0z\" fill=\"none\"/>\n",
              "    <path d=\"M18.56 5.44l.94 2.06.94-2.06 2.06-.94-2.06-.94-.94-2.06-.94 2.06-2.06.94zm-11 1L8.5 8.5l.94-2.06 2.06-.94-2.06-.94L8.5 2.5l-.94 2.06-2.06.94zm10 10l.94 2.06.94-2.06 2.06-.94-2.06-.94-.94-2.06-.94 2.06-2.06.94z\"/><path d=\"M17.41 7.96l-1.37-1.37c-.4-.4-.92-.59-1.43-.59-.52 0-1.04.2-1.43.59L10.3 9.45l-7.72 7.72c-.78.78-.78 2.05 0 2.83L4 21.41c.39.39.9.59 1.41.59.51 0 1.02-.2 1.41-.59l7.78-7.78 2.81-2.81c.8-.78.8-2.07 0-2.86zM5.41 20L4 18.59l7.72-7.72 1.47 1.35L5.41 20z\"/>\n",
              "  </svg>\n",
              "      </button>\n",
              "      \n",
              "  <style>\n",
              "    .colab-df-container {\n",
              "      display:flex;\n",
              "      flex-wrap:wrap;\n",
              "      gap: 12px;\n",
              "    }\n",
              "\n",
              "    .colab-df-convert {\n",
              "      background-color: #E8F0FE;\n",
              "      border: none;\n",
              "      border-radius: 50%;\n",
              "      cursor: pointer;\n",
              "      display: none;\n",
              "      fill: #1967D2;\n",
              "      height: 32px;\n",
              "      padding: 0 0 0 0;\n",
              "      width: 32px;\n",
              "    }\n",
              "\n",
              "    .colab-df-convert:hover {\n",
              "      background-color: #E2EBFA;\n",
              "      box-shadow: 0px 1px 2px rgba(60, 64, 67, 0.3), 0px 1px 3px 1px rgba(60, 64, 67, 0.15);\n",
              "      fill: #174EA6;\n",
              "    }\n",
              "\n",
              "    [theme=dark] .colab-df-convert {\n",
              "      background-color: #3B4455;\n",
              "      fill: #D2E3FC;\n",
              "    }\n",
              "\n",
              "    [theme=dark] .colab-df-convert:hover {\n",
              "      background-color: #434B5C;\n",
              "      box-shadow: 0px 1px 3px 1px rgba(0, 0, 0, 0.15);\n",
              "      filter: drop-shadow(0px 1px 2px rgba(0, 0, 0, 0.3));\n",
              "      fill: #FFFFFF;\n",
              "    }\n",
              "  </style>\n",
              "\n",
              "      <script>\n",
              "        const buttonEl =\n",
              "          document.querySelector('#df-a27083a2-49fc-4d90-857f-cf39793f7f94 button.colab-df-convert');\n",
              "        buttonEl.style.display =\n",
              "          google.colab.kernel.accessAllowed ? 'block' : 'none';\n",
              "\n",
              "        async function convertToInteractive(key) {\n",
              "          const element = document.querySelector('#df-a27083a2-49fc-4d90-857f-cf39793f7f94');\n",
              "          const dataTable =\n",
              "            await google.colab.kernel.invokeFunction('convertToInteractive',\n",
              "                                                     [key], {});\n",
              "          if (!dataTable) return;\n",
              "\n",
              "          const docLinkHtml = 'Like what you see? Visit the ' +\n",
              "            '<a target=\"_blank\" href=https://colab.research.google.com/notebooks/data_table.ipynb>data table notebook</a>'\n",
              "            + ' to learn more about interactive tables.';\n",
              "          element.innerHTML = '';\n",
              "          dataTable['output_type'] = 'display_data';\n",
              "          await google.colab.output.renderOutput(dataTable, element);\n",
              "          const docLink = document.createElement('div');\n",
              "          docLink.innerHTML = docLinkHtml;\n",
              "          element.appendChild(docLink);\n",
              "        }\n",
              "      </script>\n",
              "    </div>\n",
              "  </div>\n",
              "  "
            ],
            "text/plain": [
              "         asin      reviewerID  overall  unixReviewTime\n",
              "0  0143026860  A1V6B6TNIC10QE      1.0      1424304000\n",
              "1  0143026860  A2F5GHSXFQ0W6J      4.0      1418860800\n",
              "2  0143026860  A1572GUYS7DGSR      4.0      1407628800\n",
              "3  0143026860   A1PSGLFK1NSVO      5.0      1362960000\n",
              "4  0143026860   A6IKXKZMTKGSC      5.0      1324771200"
            ]
          },
          "metadata": {},
          "execution_count": 12
        }
      ],
      "metadata": {
        "id": "vfvXfMuj6reH",
        "outputId": "d43e5e7a-a713-450c-893b-c3700b59d56c",
        "colab": {
          "base_uri": "https://localhost:8080/",
          "height": 256
        }
      },
      "id": "vfvXfMuj6reH"
    },
    {
      "cell_type": "markdown",
      "source": [
        "## 資料整理"
      ],
      "metadata": {
        "id": "Q2usncFF6reI"
      },
      "id": "Q2usncFF6reI"
    },
    {
      "cell_type": "code",
      "execution_count": 13,
      "source": [
        "ratings['DATE'] = pd.to_datetime(ratings['unixReviewTime'], unit='s')"
      ],
      "outputs": [],
      "metadata": {
        "id": "Its8MU3m6reJ"
      },
      "id": "Its8MU3m6reJ"
    },
    {
      "cell_type": "markdown",
      "source": [
        "### 去除重複資料"
      ],
      "metadata": {
        "id": "X-WnXwwQ7v58"
      },
      "id": "X-WnXwwQ7v58"
    },
    {
      "cell_type": "markdown",
      "source": [
        "#### metadata（資料完全一樣的商品）"
      ],
      "metadata": {
        "id": "1N19jVyq73L6"
      },
      "id": "1N19jVyq73L6"
    },
    {
      "cell_type": "code",
      "source": [
        "print('Original Num of metadata: {0}'.format(len(metadata)))\n",
        "print('Num of duplicated metadata: {0}'.format(metadata.duplicated(subset=['asin', 'title']).sum()))\n",
        "\n",
        "print('Drop duplicated metadata...')\n",
        "metadata.drop_duplicates(subset=['asin', 'title'], keep=False, inplace=True)\n",
        "metadata = metadata.reset_index(drop=True)\n",
        "print('Current Num of metadata: {0}'.format(len(metadata)))"
      ],
      "metadata": {
        "colab": {
          "base_uri": "https://localhost:8080/"
        },
        "id": "A_szufh5737O",
        "outputId": "bd059bb1-2c1c-4d6e-a937-8c9b282d1af9"
      },
      "id": "A_szufh5737O",
      "execution_count": 14,
      "outputs": [
        {
          "output_type": "stream",
          "name": "stdout",
          "text": [
            "Original Num of metadata: 32892\n",
            "Num of duplicated metadata: 404\n",
            "Drop duplicated metadata...\n",
            "Current Num of metadata: 32084\n"
          ]
        }
      ]
    },
    {
      "cell_type": "markdown",
      "source": [
        "## 資料切分"
      ],
      "metadata": {
        "id": "DsCHmJOW6reK"
      },
      "id": "DsCHmJOW6reK"
    },
    {
      "cell_type": "code",
      "execution_count": 15,
      "source": [
        "ratings_trainings = ratings[\n",
        "    (ratings['DATE'] < '2018-09-01')\n",
        "]\n",
        "ratings_testings = ratings[\n",
        "    (ratings['DATE'] >= '2018-09-01') & \n",
        "    (ratings['DATE'] <= '2018-09-30')\n",
        "]\n",
        "ratings_testings_by_user = ratings_testings.groupby('reviewerID').agg(list).reset_index()[['reviewerID', 'asin']].to_dict('records')\n",
        "ratings_testings_by_user = { rating['reviewerID']: rating['asin'] for rating in ratings_testings_by_user }\n",
        "users = list(ratings_testings_by_user.keys())"
      ],
      "outputs": [],
      "metadata": {
        "id": "gUih0lfV6reK"
      },
      "id": "gUih0lfV6reK"
    },
    {
      "cell_type": "markdown",
      "source": [
        "---"
      ],
      "metadata": {
        "id": "Sf5qy9fw8GZr"
      },
      "id": "Sf5qy9fw8GZr"
    },
    {
      "cell_type": "markdown",
      "source": [
        "保留原始資料，複製一份出來處理。"
      ],
      "metadata": {
        "id": "j0IZsYYi8JEU"
      },
      "id": "j0IZsYYi8JEU"
    },
    {
      "cell_type": "code",
      "source": [
        "metadata_tmp = metadata.copy()\n",
        "\n",
        "ratings_trainings_tmp = ratings_trainings.copy()\n",
        "ratings_testings_tmp = ratings_testings.copy()\n",
        "\n",
        "users_testing_tmp = users.copy()"
      ],
      "metadata": {
        "id": "WtNIIEmL8KAz"
      },
      "id": "WtNIIEmL8KAz",
      "execution_count": 16,
      "outputs": []
    },
    {
      "cell_type": "markdown",
      "source": [
        "---"
      ],
      "metadata": {
        "id": "6UKJlu_u8HjK"
      },
      "id": "6UKJlu_u8HjK"
    },
    {
      "cell_type": "markdown",
      "source": [
        "## 資料探索"
      ],
      "metadata": {
        "id": "wqtzK24-8Vby"
      },
      "id": "wqtzK24-8Vby"
    },
    {
      "cell_type": "code",
      "source": [
        "import numpy as np\n",
        "import matplotlib.pyplot as plt"
      ],
      "metadata": {
        "id": "rbQGvkiM8Uj4"
      },
      "id": "rbQGvkiM8Uj4",
      "execution_count": 17,
      "outputs": []
    },
    {
      "cell_type": "markdown",
      "source": [
        "### 測試資料集"
      ],
      "metadata": {
        "id": "dt4Lu9cD8blY"
      },
      "id": "dt4Lu9cD8blY"
    },
    {
      "cell_type": "markdown",
      "source": [
        "查看測試資料集中的用戶有多少人曾經留下評分過？各留下多少呢？"
      ],
      "metadata": {
        "id": "k24lQc3k8eS3"
      },
      "id": "k24lQc3k8eS3"
    },
    {
      "cell_type": "code",
      "source": [
        "num_rating_user = ratings_trainings_tmp[ratings_trainings_tmp['reviewerID'].isin(users_testing_tmp)]['reviewerID'].nunique()\n",
        "print('多少人曾留過評分 : {0} ({1}%)'.format(num_rating_user, round(num_rating_user / len(users_testing_tmp)*100)))"
      ],
      "metadata": {
        "colab": {
          "base_uri": "https://localhost:8080/"
        },
        "id": "ydofD6PT8jLZ",
        "outputId": "b3d3eaac-2663-41e2-957f-efe70117c374"
      },
      "id": "ydofD6PT8jLZ",
      "execution_count": 18,
      "outputs": [
        {
          "output_type": "stream",
          "name": "stdout",
          "text": [
            "多少人曾留過評分 : 38 (7%)\n"
          ]
        }
      ]
    },
    {
      "cell_type": "code",
      "source": [
        "print(ratings_trainings_tmp[ratings_trainings_tmp['reviewerID'].isin(users_testing_tmp)].groupby('reviewerID').agg({'asin':'size'}))\n",
        "print('這些人平均對多少商品評分: {0}'.format(ratings_trainings_tmp[ratings_trainings_tmp['reviewerID'].isin(users_testing_tmp)].groupby('reviewerID').agg({'asin':'size'}).mean()[0]))"
      ],
      "metadata": {
        "colab": {
          "base_uri": "https://localhost:8080/"
        },
        "id": "gWk_-ovv8ych",
        "outputId": "028fa639-059c-4e5c-8c30-f08e4a86d272"
      },
      "id": "gWk_-ovv8ych",
      "execution_count": 20,
      "outputs": [
        {
          "output_type": "stream",
          "name": "stdout",
          "text": [
            "                asin\n",
            "reviewerID          \n",
            "A13JU88JAHN72I     1\n",
            "A16Y7V1CZCWKFV     1\n",
            "A19503XX7GU6J2     2\n",
            "A1EY751AUVO5NZ     1\n",
            "A1PR178735XC70     1\n",
            "A1SA3N793WT2LM     4\n",
            "A1TP9JHTIY468V     2\n",
            "A1UAOE8KO7Q1DZ     1\n",
            "A1WEFBEJ7OHSVZ     1\n",
            "A1WSZED2O5MA5T     2\n",
            "A28E3FNV1BYC94     1\n",
            "A29834GBB4DOP1     1\n",
            "A2AAQWBJJTK3E1     1\n",
            "A2BU6N5956T9NH     1\n",
            "A2GFPTQ4VWDX96     1\n",
            "A2IMJV0CQMZLGC     1\n",
            "A2IOBG1ERS4JP3     1\n",
            "A2JCBLTLYDPQLW     1\n",
            "A2M4YSOJZELJ6N     1\n",
            "A2XFJ8CTY7VDNN     1\n",
            "A2XY3CJ3ZCAD03     1\n",
            "A3BE6JK97CYAGA     1\n",
            "A3BT1WLPENXMD6     3\n",
            "A3DXW3542E4QUC     1\n",
            "A3GRQ9WMP4OXFE     1\n",
            "A3H8Z7JS7XJHJJ     2\n",
            "A3JEQJCEMX20GI     2\n",
            "A4IQXCCXDEAKW      2\n",
            "A7JUHUYLXIUVQ      1\n",
            "A7Y4ETTLARUGI      1\n",
            "ACE1ZIOI3U6PY      3\n",
            "AGRZQOBCF8H87      1\n",
            "AITF34BGBMVJJ      1\n",
            "AK7YIZE6ZZ1N9      1\n",
            "ANR73TPVBCQ9K      1\n",
            "AQYL4TDY2HU8Z      1\n",
            "ASGIVOW34XNQS      3\n",
            "ATJRZUXNWAWIK      1\n",
            "這些人平均對多少商品評分: 1.394736842105263\n"
          ]
        }
      ]
    },
    {
      "cell_type": "markdown",
      "source": [
        "如果未曾留下評分，則無法得知喜好，也無法找過去購買的商品推薦類似的，只能用rule-based。\n",
        "發現有留過評分的占少數，故rule-based方法對整體推薦系統recall影響大。"
      ],
      "metadata": {
        "id": "nYVe0wRM8ZQ9"
      },
      "id": "nYVe0wRM8ZQ9"
    },
    {
      "cell_type": "markdown",
      "source": [
        "### 訓練資料集"
      ],
      "metadata": {
        "id": "F8ldbVTL82VB"
      },
      "id": "F8ldbVTL82VB"
    },
    {
      "cell_type": "markdown",
      "source": [
        "只推薦在商品資料集中的商品，故下面都只討論有在商品資料集的商品。<br>\n",
        "會這麼做，主要是因為之後想由商品資料集中取特徵，增加商品相似度計算的準確度。"
      ],
      "metadata": {
        "id": "hZUZ6RL888r_"
      },
      "id": "hZUZ6RL888r_"
    },
    {
      "cell_type": "code",
      "source": [
        "item_in_medadata = metadata_tmp['asin'].tolist()\n",
        "print('在商品資料表中有 {0} 個商品'.format(len(item_in_medadata)))"
      ],
      "metadata": {
        "colab": {
          "base_uri": "https://localhost:8080/"
        },
        "id": "XMZ8IkUH81dt",
        "outputId": "46befbe2-58a6-4031-fac9-f1853162a0fc"
      },
      "id": "XMZ8IkUH81dt",
      "execution_count": 21,
      "outputs": [
        {
          "output_type": "stream",
          "name": "stdout",
          "text": [
            "在商品資料表中有 32084 個商品\n"
          ]
        }
      ]
    },
    {
      "cell_type": "code",
      "source": [
        "print('原本評分總筆數: {0}'.format(len(ratings_trainings_tmp)))\n",
        "print('剔除評分商品為在商品資料集中的評分...')\n",
        "ratings_trainings_tmp = ratings_trainings_tmp[ratings_trainings_tmp['asin'].isin(item_in_medadata)]\n",
        "print('剔除後評分總筆數: {0}'.format(len(ratings_trainings_tmp)))"
      ],
      "metadata": {
        "colab": {
          "base_uri": "https://localhost:8080/"
        },
        "id": "CRHJzYJy9CKi",
        "outputId": "250f0078-c934-43c5-9606-45e7aff2239e"
      },
      "id": "CRHJzYJy9CKi",
      "execution_count": 22,
      "outputs": [
        {
          "output_type": "stream",
          "name": "stdout",
          "text": [
            "原本評分總筆數: 370752\n",
            "剔除評分商品為在商品資料集中的評分...\n",
            "剔除後評分總筆數: 349321\n"
          ]
        }
      ]
    },
    {
      "cell_type": "markdown",
      "source": [
        "#### 在商品資料集中有多少商品被評分？"
      ],
      "metadata": {
        "id": "OxpwfGrS9EkJ"
      },
      "id": "OxpwfGrS9EkJ"
    },
    {
      "cell_type": "code",
      "source": [
        "item_with_rating = ratings_trainings_tmp.asin.unique().tolist()"
      ],
      "metadata": {
        "id": "GaKeOZ4t9D2n"
      },
      "id": "GaKeOZ4t9D2n",
      "execution_count": 23,
      "outputs": []
    },
    {
      "cell_type": "code",
      "source": [
        "item_with_rating_in_metadata = metadata_tmp[metadata_tmp['asin'].isin(item_with_rating)]['asin'].tolist()"
      ],
      "metadata": {
        "id": "2T2rSijf9aVx"
      },
      "id": "2T2rSijf9aVx",
      "execution_count": 25,
      "outputs": []
    },
    {
      "cell_type": "code",
      "source": [
        "# 在現有的商品資料(metadata)中有多少資料未被評分過\n",
        "print('現有商品資料中有 {0} ({1}%) 評分資料，有 {2} 個商品未有過評分紀錄。'.format(\n",
        "    len(item_with_rating_in_metadata), \n",
        "    round(len(item_with_rating_in_metadata) / len(metadata_tmp['asin']) * 100, 2), \n",
        "    len(metadata_tmp['asin']) - len(item_with_rating_in_metadata)))"
      ],
      "metadata": {
        "colab": {
          "base_uri": "https://localhost:8080/"
        },
        "id": "ZeNrZR7k9T7T",
        "outputId": "42697f37-f3f2-4a6c-b88b-35b8857e0046"
      },
      "id": "ZeNrZR7k9T7T",
      "execution_count": 27,
      "outputs": [
        {
          "output_type": "stream",
          "name": "stdout",
          "text": [
            "現有商品資料中有 32078 (99.98%) 評分資料，有 6 個商品未有過評分紀錄。\n"
          ]
        }
      ]
    },
    {
      "cell_type": "markdown",
      "source": [
        "#### 將重複評分以平均評分取代"
      ],
      "metadata": {
        "id": "MKN1QtxG9w9u"
      },
      "id": "MKN1QtxG9w9u"
    },
    {
      "cell_type": "code",
      "source": [
        "# 如果只有一筆就直接填該筆評分，如果有多筆，overall_mean填入評分平均值、overall_lastest填入最近的評分值。\n",
        "ratings_trainings_unique = ratings_trainings_tmp.groupby(['reviewerID', 'asin']) \\\n",
        "                    .agg(overall=('overall', np.mean)) \\\n",
        "                    .reset_index()\n",
        "ratings_trainings_unique.head()"
      ],
      "metadata": {
        "colab": {
          "base_uri": "https://localhost:8080/",
          "height": 204
        },
        "id": "2hDdMH6Y93ky",
        "outputId": "70b7e195-763e-43c2-a92a-958e9ecdd36f"
      },
      "id": "2hDdMH6Y93ky",
      "execution_count": 28,
      "outputs": [
        {
          "output_type": "execute_result",
          "data": {
            "text/html": [
              "\n",
              "  <div id=\"df-b71bef36-a347-4148-800b-4c6f8e3d4614\">\n",
              "    <div class=\"colab-df-container\">\n",
              "      <div>\n",
              "<style scoped>\n",
              "    .dataframe tbody tr th:only-of-type {\n",
              "        vertical-align: middle;\n",
              "    }\n",
              "\n",
              "    .dataframe tbody tr th {\n",
              "        vertical-align: top;\n",
              "    }\n",
              "\n",
              "    .dataframe thead th {\n",
              "        text-align: right;\n",
              "    }\n",
              "</style>\n",
              "<table border=\"1\" class=\"dataframe\">\n",
              "  <thead>\n",
              "    <tr style=\"text-align: right;\">\n",
              "      <th></th>\n",
              "      <th>reviewerID</th>\n",
              "      <th>asin</th>\n",
              "      <th>overall</th>\n",
              "    </tr>\n",
              "  </thead>\n",
              "  <tbody>\n",
              "    <tr>\n",
              "      <th>0</th>\n",
              "      <td>A0010876CNE3ILIM9HV0</td>\n",
              "      <td>B01FHDYGQ8</td>\n",
              "      <td>5.0</td>\n",
              "    </tr>\n",
              "    <tr>\n",
              "      <th>1</th>\n",
              "      <td>A001170867ZBE9FORRQL</td>\n",
              "      <td>B01B18T01Y</td>\n",
              "      <td>5.0</td>\n",
              "    </tr>\n",
              "    <tr>\n",
              "      <th>2</th>\n",
              "      <td>A001170867ZBE9FORRQL</td>\n",
              "      <td>B01FCW88D6</td>\n",
              "      <td>5.0</td>\n",
              "    </tr>\n",
              "    <tr>\n",
              "      <th>3</th>\n",
              "      <td>A0028738FYF1SKPPC7B1</td>\n",
              "      <td>B00TZ8XK1E</td>\n",
              "      <td>5.0</td>\n",
              "    </tr>\n",
              "    <tr>\n",
              "      <th>4</th>\n",
              "      <td>A0045356A23634W7RI4M</td>\n",
              "      <td>B018H0EJI8</td>\n",
              "      <td>3.0</td>\n",
              "    </tr>\n",
              "  </tbody>\n",
              "</table>\n",
              "</div>\n",
              "      <button class=\"colab-df-convert\" onclick=\"convertToInteractive('df-b71bef36-a347-4148-800b-4c6f8e3d4614')\"\n",
              "              title=\"Convert this dataframe to an interactive table.\"\n",
              "              style=\"display:none;\">\n",
              "        \n",
              "  <svg xmlns=\"http://www.w3.org/2000/svg\" height=\"24px\"viewBox=\"0 0 24 24\"\n",
              "       width=\"24px\">\n",
              "    <path d=\"M0 0h24v24H0V0z\" fill=\"none\"/>\n",
              "    <path d=\"M18.56 5.44l.94 2.06.94-2.06 2.06-.94-2.06-.94-.94-2.06-.94 2.06-2.06.94zm-11 1L8.5 8.5l.94-2.06 2.06-.94-2.06-.94L8.5 2.5l-.94 2.06-2.06.94zm10 10l.94 2.06.94-2.06 2.06-.94-2.06-.94-.94-2.06-.94 2.06-2.06.94z\"/><path d=\"M17.41 7.96l-1.37-1.37c-.4-.4-.92-.59-1.43-.59-.52 0-1.04.2-1.43.59L10.3 9.45l-7.72 7.72c-.78.78-.78 2.05 0 2.83L4 21.41c.39.39.9.59 1.41.59.51 0 1.02-.2 1.41-.59l7.78-7.78 2.81-2.81c.8-.78.8-2.07 0-2.86zM5.41 20L4 18.59l7.72-7.72 1.47 1.35L5.41 20z\"/>\n",
              "  </svg>\n",
              "      </button>\n",
              "      \n",
              "  <style>\n",
              "    .colab-df-container {\n",
              "      display:flex;\n",
              "      flex-wrap:wrap;\n",
              "      gap: 12px;\n",
              "    }\n",
              "\n",
              "    .colab-df-convert {\n",
              "      background-color: #E8F0FE;\n",
              "      border: none;\n",
              "      border-radius: 50%;\n",
              "      cursor: pointer;\n",
              "      display: none;\n",
              "      fill: #1967D2;\n",
              "      height: 32px;\n",
              "      padding: 0 0 0 0;\n",
              "      width: 32px;\n",
              "    }\n",
              "\n",
              "    .colab-df-convert:hover {\n",
              "      background-color: #E2EBFA;\n",
              "      box-shadow: 0px 1px 2px rgba(60, 64, 67, 0.3), 0px 1px 3px 1px rgba(60, 64, 67, 0.15);\n",
              "      fill: #174EA6;\n",
              "    }\n",
              "\n",
              "    [theme=dark] .colab-df-convert {\n",
              "      background-color: #3B4455;\n",
              "      fill: #D2E3FC;\n",
              "    }\n",
              "\n",
              "    [theme=dark] .colab-df-convert:hover {\n",
              "      background-color: #434B5C;\n",
              "      box-shadow: 0px 1px 3px 1px rgba(0, 0, 0, 0.15);\n",
              "      filter: drop-shadow(0px 1px 2px rgba(0, 0, 0, 0.3));\n",
              "      fill: #FFFFFF;\n",
              "    }\n",
              "  </style>\n",
              "\n",
              "      <script>\n",
              "        const buttonEl =\n",
              "          document.querySelector('#df-b71bef36-a347-4148-800b-4c6f8e3d4614 button.colab-df-convert');\n",
              "        buttonEl.style.display =\n",
              "          google.colab.kernel.accessAllowed ? 'block' : 'none';\n",
              "\n",
              "        async function convertToInteractive(key) {\n",
              "          const element = document.querySelector('#df-b71bef36-a347-4148-800b-4c6f8e3d4614');\n",
              "          const dataTable =\n",
              "            await google.colab.kernel.invokeFunction('convertToInteractive',\n",
              "                                                     [key], {});\n",
              "          if (!dataTable) return;\n",
              "\n",
              "          const docLinkHtml = 'Like what you see? Visit the ' +\n",
              "            '<a target=\"_blank\" href=https://colab.research.google.com/notebooks/data_table.ipynb>data table notebook</a>'\n",
              "            + ' to learn more about interactive tables.';\n",
              "          element.innerHTML = '';\n",
              "          dataTable['output_type'] = 'display_data';\n",
              "          await google.colab.output.renderOutput(dataTable, element);\n",
              "          const docLink = document.createElement('div');\n",
              "          docLink.innerHTML = docLinkHtml;\n",
              "          element.appendChild(docLink);\n",
              "        }\n",
              "      </script>\n",
              "    </div>\n",
              "  </div>\n",
              "  "
            ],
            "text/plain": [
              "             reviewerID        asin  overall\n",
              "0  A0010876CNE3ILIM9HV0  B01FHDYGQ8      5.0\n",
              "1  A001170867ZBE9FORRQL  B01B18T01Y      5.0\n",
              "2  A001170867ZBE9FORRQL  B01FCW88D6      5.0\n",
              "3  A0028738FYF1SKPPC7B1  B00TZ8XK1E      5.0\n",
              "4  A0045356A23634W7RI4M  B018H0EJI8      3.0"
            ]
          },
          "metadata": {},
          "execution_count": 28
        }
      ]
    },
    {
      "cell_type": "markdown",
      "source": [
        "#### 商品資料集中每個商品大多被多少人評分？"
      ],
      "metadata": {
        "id": "4A0HyWY4-FdV"
      },
      "id": "4A0HyWY4-FdV"
    },
    {
      "cell_type": "code",
      "source": [
        "ratings_trainings_item = ratings_trainings_unique.groupby('asin') \\\n",
        "       .agg({'reviewerID':'size', 'overall':'mean'}) \\\n",
        "       .rename(columns={'reviewerID':'rating_count','overall':'mean_score'}) \\\n",
        "       .reset_index().sort_values('rating_count', ascending=False)\n",
        "ratings_trainings_item.head()"
      ],
      "metadata": {
        "colab": {
          "base_uri": "https://localhost:8080/",
          "height": 204
        },
        "id": "k_j6XChR-FD3",
        "outputId": "b2b8eab5-ba41-4c75-932a-3e8a25f49fc2"
      },
      "id": "k_j6XChR-FD3",
      "execution_count": 29,
      "outputs": [
        {
          "output_type": "execute_result",
          "data": {
            "text/html": [
              "\n",
              "  <div id=\"df-44ece2db-ea51-469f-aef1-182f8caf8b08\">\n",
              "    <div class=\"colab-df-container\">\n",
              "      <div>\n",
              "<style scoped>\n",
              "    .dataframe tbody tr th:only-of-type {\n",
              "        vertical-align: middle;\n",
              "    }\n",
              "\n",
              "    .dataframe tbody tr th {\n",
              "        vertical-align: top;\n",
              "    }\n",
              "\n",
              "    .dataframe thead th {\n",
              "        text-align: right;\n",
              "    }\n",
              "</style>\n",
              "<table border=\"1\" class=\"dataframe\">\n",
              "  <thead>\n",
              "    <tr style=\"text-align: right;\">\n",
              "      <th></th>\n",
              "      <th>asin</th>\n",
              "      <th>rating_count</th>\n",
              "      <th>mean_score</th>\n",
              "    </tr>\n",
              "  </thead>\n",
              "  <tbody>\n",
              "    <tr>\n",
              "      <th>446</th>\n",
              "      <td>B000FOI48G</td>\n",
              "      <td>8656</td>\n",
              "      <td>4.394235</td>\n",
              "    </tr>\n",
              "    <tr>\n",
              "      <th>566</th>\n",
              "      <td>B000GLRREU</td>\n",
              "      <td>8341</td>\n",
              "      <td>4.405107</td>\n",
              "    </tr>\n",
              "    <tr>\n",
              "      <th>2797</th>\n",
              "      <td>B001QY8QXM</td>\n",
              "      <td>4505</td>\n",
              "      <td>4.556049</td>\n",
              "    </tr>\n",
              "    <tr>\n",
              "      <th>29048</th>\n",
              "      <td>B01DKQAXC0</td>\n",
              "      <td>4191</td>\n",
              "      <td>4.212718</td>\n",
              "    </tr>\n",
              "    <tr>\n",
              "      <th>5460</th>\n",
              "      <td>B006IB5T4W</td>\n",
              "      <td>2789</td>\n",
              "      <td>4.643421</td>\n",
              "    </tr>\n",
              "  </tbody>\n",
              "</table>\n",
              "</div>\n",
              "      <button class=\"colab-df-convert\" onclick=\"convertToInteractive('df-44ece2db-ea51-469f-aef1-182f8caf8b08')\"\n",
              "              title=\"Convert this dataframe to an interactive table.\"\n",
              "              style=\"display:none;\">\n",
              "        \n",
              "  <svg xmlns=\"http://www.w3.org/2000/svg\" height=\"24px\"viewBox=\"0 0 24 24\"\n",
              "       width=\"24px\">\n",
              "    <path d=\"M0 0h24v24H0V0z\" fill=\"none\"/>\n",
              "    <path d=\"M18.56 5.44l.94 2.06.94-2.06 2.06-.94-2.06-.94-.94-2.06-.94 2.06-2.06.94zm-11 1L8.5 8.5l.94-2.06 2.06-.94-2.06-.94L8.5 2.5l-.94 2.06-2.06.94zm10 10l.94 2.06.94-2.06 2.06-.94-2.06-.94-.94-2.06-.94 2.06-2.06.94z\"/><path d=\"M17.41 7.96l-1.37-1.37c-.4-.4-.92-.59-1.43-.59-.52 0-1.04.2-1.43.59L10.3 9.45l-7.72 7.72c-.78.78-.78 2.05 0 2.83L4 21.41c.39.39.9.59 1.41.59.51 0 1.02-.2 1.41-.59l7.78-7.78 2.81-2.81c.8-.78.8-2.07 0-2.86zM5.41 20L4 18.59l7.72-7.72 1.47 1.35L5.41 20z\"/>\n",
              "  </svg>\n",
              "      </button>\n",
              "      \n",
              "  <style>\n",
              "    .colab-df-container {\n",
              "      display:flex;\n",
              "      flex-wrap:wrap;\n",
              "      gap: 12px;\n",
              "    }\n",
              "\n",
              "    .colab-df-convert {\n",
              "      background-color: #E8F0FE;\n",
              "      border: none;\n",
              "      border-radius: 50%;\n",
              "      cursor: pointer;\n",
              "      display: none;\n",
              "      fill: #1967D2;\n",
              "      height: 32px;\n",
              "      padding: 0 0 0 0;\n",
              "      width: 32px;\n",
              "    }\n",
              "\n",
              "    .colab-df-convert:hover {\n",
              "      background-color: #E2EBFA;\n",
              "      box-shadow: 0px 1px 2px rgba(60, 64, 67, 0.3), 0px 1px 3px 1px rgba(60, 64, 67, 0.15);\n",
              "      fill: #174EA6;\n",
              "    }\n",
              "\n",
              "    [theme=dark] .colab-df-convert {\n",
              "      background-color: #3B4455;\n",
              "      fill: #D2E3FC;\n",
              "    }\n",
              "\n",
              "    [theme=dark] .colab-df-convert:hover {\n",
              "      background-color: #434B5C;\n",
              "      box-shadow: 0px 1px 3px 1px rgba(0, 0, 0, 0.15);\n",
              "      filter: drop-shadow(0px 1px 2px rgba(0, 0, 0, 0.3));\n",
              "      fill: #FFFFFF;\n",
              "    }\n",
              "  </style>\n",
              "\n",
              "      <script>\n",
              "        const buttonEl =\n",
              "          document.querySelector('#df-44ece2db-ea51-469f-aef1-182f8caf8b08 button.colab-df-convert');\n",
              "        buttonEl.style.display =\n",
              "          google.colab.kernel.accessAllowed ? 'block' : 'none';\n",
              "\n",
              "        async function convertToInteractive(key) {\n",
              "          const element = document.querySelector('#df-44ece2db-ea51-469f-aef1-182f8caf8b08');\n",
              "          const dataTable =\n",
              "            await google.colab.kernel.invokeFunction('convertToInteractive',\n",
              "                                                     [key], {});\n",
              "          if (!dataTable) return;\n",
              "\n",
              "          const docLinkHtml = 'Like what you see? Visit the ' +\n",
              "            '<a target=\"_blank\" href=https://colab.research.google.com/notebooks/data_table.ipynb>data table notebook</a>'\n",
              "            + ' to learn more about interactive tables.';\n",
              "          element.innerHTML = '';\n",
              "          dataTable['output_type'] = 'display_data';\n",
              "          await google.colab.output.renderOutput(dataTable, element);\n",
              "          const docLink = document.createElement('div');\n",
              "          docLink.innerHTML = docLinkHtml;\n",
              "          element.appendChild(docLink);\n",
              "        }\n",
              "      </script>\n",
              "    </div>\n",
              "  </div>\n",
              "  "
            ],
            "text/plain": [
              "             asin  rating_count  mean_score\n",
              "446    B000FOI48G          8656    4.394235\n",
              "566    B000GLRREU          8341    4.405107\n",
              "2797   B001QY8QXM          4505    4.556049\n",
              "29048  B01DKQAXC0          4191    4.212718\n",
              "5460   B006IB5T4W          2789    4.643421"
            ]
          },
          "metadata": {},
          "execution_count": 29
        }
      ]
    },
    {
      "cell_type": "code",
      "source": [
        "print(ratings_trainings_item['rating_count'])\n",
        "print('這些商品平均對多少用戶評分: {0}'.format(ratings_trainings_item['rating_count'].mean()))"
      ],
      "metadata": {
        "colab": {
          "base_uri": "https://localhost:8080/"
        },
        "id": "69MTv-c8-M4h",
        "outputId": "be71ae11-ab64-45cd-def2-4a33979b320c"
      },
      "id": "69MTv-c8-M4h",
      "execution_count": 30,
      "outputs": [
        {
          "output_type": "stream",
          "name": "stdout",
          "text": [
            "446      8656\n",
            "566      8341\n",
            "2797     4505\n",
            "29048    4191\n",
            "5460     2789\n",
            "         ... \n",
            "10299       1\n",
            "10297       1\n",
            "21963       1\n",
            "21966       1\n",
            "16039       1\n",
            "Name: rating_count, Length: 32078, dtype: int64\n",
            "這些商品平均對多少用戶評分: 10.587754847559074\n"
          ]
        }
      ]
    },
    {
      "cell_type": "markdown",
      "source": [
        "但認為只有被一個用戶評分的商品，表示只有一個用戶評分，無法推薦給其他用戶，因為由其他用戶找曾評分商品找到商品後，不會跟這個商品有任何相似，故移除該商品。"
      ],
      "metadata": {
        "id": "jQloVkld-TAV"
      },
      "id": "jQloVkld-TAV"
    },
    {
      "cell_type": "code",
      "source": [
        "print('有被評分的商品總數: {0}'.format(ratings_trainings_unique['asin'].nunique()))\n",
        "print('剔除只有被一個用戶評分的商品...')\n",
        "ratings_trainings_item = ratings_trainings_item[ratings_trainings_item['rating_count'] > 1]\n",
        "print('提除後的商品總數: {0} ({1}%)'.format(\n",
        "    len(ratings_trainings_item), \n",
        "    round(len(ratings_trainings_item) / ratings_trainings_unique['asin'].nunique() *100)))"
      ],
      "metadata": {
        "colab": {
          "base_uri": "https://localhost:8080/"
        },
        "id": "dOIJ1NZi-aTx",
        "outputId": "73363039-d5a5-4a06-b857-d292257629a0"
      },
      "id": "dOIJ1NZi-aTx",
      "execution_count": 31,
      "outputs": [
        {
          "output_type": "stream",
          "name": "stdout",
          "text": [
            "有被評分的商品總數: 32078\n",
            "剔除只有被一個用戶評分的商品...\n",
            "提除後的商品總數: 18742 (58%)\n"
          ]
        }
      ]
    },
    {
      "cell_type": "code",
      "source": [
        "print(ratings_trainings_item['rating_count'])\n",
        "print('這些商品平均被多少用戶評分: {0}'.format(ratings_trainings_item['rating_count'].mean()))"
      ],
      "metadata": {
        "colab": {
          "base_uri": "https://localhost:8080/"
        },
        "id": "lpddYwkr_1Vw",
        "outputId": "e734a6e4-57b5-4f5e-9095-073bdfd7e405"
      },
      "id": "lpddYwkr_1Vw",
      "execution_count": 32,
      "outputs": [
        {
          "output_type": "stream",
          "name": "stdout",
          "text": [
            "446      8656\n",
            "566      8341\n",
            "2797     4505\n",
            "29048    4191\n",
            "5460     2789\n",
            "         ... \n",
            "739         2\n",
            "5724        2\n",
            "15204       2\n",
            "8160        2\n",
            "4889        2\n",
            "Name: rating_count, Length: 18742, dtype: int64\n",
            "這些商品平均被多少用戶評分: 17.409988261658306\n"
          ]
        }
      ]
    },
    {
      "cell_type": "code",
      "source": [
        "ratings_trainings_item['rating_count'].describe()"
      ],
      "metadata": {
        "colab": {
          "base_uri": "https://localhost:8080/"
        },
        "id": "bxaHBG0y_8Ye",
        "outputId": "5aefb45f-e908-45da-d6d1-7b034dbbc506"
      },
      "id": "bxaHBG0y_8Ye",
      "execution_count": 33,
      "outputs": [
        {
          "output_type": "execute_result",
          "data": {
            "text/plain": [
              "count    18742.000000\n",
              "mean        17.409988\n",
              "std        116.876783\n",
              "min          2.000000\n",
              "25%          2.000000\n",
              "50%          4.000000\n",
              "75%         10.000000\n",
              "max       8656.000000\n",
              "Name: rating_count, dtype: float64"
            ]
          },
          "metadata": {},
          "execution_count": 33
        }
      ]
    },
    {
      "cell_type": "code",
      "source": [
        "plt.hist(ratings_trainings_item['rating_count'])\n",
        "plt.show()\n",
        "print('將用戶數超過17個的放大來看...')\n",
        "plt.hist(ratings_trainings_item[ratings_trainings_item['rating_count'] > 17]['rating_count'])\n",
        "plt.show()\n",
        "print('將用戶數超過134個(mean+1*std)的放大來看...') # 1*std\n",
        "plt.hist(ratings_trainings_item[ratings_trainings_item['rating_count'] > 134]['rating_count'])\n",
        "plt.show()\n",
        "print('將用戶數超過251個(mean+2*std)的放大來看...') # 2*std\n",
        "plt.hist(ratings_trainings_item[ratings_trainings_item['rating_count'] > 251]['rating_count'])\n",
        "plt.show()\n",
        "print('將用戶數超過368個(mean+3*std)的放大來看...') # 2*std\n",
        "plt.hist(ratings_trainings_item[ratings_trainings_item['rating_count'] > 368]['rating_count'])\n",
        "plt.show()"
      ],
      "metadata": {
        "colab": {
          "base_uri": "https://localhost:8080/",
          "height": 1000
        },
        "id": "C1sn6cHmACfl",
        "outputId": "784e1d53-0611-472a-bb36-02d4c8e5d984"
      },
      "id": "C1sn6cHmACfl",
      "execution_count": 34,
      "outputs": [
        {
          "output_type": "display_data",
          "data": {
            "image/png": "[encoded data removed]",
            "text/plain": [
              "<Figure size 432x288 with 1 Axes>"
            ]
          },
          "metadata": {
            "needs_background": "light"
          }
        },
        {
          "output_type": "stream",
          "name": "stdout",
          "text": [
            "將用戶數超過17個的放大來看...\n"
          ]
        },
        {
          "output_type": "display_data",
          "data": {
            "image/png": "[encoded data removed]",
            "text/plain": [
              "<Figure size 432x288 with 1 Axes>"
            ]
          },
          "metadata": {
            "needs_background": "light"
          }
        },
        {
          "output_type": "stream",
          "name": "stdout",
          "text": [
            "將用戶數超過134個(mean+1*std)的放大來看...\n"
          ]
        },
        {
          "output_type": "display_data",
          "data": {
            "image/png": "[encoded data removed]",
            "text/plain": [
              "<Figure size 432x288 with 1 Axes>"
            ]
          },
          "metadata": {
            "needs_background": "light"
          }
        },
        {
          "output_type": "stream",
          "name": "stdout",
          "text": [
            "將用戶數超過251個(mean+2*std)的放大來看...\n"
          ]
        },
        {
          "output_type": "display_data",
          "data": {
            "image/png": "[encoded data removed]",
            "text/plain": [
              "<Figure size 432x288 with 1 Axes>"
            ]
          },
          "metadata": {
            "needs_background": "light"
          }
        },
        {
          "output_type": "stream",
          "name": "stdout",
          "text": [
            "將用戶數超過368個(mean+3*std)的放大來看...\n"
          ]
        },
        {
          "output_type": "display_data",
          "data": {
            "image/png": "[encoded data removed]",
            "text/plain": [
              "<Figure size 432x288 with 1 Axes>"
            ]
          },
          "metadata": {
            "needs_background": "light"
          }
        }
      ]
    },
    {
      "cell_type": "markdown",
      "source": [
        "發現商品的用戶評分數落差很大，不知道會不會使得結果不太理想，認為或許能加入更多確定且完整的特徵(如:CATEGORY、title等)。<br>\n",
        "也思考多少個用戶評分才能夠代表一個商品？認為可留到之後測試。"
      ],
      "metadata": {
        "id": "DUT11-4vAK-s"
      },
      "id": "DUT11-4vAK-s"
    },
    {
      "cell_type": "markdown",
      "source": [
        "### 商品資料\n",
        "根據上份作業的資料探索，將多餘欄位剔除，新增有意義欄位(商品評論數、平均評分、季節性等)，主要是想用於新增商品特徵計算商品相似度。"
      ],
      "metadata": {
        "id": "WPw3U16qASjx"
      },
      "id": "WPw3U16qASjx"
    },
    {
      "cell_type": "markdown",
      "source": [
        "在此的ratings_trainings都不剔除重複評分，視其各自為獨立購買紀錄，皆列入分析計算。"
      ],
      "metadata": {
        "id": "MQ7UPQfLAgpl"
      },
      "id": "MQ7UPQfLAgpl"
    },
    {
      "cell_type": "code",
      "source": [
        "# 剔除有問題的資料\n",
        "metadata_tmp = metadata_tmp.drop(metadata[metadata['title'] == ''].index).reset_index(drop=True)"
      ],
      "metadata": {
        "id": "XaNaVZKyAKue"
      },
      "id": "XaNaVZKyAKue",
      "execution_count": 35,
      "outputs": []
    },
    {
      "cell_type": "code",
      "source": [
        "# 剔除評分數小於等於1的商品\n",
        "metadata_tmp = metadata_tmp[metadata_tmp['asin'].isin(ratings_trainings_item['asin'].unique())]"
      ],
      "metadata": {
        "id": "kwJom5qaAzlx"
      },
      "id": "kwJom5qaAzlx",
      "execution_count": 36,
      "outputs": []
    },
    {
      "cell_type": "markdown",
      "source": [
        "#### 剔除多餘欄位"
      ],
      "metadata": {
        "id": "vLQPwIqEA7ji"
      },
      "id": "vLQPwIqEA7ji"
    },
    {
      "cell_type": "code",
      "source": [
        "metadata_tmp = metadata_tmp.drop(['category', 'tech1', 'fit', 'tech2', 'feature', 'date', 'imageURLHighRes', 'main_cat', 'details'], axis=1)"
      ],
      "metadata": {
        "id": "f-XqHT9tA3C_"
      },
      "id": "f-XqHT9tA3C_",
      "execution_count": 37,
      "outputs": []
    },
    {
      "cell_type": "code",
      "source": [
        ""
      ],
      "metadata": {
        "id": "uKpgi8fLAJIz"
      },
      "id": "uKpgi8fLAJIz",
      "execution_count": null,
      "outputs": []
    },
    {
      "cell_type": "markdown",
      "source": [
        "---"
      ],
      "metadata": {
        "id": "LFLEmgmg91y8"
      },
      "id": "LFLEmgmg91y8"
    },
    {
      "cell_type": "markdown",
      "source": [
        "## 產生推薦"
      ],
      "metadata": {
        "id": "jqiSb3TB6reM"
      },
      "id": "jqiSb3TB6reM"
    },
    {
      "cell_type": "code",
      "source": [
        ""
      ],
      "metadata": {
        "id": "nJENLUhB85TX"
      },
      "id": "nJENLUhB85TX",
      "execution_count": null,
      "outputs": []
    },
    {
      "cell_type": "code",
      "execution_count": null,
      "source": [
        "import pandas as pd\n",
        "from itertools import combinations\n",
        "from collections import defaultdict\n",
        "\n",
        "def recommender(training_data, users=[], k=10):\n",
        "\n",
        "    # loading data from dataframe\n",
        "    # item_to_users dict:\n",
        "    # {\n",
        "    #   'item': {\n",
        "    #       'user': ratings...\n",
        "    #   }...\n",
        "    # }\n",
        "    item_to_users = defaultdict(dict)\n",
        "    for _, row in training_data.iterrows():\n",
        "        row = dict(row)\n",
        "        user = row['reviewerID']\n",
        "        item = row['asin']\n",
        "        rating = float(row['overall'])\n",
        "        item_to_users[item][user] = rating\n",
        "\n",
        "    print(\"data converted\")\n",
        "\n",
        "    user_to_items = defaultdict(dict)\n",
        "    for item, rating_users in item_to_users.items():\n",
        "        for user, rating in rating_users.items():\n",
        "            user_to_items[user][item] = rating\n",
        "\n",
        "    print(\"data inverted\")\n",
        "\n",
        "    init_sim = lambda: [0, 0, 0]\n",
        "    factory = lambda: defaultdict(init_sim)\n",
        "    pre_item_similarity = defaultdict(factory)\n",
        "    for user, items in user_to_items.items():\n",
        "        if len(items) > 1:\n",
        "            for i1, i2 in combinations(items.keys(), 2):\n",
        "                xy = items[i1] * items[i2]\n",
        "                xx = items[i1] ** 2\n",
        "                yy = items[i2] ** 2\n",
        "                pre_item_similarity[i1][i2][0] += xy\n",
        "                pre_item_similarity[i1][i2][1] += xx\n",
        "                pre_item_similarity[i1][i2][2] += yy\n",
        "\n",
        "                pre_item_similarity[i2][i1][0] += xy\n",
        "                pre_item_similarity[i2][i1][1] += xx\n",
        "                pre_item_similarity[i2][i1][2] += yy\n",
        "\n",
        "    print(\"sim data prepared\")\n",
        "\n",
        "    item_similarity = {}\n",
        "    for src_item in pre_item_similarity:\n",
        "        item_similarity_order = []\n",
        "        for dst_item, val in pre_item_similarity[src_item].items():\n",
        "            xy = val[0]\n",
        "            xx = val[1]\n",
        "            yy = val[2]\n",
        "            div = ((xx*yy) ** 0.5)\n",
        "            if div == 0:\n",
        "                continue\n",
        "            similarity = xy / div\n",
        "            if similarity < 0:\n",
        "                continue\n",
        "            for i, s in enumerate(item_similarity_order):\n",
        "                target_similarity = s[1]\n",
        "                if target_similarity < similarity:\n",
        "                    item_similarity_order.insert(i, (dst_item, similarity))\n",
        "                    break\n",
        "            else:\n",
        "                item_similarity_order.append((dst_item, similarity))\n",
        "        item_similarity[src_item] = item_similarity_order\n",
        "\n",
        "    print(f\"get {k} recommendation items for for user: {users}\")\n",
        "\n",
        "    recommendation = {}\n",
        "    for user in users:\n",
        "        items = []\n",
        "        items_set = set()\n",
        "        stop = False\n",
        "        user_has_rated = set(user_to_items[user])\n",
        "        for item in user_has_rated:\n",
        "            if item in item_similarity:\n",
        "                for sim_item, _ in item_similarity[item]:\n",
        "                    # skip the item user has rated\n",
        "                    if sim_item not in user_has_rated and sim_item not in items_set:\n",
        "                        items.append(sim_item)\n",
        "                        items_set.add(sim_item)\n",
        "                    if len(items) >= k:\n",
        "                        stop = True\n",
        "                        break\n",
        "                if stop:\n",
        "                    break\n",
        "        recommendation[user] = items\n",
        "    return recommendation    \n",
        "\n",
        "ratings_by_user = recommender(ratings_trainings, users)\n",
        "ratings_by_user"
      ],
      "outputs": [
        {
          "output_type": "stream",
          "name": "stdout",
          "text": [
            "data converted\n",
            "data inverted\n",
            "sim data prepared\n",
            "get 10 recommendation items for for user: ['A100XQFWKQ30O2', 'A103T1QOGFCSEH', 'A106UKKSJ2KXPF', 'A10A7GV4D5A11V', 'A1119JJ37ZLB8R', 'A113UOOLBSZN52', 'A12M4U7WK4ALCR', 'A12T8YTW6VWT7S', 'A1364JXGKB46MM', 'A137DALOQFKBTI', 'A13FEZ3WV7S2EY', 'A13IV4I1B0RXMG', 'A13JU88JAHN72I', 'A13K55R6VH1OOD', 'A13P7VFU075A', 'A13SWYE4QLB6NG', 'A13ZTQ0Q4ATA41', 'A142EDN04OD62U', 'A142I22FIC8MZK', 'A14834QTII5TLT', 'A14A447VPACTBC', 'A14AP6MN5XO6LB', 'A14CLF25IX25US', 'A14LYXC3HTBAHI', 'A14VUW4KZ34EOE', 'A14Y32P26G9YL', 'A157T25PBS7MX4', 'A15HZDSERD85C8', 'A15JJ8J1FGADIX', 'A15ZCL70JXXH89', 'A1617KN2IAWZ6J', 'A16E0O88262HKA', 'A16NSZ58PTVIYF', 'A16UGDXRTDLJG5', 'A16X9HR3UFQQXY', 'A16Y7V1CZCWKFV', 'A174YOBOSW9WDN', 'A1786SKRAJXH86', 'A17K2BUZ20WD2', 'A17LYRFV645L0V', 'A18LNGVXDZBTUR', 'A19503XX7GU6J2', 'A19HVHRZDYFEOP', 'A19JM38B861BO4', 'A19KGY3W1P0MHT', 'A19KJPOF3QOJ24', 'A19U5RT4Q8Q1T6', 'A1AQNQUNX8B6JT', 'A1ARU0IN6RUFFD', 'A1BB4635KSKDMV', 'A1BCC7X6KRTBG0', 'A1BPJ56BXENC7', 'A1C0RI6W65FC8B', 'A1C60LJGZVEK27', 'A1CB2SMS3TD44Z', 'A1CNSU8P68CPLT', 'A1CSDWBYUJBCJZ', 'A1CTNNVIYHO25P', 'A1CTQF97HFYOZB', 'A1D5C2H9UFZHPU', 'A1D5UVH72Z6NJ1', 'A1DAUVZRVSLLNW', 'A1DCZ9882PXLVB', 'A1DZ63D35BNT86', 'A1E0QCKB4R2X8X', 'A1E76OZZ5YUWVA', 'A1EBHZPAYMILW9', 'A1EJVNGBY5GM5I', 'A1ER0356V2DSKW', 'A1EY751AUVO5NZ', 'A1EZFX1TRHSAJX', 'A1F08GM4B97FV', 'A1F6EFMBK795DJ', 'A1FC8Y896NZP4T', 'A1FKIAKVOBNN7Y', 'A1FKUBRPLG6Y8I', 'A1G2HL4W8B3TA0', 'A1G8Z9IKJ0BD1M', 'A1GEJ55RJGD7JW', 'A1GIYGD23YIDTN', 'A1GLG2IZBZHRAJ', 'A1H1T82FPO20DN', 'A1H7JDZ9BKTKGC', 'A1HBROZPSV5KT6', 'A1HBXMUIHTAIU2', 'A1I32A4SA9W2L2', 'A1IDJ6KR8CQV9I', 'A1II0TTUUE2C7Y', 'A1ILEZFIVOU0EP', 'A1ITJ5M7I9G7FR', 'A1IWTXM1SJWHDN', 'A1J2NTTE63GNG2', 'A1JRREJ5D62LFF', 'A1KGMTEXL70WF6', 'A1KWUQZJ1Z6MN2', 'A1LXJ8XCGNBXOF', 'A1M8YMS915ZK0B', 'A1NDRR3G9SJF18', 'A1NE6K8PXW780O', 'A1NEG0FRW5FDBL', 'A1NN82RWB6PXJW', 'A1NY67EVWD6CD6', 'A1OB41VQHXZ0R8', 'A1OJ2IXX8F7Q7X', 'A1OTIUDE7LWAGT', 'A1P1OHYJOOZX5P', 'A1PFDA9SL15S4O', 'A1PKBKALGLSX0Z', 'A1PMLXHE863GR6', 'A1PR178735XC70', 'A1PXO67EUM5HJQ', 'A1QHS58JVFLF3I', 'A1QPKRHCAOQVZ5', 'A1R2TTULP0Z2BM', 'A1R8GBYBJWWWU0', 'A1RAXJN2Q4V20X', 'A1RCMCAJR2LJA4', 'A1RE2XA5HQD1D3', 'A1RMLPJ1PF8LGV', 'A1RX2ODQRQZVSI', 'A1S3NMNTSO6GW', 'A1S6OQV823B53J', 'A1SA3N793WT2LM', 'A1SA932MLERVQY', 'A1SCZBXGPJ2615', 'A1SMXRCNRO4ZQM', 'A1T1N2585E1T0D', 'A1TEKLMF4V1X2C', 'A1TF44D9KYAD60', 'A1TGP1VTM3KCTI', 'A1TK5M6EM3GS3C', 'A1TO3GV14TGF2R', 'A1TP9JHTIY468V', 'A1UAOE8KO7Q1DZ', 'A1UDCDY6ZNE83T', 'A1UUNKRU1DTZTL', 'A1V0UJQ4XGAJ3H', 'A1VBZLO2JGYU1B', 'A1VC6YCAFKV6Q', 'A1VVEX78B2TYBX', 'A1VVQ2DFL0QLXF', 'A1VYWSQ2OXLH98', 'A1WEFBEJ7OHSVZ', 'A1WOX40GUAFDKW', 'A1WSZED2O5MA5T', 'A1XBJBT6HORBLA', 'A1XHN6JF8A8W69', 'A1XWCTARAQ0679', 'A1XZJ85PKMAZP0', 'A1YALF6PWOMS6S', 'A1YEO5KEW7M2GF', 'A1YQ33635DJEG5', 'A1YSAFP6T3JZ1C', 'A1YTPCNXQ2LJ5Z', 'A1YVXZK51DEDPC', 'A1Z3GE09RDY6O7', 'A1Z6IPI0G3QIUR', 'A1ZVXL7K0XY3S6', 'A1ZXYITUZM3Q6A', 'A202BVEB76NTMK', 'A205S0BTPEFI0I', 'A20MSUD02BETH2', 'A20P2XESU3G3EC', 'A20QY357E6SAF', 'A20SJ2793OUCPW', 'A20T7NNNUHH60H', 'A21JL9NVA7KEMC', 'A21M4N08F3EU5J', 'A21NUBJVBS230S', 'A21OELUKDF2E57', 'A21XQP90LEND9R', 'A21YO11OY4KATO', 'A220EHDBIGBL30', 'A224YJVNU30DVM', 'A22A1B25VBD0YO', 'A22EWIMT2GUTTL', 'A22EZJLTPINCFS', 'A22QJRB86RF6O1', 'A2320AUCHA95U2', 'A232IJ75I4KP9C', 'A23GTKDW92ZPP2', 'A23O1B8IVSYKMO', 'A23VR3KT0TPG83', 'A24HCM5QV0ZTJ5', 'A24ZE4O3OQMSP0', 'A255E6ZWUBMEJJ', 'A258D00BRNHJ77', 'A25TLD8KIU807H', 'A26434CRUTADT5', 'A26AT96096UOEZ', 'A26RKZDM4DK8OQ', 'A274IW68565M0U', 'A286OWYO1BDT52', 'A288UAQLON8FK2', 'A28E3FNV1BYC94', 'A28GO11F387SOX', 'A28H0PFALTML0I', 'A28OZKV4ZYZX42', 'A28P7FF1TVPG1K', 'A28Q7C1FAIZGLV', 'A29834GBB4DOP1', 'A29HQ60YC1RG1P', 'A29MENRU87PET0', 'A29PZKXDCQFTYW', 'A29SD3TFGX6Q34', 'A2A0MIOWIW2SB8', 'A2A8ECI6ABJBMA', 'A2AAQWBJJTK3E1', 'A2AE0E0H463YL6', 'A2APG6OZXU4QIZ', 'A2BDB427ROEP7H', 'A2BHJO8WOGMW6E', 'A2BOSA30FCF6G8', 'A2BU6N5956T9NH', 'A2BUZ308P92OYA', 'A2C1F859F9V1SL', 'A2C8YINPNRQOAU', 'A2CDQOF7WHUYKJ', 'A2CEEE0IK3LKN1', 'A2CZVE6ORV87C5', 'A2DD6RH1AF0PLI', 'A2DFOCWUKJX3PT', 'A2E8WG5GRZGMXU', 'A2ESQAPIGR2TJF', 'A2EUQ4ESAB2N6A', 'A2EZXF5YGYTOWN', 'A2F0VQQLSF558D', 'A2F3QV40SONN60', 'A2F95NSPD4XEEU', 'A2FA2J1JT12N7J', 'A2FFUJ5D4CMJ4L', 'A2FLLYV6Z8UQ26', 'A2G1XJ25DR7PVF', 'A2G5KJ0CZE65ZD', 'A2GFPTQ4VWDX96', 'A2GJLNRQTVUNOF', 'A2GOFJ3OZZUZ3H', 'A2GV0FE30O6M67', 'A2H3W11661MWDA', 'A2H7FD5GQMJXAQ', 'A2H7VSYLKGKLLJ', 'A2HFAX39PMLIGH', 'A2I4O72AAE1T1T', 'A2I868XUY96VWA', 'A2IK039KMC8UP1', 'A2IMJV0CQMZLGC', 'A2INWR0T7A7UN5', 'A2IOBG1ERS4JP3', 'A2IRPQ7DXQ9YIN', 'A2J4WOR87ELFBH', 'A2JCBLTLYDPQLW', 'A2JEH2NKM1Z8CQ', 'A2JXZSR7R85KX4', 'A2K7XZCFYGZH0O', 'A2KO4HGLWB57LI', 'A2KVN4XKFJH0I8', 'A2LM47GK1W7RRR', 'A2LSOMD2X9KCCH', 'A2LYTBRWFQJMKM', 'A2M4YSOJZELJ6N', 'A2MAZK8XSIDXPF', 'A2MDIPJ7MS0MUJ', 'A2MGO3WV3SX7X', 'A2MLV3I5MMJ2RA', 'A2MPSHMC0U29AV', 'A2NI47L1B1RXSG', 'A2NJQZBE8TSUYO', 'A2NWTETCSLOEQN', 'A2O4DMC8M5JFHG', 'A2O823CIB99X95', 'A2OT3011J8E1ZP', 'A2OXIHJW4K9NKE', 'A2P6L9MQK99U36', 'A2PB6LYMRA7Z9V', 'A2PEJEOUE9MNA6', 'A2PIBK3EOG5TBK', 'A2PY1DBGV9FQA2', 'A2Q5UOQ4L1BOB9', 'A2QE1WIYFY0HAP', 'A2QP73U21FHJZI', 'A2QV1YJODH28QP', 'A2RAISC8UEEBK9', 'A2RDNAR2R66DKD', 'A2RXAD7UZ4VFT6', 'A2S47NK970GKD9', 'A2SMFKDH22FMA3', 'A2SOH4QHL5DZ6D', 'A2SQIQZUBEAJR3', 'A2SWEHEK2BMPM8', 'A2SYZ28NVJZ4R1', 'A2T0AMZZLASKKV', 'A2TCLY6N04N9D7', 'A2TW5FC72PI7SE', 'A2UAC8RKSPUIKH', 'A2UX00W1OX5A80', 'A2V88AD0XHE2IE', 'A2VC9R3XCFOEP1', 'A2VLCD1OWKXBW0', 'A2VTFDQ1DZN7UI', 'A2WHTNQ939BS71', 'A2WQGKM49J8UYT', 'A2WX2YLLHJDLX7', 'A2X4BZH61VJH5M', 'A2XEM0Y2PBNYK3', 'A2XFJ8CTY7VDNN', 'A2XTIQTNDTY6IA', 'A2XVM7UW32TYJ4', 'A2XY3CJ3ZCAD03', 'A2XYR0XUSOOBKN', 'A2Y1J1AKXDLR1', 'A2Y88AU2Y58W78', 'A2Z6RKQQUX4RJA', 'A2ZBZF2MUG5BMT', 'A2ZFTLMOAS9YS9', 'A2ZIIOGLNJDGAW', 'A2ZKSKEG5ADC67', 'A2ZZKY1V6M940H', 'A31LANQ03TDCXY', 'A323D529OO2E1G', 'A3254BNN69CL47', 'A327I3S4ZCZYBV', 'A32D5I46E15TEC', 'A32H6TQKJ1PQTP', 'A32KYN14BUANDF', 'A32OQFYMJ18HD6', 'A333LLJ35S8DVV', 'A33M6H443E78K3', 'A33S6R9E8SJQBP', 'A34DAQYDWYMVSG', 'A35F9VHYWAFR8J', 'A35F9XOEGELEWC', 'A35PB7968I55RI', 'A35RIL0AVMMXXL', 'A35Y5NLC3UEUQD', 'A367NSWV6NUSL1', 'A36I89SEZ432XE', 'A375WSDCO30KT9', 'A37G41T4DD51AH', 'A37M369VIVDDVJ', 'A37OPVPXMWHJJK', 'A37WMXX147RL1X', 'A37XPPIGUTR4LE', 'A388NSX468EY1E', 'A38GODWWMRN5IP', 'A38J6ZI0XZOY54', 'A38KP6TI3BUIM6', 'A38KUK8INKLRVW', 'A38OH5OTHDIENK', 'A38QGF4YG5YLUX', 'A3909LKTROS8XZ', 'A3961EO6PXRSV4', 'A39LZUDABR584J', 'A39PTGNQVCNU44', 'A39VI1UOID3TYE', 'A39YNT3CHM2I0Z', 'A3A3FMJO4E1E16', 'A3B99K4E030SZQ', 'A3BE6JK97CYAGA', 'A3BLE5G96342IP', 'A3BNG9PTUPB4QO', 'A3BPFL7PM0EX1K', 'A3BT1WLPENXMD6', 'A3BU92XQ2M0FQV', 'A3BWTFXS9CXVAE', 'A3BXCNI6BG5GCW', 'A3C2F0Y7G5FRW3', 'A3CBKKG14IB1KH', 'A3CQ0NMUJ9TODP', 'A3CUAESGA4K7FU', 'A3CXM8XQ5Q1KPP', 'A3D0FFKCWXN2LR', 'A3D1IGUMS62SNU', 'A3D1VPTQGDS7H3', 'A3D4BNTGWVUMYY', 'A3DKARAF791Z5X', 'A3DTSBINBC9T1Y', 'A3DXQ86N43AUK3', 'A3DXW3542E4QUC', 'A3E9HGSGQCU4CT', 'A3EAHHQ7KV8LFG', 'A3EJS66CXBQLE8', 'A3ENBUF1TIQR5K', 'A3EZHDCUB7I4KM', 'A3F1C4MOB3X5XL', 'A3F6V5A2SFES04', 'A3FDEHXOYLD1AC', 'A3FGDP5PT4SPLK', 'A3FGWJLDNTJWED', 'A3G1X7LFBAPCUJ', 'A3GCKFO3G4AHLF', 'A3GGSN44XCR1LP', 'A3GPMU8E282AUW', 'A3GRQ9WMP4OXFE', 'A3GWKJFBX8ZKT6', 'A3H8Z7JS7XJHJJ', 'A3HRUR5VRFZ09F', 'A3IGRPW3T3WYYQ', 'A3J1T4IGQLKKMB', 'A3J9IGXNOJR2BL', 'A3JA23Z053GQH', 'A3JCDPKW3RY4RN', 'A3JEQJCEMX20GI', 'A3KFRJBKYYNED7', 'A3KS7QCK708PRV', 'A3KYSCD09GNSUT', 'A3LA1YKU7MU28G', 'A3LEZ2F3IJC8PI', 'A3LIUDVZL87BJ1', 'A3LW4UWD5IH59X', 'A3LX43D34SINN3', 'A3LZ31BL10WT5Y', 'A3MAKZCODKKTYI', 'A3MFCMTXMF9B6W', 'A3MKAAS1OCULM6', 'A3MOSFTVDLAPDQ', 'A3MSPZTFP55OAG', 'A3MYAEQWFLNGT7', 'A3N4SR54KR77RK', 'A3NVFNLI1D4JUI', 'A3NYG8M131X9CM', 'A3OAQJCQBNF2JV', 'A3OCZRK8OEGZKL', 'A3OIDZP7AI0URM', 'A3OVOP3ZAF1EZ2', 'A3P3RV0CUR0VRQ', 'A3P8Z0J9AH92IZ', 'A3PJ22YDBOO8DN', 'A3PLMGKX9OQWOY', 'A3QL4UXK2Z5Q7T', 'A3QLWWO4V4PFMJ', 'A3QUUP6DYHF9YC', 'A3R7ZWTFN19KIX', 'A3RCVP2TSCL409', 'A3RUEIK67SFBFQ', 'A3SG2GXNRU6AO8', 'A3SL5YEUG12X9A', 'A3SME2XHYE99M5', 'A3T0BPK8JD6MD5', 'A3T2OTYYUYGLP0', 'A3T35MARIMRX9M', 'A3T9MTY43BVAL8', 'A3T9WXXE7EWNT8', 'A3TELGW4O61A61', 'A3TGG91X7W9SE8', 'A3TSVNG02WZYSW', 'A3U32YT7BSZ0KJ', 'A3UAJ5O4VR3IQ3', 'A3UBQFB24OY57', 'A3UCBR5T51RVRF', 'A3URWO9TFNH3IW', 'A3V81XSQIPRKO8', 'A3V9LE9I6Z5AF3', 'A3VEZWV624JM4O', 'A3VFDFSQ8X74WJ', 'A3VXSKW11C3301', 'A4INUX2JA7KE2', 'A4IQXCCXDEAKW', 'A4PZHPMLBS8T3', 'A4SRPWVKZ8MBC', 'A4V3S90H5OZTV', 'A4VQ44JM97RBL', 'A5ECS1R7F1TUD', 'A5LV53PMV1X6R', 'A674HJEQGJ5R9', 'A679PFWSVAY0B', 'A6IX0T5Z4NEXG', 'A6JVX3BIR03UT', 'A6P34Q7M983DN', 'A72IXFDV3HVU6', 'A74XHLD33IB9S', 'A7EG6541KYNIU', 'A7HS9Y95Y9BI6', 'A7JUHUYLXIUVQ', 'A7KQ3EGH8QTDS', 'A7SILTHEWXQ8T', 'A7Y4ETTLARUGI', 'A7Z2BG3284EE8', 'A8FMILLDHAI14', 'A8JUUA4GHIAMI', 'A8LVPPXFVYGVU', 'A8ZUDRNPFB0FU', 'A9BXB2XYAW169', 'A9LOWDS5H848B', 'AA3TPN2ZXE9TE', 'AAD3T3WYTF1BR', 'AAJ1IA9SFH4IG', 'AAT4JCLA3VGRZ', 'ABNE90UVC4BMT', 'ABSMQNX2PDSWH', 'ABWCUEDFH8W5H', 'ABYOL1GQA39OB', 'AC0X1OVDMJX9', 'ACCY5NWUNEC87', 'ACE1ZIOI3U6PY', 'ACLAKWV2EFFB5', 'AD9O852KPYLHY', 'ADDXT6NXD9GQ7', 'ADG8D8X6P9X7M', 'ADR4IE33O06IJ', 'ADV1MNMPVS17V', 'ADYRHTPM2T2SE', 'AE6VHWVRXHU19', 'AEKJTREHL41OE', 'AEP7KPEZWI7VY', 'AETOYW0R5VN0X', 'AEZBSOFLB44RG', 'AFE9H6ABXM735', 'AFMQ7BBR4FYMB', 'AFY8EIWAT6H8J', 'AG0867QGE3R2B', 'AG3T3ILPXFL3H', 'AG74ZKO3BG57J', 'AGORXWI6K2RIR', 'AGRZQOBCF8H87', 'AGTD0T9R78YLG', 'AGYIYIVZHBI60', 'AHGNU4UWGATOH', 'AHYRXYR235TWH', 'AIB7HX2UC3WHM', 'AITF34BGBMVJJ', 'AIU7HYQIC5D95', 'AJHSB0LT8NKP4', 'AJYMJEC6B7V52', 'AK4VANLR5UK95', 'AK7YIZE6ZZ1N9', 'AKHSKD91MQ9DP', 'ALUZH689LQE6K', 'ALWLZC3GRRXPN', 'AM1KUDVTKXIAQ', 'AM9HBLGAPZQR7', 'AMA98TY969A1T', 'AMLDY4QY4HV0D', 'AMVZ9HW23Y42N', 'AN3QZR3OD7SFO', 'ANC6FN6T8JBB2', 'ANDGVKQ15NCZM', 'ANFUWUOC7EJKR', 'ANG7MOYBTWQE6', 'ANJ6Y9G0B4TM8', 'ANR73TPVBCQ9K', 'ANT034IX5ZPI9', 'AOB2Y1KJQG7K7', 'AONHG4PDUQ0D6', 'APA9SALOTTBM6', 'APARJQGAD0J4C', 'AQ5PKYF0FJA4B', 'AQCQQYEUHUX3M', 'AQYL4TDY2HU8Z', 'AR9Y0CM5B174', 'ARLN791TA1RV7', 'AS8T77HTF9IHW', 'ASGIVOW34XNQS', 'ATJRZUXNWAWIK', 'ATP2UCHTR7QMZ', 'ATR9J7TYR1KVL', 'ATVP6QJLS27EN', 'AU03W1V42994X', 'AU1BVXGV2KO8I', 'AU2JWZMFEVAH5', 'AU3MVNMVFSIM', 'AUKMWTDK16PAP', 'AUWJT1DM7SG2D', 'AV0O5NWF2NKDF', 'AV2MC7NNTMKTF', 'AVC89473DX6XU', 'AVFBQDR2KRNK6', 'AVIMJH2FF6QCH', 'AVO5FL5T9EZSR', 'AVQ0V2MIW2Z5K', 'AVWSUUBWD3RK4', 'AWJFUVK3064HX', 'AXM9OKKHRR4RP', 'AXPZI9N8HVHYO', 'AXQ57AZLKLPCQ', 'AXQS1B3WVRHQV', 'AXS7NH3GDN7EE', 'AY4F95T0JSTZ2', 'AYG63OK9TNBNP', 'AZE64W03EUJA4', 'AZECTAHZICNW5', 'AZEGZXCFTLSQB', 'AZEKC7DEXXJD7', 'AZFGSCB0S59LQ', 'AZHS42HV4FKKA']\n"
          ]
        },
        {
          "output_type": "execute_result",
          "data": {
            "text/plain": [
              "{'A100XQFWKQ30O2': [],\n",
              " 'A103T1QOGFCSEH': [],\n",
              " 'A106UKKSJ2KXPF': [],\n",
              " 'A10A7GV4D5A11V': [],\n",
              " 'A1119JJ37ZLB8R': [],\n",
              " 'A113UOOLBSZN52': [],\n",
              " 'A12M4U7WK4ALCR': [],\n",
              " 'A12T8YTW6VWT7S': [],\n",
              " 'A1364JXGKB46MM': [],\n",
              " 'A137DALOQFKBTI': [],\n",
              " 'A13FEZ3WV7S2EY': [],\n",
              " 'A13IV4I1B0RXMG': [],\n",
              " 'A13JU88JAHN72I': ['B00BWIT33Y'],\n",
              " 'A13K55R6VH1OOD': [],\n",
              " 'A13P7VFU075A': [],\n",
              " 'A13SWYE4QLB6NG': [],\n",
              " 'A13ZTQ0Q4ATA41': [],\n",
              " 'A142EDN04OD62U': [],\n",
              " 'A142I22FIC8MZK': [],\n",
              " 'A14834QTII5TLT': [],\n",
              " 'A14A447VPACTBC': [],\n",
              " 'A14AP6MN5XO6LB': [],\n",
              " 'A14CLF25IX25US': [],\n",
              " 'A14LYXC3HTBAHI': [],\n",
              " 'A14VUW4KZ34EOE': [],\n",
              " 'A14Y32P26G9YL': [],\n",
              " 'A157T25PBS7MX4': [],\n",
              " 'A15HZDSERD85C8': [],\n",
              " 'A15JJ8J1FGADIX': [],\n",
              " 'A15ZCL70JXXH89': [],\n",
              " 'A1617KN2IAWZ6J': [],\n",
              " 'A16E0O88262HKA': [],\n",
              " 'A16NSZ58PTVIYF': [],\n",
              " 'A16UGDXRTDLJG5': [],\n",
              " 'A16X9HR3UFQQXY': [],\n",
              " 'A16Y7V1CZCWKFV': ['B000EE9XYG',\n",
              "  'B007SA3AUW',\n",
              "  'B000FVHRXC',\n",
              "  'B001U4RGOS',\n",
              "  'B01CRWLLX8',\n",
              "  'B004E4GHRS',\n",
              "  'B006IB5T4W',\n",
              "  'B00B0SA1SC',\n",
              "  'B00JYGWWIO',\n",
              "  'B00L88S190'],\n",
              " 'A174YOBOSW9WDN': [],\n",
              " 'A1786SKRAJXH86': [],\n",
              " 'A17K2BUZ20WD2': [],\n",
              " 'A17LYRFV645L0V': [],\n",
              " 'A18LNGVXDZBTUR': [],\n",
              " 'A19503XX7GU6J2': ['B000142ZFS',\n",
              "  'B006GESCPY',\n",
              "  'B013OJ04GI',\n",
              "  'B019Z9KCUO',\n",
              "  'B019Z9JUC0',\n",
              "  'B019Z9L8PW',\n",
              "  'B019Z9L30W',\n",
              "  'B019Z9L6MC',\n",
              "  'B001DKQ47E',\n",
              "  'B0067F28ZW'],\n",
              " 'A19HVHRZDYFEOP': [],\n",
              " 'A19JM38B861BO4': [],\n",
              " 'A19KGY3W1P0MHT': [],\n",
              " 'A19KJPOF3QOJ24': [],\n",
              " 'A19U5RT4Q8Q1T6': [],\n",
              " 'A1AQNQUNX8B6JT': [],\n",
              " 'A1ARU0IN6RUFFD': [],\n",
              " 'A1BB4635KSKDMV': [],\n",
              " 'A1BCC7X6KRTBG0': [],\n",
              " 'A1BPJ56BXENC7': [],\n",
              " 'A1C0RI6W65FC8B': [],\n",
              " 'A1C60LJGZVEK27': [],\n",
              " 'A1CB2SMS3TD44Z': [],\n",
              " 'A1CNSU8P68CPLT': [],\n",
              " 'A1CSDWBYUJBCJZ': [],\n",
              " 'A1CTNNVIYHO25P': [],\n",
              " 'A1CTQF97HFYOZB': [],\n",
              " 'A1D5C2H9UFZHPU': [],\n",
              " 'A1D5UVH72Z6NJ1': [],\n",
              " 'A1DAUVZRVSLLNW': [],\n",
              " 'A1DCZ9882PXLVB': [],\n",
              " 'A1DZ63D35BNT86': [],\n",
              " 'A1E0QCKB4R2X8X': [],\n",
              " 'A1E76OZZ5YUWVA': [],\n",
              " 'A1EBHZPAYMILW9': [],\n",
              " 'A1EJVNGBY5GM5I': [],\n",
              " 'A1ER0356V2DSKW': [],\n",
              " 'A1EY751AUVO5NZ': ['B001T8UGAG',\n",
              "  'B00AJECD2A',\n",
              "  'B01254XUXW',\n",
              "  'B01F6ENUK6',\n",
              "  'B01C74U1UU'],\n",
              " 'A1EZFX1TRHSAJX': [],\n",
              " 'A1F08GM4B97FV': [],\n",
              " 'A1F6EFMBK795DJ': [],\n",
              " 'A1FC8Y896NZP4T': [],\n",
              " 'A1FKIAKVOBNN7Y': [],\n",
              " 'A1FKUBRPLG6Y8I': [],\n",
              " 'A1G2HL4W8B3TA0': [],\n",
              " 'A1G8Z9IKJ0BD1M': [],\n",
              " 'A1GEJ55RJGD7JW': [],\n",
              " 'A1GIYGD23YIDTN': [],\n",
              " 'A1GLG2IZBZHRAJ': [],\n",
              " 'A1H1T82FPO20DN': [],\n",
              " 'A1H7JDZ9BKTKGC': [],\n",
              " 'A1HBROZPSV5KT6': [],\n",
              " 'A1HBXMUIHTAIU2': [],\n",
              " 'A1I32A4SA9W2L2': [],\n",
              " 'A1IDJ6KR8CQV9I': [],\n",
              " 'A1II0TTUUE2C7Y': [],\n",
              " 'A1ILEZFIVOU0EP': [],\n",
              " 'A1ITJ5M7I9G7FR': [],\n",
              " 'A1IWTXM1SJWHDN': [],\n",
              " 'A1J2NTTE63GNG2': [],\n",
              " 'A1JRREJ5D62LFF': [],\n",
              " 'A1KGMTEXL70WF6': [],\n",
              " 'A1KWUQZJ1Z6MN2': [],\n",
              " 'A1LXJ8XCGNBXOF': [],\n",
              " 'A1M8YMS915ZK0B': [],\n",
              " 'A1NDRR3G9SJF18': [],\n",
              " 'A1NE6K8PXW780O': [],\n",
              " 'A1NEG0FRW5FDBL': [],\n",
              " 'A1NN82RWB6PXJW': [],\n",
              " 'A1NY67EVWD6CD6': [],\n",
              " 'A1OB41VQHXZ0R8': [],\n",
              " 'A1OJ2IXX8F7Q7X': [],\n",
              " 'A1OTIUDE7LWAGT': [],\n",
              " 'A1P1OHYJOOZX5P': [],\n",
              " 'A1PFDA9SL15S4O': [],\n",
              " 'A1PKBKALGLSX0Z': [],\n",
              " 'A1PMLXHE863GR6': [],\n",
              " 'A1PR178735XC70': ['B0067F28ZW',\n",
              "  'B00RYGTT2S',\n",
              "  'B00NM5A4A6',\n",
              "  'B00NNLZ5OY',\n",
              "  'B00NNLYTFU',\n",
              "  'B00PXDQC1A',\n",
              "  'B00O1FYJPW',\n",
              "  'B00S4ABX2W'],\n",
              " 'A1PXO67EUM5HJQ': [],\n",
              " 'A1QHS58JVFLF3I': [],\n",
              " 'A1QPKRHCAOQVZ5': [],\n",
              " 'A1R2TTULP0Z2BM': [],\n",
              " 'A1R8GBYBJWWWU0': [],\n",
              " 'A1RAXJN2Q4V20X': [],\n",
              " 'A1RCMCAJR2LJA4': [],\n",
              " 'A1RE2XA5HQD1D3': [],\n",
              " 'A1RMLPJ1PF8LGV': [],\n",
              " 'A1RX2ODQRQZVSI': [],\n",
              " 'A1S3NMNTSO6GW': [],\n",
              " 'A1S6OQV823B53J': [],\n",
              " 'A1SA3N793WT2LM': ['B0001TMDF0',\n",
              "  'B00021KD2C',\n",
              "  'B000B658RI',\n",
              "  'B000GG7NU8',\n",
              "  'B000GLRREU',\n",
              "  'B000FOI48G',\n",
              "  'B000LNIRCO',\n",
              "  'B0010ZBORW',\n",
              "  'B001DKQ47E',\n",
              "  'B00ARBOMTM'],\n",
              " 'A1SA932MLERVQY': [],\n",
              " 'A1SCZBXGPJ2615': [],\n",
              " 'A1SMXRCNRO4ZQM': [],\n",
              " 'A1T1N2585E1T0D': [],\n",
              " 'A1TEKLMF4V1X2C': [],\n",
              " 'A1TF44D9KYAD60': [],\n",
              " 'A1TGP1VTM3KCTI': [],\n",
              " 'A1TK5M6EM3GS3C': [],\n",
              " 'A1TO3GV14TGF2R': [],\n",
              " 'A1TP9JHTIY468V': ['B0001TMDF0',\n",
              "  'B00021KD2C',\n",
              "  'B00TE2M7II',\n",
              "  'B003Y0MRJ0',\n",
              "  'B000NY66DS',\n",
              "  'B004LUQRJI',\n",
              "  'B00M16MHHA',\n",
              "  'B00OVI1Y0M',\n",
              "  'B00WQAM3M0',\n",
              "  'B00WQAMC8U'],\n",
              " 'A1UAOE8KO7Q1DZ': [],\n",
              " 'A1UDCDY6ZNE83T': [],\n",
              " 'A1UUNKRU1DTZTL': [],\n",
              " 'A1V0UJQ4XGAJ3H': [],\n",
              " 'A1VBZLO2JGYU1B': [],\n",
              " 'A1VC6YCAFKV6Q': [],\n",
              " 'A1VVEX78B2TYBX': [],\n",
              " 'A1VVQ2DFL0QLXF': [],\n",
              " 'A1VYWSQ2OXLH98': [],\n",
              " 'A1WEFBEJ7OHSVZ': ['B0000Y8IOQ',\n",
              "  'B000GLRREU',\n",
              "  'B000FOI48G',\n",
              "  'B000GU4TX8',\n",
              "  'B000HGJLL6',\n",
              "  'B000WYJTZG',\n",
              "  'B0014AX89K',\n",
              "  'B001QJTEQK',\n",
              "  'B00BY8AGHE',\n",
              "  'B00W259T7G'],\n",
              " 'A1WOX40GUAFDKW': [],\n",
              " 'A1WSZED2O5MA5T': ['B00021DJ32',\n",
              "  'B000G8LWZI',\n",
              "  'B0054EU4Z8',\n",
              "  'B0054PCP0O',\n",
              "  'B006WYJM8Y',\n",
              "  'B0009RF9DW',\n",
              "  'B000FI4S1E',\n",
              "  'B0012Y0ZG2',\n",
              "  'B000F0BXLK',\n",
              "  'B000FED5DU'],\n",
              " 'A1XBJBT6HORBLA': [],\n",
              " 'A1XHN6JF8A8W69': [],\n",
              " 'A1XWCTARAQ0679': [],\n",
              " 'A1XZJ85PKMAZP0': [],\n",
              " 'A1YALF6PWOMS6S': [],\n",
              " 'A1YEO5KEW7M2GF': [],\n",
              " 'A1YQ33635DJEG5': [],\n",
              " 'A1YSAFP6T3JZ1C': [],\n",
              " 'A1YTPCNXQ2LJ5Z': [],\n",
              " 'A1YVXZK51DEDPC': [],\n",
              " 'A1Z3GE09RDY6O7': [],\n",
              " 'A1Z6IPI0G3QIUR': [],\n",
              " 'A1ZVXL7K0XY3S6': [],\n",
              " 'A1ZXYITUZM3Q6A': [],\n",
              " 'A202BVEB76NTMK': [],\n",
              " 'A205S0BTPEFI0I': [],\n",
              " 'A20MSUD02BETH2': [],\n",
              " 'A20P2XESU3G3EC': [],\n",
              " 'A20QY357E6SAF': [],\n",
              " 'A20SJ2793OUCPW': [],\n",
              " 'A20T7NNNUHH60H': [],\n",
              " 'A21JL9NVA7KEMC': [],\n",
              " 'A21M4N08F3EU5J': [],\n",
              " 'A21NUBJVBS230S': [],\n",
              " 'A21OELUKDF2E57': [],\n",
              " 'A21XQP90LEND9R': [],\n",
              " 'A21YO11OY4KATO': [],\n",
              " 'A220EHDBIGBL30': [],\n",
              " 'A224YJVNU30DVM': [],\n",
              " 'A22A1B25VBD0YO': [],\n",
              " 'A22EWIMT2GUTTL': [],\n",
              " 'A22EZJLTPINCFS': [],\n",
              " 'A22QJRB86RF6O1': [],\n",
              " 'A2320AUCHA95U2': [],\n",
              " 'A232IJ75I4KP9C': [],\n",
              " 'A23GTKDW92ZPP2': [],\n",
              " 'A23O1B8IVSYKMO': [],\n",
              " 'A23VR3KT0TPG83': [],\n",
              " 'A24HCM5QV0ZTJ5': [],\n",
              " 'A24ZE4O3OQMSP0': [],\n",
              " 'A255E6ZWUBMEJJ': [],\n",
              " 'A258D00BRNHJ77': [],\n",
              " 'A25TLD8KIU807H': [],\n",
              " 'A26434CRUTADT5': [],\n",
              " 'A26AT96096UOEZ': [],\n",
              " 'A26RKZDM4DK8OQ': [],\n",
              " 'A274IW68565M0U': [],\n",
              " 'A286OWYO1BDT52': [],\n",
              " 'A288UAQLON8FK2': [],\n",
              " 'A28E3FNV1BYC94': ['B0009WY5AA',\n",
              "  'B000EGMC74',\n",
              "  'B001CL2LB2',\n",
              "  'B000GLRREU',\n",
              "  'B000FOI48G',\n",
              "  'B000WN5K2S',\n",
              "  'B0017GQKZU',\n",
              "  'B001DKQ47E',\n",
              "  'B007EITOSK',\n",
              "  'B00ARBOMTM'],\n",
              " 'A28GO11F387SOX': [],\n",
              " 'A28H0PFALTML0I': [],\n",
              " 'A28OZKV4ZYZX42': [],\n",
              " 'A28P7FF1TVPG1K': [],\n",
              " 'A28Q7C1FAIZGLV': [],\n",
              " 'A29834GBB4DOP1': ['B000142ZFS',\n",
              "  'B000GLRREU',\n",
              "  'B000FOI48G',\n",
              "  'B002K5SWA8',\n",
              "  'B014DH4FTC'],\n",
              " 'A29HQ60YC1RG1P': [],\n",
              " 'A29MENRU87PET0': [],\n",
              " 'A29PZKXDCQFTYW': [],\n",
              " 'A29SD3TFGX6Q34': [],\n",
              " 'A2A0MIOWIW2SB8': [],\n",
              " 'A2A8ECI6ABJBMA': [],\n",
              " 'A2AAQWBJJTK3E1': ['B00CFCVMUS'],\n",
              " 'A2AE0E0H463YL6': [],\n",
              " 'A2APG6OZXU4QIZ': [],\n",
              " 'A2BDB427ROEP7H': [],\n",
              " 'A2BHJO8WOGMW6E': [],\n",
              " 'A2BOSA30FCF6G8': [],\n",
              " 'A2BU6N5956T9NH': ['1620213982',\n",
              "  'B013G464EM',\n",
              "  'B01CHS3CHA',\n",
              "  'B01G08QMAW',\n",
              "  'B011ABK2LO',\n",
              "  '4967318355',\n",
              "  '9790787006',\n",
              "  'B000050FDT',\n",
              "  'B000PKKAFK',\n",
              "  'B00189XUBI'],\n",
              " 'A2BUZ308P92OYA': [],\n",
              " 'A2C1F859F9V1SL': [],\n",
              " 'A2C8YINPNRQOAU': [],\n",
              " 'A2CDQOF7WHUYKJ': [],\n",
              " 'A2CEEE0IK3LKN1': [],\n",
              " 'A2CZVE6ORV87C5': [],\n",
              " 'A2DD6RH1AF0PLI': [],\n",
              " 'A2DFOCWUKJX3PT': [],\n",
              " 'A2E8WG5GRZGMXU': [],\n",
              " 'A2ESQAPIGR2TJF': [],\n",
              " 'A2EUQ4ESAB2N6A': [],\n",
              " 'A2EZXF5YGYTOWN': [],\n",
              " 'A2F0VQQLSF558D': [],\n",
              " 'A2F3QV40SONN60': [],\n",
              " 'A2F95NSPD4XEEU': [],\n",
              " 'A2FA2J1JT12N7J': [],\n",
              " 'A2FFUJ5D4CMJ4L': [],\n",
              " 'A2FLLYV6Z8UQ26': [],\n",
              " 'A2G1XJ25DR7PVF': [],\n",
              " 'A2G5KJ0CZE65ZD': [],\n",
              " 'A2GFPTQ4VWDX96': [],\n",
              " 'A2GJLNRQTVUNOF': [],\n",
              " 'A2GOFJ3OZZUZ3H': [],\n",
              " 'A2GV0FE30O6M67': [],\n",
              " 'A2H3W11661MWDA': [],\n",
              " 'A2H7FD5GQMJXAQ': [],\n",
              " 'A2H7VSYLKGKLLJ': [],\n",
              " 'A2HFAX39PMLIGH': [],\n",
              " 'A2I4O72AAE1T1T': [],\n",
              " 'A2I868XUY96VWA': [],\n",
              " 'A2IK039KMC8UP1': [],\n",
              " 'A2IMJV0CQMZLGC': ['B001T88N0G',\n",
              "  'B001TQO3B6',\n",
              "  'B003SZGTYK',\n",
              "  'B00CF5DUIC',\n",
              "  'B00567UTKI',\n",
              "  'B0058H0GA4',\n",
              "  'B005B6GCN2',\n",
              "  'B00YAFS3F0',\n",
              "  'B00694GUFK',\n",
              "  'B00AWD95HE'],\n",
              " 'A2INWR0T7A7UN5': [],\n",
              " 'A2IOBG1ERS4JP3': ['B000GZJIVQ',\n",
              "  'B004YNIO6Q',\n",
              "  'B00HWHF9IM',\n",
              "  'B016A68H0C',\n",
              "  'B00H1M8R3C'],\n",
              " 'A2IRPQ7DXQ9YIN': [],\n",
              " 'A2J4WOR87ELFBH': [],\n",
              " 'A2JCBLTLYDPQLW': ['B00G5L867C',\n",
              "  'B000NJMSXU',\n",
              "  'B001ECVFFC',\n",
              "  'B007D1E83Y',\n",
              "  'B00763M03O',\n",
              "  'B00UZH5OLI',\n",
              "  'B0091OCA86',\n",
              "  'B00NE5Q9JO',\n",
              "  'B00K7GWNAC',\n",
              "  'B00Q794RMA'],\n",
              " 'A2JEH2NKM1Z8CQ': [],\n",
              " 'A2JXZSR7R85KX4': [],\n",
              " 'A2K7XZCFYGZH0O': [],\n",
              " 'A2KO4HGLWB57LI': [],\n",
              " 'A2KVN4XKFJH0I8': [],\n",
              " 'A2LM47GK1W7RRR': [],\n",
              " 'A2LSOMD2X9KCCH': [],\n",
              " 'A2LYTBRWFQJMKM': [],\n",
              " 'A2M4YSOJZELJ6N': ['B00VF344X0', 'B00P1QBN5E', 'B010L7IEN6', 'B00OZ67E0Y'],\n",
              " 'A2MAZK8XSIDXPF': [],\n",
              " 'A2MDIPJ7MS0MUJ': [],\n",
              " 'A2MGO3WV3SX7X': [],\n",
              " 'A2MLV3I5MMJ2RA': [],\n",
              " 'A2MPSHMC0U29AV': [],\n",
              " 'A2NI47L1B1RXSG': [],\n",
              " 'A2NJQZBE8TSUYO': [],\n",
              " 'A2NWTETCSLOEQN': [],\n",
              " 'A2O4DMC8M5JFHG': [],\n",
              " 'A2O823CIB99X95': [],\n",
              " 'A2OT3011J8E1ZP': [],\n",
              " 'A2OXIHJW4K9NKE': [],\n",
              " 'A2P6L9MQK99U36': [],\n",
              " 'A2PB6LYMRA7Z9V': [],\n",
              " 'A2PEJEOUE9MNA6': [],\n",
              " 'A2PIBK3EOG5TBK': [],\n",
              " 'A2PY1DBGV9FQA2': [],\n",
              " 'A2Q5UOQ4L1BOB9': [],\n",
              " 'A2QE1WIYFY0HAP': [],\n",
              " 'A2QP73U21FHJZI': [],\n",
              " 'A2QV1YJODH28QP': [],\n",
              " 'A2RAISC8UEEBK9': [],\n",
              " 'A2RDNAR2R66DKD': [],\n",
              " 'A2RXAD7UZ4VFT6': [],\n",
              " 'A2S47NK970GKD9': [],\n",
              " 'A2SMFKDH22FMA3': [],\n",
              " 'A2SOH4QHL5DZ6D': [],\n",
              " 'A2SQIQZUBEAJR3': [],\n",
              " 'A2SWEHEK2BMPM8': [],\n",
              " 'A2SYZ28NVJZ4R1': [],\n",
              " 'A2T0AMZZLASKKV': [],\n",
              " 'A2TCLY6N04N9D7': [],\n",
              " 'A2TW5FC72PI7SE': [],\n",
              " 'A2UAC8RKSPUIKH': [],\n",
              " 'A2UX00W1OX5A80': [],\n",
              " 'A2V88AD0XHE2IE': [],\n",
              " 'A2VC9R3XCFOEP1': [],\n",
              " 'A2VLCD1OWKXBW0': [],\n",
              " 'A2VTFDQ1DZN7UI': [],\n",
              " 'A2WHTNQ939BS71': [],\n",
              " 'A2WQGKM49J8UYT': [],\n",
              " 'A2WX2YLLHJDLX7': [],\n",
              " 'A2X4BZH61VJH5M': [],\n",
              " 'A2XEM0Y2PBNYK3': [],\n",
              " 'A2XFJ8CTY7VDNN': ['B00005JS5C',\n",
              "  'B001V9LV1G',\n",
              "  'B000142ZFS',\n",
              "  'B00HQNLTYK',\n",
              "  'B0001LQGG0',\n",
              "  'B00020UR4C',\n",
              "  'B0015S8026',\n",
              "  'B000GG7NU8',\n",
              "  'B001F51T6S',\n",
              "  'B000GW78MU'],\n",
              " 'A2XTIQTNDTY6IA': [],\n",
              " 'A2XVM7UW32TYJ4': [],\n",
              " 'A2XY3CJ3ZCAD03': ['B00X8LM98Y', 'B014GG2KH4', 'B00PSYOU90', 'B00XQ2VHL0'],\n",
              " 'A2XYR0XUSOOBKN': [],\n",
              " 'A2Y1J1AKXDLR1': [],\n",
              " 'A2Y88AU2Y58W78': [],\n",
              " 'A2Z6RKQQUX4RJA': [],\n",
              " 'A2ZBZF2MUG5BMT': [],\n",
              " 'A2ZFTLMOAS9YS9': [],\n",
              " 'A2ZIIOGLNJDGAW': [],\n",
              " 'A2ZKSKEG5ADC67': [],\n",
              " 'A2ZZKY1V6M940H': [],\n",
              " 'A31LANQ03TDCXY': [],\n",
              " 'A323D529OO2E1G': [],\n",
              " 'A3254BNN69CL47': [],\n",
              " 'A327I3S4ZCZYBV': [],\n",
              " 'A32D5I46E15TEC': [],\n",
              " 'A32H6TQKJ1PQTP': [],\n",
              " 'A32KYN14BUANDF': [],\n",
              " 'A32OQFYMJ18HD6': [],\n",
              " 'A333LLJ35S8DVV': [],\n",
              " 'A33M6H443E78K3': [],\n",
              " 'A33S6R9E8SJQBP': [],\n",
              " 'A34DAQYDWYMVSG': [],\n",
              " 'A35F9VHYWAFR8J': [],\n",
              " 'A35F9XOEGELEWC': [],\n",
              " 'A35PB7968I55RI': [],\n",
              " 'A35RIL0AVMMXXL': [],\n",
              " 'A35Y5NLC3UEUQD': [],\n",
              " 'A367NSWV6NUSL1': [],\n",
              " 'A36I89SEZ432XE': [],\n",
              " 'A375WSDCO30KT9': [],\n",
              " 'A37G41T4DD51AH': [],\n",
              " 'A37M369VIVDDVJ': [],\n",
              " 'A37OPVPXMWHJJK': [],\n",
              " 'A37WMXX147RL1X': [],\n",
              " 'A37XPPIGUTR4LE': [],\n",
              " 'A388NSX468EY1E': [],\n",
              " 'A38GODWWMRN5IP': [],\n",
              " 'A38J6ZI0XZOY54': [],\n",
              " 'A38KP6TI3BUIM6': [],\n",
              " 'A38KUK8INKLRVW': [],\n",
              " 'A38OH5OTHDIENK': [],\n",
              " 'A38QGF4YG5YLUX': [],\n",
              " 'A3909LKTROS8XZ': [],\n",
              " 'A3961EO6PXRSV4': [],\n",
              " 'A39LZUDABR584J': [],\n",
              " 'A39PTGNQVCNU44': [],\n",
              " 'A39VI1UOID3TYE': [],\n",
              " 'A39YNT3CHM2I0Z': [],\n",
              " 'A3A3FMJO4E1E16': [],\n",
              " 'A3B99K4E030SZQ': [],\n",
              " 'A3BE6JK97CYAGA': ['1620213982',\n",
              "  'B000050FDY',\n",
              "  'B00JRN8UVC',\n",
              "  'B0001WXTPA',\n",
              "  'B01FNJ9MOW',\n",
              "  'B01GX3DTFU',\n",
              "  'B01EYHPYKK',\n",
              "  'B000RC2V4Y',\n",
              "  'B007G4VM3C',\n",
              "  'B00JQW3J1K'],\n",
              " 'A3BLE5G96342IP': [],\n",
              " 'A3BNG9PTUPB4QO': [],\n",
              " 'A3BPFL7PM0EX1K': [],\n",
              " 'A3BT1WLPENXMD6': ['0992916305',\n",
              "  '1620213982',\n",
              "  'B00AQXD2HO',\n",
              "  'B00005JS5C',\n",
              "  'B000068PBL',\n",
              "  'B000068PBJ',\n",
              "  'B00009RB10',\n",
              "  'B00009RB1C',\n",
              "  'B006WZ9ZHQ',\n",
              "  'B00EYZY6LQ'],\n",
              " 'A3BU92XQ2M0FQV': [],\n",
              " 'A3BWTFXS9CXVAE': [],\n",
              " 'A3BXCNI6BG5GCW': [],\n",
              " 'A3C2F0Y7G5FRW3': [],\n",
              " 'A3CBKKG14IB1KH': [],\n",
              " 'A3CQ0NMUJ9TODP': [],\n",
              " 'A3CUAESGA4K7FU': [],\n",
              " 'A3CXM8XQ5Q1KPP': [],\n",
              " 'A3D0FFKCWXN2LR': [],\n",
              " 'A3D1IGUMS62SNU': [],\n",
              " 'A3D1VPTQGDS7H3': [],\n",
              " 'A3D4BNTGWVUMYY': [],\n",
              " 'A3DKARAF791Z5X': [],\n",
              " 'A3DTSBINBC9T1Y': [],\n",
              " 'A3DXQ86N43AUK3': [],\n",
              " 'A3DXW3542E4QUC': ['B001ET7FZE', 'B006MRPMMG', 'B01BNEYGQU', 'B00X4DKZKU'],\n",
              " 'A3E9HGSGQCU4CT': [],\n",
              " 'A3EAHHQ7KV8LFG': [],\n",
              " 'A3EJS66CXBQLE8': [],\n",
              " 'A3ENBUF1TIQR5K': [],\n",
              " 'A3EZHDCUB7I4KM': [],\n",
              " 'A3F1C4MOB3X5XL': [],\n",
              " 'A3F6V5A2SFES04': [],\n",
              " 'A3FDEHXOYLD1AC': [],\n",
              " 'A3FGDP5PT4SPLK': [],\n",
              " 'A3FGWJLDNTJWED': [],\n",
              " 'A3G1X7LFBAPCUJ': [],\n",
              " 'A3GCKFO3G4AHLF': [],\n",
              " 'A3GGSN44XCR1LP': [],\n",
              " 'A3GPMU8E282AUW': [],\n",
              " 'A3GRQ9WMP4OXFE': [],\n",
              " 'A3GWKJFBX8ZKT6': [],\n",
              " 'A3H8Z7JS7XJHJJ': ['B000HGJLL6',\n",
              "  'B000JUT8KY',\n",
              "  'B008QIGOTE',\n",
              "  'B00DT4757A',\n",
              "  'B00OTG3H1K',\n",
              "  'B00VV3UV2W',\n",
              "  'B008XADNJE',\n",
              "  'B01EX1LHNK',\n",
              "  'B01GLA54SA',\n",
              "  'B01GR53BYI'],\n",
              " 'A3HRUR5VRFZ09F': [],\n",
              " 'A3IGRPW3T3WYYQ': [],\n",
              " 'A3J1T4IGQLKKMB': [],\n",
              " 'A3J9IGXNOJR2BL': [],\n",
              " 'A3JA23Z053GQH': [],\n",
              " 'A3JCDPKW3RY4RN': [],\n",
              " 'A3JEQJCEMX20GI': ['B00021DJ32',\n",
              "  'B006WYJM8Y',\n",
              "  'B00C4207LY',\n",
              "  'B01BBP79SS',\n",
              "  'B01CCMRN76',\n",
              "  'B00IUJJDQ0',\n",
              "  'B01BI8YFAS',\n",
              "  'B008EJJ50A',\n",
              "  'B01FLJROJ4',\n",
              "  'B008E0DBYA'],\n",
              " 'A3KFRJBKYYNED7': [],\n",
              " 'A3KS7QCK708PRV': [],\n",
              " 'A3KYSCD09GNSUT': [],\n",
              " 'A3LA1YKU7MU28G': [],\n",
              " 'A3LEZ2F3IJC8PI': [],\n",
              " 'A3LIUDVZL87BJ1': [],\n",
              " 'A3LW4UWD5IH59X': [],\n",
              " 'A3LX43D34SINN3': [],\n",
              " 'A3LZ31BL10WT5Y': [],\n",
              " 'A3MAKZCODKKTYI': [],\n",
              " 'A3MFCMTXMF9B6W': [],\n",
              " 'A3MKAAS1OCULM6': [],\n",
              " 'A3MOSFTVDLAPDQ': [],\n",
              " 'A3MSPZTFP55OAG': [],\n",
              " 'A3MYAEQWFLNGT7': [],\n",
              " 'A3N4SR54KR77RK': [],\n",
              " 'A3NVFNLI1D4JUI': [],\n",
              " 'A3NYG8M131X9CM': [],\n",
              " 'A3OAQJCQBNF2JV': [],\n",
              " 'A3OCZRK8OEGZKL': [],\n",
              " 'A3OIDZP7AI0URM': [],\n",
              " 'A3OVOP3ZAF1EZ2': [],\n",
              " 'A3P3RV0CUR0VRQ': [],\n",
              " 'A3P8Z0J9AH92IZ': [],\n",
              " 'A3PJ22YDBOO8DN': [],\n",
              " 'A3PLMGKX9OQWOY': [],\n",
              " 'A3QL4UXK2Z5Q7T': [],\n",
              " 'A3QLWWO4V4PFMJ': [],\n",
              " 'A3QUUP6DYHF9YC': [],\n",
              " 'A3R7ZWTFN19KIX': [],\n",
              " 'A3RCVP2TSCL409': [],\n",
              " 'A3RUEIK67SFBFQ': [],\n",
              " 'A3SG2GXNRU6AO8': [],\n",
              " 'A3SL5YEUG12X9A': [],\n",
              " 'A3SME2XHYE99M5': [],\n",
              " 'A3T0BPK8JD6MD5': [],\n",
              " 'A3T2OTYYUYGLP0': [],\n",
              " 'A3T35MARIMRX9M': [],\n",
              " 'A3T9MTY43BVAL8': [],\n",
              " 'A3T9WXXE7EWNT8': [],\n",
              " 'A3TELGW4O61A61': [],\n",
              " 'A3TGG91X7W9SE8': [],\n",
              " 'A3TSVNG02WZYSW': [],\n",
              " 'A3U32YT7BSZ0KJ': [],\n",
              " 'A3UAJ5O4VR3IQ3': [],\n",
              " 'A3UBQFB24OY57': [],\n",
              " 'A3UCBR5T51RVRF': [],\n",
              " 'A3URWO9TFNH3IW': [],\n",
              " 'A3V81XSQIPRKO8': [],\n",
              " 'A3V9LE9I6Z5AF3': [],\n",
              " 'A3VEZWV624JM4O': [],\n",
              " 'A3VFDFSQ8X74WJ': [],\n",
              " 'A3VXSKW11C3301': [],\n",
              " 'A4INUX2JA7KE2': [],\n",
              " 'A4IQXCCXDEAKW': ['B000EG8HLE',\n",
              "  'B000PARERW',\n",
              "  'B0017MTBUA',\n",
              "  'B0019CK0IK',\n",
              "  'B001N5O7EG',\n",
              "  'B000UK2VRK',\n",
              "  'B0017TZD7S',\n",
              "  'B00185SPJO',\n",
              "  'B004BC62MI',\n",
              "  'B019809F9Y'],\n",
              " 'A4PZHPMLBS8T3': [],\n",
              " 'A4SRPWVKZ8MBC': [],\n",
              " 'A4V3S90H5OZTV': [],\n",
              " 'A4VQ44JM97RBL': [],\n",
              " 'A5ECS1R7F1TUD': [],\n",
              " 'A5LV53PMV1X6R': [],\n",
              " 'A674HJEQGJ5R9': [],\n",
              " 'A679PFWSVAY0B': [],\n",
              " 'A6IX0T5Z4NEXG': [],\n",
              " 'A6JVX3BIR03UT': [],\n",
              " 'A6P34Q7M983DN': [],\n",
              " 'A72IXFDV3HVU6': [],\n",
              " 'A74XHLD33IB9S': [],\n",
              " 'A7EG6541KYNIU': [],\n",
              " 'A7HS9Y95Y9BI6': [],\n",
              " 'A7JUHUYLXIUVQ': [],\n",
              " 'A7KQ3EGH8QTDS': [],\n",
              " 'A7SILTHEWXQ8T': [],\n",
              " 'A7Y4ETTLARUGI': [],\n",
              " 'A7Z2BG3284EE8': [],\n",
              " 'A8FMILLDHAI14': [],\n",
              " 'A8JUUA4GHIAMI': [],\n",
              " 'A8LVPPXFVYGVU': [],\n",
              " 'A8ZUDRNPFB0FU': [],\n",
              " 'A9BXB2XYAW169': [],\n",
              " 'A9LOWDS5H848B': [],\n",
              " 'AA3TPN2ZXE9TE': [],\n",
              " 'AAD3T3WYTF1BR': [],\n",
              " 'AAJ1IA9SFH4IG': [],\n",
              " 'AAT4JCLA3VGRZ': [],\n",
              " 'ABNE90UVC4BMT': [],\n",
              " 'ABSMQNX2PDSWH': [],\n",
              " 'ABWCUEDFH8W5H': [],\n",
              " 'ABYOL1GQA39OB': [],\n",
              " 'AC0X1OVDMJX9': [],\n",
              " 'ACCY5NWUNEC87': [],\n",
              " 'ACE1ZIOI3U6PY': ['B007NIQVFK',\n",
              "  'B017M7I8UW',\n",
              "  'B011SIO9HC',\n",
              "  'B00IBDDALY',\n",
              "  'B000067E30',\n",
              "  'B006WZ9ZHQ',\n",
              "  'B00PMRE5A2',\n",
              "  'B00QHX7NT0',\n",
              "  'B01E7UKR38',\n",
              "  'B005IZD7BG'],\n",
              " 'ACLAKWV2EFFB5': [],\n",
              " 'AD9O852KPYLHY': [],\n",
              " 'ADDXT6NXD9GQ7': [],\n",
              " 'ADG8D8X6P9X7M': [],\n",
              " 'ADR4IE33O06IJ': [],\n",
              " 'ADV1MNMPVS17V': [],\n",
              " 'ADYRHTPM2T2SE': [],\n",
              " 'AE6VHWVRXHU19': [],\n",
              " 'AEKJTREHL41OE': [],\n",
              " 'AEP7KPEZWI7VY': [],\n",
              " 'AETOYW0R5VN0X': [],\n",
              " 'AEZBSOFLB44RG': [],\n",
              " 'AFE9H6ABXM735': [],\n",
              " 'AFMQ7BBR4FYMB': [],\n",
              " 'AFY8EIWAT6H8J': [],\n",
              " 'AG0867QGE3R2B': [],\n",
              " 'AG3T3ILPXFL3H': [],\n",
              " 'AG74ZKO3BG57J': [],\n",
              " 'AGORXWI6K2RIR': [],\n",
              " 'AGRZQOBCF8H87': ['B000NN5HFW',\n",
              "  'B000WYJTZG',\n",
              "  'B0016BFK2U',\n",
              "  'B003X9YAL0',\n",
              "  'B00DPNJYJW',\n",
              "  'B00EP1N77I',\n",
              "  'B00F1XUQDC',\n",
              "  'B00NR90T0W',\n",
              "  'B00OL19Z2I',\n",
              "  'B00VTPL7M0'],\n",
              " 'AGTD0T9R78YLG': [],\n",
              " 'AGYIYIVZHBI60': [],\n",
              " 'AHGNU4UWGATOH': [],\n",
              " 'AHYRXYR235TWH': [],\n",
              " 'AIB7HX2UC3WHM': [],\n",
              " 'AITF34BGBMVJJ': ['B0006U6RQU',\n",
              "  'B008URTTR0',\n",
              "  'B000GLRREU',\n",
              "  'B000FOI48G',\n",
              "  'B001BOKR3E',\n",
              "  'B001QY8QXM',\n",
              "  'B008U1Q4DI',\n",
              "  'B00R8J13W0',\n",
              "  'B01EX1LHNK',\n",
              "  'B00VGQ8VTY'],\n",
              " 'AIU7HYQIC5D95': [],\n",
              " 'AJHSB0LT8NKP4': [],\n",
              " 'AJYMJEC6B7V52': [],\n",
              " 'AK4VANLR5UK95': [],\n",
              " 'AK7YIZE6ZZ1N9': ['B00T670JJU', 'B00T670MVU'],\n",
              " 'AKHSKD91MQ9DP': [],\n",
              " 'ALUZH689LQE6K': [],\n",
              " 'ALWLZC3GRRXPN': [],\n",
              " 'AM1KUDVTKXIAQ': [],\n",
              " 'AM9HBLGAPZQR7': [],\n",
              " 'AMA98TY969A1T': [],\n",
              " 'AMLDY4QY4HV0D': [],\n",
              " 'AMVZ9HW23Y42N': [],\n",
              " 'AN3QZR3OD7SFO': [],\n",
              " 'ANC6FN6T8JBB2': [],\n",
              " 'ANDGVKQ15NCZM': [],\n",
              " 'ANFUWUOC7EJKR': [],\n",
              " 'ANG7MOYBTWQE6': [],\n",
              " 'ANJ6Y9G0B4TM8': [],\n",
              " 'ANR73TPVBCQ9K': ['B00009RB1C'],\n",
              " 'ANT034IX5ZPI9': [],\n",
              " 'AOB2Y1KJQG7K7': [],\n",
              " 'AONHG4PDUQ0D6': [],\n",
              " 'APA9SALOTTBM6': [],\n",
              " 'APARJQGAD0J4C': [],\n",
              " 'AQ5PKYF0FJA4B': [],\n",
              " 'AQCQQYEUHUX3M': [],\n",
              " 'AQYL4TDY2HU8Z': [],\n",
              " 'AR9Y0CM5B174': [],\n",
              " 'ARLN791TA1RV7': [],\n",
              " 'AS8T77HTF9IHW': [],\n",
              " 'ASGIVOW34XNQS': ['1620213982',\n",
              "  'B000KNELAW',\n",
              "  'B00006IGL2',\n",
              "  'B0001WXTPA',\n",
              "  'B0002JHI1I',\n",
              "  'B01DEDYWD0',\n",
              "  'B01DJI7796',\n",
              "  'B00021DJ32',\n",
              "  'B003I5SDJO',\n",
              "  'B006IB5T4W'],\n",
              " 'ATJRZUXNWAWIK': ['B000050FDY',\n",
              "  'B00011QUDE',\n",
              "  'B0002JHI1I',\n",
              "  'B0002PU864',\n",
              "  'B00XD6UC7Y',\n",
              "  'B00070D21W',\n",
              "  'B0009RF9DW',\n",
              "  'B000FI4S1E',\n",
              "  'B000URXP6E',\n",
              "  'B0012Y0ZG2'],\n",
              " 'ATP2UCHTR7QMZ': [],\n",
              " 'ATR9J7TYR1KVL': [],\n",
              " 'ATVP6QJLS27EN': [],\n",
              " 'AU03W1V42994X': [],\n",
              " 'AU1BVXGV2KO8I': [],\n",
              " 'AU2JWZMFEVAH5': [],\n",
              " 'AU3MVNMVFSIM': [],\n",
              " 'AUKMWTDK16PAP': [],\n",
              " 'AUWJT1DM7SG2D': [],\n",
              " 'AV0O5NWF2NKDF': [],\n",
              " 'AV2MC7NNTMKTF': [],\n",
              " 'AVC89473DX6XU': [],\n",
              " 'AVFBQDR2KRNK6': [],\n",
              " 'AVIMJH2FF6QCH': [],\n",
              " 'AVO5FL5T9EZSR': [],\n",
              " 'AVQ0V2MIW2Z5K': [],\n",
              " 'AVWSUUBWD3RK4': [],\n",
              " 'AWJFUVK3064HX': [],\n",
              " 'AXM9OKKHRR4RP': [],\n",
              " 'AXPZI9N8HVHYO': [],\n",
              " 'AXQ57AZLKLPCQ': [],\n",
              " 'AXQS1B3WVRHQV': [],\n",
              " 'AXS7NH3GDN7EE': [],\n",
              " 'AY4F95T0JSTZ2': [],\n",
              " 'AYG63OK9TNBNP': [],\n",
              " 'AZE64W03EUJA4': [],\n",
              " 'AZECTAHZICNW5': [],\n",
              " 'AZEGZXCFTLSQB': [],\n",
              " 'AZEKC7DEXXJD7': [],\n",
              " 'AZFGSCB0S59LQ': [],\n",
              " 'AZHS42HV4FKKA': []}"
            ]
          },
          "metadata": {},
          "execution_count": 11
        }
      ],
      "metadata": {
        "id": "2CxBayLL6reN",
        "outputId": "9f752d01-0e7a-4124-d707-7ed783fb7d24"
      },
      "id": "2CxBayLL6reN"
    },
    {
      "cell_type": "markdown",
      "source": [
        "## 結果評估"
      ],
      "metadata": {
        "id": "WIEkEO_v6reP"
      },
      "id": "WIEkEO_v6reP"
    },
    {
      "cell_type": "code",
      "execution_count": null,
      "source": [
        "def evaluate(ratings_testings_by_user={}, ratings_by_user={}, method=None):\n",
        "    '''\n",
        "    * ratings_testings_by_user: dict 真實被購買的商品資料（2018-09-01 以後資料）\n",
        "    * ratings_by_user: dict 利用訓練資料學習的推薦商品\n",
        "    * method: str\n",
        "    * score: float\n",
        "    '''\n",
        "    total = 0\n",
        "    for d in ratings_testings_by_user:\n",
        "        if d in ratings_by_user:\n",
        "            total += len(set(ratings_by_user[d]) & set(ratings_testings_by_user[d]))\n",
        "\n",
        "    score = total / len(ratings_testings)\n",
        "    return score\n",
        "\n",
        "evaluate(ratings_testings_by_user, ratings_by_user)"
      ],
      "outputs": [
        {
          "output_type": "execute_result",
          "data": {
            "text/plain": [
              "0.0"
            ]
          },
          "metadata": {},
          "execution_count": 12
        }
      ],
      "metadata": {
        "id": "FJ2I--LL6reV",
        "outputId": "5d9d126c-5d8d-4360-9ae8-282e68d3ee07"
      },
      "id": "FJ2I--LL6reV"
    },
    {
      "cell_type": "code",
      "execution_count": null,
      "source": [
        ""
      ],
      "outputs": [],
      "metadata": {
        "id": "ONthU_8k6reW"
      },
      "id": "ONthU_8k6reW"
    },
    {
      "cell_type": "code",
      "execution_count": null,
      "source": [
        ""
      ],
      "outputs": [],
      "metadata": {
        "id": "gi0-Hcge6reW"
      },
      "id": "gi0-Hcge6reW"
    }
  ],
  "metadata": {
    "kernelspec": {
      "display_name": "Python 3",
      "language": "python",
      "name": "python3"
    },
    "language_info": {
      "codemirror_mode": {
        "name": "ipython",
        "version": 3
      },
      "file_extension": ".py",
      "mimetype": "text/x-python",
      "name": "python",
      "nbconvert_exporter": "python",
      "pygments_lexer": "ipython3",
      "version": "3.9.0"
    },
    "colab": {
      "name": "A6_cf-item-based.ipynb",
      "provenance": [],
      "collapsed_sections": [
        "kawSkfL16rd-",
        "DXvpOBld6reD"
      ],
      "include_colab_link": true
    }
  },
  "nbformat": 4,
  "nbformat_minor": 5
}
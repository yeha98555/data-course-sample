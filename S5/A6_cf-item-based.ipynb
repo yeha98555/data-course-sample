{
 "cells": [
  {
   "cell_type": "markdown",
   "metadata": {
    "colab_type": "text",
    "id": "view-in-github"
   },
   "source": [
    "<a href=\"https://colab.research.google.com/github/yeha98555/data-course-sample/blob/main/S5/A6_cf-item-based.ipynb\" target=\"_parent\"><img src=\"https://colab.research.google.com/assets/colab-badge.svg\" alt=\"Open In Colab\"/></a>"
   ]
  },
  {
   "cell_type": "markdown",
   "metadata": {
    "id": "q8dERN-c6rd3"
   },
   "source": [
    "# Item-based collaborative filtering"
   ]
  },
  {
   "cell_type": "markdown",
   "metadata": {
    "id": "kawSkfL16rd-"
   },
   "source": [
    "## 基礎建設"
   ]
  },
  {
   "cell_type": "code",
   "execution_count": 8,
   "metadata": {
    "id": "Prk6_EUJ6reA",
    "scrolled": true
   },
   "outputs": [],
   "source": [
    "import pandas as pd\n",
    "import gzip, json\n",
    "\n",
    "def parse(path):\n",
    "    g = gzip.open(path, 'rb')\n",
    "    for l in g:\n",
    "        yield json.loads(l)\n",
    "\n",
    "def getDF(path):\n",
    "    i = 0\n",
    "    df = {}\n",
    "    for d in parse(path):\n",
    "        df[i] = d\n",
    "        i += 1\n",
    "    return pd.DataFrame.from_dict(df, orient='index')"
   ]
  },
  {
   "cell_type": "markdown",
   "metadata": {
    "id": "DXvpOBld6reD"
   },
   "source": [
    "## 載入資料"
   ]
  },
  {
   "cell_type": "code",
   "execution_count": 9,
   "metadata": {
    "colab": {
     "base_uri": "https://localhost:8080/"
    },
    "id": "fOe-c1lV6reE",
    "outputId": "939f4edb-dfab-4b88-da85-ad4d7fceec8a"
   },
   "outputs": [
    {
     "name": "stdout",
     "output_type": "stream",
     "text": [
      "--2022-01-09 13:03:53--  http://deepyeti.ucsd.edu/jianmo/amazon/categoryFilesSmall/All_Beauty.csv\n",
      "Resolving deepyeti.ucsd.edu (deepyeti.ucsd.edu)... 169.228.63.50\n",
      "Connecting to deepyeti.ucsd.edu (deepyeti.ucsd.edu)|169.228.63.50|:80... connected.\n",
      "HTTP request sent, awaiting response... 200 OK\n",
      "Length: 15499476 (15M) [application/octet-stream]\n",
      "Saving to: ‘All_Beauty.csv.1’\n",
      "\n",
      "All_Beauty.csv.1    100%[===================>]  14.78M  10.2MB/s    in 1.5s    \n",
      "\n",
      "2022-01-09 13:03:55 (10.2 MB/s) - ‘All_Beauty.csv.1’ saved [15499476/15499476]\n",
      "\n",
      "--2022-01-09 13:03:55--  http://deepyeti.ucsd.edu/jianmo/amazon/metaFiles2/meta_All_Beauty.json.gz\n",
      "Resolving deepyeti.ucsd.edu (deepyeti.ucsd.edu)... 169.228.63.50\n",
      "Connecting to deepyeti.ucsd.edu (deepyeti.ucsd.edu)|169.228.63.50|:80... connected.\n",
      "HTTP request sent, awaiting response... 200 OK\n",
      "Length: 10329961 (9.9M) [application/octet-stream]\n",
      "Saving to: ‘meta_All_Beauty.json.gz.1’\n",
      "\n",
      "meta_All_Beauty.jso 100%[===================>]   9.85M  7.56MB/s    in 1.3s    \n",
      "\n",
      "2022-01-09 13:03:56 (7.56 MB/s) - ‘meta_All_Beauty.json.gz.1’ saved [10329961/10329961]\n",
      "\n"
     ]
    }
   ],
   "source": [
    "!wget http://deepyeti.ucsd.edu/jianmo/amazon/categoryFilesSmall/All_Beauty.csv\n",
    "!wget http://deepyeti.ucsd.edu/jianmo/amazon/metaFiles2/meta_All_Beauty.json.gz"
   ]
  },
  {
   "cell_type": "code",
   "execution_count": 10,
   "metadata": {
    "id": "z-P_zu2O6reF"
   },
   "outputs": [],
   "source": [
    "metadata = getDF('/content/meta_All_Beauty.json.gz')\n",
    "ratings = pd.read_csv('/content/All_Beauty.csv', names=['asin', 'reviewerID', 'overall', 'unixReviewTime'], header=None)"
   ]
  },
  {
   "cell_type": "code",
   "execution_count": 11,
   "metadata": {
    "colab": {
     "base_uri": "https://localhost:8080/",
     "height": 630
    },
    "id": "dt3Xf9KL6reG",
    "outputId": "e3c8f8e8-57b3-4774-a0aa-e3bdd71f5906"
   },
   "outputs": [
    {
     "data": {
      "text/html": [
       "\n",
       "  <div id=\"df-ff45a1e9-cd0b-408e-8393-899236f665d9\">\n",
       "    <div class=\"colab-df-container\">\n",
       "      <div>\n",
       "<style scoped>\n",
       "    .dataframe tbody tr th:only-of-type {\n",
       "        vertical-align: middle;\n",
       "    }\n",
       "\n",
       "    .dataframe tbody tr th {\n",
       "        vertical-align: top;\n",
       "    }\n",
       "\n",
       "    .dataframe thead th {\n",
       "        text-align: right;\n",
       "    }\n",
       "</style>\n",
       "<table border=\"1\" class=\"dataframe\">\n",
       "  <thead>\n",
       "    <tr style=\"text-align: right;\">\n",
       "      <th></th>\n",
       "      <th>category</th>\n",
       "      <th>tech1</th>\n",
       "      <th>description</th>\n",
       "      <th>fit</th>\n",
       "      <th>title</th>\n",
       "      <th>also_buy</th>\n",
       "      <th>tech2</th>\n",
       "      <th>brand</th>\n",
       "      <th>feature</th>\n",
       "      <th>rank</th>\n",
       "      <th>also_view</th>\n",
       "      <th>details</th>\n",
       "      <th>main_cat</th>\n",
       "      <th>similar_item</th>\n",
       "      <th>date</th>\n",
       "      <th>price</th>\n",
       "      <th>asin</th>\n",
       "      <th>imageURL</th>\n",
       "      <th>imageURLHighRes</th>\n",
       "    </tr>\n",
       "  </thead>\n",
       "  <tbody>\n",
       "    <tr>\n",
       "      <th>0</th>\n",
       "      <td>[]</td>\n",
       "      <td></td>\n",
       "      <td>[Loud 'N Clear Personal Sound Amplifier allows...</td>\n",
       "      <td></td>\n",
       "      <td>Loud 'N Clear&amp;trade; Personal Sound Amplifier</td>\n",
       "      <td>[]</td>\n",
       "      <td></td>\n",
       "      <td>idea village</td>\n",
       "      <td>[]</td>\n",
       "      <td>2,938,573 in Beauty &amp; Personal Care (</td>\n",
       "      <td>[]</td>\n",
       "      <td>{'ASIN: ': '6546546450'}</td>\n",
       "      <td>All Beauty</td>\n",
       "      <td></td>\n",
       "      <td></td>\n",
       "      <td></td>\n",
       "      <td>6546546450</td>\n",
       "      <td>[]</td>\n",
       "      <td>[]</td>\n",
       "    </tr>\n",
       "    <tr>\n",
       "      <th>1</th>\n",
       "      <td>[]</td>\n",
       "      <td></td>\n",
       "      <td>[No7 Lift &amp; Luminate Triple Action Serum 50ml ...</td>\n",
       "      <td></td>\n",
       "      <td>No7 Lift &amp;amp; Luminate Triple Action Serum 50...</td>\n",
       "      <td>[B01E7LCSL6, B008X5RVME]</td>\n",
       "      <td></td>\n",
       "      <td></td>\n",
       "      <td>[]</td>\n",
       "      <td>872,854 in Beauty &amp; Personal Care (</td>\n",
       "      <td>[]</td>\n",
       "      <td>{'Shipping Weight:': '0.3 ounces (', 'ASIN: ':...</td>\n",
       "      <td>All Beauty</td>\n",
       "      <td>class=\"a-bordered a-horizontal-stripes  a-spa...</td>\n",
       "      <td></td>\n",
       "      <td>$44.99</td>\n",
       "      <td>7178680776</td>\n",
       "      <td>[]</td>\n",
       "      <td>[]</td>\n",
       "    </tr>\n",
       "    <tr>\n",
       "      <th>2</th>\n",
       "      <td>[]</td>\n",
       "      <td></td>\n",
       "      <td>[No7 Stay Perfect Foundation now stays perfect...</td>\n",
       "      <td></td>\n",
       "      <td>No7 Stay Perfect Foundation Cool Vanilla by No7</td>\n",
       "      <td>[]</td>\n",
       "      <td></td>\n",
       "      <td>No7</td>\n",
       "      <td>[]</td>\n",
       "      <td>956,696 in Beauty &amp; Personal Care (</td>\n",
       "      <td>[B01B8BR0O8, B01B8BR0NO, B014MHXXM8]</td>\n",
       "      <td>{'Shipping Weight:': '3.5 ounces (', 'ASIN: ':...</td>\n",
       "      <td>All Beauty</td>\n",
       "      <td></td>\n",
       "      <td></td>\n",
       "      <td>$28.76</td>\n",
       "      <td>7250468162</td>\n",
       "      <td>[]</td>\n",
       "      <td>[]</td>\n",
       "    </tr>\n",
       "    <tr>\n",
       "      <th>3</th>\n",
       "      <td>[]</td>\n",
       "      <td></td>\n",
       "      <td>[]</td>\n",
       "      <td></td>\n",
       "      <td>Wella Koleston Perfect Hair Colour 44/44 Mediu...</td>\n",
       "      <td>[B0041PBXX8]</td>\n",
       "      <td></td>\n",
       "      <td></td>\n",
       "      <td>[]</td>\n",
       "      <td>1,870,258 in Beauty &amp; Personal Care (</td>\n",
       "      <td>[]</td>\n",
       "      <td>{'\n",
       "    Item Weight: \n",
       "    ': '1.76 ounces', 'Sh...</td>\n",
       "      <td>All Beauty</td>\n",
       "      <td></td>\n",
       "      <td></td>\n",
       "      <td></td>\n",
       "      <td>7367905066</td>\n",
       "      <td>[https://images-na.ssl-images-amazon.com/image...</td>\n",
       "      <td>[https://images-na.ssl-images-amazon.com/image...</td>\n",
       "    </tr>\n",
       "    <tr>\n",
       "      <th>4</th>\n",
       "      <td>[]</td>\n",
       "      <td></td>\n",
       "      <td>[Lacto Calamine Skin Balance Daily Nourishing ...</td>\n",
       "      <td></td>\n",
       "      <td>Lacto Calamine Skin Balance Oil control 120 ml...</td>\n",
       "      <td>[]</td>\n",
       "      <td></td>\n",
       "      <td>Pirmal Healthcare</td>\n",
       "      <td>[]</td>\n",
       "      <td>67,701 in Beauty &amp; Personal Care (</td>\n",
       "      <td>[3254895630, B007VL1D9S, B00EH9A0RI, B0773MBG4...</td>\n",
       "      <td>{'Shipping Weight:': '12 ounces (', 'ASIN: ': ...</td>\n",
       "      <td>All Beauty</td>\n",
       "      <td></td>\n",
       "      <td></td>\n",
       "      <td>$12.15</td>\n",
       "      <td>7414204790</td>\n",
       "      <td>[https://images-na.ssl-images-amazon.com/image...</td>\n",
       "      <td>[https://images-na.ssl-images-amazon.com/image...</td>\n",
       "    </tr>\n",
       "  </tbody>\n",
       "</table>\n",
       "</div>\n",
       "      <button class=\"colab-df-convert\" onclick=\"convertToInteractive('df-ff45a1e9-cd0b-408e-8393-899236f665d9')\"\n",
       "              title=\"Convert this dataframe to an interactive table.\"\n",
       "              style=\"display:none;\">\n",
       "        \n",
       "  <svg xmlns=\"http://www.w3.org/2000/svg\" height=\"24px\"viewBox=\"0 0 24 24\"\n",
       "       width=\"24px\">\n",
       "    <path d=\"M0 0h24v24H0V0z\" fill=\"none\"/>\n",
       "    <path d=\"M18.56 5.44l.94 2.06.94-2.06 2.06-.94-2.06-.94-.94-2.06-.94 2.06-2.06.94zm-11 1L8.5 8.5l.94-2.06 2.06-.94-2.06-.94L8.5 2.5l-.94 2.06-2.06.94zm10 10l.94 2.06.94-2.06 2.06-.94-2.06-.94-.94-2.06-.94 2.06-2.06.94z\"/><path d=\"M17.41 7.96l-1.37-1.37c-.4-.4-.92-.59-1.43-.59-.52 0-1.04.2-1.43.59L10.3 9.45l-7.72 7.72c-.78.78-.78 2.05 0 2.83L4 21.41c.39.39.9.59 1.41.59.51 0 1.02-.2 1.41-.59l7.78-7.78 2.81-2.81c.8-.78.8-2.07 0-2.86zM5.41 20L4 18.59l7.72-7.72 1.47 1.35L5.41 20z\"/>\n",
       "  </svg>\n",
       "      </button>\n",
       "      \n",
       "  <style>\n",
       "    .colab-df-container {\n",
       "      display:flex;\n",
       "      flex-wrap:wrap;\n",
       "      gap: 12px;\n",
       "    }\n",
       "\n",
       "    .colab-df-convert {\n",
       "      background-color: #E8F0FE;\n",
       "      border: none;\n",
       "      border-radius: 50%;\n",
       "      cursor: pointer;\n",
       "      display: none;\n",
       "      fill: #1967D2;\n",
       "      height: 32px;\n",
       "      padding: 0 0 0 0;\n",
       "      width: 32px;\n",
       "    }\n",
       "\n",
       "    .colab-df-convert:hover {\n",
       "      background-color: #E2EBFA;\n",
       "      box-shadow: 0px 1px 2px rgba(60, 64, 67, 0.3), 0px 1px 3px 1px rgba(60, 64, 67, 0.15);\n",
       "      fill: #174EA6;\n",
       "    }\n",
       "\n",
       "    [theme=dark] .colab-df-convert {\n",
       "      background-color: #3B4455;\n",
       "      fill: #D2E3FC;\n",
       "    }\n",
       "\n",
       "    [theme=dark] .colab-df-convert:hover {\n",
       "      background-color: #434B5C;\n",
       "      box-shadow: 0px 1px 3px 1px rgba(0, 0, 0, 0.15);\n",
       "      filter: drop-shadow(0px 1px 2px rgba(0, 0, 0, 0.3));\n",
       "      fill: #FFFFFF;\n",
       "    }\n",
       "  </style>\n",
       "\n",
       "      <script>\n",
       "        const buttonEl =\n",
       "          document.querySelector('#df-ff45a1e9-cd0b-408e-8393-899236f665d9 button.colab-df-convert');\n",
       "        buttonEl.style.display =\n",
       "          google.colab.kernel.accessAllowed ? 'block' : 'none';\n",
       "\n",
       "        async function convertToInteractive(key) {\n",
       "          const element = document.querySelector('#df-ff45a1e9-cd0b-408e-8393-899236f665d9');\n",
       "          const dataTable =\n",
       "            await google.colab.kernel.invokeFunction('convertToInteractive',\n",
       "                                                     [key], {});\n",
       "          if (!dataTable) return;\n",
       "\n",
       "          const docLinkHtml = 'Like what you see? Visit the ' +\n",
       "            '<a target=\"_blank\" href=https://colab.research.google.com/notebooks/data_table.ipynb>data table notebook</a>'\n",
       "            + ' to learn more about interactive tables.';\n",
       "          element.innerHTML = '';\n",
       "          dataTable['output_type'] = 'display_data';\n",
       "          await google.colab.output.renderOutput(dataTable, element);\n",
       "          const docLink = document.createElement('div');\n",
       "          docLink.innerHTML = docLinkHtml;\n",
       "          element.appendChild(docLink);\n",
       "        }\n",
       "      </script>\n",
       "    </div>\n",
       "  </div>\n",
       "  "
      ],
      "text/plain": [
       "  category  ...                                    imageURLHighRes\n",
       "0       []  ...                                                 []\n",
       "1       []  ...                                                 []\n",
       "2       []  ...                                                 []\n",
       "3       []  ...  [https://images-na.ssl-images-amazon.com/image...\n",
       "4       []  ...  [https://images-na.ssl-images-amazon.com/image...\n",
       "\n",
       "[5 rows x 19 columns]"
      ]
     },
     "execution_count": 11,
     "metadata": {},
     "output_type": "execute_result"
    }
   ],
   "source": [
    "metadata.head()"
   ]
  },
  {
   "cell_type": "code",
   "execution_count": 12,
   "metadata": {
    "colab": {
     "base_uri": "https://localhost:8080/",
     "height": 256
    },
    "id": "vfvXfMuj6reH",
    "outputId": "d43e5e7a-a713-450c-893b-c3700b59d56c"
   },
   "outputs": [
    {
     "data": {
      "text/html": [
       "\n",
       "  <div id=\"df-a27083a2-49fc-4d90-857f-cf39793f7f94\">\n",
       "    <div class=\"colab-df-container\">\n",
       "      <div>\n",
       "<style scoped>\n",
       "    .dataframe tbody tr th:only-of-type {\n",
       "        vertical-align: middle;\n",
       "    }\n",
       "\n",
       "    .dataframe tbody tr th {\n",
       "        vertical-align: top;\n",
       "    }\n",
       "\n",
       "    .dataframe thead th {\n",
       "        text-align: right;\n",
       "    }\n",
       "</style>\n",
       "<table border=\"1\" class=\"dataframe\">\n",
       "  <thead>\n",
       "    <tr style=\"text-align: right;\">\n",
       "      <th></th>\n",
       "      <th>asin</th>\n",
       "      <th>reviewerID</th>\n",
       "      <th>overall</th>\n",
       "      <th>unixReviewTime</th>\n",
       "    </tr>\n",
       "  </thead>\n",
       "  <tbody>\n",
       "    <tr>\n",
       "      <th>0</th>\n",
       "      <td>0143026860</td>\n",
       "      <td>A1V6B6TNIC10QE</td>\n",
       "      <td>1.0</td>\n",
       "      <td>1424304000</td>\n",
       "    </tr>\n",
       "    <tr>\n",
       "      <th>1</th>\n",
       "      <td>0143026860</td>\n",
       "      <td>A2F5GHSXFQ0W6J</td>\n",
       "      <td>4.0</td>\n",
       "      <td>1418860800</td>\n",
       "    </tr>\n",
       "    <tr>\n",
       "      <th>2</th>\n",
       "      <td>0143026860</td>\n",
       "      <td>A1572GUYS7DGSR</td>\n",
       "      <td>4.0</td>\n",
       "      <td>1407628800</td>\n",
       "    </tr>\n",
       "    <tr>\n",
       "      <th>3</th>\n",
       "      <td>0143026860</td>\n",
       "      <td>A1PSGLFK1NSVO</td>\n",
       "      <td>5.0</td>\n",
       "      <td>1362960000</td>\n",
       "    </tr>\n",
       "    <tr>\n",
       "      <th>4</th>\n",
       "      <td>0143026860</td>\n",
       "      <td>A6IKXKZMTKGSC</td>\n",
       "      <td>5.0</td>\n",
       "      <td>1324771200</td>\n",
       "    </tr>\n",
       "  </tbody>\n",
       "</table>\n",
       "</div>\n",
       "      <button class=\"colab-df-convert\" onclick=\"convertToInteractive('df-a27083a2-49fc-4d90-857f-cf39793f7f94')\"\n",
       "              title=\"Convert this dataframe to an interactive table.\"\n",
       "              style=\"display:none;\">\n",
       "        \n",
       "  <svg xmlns=\"http://www.w3.org/2000/svg\" height=\"24px\"viewBox=\"0 0 24 24\"\n",
       "       width=\"24px\">\n",
       "    <path d=\"M0 0h24v24H0V0z\" fill=\"none\"/>\n",
       "    <path d=\"M18.56 5.44l.94 2.06.94-2.06 2.06-.94-2.06-.94-.94-2.06-.94 2.06-2.06.94zm-11 1L8.5 8.5l.94-2.06 2.06-.94-2.06-.94L8.5 2.5l-.94 2.06-2.06.94zm10 10l.94 2.06.94-2.06 2.06-.94-2.06-.94-.94-2.06-.94 2.06-2.06.94z\"/><path d=\"M17.41 7.96l-1.37-1.37c-.4-.4-.92-.59-1.43-.59-.52 0-1.04.2-1.43.59L10.3 9.45l-7.72 7.72c-.78.78-.78 2.05 0 2.83L4 21.41c.39.39.9.59 1.41.59.51 0 1.02-.2 1.41-.59l7.78-7.78 2.81-2.81c.8-.78.8-2.07 0-2.86zM5.41 20L4 18.59l7.72-7.72 1.47 1.35L5.41 20z\"/>\n",
       "  </svg>\n",
       "      </button>\n",
       "      \n",
       "  <style>\n",
       "    .colab-df-container {\n",
       "      display:flex;\n",
       "      flex-wrap:wrap;\n",
       "      gap: 12px;\n",
       "    }\n",
       "\n",
       "    .colab-df-convert {\n",
       "      background-color: #E8F0FE;\n",
       "      border: none;\n",
       "      border-radius: 50%;\n",
       "      cursor: pointer;\n",
       "      display: none;\n",
       "      fill: #1967D2;\n",
       "      height: 32px;\n",
       "      padding: 0 0 0 0;\n",
       "      width: 32px;\n",
       "    }\n",
       "\n",
       "    .colab-df-convert:hover {\n",
       "      background-color: #E2EBFA;\n",
       "      box-shadow: 0px 1px 2px rgba(60, 64, 67, 0.3), 0px 1px 3px 1px rgba(60, 64, 67, 0.15);\n",
       "      fill: #174EA6;\n",
       "    }\n",
       "\n",
       "    [theme=dark] .colab-df-convert {\n",
       "      background-color: #3B4455;\n",
       "      fill: #D2E3FC;\n",
       "    }\n",
       "\n",
       "    [theme=dark] .colab-df-convert:hover {\n",
       "      background-color: #434B5C;\n",
       "      box-shadow: 0px 1px 3px 1px rgba(0, 0, 0, 0.15);\n",
       "      filter: drop-shadow(0px 1px 2px rgba(0, 0, 0, 0.3));\n",
       "      fill: #FFFFFF;\n",
       "    }\n",
       "  </style>\n",
       "\n",
       "      <script>\n",
       "        const buttonEl =\n",
       "          document.querySelector('#df-a27083a2-49fc-4d90-857f-cf39793f7f94 button.colab-df-convert');\n",
       "        buttonEl.style.display =\n",
       "          google.colab.kernel.accessAllowed ? 'block' : 'none';\n",
       "\n",
       "        async function convertToInteractive(key) {\n",
       "          const element = document.querySelector('#df-a27083a2-49fc-4d90-857f-cf39793f7f94');\n",
       "          const dataTable =\n",
       "            await google.colab.kernel.invokeFunction('convertToInteractive',\n",
       "                                                     [key], {});\n",
       "          if (!dataTable) return;\n",
       "\n",
       "          const docLinkHtml = 'Like what you see? Visit the ' +\n",
       "            '<a target=\"_blank\" href=https://colab.research.google.com/notebooks/data_table.ipynb>data table notebook</a>'\n",
       "            + ' to learn more about interactive tables.';\n",
       "          element.innerHTML = '';\n",
       "          dataTable['output_type'] = 'display_data';\n",
       "          await google.colab.output.renderOutput(dataTable, element);\n",
       "          const docLink = document.createElement('div');\n",
       "          docLink.innerHTML = docLinkHtml;\n",
       "          element.appendChild(docLink);\n",
       "        }\n",
       "      </script>\n",
       "    </div>\n",
       "  </div>\n",
       "  "
      ],
      "text/plain": [
       "         asin      reviewerID  overall  unixReviewTime\n",
       "0  0143026860  A1V6B6TNIC10QE      1.0      1424304000\n",
       "1  0143026860  A2F5GHSXFQ0W6J      4.0      1418860800\n",
       "2  0143026860  A1572GUYS7DGSR      4.0      1407628800\n",
       "3  0143026860   A1PSGLFK1NSVO      5.0      1362960000\n",
       "4  0143026860   A6IKXKZMTKGSC      5.0      1324771200"
      ]
     },
     "execution_count": 12,
     "metadata": {},
     "output_type": "execute_result"
    }
   ],
   "source": [
    "ratings.head()"
   ]
  },
  {
   "cell_type": "markdown",
   "metadata": {
    "id": "Q2usncFF6reI"
   },
   "source": [
    "## 資料整理"
   ]
  },
  {
   "cell_type": "code",
   "execution_count": 13,
   "metadata": {
    "id": "Its8MU3m6reJ"
   },
   "outputs": [],
   "source": [
    "ratings['DATE'] = pd.to_datetime(ratings['unixReviewTime'], unit='s')"
   ]
  },
  {
   "cell_type": "markdown",
   "metadata": {
    "id": "X-WnXwwQ7v58"
   },
   "source": [
    "### 去除重複資料"
   ]
  },
  {
   "cell_type": "markdown",
   "metadata": {
    "id": "1N19jVyq73L6"
   },
   "source": [
    "#### metadata（資料完全一樣的商品）"
   ]
  },
  {
   "cell_type": "code",
   "execution_count": 14,
   "metadata": {
    "colab": {
     "base_uri": "https://localhost:8080/"
    },
    "id": "A_szufh5737O",
    "outputId": "bd059bb1-2c1c-4d6e-a937-8c9b282d1af9"
   },
   "outputs": [
    {
     "name": "stdout",
     "output_type": "stream",
     "text": [
      "Original Num of metadata: 32892\n",
      "Num of duplicated metadata: 404\n",
      "Drop duplicated metadata...\n",
      "Current Num of metadata: 32084\n"
     ]
    }
   ],
   "source": [
    "print('Original Num of metadata: {0}'.format(len(metadata)))\n",
    "print('Num of duplicated metadata: {0}'.format(metadata.duplicated(subset=['asin', 'title']).sum()))\n",
    "\n",
    "print('Drop duplicated metadata...')\n",
    "metadata.drop_duplicates(subset=['asin', 'title'], keep=False, inplace=True)\n",
    "metadata = metadata.reset_index(drop=True)\n",
    "print('Current Num of metadata: {0}'.format(len(metadata)))"
   ]
  },
  {
   "cell_type": "markdown",
   "metadata": {
    "id": "DsCHmJOW6reK"
   },
   "source": [
    "## 資料切分"
   ]
  },
  {
   "cell_type": "code",
   "execution_count": 15,
   "metadata": {
    "id": "gUih0lfV6reK"
   },
   "outputs": [],
   "source": [
    "ratings_trainings = ratings[\n",
    "    (ratings['DATE'] < '2018-09-01')\n",
    "]\n",
    "ratings_testings = ratings[\n",
    "    (ratings['DATE'] >= '2018-09-01') & \n",
    "    (ratings['DATE'] <= '2018-09-30')\n",
    "]\n",
    "ratings_testings_by_user = ratings_testings.groupby('reviewerID').agg(list).reset_index()[['reviewerID', 'asin']].to_dict('records')\n",
    "ratings_testings_by_user = { rating['reviewerID']: rating['asin'] for rating in ratings_testings_by_user }\n",
    "users = list(ratings_testings_by_user.keys())"
   ]
  },
  {
   "cell_type": "markdown",
   "metadata": {
    "id": "Sf5qy9fw8GZr"
   },
   "source": [
    "---"
   ]
  },
  {
   "cell_type": "markdown",
   "metadata": {
    "id": "j0IZsYYi8JEU"
   },
   "source": [
    "保留原始資料，複製一份出來處理。"
   ]
  },
  {
   "cell_type": "code",
   "execution_count": 16,
   "metadata": {
    "id": "WtNIIEmL8KAz"
   },
   "outputs": [],
   "source": [
    "metadata_tmp = metadata.copy()\n",
    "\n",
    "ratings_trainings_tmp = ratings_trainings.copy()\n",
    "ratings_testings_tmp = ratings_testings.copy()\n",
    "\n",
    "users_testing_tmp = users.copy()"
   ]
  },
  {
   "cell_type": "markdown",
   "metadata": {
    "id": "6UKJlu_u8HjK"
   },
   "source": [
    "---"
   ]
  },
  {
   "cell_type": "markdown",
   "metadata": {},
   "source": [
    "## 資料探索"
   ]
  },
  {
   "cell_type": "code",
   "execution_count": 11,
   "metadata": {},
   "outputs": [],
   "source": [
    "import numpy as np\n",
    "import matplotlib.pyplot as plt"
   ]
  },
  {
   "cell_type": "markdown",
   "metadata": {},
   "source": [
    "### 測試資料集"
   ]
  },
  {
   "cell_type": "markdown",
   "metadata": {},
   "source": [
    "查看測試資料集中的用戶有多少人曾經留下評分過？各留下多少呢？"
   ]
  },
  {
   "cell_type": "code",
   "execution_count": 44,
   "metadata": {
    "scrolled": true
   },
   "outputs": [
    {
     "name": "stdout",
     "output_type": "stream",
     "text": [
      "多少人曾留過評分 : 38 (7%)\n"
     ]
    }
   ],
   "source": [
    "num_rating_user = ratings_trainings_tmp[ratings_trainings_tmp['reviewerID'].isin(users_testing_tmp)]['reviewerID'].nunique()\n",
    "print('多少人曾留過評分 : {0} ({1}%)'.format(num_rating_user, round(num_rating_user / len(users_testing_tmp)*100)))"
   ]
  },
  {
   "cell_type": "code",
   "execution_count": 45,
   "metadata": {},
   "outputs": [
    {
     "name": "stdout",
     "output_type": "stream",
     "text": [
      "                asin\n",
      "reviewerID          \n",
      "A13JU88JAHN72I     1\n",
      "A16Y7V1CZCWKFV     1\n",
      "A19503XX7GU6J2     2\n",
      "A1EY751AUVO5NZ     1\n",
      "A1PR178735XC70     1\n",
      "A1SA3N793WT2LM     4\n",
      "A1TP9JHTIY468V     2\n",
      "A1UAOE8KO7Q1DZ     1\n",
      "A1WEFBEJ7OHSVZ     1\n",
      "A1WSZED2O5MA5T     2\n",
      "A28E3FNV1BYC94     1\n",
      "A29834GBB4DOP1     1\n",
      "A2AAQWBJJTK3E1     1\n",
      "A2BU6N5956T9NH     1\n",
      "A2GFPTQ4VWDX96     1\n",
      "A2IMJV0CQMZLGC     1\n",
      "A2IOBG1ERS4JP3     1\n",
      "A2JCBLTLYDPQLW     1\n",
      "A2M4YSOJZELJ6N     1\n",
      "A2XFJ8CTY7VDNN     1\n",
      "A2XY3CJ3ZCAD03     1\n",
      "A3BE6JK97CYAGA     1\n",
      "A3BT1WLPENXMD6     3\n",
      "A3DXW3542E4QUC     1\n",
      "A3GRQ9WMP4OXFE     1\n",
      "A3H8Z7JS7XJHJJ     2\n",
      "A3JEQJCEMX20GI     2\n",
      "A4IQXCCXDEAKW      2\n",
      "A7JUHUYLXIUVQ      1\n",
      "A7Y4ETTLARUGI      1\n",
      "ACE1ZIOI3U6PY      3\n",
      "AGRZQOBCF8H87      1\n",
      "AITF34BGBMVJJ      1\n",
      "AK7YIZE6ZZ1N9      1\n",
      "ANR73TPVBCQ9K      1\n",
      "AQYL4TDY2HU8Z      1\n",
      "ASGIVOW34XNQS      3\n",
      "ATJRZUXNWAWIK      1\n",
      "這些人平均對多少商品評分: 1.394736842105263\n"
     ]
    }
   ],
   "source": [
    "print(ratings_trainings_tmp[ratings_trainings_tmp['reviewerID'].isin(users_testing_tmp)].groupby('reviewerID').agg({'asin':'size'}))\n",
    "print('這些人平均對多少商品評分: {0}'.format(ratings_trainings_tmp[ratings_trainings_tmp['reviewerID'].isin(users_testing_tmp)].groupby('reviewerID').agg({'asin':'size'}).mean()[0]))"
   ]
  },
  {
   "cell_type": "markdown",
   "metadata": {},
   "source": [
    "如果未曾留下評分，則無法得知喜好，也無法找過去購買的商品推薦類似的，只能用rule-based。\n",
    "發現有留過評分的占少數，故rule-based方法對整體推薦系統recall影響大。"
   ]
  },
  {
   "cell_type": "markdown",
   "metadata": {},
   "source": [
    "### 訓練資料集"
   ]
  },
  {
   "cell_type": "markdown",
   "metadata": {},
   "source": [
    "只推薦在商品資料集中的商品，故下面都只討論有在商品資料集的商品。<br>\n",
    "會這麼做，主要是因為之後想由商品資料集中取特徵，增加商品相似度計算的準確度。"
   ]
  },
  {
   "cell_type": "code",
   "execution_count": 77,
   "metadata": {},
   "outputs": [
    {
     "name": "stdout",
     "output_type": "stream",
     "text": [
      "在商品資料表中有 32084 個商品\n"
     ]
    }
   ],
   "source": [
    "item_in_medadata = metadata_tmp['asin'].tolist()\n",
    "print('在商品資料表中有 {0} 個商品'.format(len(item_in_medadata)))"
   ]
  },
  {
   "cell_type": "code",
   "execution_count": 78,
   "metadata": {},
   "outputs": [
    {
     "name": "stdout",
     "output_type": "stream",
     "text": [
      "原本評分總筆數: 370752\n",
      "剔除評分商品為在商品資料表中的評分...\n",
      "剔除後評分總筆數: 349321\n"
     ]
    }
   ],
   "source": [
    "print('原本評分總筆數: {0}'.format(len(ratings_trainings_tmp)))\n",
    "print('剔除評分商品為在商品資料集中的評分...')\n",
    "ratings_trainings_tmp = ratings_trainings_tmp[ratings_trainings_tmp['asin'].isin(item_in_medadata)]\n",
    "print('剔除後評分總筆數: {0}'.format(len(ratings_trainings_tmp)))"
   ]
  },
  {
   "cell_type": "markdown",
   "metadata": {},
   "source": [
    "#### 在商品資料集中有多少商品被評分？"
   ]
  },
  {
   "cell_type": "code",
   "execution_count": 80,
   "metadata": {},
   "outputs": [],
   "source": [
    "item_with_rating = ratings_trainings_tmp.asin.unique().tolist()"
   ]
  },
  {
   "cell_type": "code",
   "execution_count": 81,
   "metadata": {},
   "outputs": [],
   "source": [
    "item_with_rating_in_metadata = metadata_tmp[metadata_tmp['asin'].isin(item_with_rating)]['asin'].tolist()"
   ]
  },
  {
   "cell_type": "code",
   "execution_count": 82,
   "metadata": {},
   "outputs": [
    {
     "name": "stdout",
     "output_type": "stream",
     "text": [
      "現有商品資料中有 32078 (99.98%) 評分資料，有 6 個商品未有過評分紀錄。\n"
     ]
    }
   ],
   "source": [
    "# 在現有的商品資料(metadata)中有多少資料未被評分過\n",
    "print('現有商品資料中有 {0} ({1}%) 評分資料，有 {2} 個商品未有過評分紀錄。'.format(\n",
    "    len(item_with_rating_in_metadata), \n",
    "    round(len(item_with_rating_in_metadata) / len(metadata_tmp['asin']) * 100, 2), \n",
    "    len(metadata_tmp['asin']) - len(item_with_rating_in_metadata)))"
   ]
  },
  {
   "cell_type": "markdown",
   "metadata": {},
   "source": [
    "#### 將重複評分以平均評分取代"
   ]
  },
  {
   "cell_type": "code",
   "execution_count": 83,
   "metadata": {},
   "outputs": [
    {
     "data": {
      "text/html": [
       "<div>\n",
       "<style scoped>\n",
       "    .dataframe tbody tr th:only-of-type {\n",
       "        vertical-align: middle;\n",
       "    }\n",
       "\n",
       "    .dataframe tbody tr th {\n",
       "        vertical-align: top;\n",
       "    }\n",
       "\n",
       "    .dataframe thead th {\n",
       "        text-align: right;\n",
       "    }\n",
       "</style>\n",
       "<table border=\"1\" class=\"dataframe\">\n",
       "  <thead>\n",
       "    <tr style=\"text-align: right;\">\n",
       "      <th></th>\n",
       "      <th>reviewerID</th>\n",
       "      <th>asin</th>\n",
       "      <th>overall</th>\n",
       "    </tr>\n",
       "  </thead>\n",
       "  <tbody>\n",
       "    <tr>\n",
       "      <th>0</th>\n",
       "      <td>A0010876CNE3ILIM9HV0</td>\n",
       "      <td>B01FHDYGQ8</td>\n",
       "      <td>5.0</td>\n",
       "    </tr>\n",
       "    <tr>\n",
       "      <th>1</th>\n",
       "      <td>A001170867ZBE9FORRQL</td>\n",
       "      <td>B01B18T01Y</td>\n",
       "      <td>5.0</td>\n",
       "    </tr>\n",
       "    <tr>\n",
       "      <th>2</th>\n",
       "      <td>A001170867ZBE9FORRQL</td>\n",
       "      <td>B01FCW88D6</td>\n",
       "      <td>5.0</td>\n",
       "    </tr>\n",
       "    <tr>\n",
       "      <th>3</th>\n",
       "      <td>A0028738FYF1SKPPC7B1</td>\n",
       "      <td>B00TZ8XK1E</td>\n",
       "      <td>5.0</td>\n",
       "    </tr>\n",
       "    <tr>\n",
       "      <th>4</th>\n",
       "      <td>A0045356A23634W7RI4M</td>\n",
       "      <td>B018H0EJI8</td>\n",
       "      <td>3.0</td>\n",
       "    </tr>\n",
       "  </tbody>\n",
       "</table>\n",
       "</div>"
      ],
      "text/plain": [
       "             reviewerID        asin  overall\n",
       "0  A0010876CNE3ILIM9HV0  B01FHDYGQ8      5.0\n",
       "1  A001170867ZBE9FORRQL  B01B18T01Y      5.0\n",
       "2  A001170867ZBE9FORRQL  B01FCW88D6      5.0\n",
       "3  A0028738FYF1SKPPC7B1  B00TZ8XK1E      5.0\n",
       "4  A0045356A23634W7RI4M  B018H0EJI8      3.0"
      ]
     },
     "execution_count": 83,
     "metadata": {},
     "output_type": "execute_result"
    }
   ],
   "source": [
    "# 如果只有一筆就直接填該筆評分，如果有多筆，overall_mean填入評分平均值、overall_lastest填入最近的評分值。\n",
    "ratings_trainings_unique = ratings_trainings_tmp.groupby(['reviewerID', 'asin']) \\\n",
    "                    .agg(overall=('overall', np.mean)) \\\n",
    "                    .reset_index()\n",
    "ratings_trainings_unique.head()"
   ]
  },
  {
   "cell_type": "markdown",
   "metadata": {},
   "source": [
    "#### 商品資料集中每個商品大多被多少人評分？"
   ]
  },
  {
   "cell_type": "code",
   "execution_count": 84,
   "metadata": {},
   "outputs": [
    {
     "data": {
      "text/html": [
       "<div>\n",
       "<style scoped>\n",
       "    .dataframe tbody tr th:only-of-type {\n",
       "        vertical-align: middle;\n",
       "    }\n",
       "\n",
       "    .dataframe tbody tr th {\n",
       "        vertical-align: top;\n",
       "    }\n",
       "\n",
       "    .dataframe thead th {\n",
       "        text-align: right;\n",
       "    }\n",
       "</style>\n",
       "<table border=\"1\" class=\"dataframe\">\n",
       "  <thead>\n",
       "    <tr style=\"text-align: right;\">\n",
       "      <th></th>\n",
       "      <th>asin</th>\n",
       "      <th>rating_count</th>\n",
       "      <th>mean_score</th>\n",
       "    </tr>\n",
       "  </thead>\n",
       "  <tbody>\n",
       "    <tr>\n",
       "      <th>446</th>\n",
       "      <td>B000FOI48G</td>\n",
       "      <td>8656</td>\n",
       "      <td>4.394235</td>\n",
       "    </tr>\n",
       "    <tr>\n",
       "      <th>566</th>\n",
       "      <td>B000GLRREU</td>\n",
       "      <td>8341</td>\n",
       "      <td>4.405107</td>\n",
       "    </tr>\n",
       "    <tr>\n",
       "      <th>2797</th>\n",
       "      <td>B001QY8QXM</td>\n",
       "      <td>4505</td>\n",
       "      <td>4.556049</td>\n",
       "    </tr>\n",
       "    <tr>\n",
       "      <th>29048</th>\n",
       "      <td>B01DKQAXC0</td>\n",
       "      <td>4191</td>\n",
       "      <td>4.212718</td>\n",
       "    </tr>\n",
       "    <tr>\n",
       "      <th>5460</th>\n",
       "      <td>B006IB5T4W</td>\n",
       "      <td>2789</td>\n",
       "      <td>4.643421</td>\n",
       "    </tr>\n",
       "  </tbody>\n",
       "</table>\n",
       "</div>"
      ],
      "text/plain": [
       "             asin  rating_count  mean_score\n",
       "446    B000FOI48G          8656    4.394235\n",
       "566    B000GLRREU          8341    4.405107\n",
       "2797   B001QY8QXM          4505    4.556049\n",
       "29048  B01DKQAXC0          4191    4.212718\n",
       "5460   B006IB5T4W          2789    4.643421"
      ]
     },
     "execution_count": 84,
     "metadata": {},
     "output_type": "execute_result"
    }
   ],
   "source": [
    "ratings_trainings_item = ratings_trainings_unique.groupby('asin') \\\n",
    "       .agg({'reviewerID':'size', 'overall':'mean'}) \\\n",
    "       .rename(columns={'reviewerID':'rating_count','overall':'mean_score'}) \\\n",
    "       .reset_index().sort_values('rating_count', ascending=False)\n",
    "ratings_trainings_item.head()"
   ]
  },
  {
   "cell_type": "code",
   "execution_count": 85,
   "metadata": {},
   "outputs": [
    {
     "name": "stdout",
     "output_type": "stream",
     "text": [
      "446      8656\n",
      "566      8341\n",
      "2797     4505\n",
      "29048    4191\n",
      "5460     2789\n",
      "         ... \n",
      "10299       1\n",
      "10297       1\n",
      "21963       1\n",
      "21966       1\n",
      "16039       1\n",
      "Name: rating_count, Length: 32078, dtype: int64\n",
      "這些商品平均對多少用戶評分 10.587754847559074\n"
     ]
    }
   ],
   "source": [
    "print(ratings_trainings_item['rating_count'])\n",
    "print('這些商品平均對多少用戶評分: {0}'.format(ratings_trainings_item['rating_count'].mean()))"
   ]
  },
  {
   "cell_type": "markdown",
   "metadata": {},
   "source": [
    "但認為只有被一個用戶評分的商品，表示只有一個用戶評分，無法推薦給其他用戶，因為由其他用戶找曾評分商品找到商品後，不會跟這個商品有任何相似，故移除該商品。"
   ]
  },
  {
   "cell_type": "code",
   "execution_count": 89,
   "metadata": {
    "scrolled": true
   },
   "outputs": [
    {
     "name": "stdout",
     "output_type": "stream",
     "text": [
      "有被評分的商品總數: 32078\n",
      "剔除只有被一個用戶評分的商品...\n",
      "提除後的商品總數: 18742 (58%)\n"
     ]
    }
   ],
   "source": [
    "print('有被評分的商品總數: {0}'.format(ratings_trainings_unique['asin'].nunique()))\n",
    "print('剔除只有被一個用戶評分的商品...')\n",
    "ratings_trainings_item = ratings_trainings_item[ratings_trainings_item['rating_count'] > 1]\n",
    "print('提除後的商品總數: {0} ({1}%)'.format(\n",
    "    len(ratings_trainings_item), \n",
    "    round(len(ratings_trainings_item) / ratings_trainings_unique['asin'].nunique() *100)))"
   ]
  },
  {
   "cell_type": "code",
   "execution_count": 90,
   "metadata": {
    "scrolled": true
   },
   "outputs": [
    {
     "name": "stdout",
     "output_type": "stream",
     "text": [
      "446      8656\n",
      "566      8341\n",
      "2797     4505\n",
      "29048    4191\n",
      "5460     2789\n",
      "         ... \n",
      "739         2\n",
      "5724        2\n",
      "15204       2\n",
      "8160        2\n",
      "4889        2\n",
      "Name: rating_count, Length: 18742, dtype: int64\n",
      "這些商品平均被多少用戶評分: 17.409988261658306\n"
     ]
    }
   ],
   "source": [
    "print(ratings_trainings_item['rating_count'])\n",
    "print('這些商品平均被多少用戶評分: {0}'.format(ratings_trainings_item['rating_count'].mean()))"
   ]
  },
  {
   "cell_type": "code",
   "execution_count": 98,
   "metadata": {
    "scrolled": true
   },
   "outputs": [
    {
     "data": {
      "text/plain": [
       "count    18742.000000\n",
       "mean        17.409988\n",
       "std        116.876783\n",
       "min          2.000000\n",
       "25%          2.000000\n",
       "50%          4.000000\n",
       "75%         10.000000\n",
       "max       8656.000000\n",
       "Name: rating_count, dtype: float64"
      ]
     },
     "execution_count": 98,
     "metadata": {},
     "output_type": "execute_result"
    }
   ],
   "source": [
    "ratings_trainings_item['rating_count'].describe()"
   ]
  },
  {
   "cell_type": "code",
   "execution_count": 102,
   "metadata": {},
   "outputs": [
    {
     "data": {
      "image/png": "[encoded data removed]",
      "text/plain": [
       "<Figure size 432x288 with 1 Axes>"
      ]
     },
     "metadata": {
      "needs_background": "light"
     },
     "output_type": "display_data"
    },
    {
     "name": "stdout",
     "output_type": "stream",
     "text": [
      "將用戶數超過17個的放大來看...\n"
     ]
    },
    {
     "data": {
      "image/png": "[encoded data removed]",
      "text/plain": [
       "<Figure size 432x288 with 1 Axes>"
      ]
     },
     "metadata": {
      "needs_background": "light"
     },
     "output_type": "display_data"
    },
    {
     "name": "stdout",
     "output_type": "stream",
     "text": [
      "將用戶數超過134個(mean+1*std)的放大來看...\n"
     ]
    },
    {
     "data": {
      "image/png": "[encoded data removed]",
      "text/plain": [
       "<Figure size 432x288 with 1 Axes>"
      ]
     },
     "metadata": {
      "needs_background": "light"
     },
     "output_type": "display_data"
    },
    {
     "name": "stdout",
     "output_type": "stream",
     "text": [
      "將用戶數超過251個(mean+2*std)的放大來看...\n"
     ]
    },
    {
     "data": {
      "image/png": "[encoded data removed]",
      "text/plain": [
       "<Figure size 432x288 with 1 Axes>"
      ]
     },
     "metadata": {
      "needs_background": "light"
     },
     "output_type": "display_data"
    },
    {
     "name": "stdout",
     "output_type": "stream",
     "text": [
      "將用戶數超過368個(mean+3*std)的放大來看...\n"
     ]
    },
    {
     "data": {
      "image/png": "[encoded data removed]",
      "text/plain": [
       "<Figure size 432x288 with 1 Axes>"
      ]
     },
     "metadata": {
      "needs_background": "light"
     },
     "output_type": "display_data"
    }
   ],
   "source": [
    "plt.hist(ratings_trainings_item['rating_count'])\n",
    "plt.show()\n",
    "print('將用戶數超過17個的放大來看...')\n",
    "plt.hist(ratings_trainings_item[ratings_trainings_item['rating_count'] > 17]['rating_count'])\n",
    "plt.show()\n",
    "print('將用戶數超過134個(mean+1*std)的放大來看...') # 1*std\n",
    "plt.hist(ratings_trainings_item[ratings_trainings_item['rating_count'] > 134]['rating_count'])\n",
    "plt.show()\n",
    "print('將用戶數超過251個(mean+2*std)的放大來看...') # 2*std\n",
    "plt.hist(ratings_trainings_item[ratings_trainings_item['rating_count'] > 251]['rating_count'])\n",
    "plt.show()\n",
    "print('將用戶數超過368個(mean+3*std)的放大來看...') # 2*std\n",
    "plt.hist(ratings_trainings_item[ratings_trainings_item['rating_count'] > 368]['rating_count'])\n",
    "plt.show()"
   ]
  },
  {
   "cell_type": "markdown",
   "metadata": {},
   "source": [
    "發現商品的用戶評分數落差很大，不知道會不會使得結果不太理想，認為或許能加入更多確定且完整的特徵(如:CATEGORY、title等)。<br>\n",
    "也思考多少個用戶評分才能夠代表一個商品？認為可留到之後測試。"
   ]
  },
  {
   "cell_type": "markdown",
   "metadata": {},
   "source": [
    "### 商品資料\n",
    "根據上份作業的資料探索，將多餘欄位剔除，新增有意義欄位(商品評論數、平均評分、季節性等)，主要是想用於找不到相似用戶時的推薦設計使用，以及在想之後能用於新增商品特徵計算商品相似度。"
   ]
  },
  {
   "cell_type": "markdown",
   "metadata": {},
   "source": [
    "在此的ratings_trainings都不剔除重複評分，視其各自為獨立購買紀錄，皆列入分析計算。"
   ]
  },
  {
   "cell_type": "code",
   "execution_count": 104,
   "metadata": {},
   "outputs": [],
   "source": [
    "# 剔除有問題的資料\n",
    "metadata_tmp = metadata_tmp.drop(metadata[metadata['title'] == ''].index).reset_index(drop=True)"
   ]
  },
  {
   "cell_type": "code",
   "execution_count": 109,
   "metadata": {},
   "outputs": [],
   "source": [
    "# 剔除評分數小於等於1的商品\n",
    "metadata_tmp = metadata_tmp[metadata_tmp['asin'].isin(ratings_trainings_item['asin'].unique())]"
   ]
  },
  {
   "cell_type": "markdown",
   "metadata": {},
   "source": [
    "#### 剔除多餘欄位"
   ]
  },
  {
   "cell_type": "code",
   "execution_count": 111,
   "metadata": {},
   "outputs": [],
   "source": [
    "metadata_tmp = metadata_tmp.drop(['category', 'tech1', 'fit', 'tech2', 'feature', 'date', 'imageURLHighRes', 'main_cat', 'details'], axis=1)"
   ]
  },
  {
   "cell_type": "markdown",
   "metadata": {},
   "source": [
    "##### `rank`: 內含有商品類別和其商品於該類別排名，將其拆成`RANK`、`CATEGORY`兩欄位。"
   ]
  },
  {
   "cell_type": "code",
   "execution_count": 112,
   "metadata": {},
   "outputs": [
    {
     "data": {
      "text/plain": [
       "Beauty & Personal Care       18574\n",
       "Grocery & Gourmet Food          25\n",
       "Health & Household              11\n",
       "Sports & Outdoors                3\n",
       "Clothing, Shoes & Jewelry        2\n",
       "Toys & Games                     1\n",
       "Tools & Home Improvement         1\n",
       "Automotive                       1\n",
       "Name: CATEGORY, dtype: int64"
      ]
     },
     "execution_count": 112,
     "metadata": {},
     "output_type": "execute_result"
    }
   ],
   "source": [
    "metadata_tmp[['RANK', 'CATEGORY']] = metadata_tmp['rank'].str.split(' in ', 1, expand=True)\n",
    "metadata_tmp['CATEGORY'] = metadata_tmp['CATEGORY'].str.replace(' \\(', '')\n",
    "metadata_tmp['CATEGORY'] = metadata_tmp['CATEGORY'].str.replace('\\&amp;', '&')\n",
    "metadata_tmp['CATEGORY'].value_counts()"
   ]
  },
  {
   "cell_type": "code",
   "execution_count": 113,
   "metadata": {},
   "outputs": [],
   "source": [
    "metadata_tmp = metadata_tmp.drop(['rank'], axis=1)"
   ]
  },
  {
   "cell_type": "markdown",
   "metadata": {},
   "source": [
    "##### `similar_item`: 將其資料html表格轉為asin列表，與`also_buy`、`also_view`合併成`SIMILAR_ITEM`欄位。"
   ]
  },
  {
   "cell_type": "code",
   "execution_count": 114,
   "metadata": {},
   "outputs": [],
   "source": [
    "from bs4 import BeautifulSoup\n",
    "metadata['asin'] = metadata['asin'].astype(str)\n",
    "\n",
    "def convert_similar_table_to_asin_list(html):\n",
    "#     if (html == ''): return []\n",
    "    asin_list = []\n",
    "    \n",
    "    soup = BeautifulSoup(html)\n",
    "    \n",
    "    compare_list = soup.findAll('th', {'class': 'comparison_image_title_cell'})\n",
    "    for item in compare_list:\n",
    "        title = item.span.text.strip()\n",
    "        if (len(metadata[metadata['title'] == title]) > 0):\n",
    "            asin = metadata[metadata['title'] == title]['asin'].iloc[0]\n",
    "#             if (not any(asin.str in s for s in asin_list)):  # 去除重複\n",
    "            asin_list.append(asin)\n",
    "    \n",
    "    return asin_list"
   ]
  },
  {
   "cell_type": "code",
   "execution_count": 115,
   "metadata": {},
   "outputs": [],
   "source": [
    "metadata_tmp['SIMILAR_ITEM'] = metadata_tmp['similar_item'].apply(lambda x: convert_similar_table_to_asin_list(x) if x != ''  else x)"
   ]
  },
  {
   "cell_type": "code",
   "execution_count": 116,
   "metadata": {},
   "outputs": [],
   "source": [
    "metadata_tmp['SIMILAR'] = [set(list(x)+y+z) for x, y, z in zip(metadata_tmp.SIMILAR_ITEM, metadata_tmp.also_view, metadata_tmp.also_buy)]"
   ]
  },
  {
   "cell_type": "code",
   "execution_count": 117,
   "metadata": {},
   "outputs": [],
   "source": [
    "metadata_tmp = metadata_tmp.drop(['SIMILAR_ITEM', 'similar_item', 'also_view', 'also_buy'], axis=1)"
   ]
  },
  {
   "cell_type": "code",
   "execution_count": 118,
   "metadata": {},
   "outputs": [
    {
     "name": "stdout",
     "output_type": "stream",
     "text": [
      "<class 'pandas.core.frame.DataFrame'>\n",
      "Int64Index: 18741 entries, 0 to 32082\n",
      "Data columns (total 9 columns):\n",
      " #   Column       Non-Null Count  Dtype \n",
      "---  ------       --------------  ----- \n",
      " 0   description  18741 non-null  object\n",
      " 1   title        18741 non-null  object\n",
      " 2   brand        18741 non-null  object\n",
      " 3   price        18741 non-null  object\n",
      " 4   asin         18741 non-null  object\n",
      " 5   imageURL     18741 non-null  object\n",
      " 6   RANK         18618 non-null  object\n",
      " 7   CATEGORY     18618 non-null  object\n",
      " 8   SIMILAR      18741 non-null  object\n",
      "dtypes: object(9)\n",
      "memory usage: 1.4+ MB\n"
     ]
    }
   ],
   "source": [
    "metadata_tmp.info()"
   ]
  },
  {
   "cell_type": "markdown",
   "metadata": {},
   "source": [
    "#### 加入評分\n",
    "(同用戶對同商品不同時間或不同評分，做為獨立評分(未合併)，分別計入)"
   ]
  },
  {
   "cell_type": "code",
   "execution_count": 119,
   "metadata": {},
   "outputs": [],
   "source": [
    "rating_mean = ratings_trainings_tmp.groupby('asin')['overall'].mean().round(2).reset_index(name='RATE')\n",
    "rating_count = pd.DataFrame(ratings_trainings_tmp.asin.value_counts())\n",
    "rating_count.reset_index(inplace=True)\n",
    "rating_count.columns = ['asin', 'RATE(COUNT)']\n",
    "# merge\n",
    "rating_data = rating_mean.merge(rating_count, on='asin')\n",
    "metadata_tmp = pd.merge(rating_data, metadata_tmp, left_on=\"asin\", right_on=\"asin\", how='right')"
   ]
  },
  {
   "cell_type": "code",
   "execution_count": 120,
   "metadata": {},
   "outputs": [],
   "source": [
    "metadata_tmp.fillna({'RATE(COUNT)':0}, inplace=True)"
   ]
  },
  {
   "cell_type": "code",
   "execution_count": 121,
   "metadata": {},
   "outputs": [],
   "source": [
    "# clear not-used DataFrame\n",
    "del rating_data"
   ]
  },
  {
   "cell_type": "markdown",
   "metadata": {},
   "source": [
    "#### 加入季節性\n",
    "(`None`: 代表商品無季節性)"
   ]
  },
  {
   "cell_type": "code",
   "execution_count": 122,
   "metadata": {},
   "outputs": [
    {
     "data": {
      "text/html": [
       "<div>\n",
       "<style scoped>\n",
       "    .dataframe tbody tr th:only-of-type {\n",
       "        vertical-align: middle;\n",
       "    }\n",
       "\n",
       "    .dataframe tbody tr th {\n",
       "        vertical-align: top;\n",
       "    }\n",
       "\n",
       "    .dataframe thead th {\n",
       "        text-align: right;\n",
       "    }\n",
       "</style>\n",
       "<table border=\"1\" class=\"dataframe\">\n",
       "  <thead>\n",
       "    <tr style=\"text-align: right;\">\n",
       "      <th></th>\n",
       "      <th>asin</th>\n",
       "      <th>reviewerID</th>\n",
       "      <th>overall</th>\n",
       "      <th>DATE</th>\n",
       "      <th>SEASON</th>\n",
       "    </tr>\n",
       "  </thead>\n",
       "  <tbody>\n",
       "    <tr>\n",
       "      <th>4833</th>\n",
       "      <td>7414204790</td>\n",
       "      <td>A5TA1NJOC0PJ5</td>\n",
       "      <td>5.0</td>\n",
       "      <td>2016-03-10</td>\n",
       "      <td>Spring</td>\n",
       "    </tr>\n",
       "    <tr>\n",
       "      <th>4834</th>\n",
       "      <td>7414204790</td>\n",
       "      <td>A1TJICB7VLGQKL</td>\n",
       "      <td>5.0</td>\n",
       "      <td>2015-09-01</td>\n",
       "      <td>Autumn</td>\n",
       "    </tr>\n",
       "    <tr>\n",
       "      <th>4835</th>\n",
       "      <td>7414204790</td>\n",
       "      <td>A80M2286B7STE</td>\n",
       "      <td>5.0</td>\n",
       "      <td>2014-10-03</td>\n",
       "      <td>Autumn</td>\n",
       "    </tr>\n",
       "    <tr>\n",
       "      <th>4836</th>\n",
       "      <td>7414204790</td>\n",
       "      <td>A2TM2MAA8IT34U</td>\n",
       "      <td>5.0</td>\n",
       "      <td>2014-08-07</td>\n",
       "      <td>Summer</td>\n",
       "    </tr>\n",
       "    <tr>\n",
       "      <th>4837</th>\n",
       "      <td>7414204790</td>\n",
       "      <td>AQGWT465GTEJG</td>\n",
       "      <td>4.0</td>\n",
       "      <td>2014-06-14</td>\n",
       "      <td>Summer</td>\n",
       "    </tr>\n",
       "  </tbody>\n",
       "</table>\n",
       "</div>"
      ],
      "text/plain": [
       "            asin      reviewerID  overall       DATE  SEASON\n",
       "4833  7414204790   A5TA1NJOC0PJ5      5.0 2016-03-10  Spring\n",
       "4834  7414204790  A1TJICB7VLGQKL      5.0 2015-09-01  Autumn\n",
       "4835  7414204790   A80M2286B7STE      5.0 2014-10-03  Autumn\n",
       "4836  7414204790  A2TM2MAA8IT34U      5.0 2014-08-07  Summer\n",
       "4837  7414204790   AQGWT465GTEJG      4.0 2014-06-14  Summer"
      ]
     },
     "execution_count": 122,
     "metadata": {},
     "output_type": "execute_result"
    }
   ],
   "source": [
    "def MonthToSeason(x):   \n",
    "    global season\n",
    "    if x == 3 or x == 4 or x == 5:\n",
    "         season = \"Spring\"\n",
    "    elif x == 6 or x == 7 or x == 8:\n",
    "         season = \"Summer\"\n",
    "    elif x == 9 or x == 10 or x == 11:\n",
    "         season = \"Autumn\"\n",
    "    elif x == 12 or x == 1 or x == 2:\n",
    "         season = \"Winter\"\n",
    "    else:\n",
    "         season = np.nan \n",
    "    return season\n",
    "\n",
    "tmp_data = ratings_trainings_tmp.drop('unixReviewTime', axis=1)\n",
    "tmp_data['SEASON'] = tmp_data['DATE'].dt.month.apply(lambda x : MonthToSeason(x))\n",
    "tmp_data.head()"
   ]
  },
  {
   "cell_type": "code",
   "execution_count": 123,
   "metadata": {},
   "outputs": [],
   "source": [
    "tmp_data = tmp_data.groupby(['SEASON', 'asin']).size().reset_index(name='count')\n",
    "\n",
    "tmp_data = tmp_data.pivot(index='asin', columns='SEASON',values='count').reset_index()\n",
    "tmp_data.fillna(0.0, inplace=True)\n",
    "tmp_data.set_index(\"asin\" , inplace=True)"
   ]
  },
  {
   "cell_type": "code",
   "execution_count": 124,
   "metadata": {},
   "outputs": [],
   "source": [
    "tmp_data['sum'] = tmp_data[['Autumn', 'Spring', 'Summer', 'Winter']].sum(axis=1).astype(int)\n",
    "\n",
    "sum_threshold = 60\n",
    "tmp_data = tmp_data[tmp_data['sum'] > sum_threshold]  # 希望至少有一定的銷售紀錄(評分紀錄)才做判別\n",
    "\n",
    "tmp_data['mean'] = tmp_data[['Autumn', 'Spring', 'Summer', 'Winter']].mean(axis=1).round(2).astype(float)\n",
    "tmp_data['std'] = tmp_data[['Autumn', 'Spring', 'Summer', 'Winter']].std(axis=1).round(3).astype(float)\n",
    "tmp_data['fstd'] = tmp_data['std'] / tmp_data['mean']  # fixed std"
   ]
  },
  {
   "cell_type": "code",
   "execution_count": 125,
   "metadata": {},
   "outputs": [
    {
     "name": "stdout",
     "output_type": "stream",
     "text": [
      "以最低至少60的銷售紀錄為門檻時，得到的季節性商品占全部商品的約2%。\n",
      "\n",
      "SEASON      Autumn  Spring  Summer  Winter  sum   mean      std      fstd\n",
      "asin                                                                     \n",
      "B000I6AZHE     1.0   161.0     1.0     1.0  164  41.00   80.000  1.951220\n",
      "B00182JYSS    32.0     7.0   133.0    18.0  190  47.50   57.911  1.219179\n",
      "B002GP80EU    93.0     4.0    10.0    13.0  120  30.00   42.166  1.405533\n",
      "B002OXSKF8     2.0     0.0     1.0   104.0  107  26.75   51.506  1.925458\n",
      "B00D8FUHFC    28.0     9.0   208.0    21.0  266  66.50   94.659  1.423444\n",
      "B00KGKQR2Y     7.0    63.0    16.0    10.0   96  24.00   26.268  1.094500\n",
      "B00RCNHRQ8    12.0    30.0    12.0    87.0  141  35.25   35.528  1.007887\n",
      "B00U0PABWW     8.0    10.0    58.0     7.0   83  20.75   24.865  1.198313\n",
      "B0189CM3U0     0.0    33.0     9.0   260.0  302  75.50  123.786  1.639550\n",
      "B019FOXB70    10.0    84.0     7.0   293.0  394  98.50  134.468  1.365157\n",
      "B01AUOTSVW     7.0    63.0    22.0     7.0   99  24.75   26.462  1.069172\n",
      "B01B54XW54    24.0   260.0    72.0    15.0  371  92.75  114.273  1.232054\n",
      "B01B5GTUM6     6.0    94.0    12.0    14.0  126  31.50   41.805  1.327143\n",
      "B01BEWYRJ2    42.0     2.0     6.0    12.0   62  15.50   18.138  1.170194\n",
      "B01CJNZKZK    17.0     6.0    96.0    10.0  129  32.25   42.742  1.325333\n",
      "B01E0DO7GU    13.0    33.0    96.0     5.0  147  36.75   41.218  1.121578\n",
      "B01F0QLD3G     8.0     8.0    48.0     5.0   69  17.25   20.549  1.191246\n",
      "B01FLJROJ4     8.0    37.0    16.0   135.0  196  49.00   58.623  1.196388\n"
     ]
    }
   ],
   "source": [
    "# 使用fstd篩選\n",
    "season_tmp_data = tmp_data[tmp_data['fstd'] > 1]\n",
    "print('以最低至少{0}的銷售紀錄為門檻時，得到的季節性商品占全部商品的約{1}%。\\n'.format(sum_threshold, round(len(season_tmp_data) / len(tmp_data) * 100)))\n",
    "print(season_tmp_data)"
   ]
  },
  {
   "cell_type": "code",
   "execution_count": 126,
   "metadata": {},
   "outputs": [
    {
     "data": {
      "text/html": [
       "<div>\n",
       "<style scoped>\n",
       "    .dataframe tbody tr th:only-of-type {\n",
       "        vertical-align: middle;\n",
       "    }\n",
       "\n",
       "    .dataframe tbody tr th {\n",
       "        vertical-align: top;\n",
       "    }\n",
       "\n",
       "    .dataframe thead th {\n",
       "        text-align: right;\n",
       "    }\n",
       "</style>\n",
       "<table border=\"1\" class=\"dataframe\">\n",
       "  <thead>\n",
       "    <tr style=\"text-align: right;\">\n",
       "      <th></th>\n",
       "      <th>asin</th>\n",
       "      <th>SEASON</th>\n",
       "    </tr>\n",
       "  </thead>\n",
       "  <tbody>\n",
       "    <tr>\n",
       "      <th>0</th>\n",
       "      <td>B000I6AZHE</td>\n",
       "      <td>Spring</td>\n",
       "    </tr>\n",
       "    <tr>\n",
       "      <th>1</th>\n",
       "      <td>B00182JYSS</td>\n",
       "      <td>Summer</td>\n",
       "    </tr>\n",
       "    <tr>\n",
       "      <th>2</th>\n",
       "      <td>B002GP80EU</td>\n",
       "      <td>Autumn</td>\n",
       "    </tr>\n",
       "    <tr>\n",
       "      <th>3</th>\n",
       "      <td>B002OXSKF8</td>\n",
       "      <td>Winter</td>\n",
       "    </tr>\n",
       "    <tr>\n",
       "      <th>4</th>\n",
       "      <td>B00D8FUHFC</td>\n",
       "      <td>Summer</td>\n",
       "    </tr>\n",
       "    <tr>\n",
       "      <th>5</th>\n",
       "      <td>B00KGKQR2Y</td>\n",
       "      <td>Spring</td>\n",
       "    </tr>\n",
       "    <tr>\n",
       "      <th>6</th>\n",
       "      <td>B00RCNHRQ8</td>\n",
       "      <td>Winter</td>\n",
       "    </tr>\n",
       "    <tr>\n",
       "      <th>7</th>\n",
       "      <td>B00U0PABWW</td>\n",
       "      <td>Summer</td>\n",
       "    </tr>\n",
       "    <tr>\n",
       "      <th>8</th>\n",
       "      <td>B0189CM3U0</td>\n",
       "      <td>Winter</td>\n",
       "    </tr>\n",
       "    <tr>\n",
       "      <th>9</th>\n",
       "      <td>B019FOXB70</td>\n",
       "      <td>Winter</td>\n",
       "    </tr>\n",
       "    <tr>\n",
       "      <th>10</th>\n",
       "      <td>B01AUOTSVW</td>\n",
       "      <td>Spring</td>\n",
       "    </tr>\n",
       "    <tr>\n",
       "      <th>11</th>\n",
       "      <td>B01B54XW54</td>\n",
       "      <td>Spring</td>\n",
       "    </tr>\n",
       "    <tr>\n",
       "      <th>12</th>\n",
       "      <td>B01B5GTUM6</td>\n",
       "      <td>Spring</td>\n",
       "    </tr>\n",
       "    <tr>\n",
       "      <th>13</th>\n",
       "      <td>B01BEWYRJ2</td>\n",
       "      <td>Autumn</td>\n",
       "    </tr>\n",
       "    <tr>\n",
       "      <th>14</th>\n",
       "      <td>B01CJNZKZK</td>\n",
       "      <td>Summer</td>\n",
       "    </tr>\n",
       "    <tr>\n",
       "      <th>15</th>\n",
       "      <td>B01E0DO7GU</td>\n",
       "      <td>Summer</td>\n",
       "    </tr>\n",
       "    <tr>\n",
       "      <th>16</th>\n",
       "      <td>B01F0QLD3G</td>\n",
       "      <td>Summer</td>\n",
       "    </tr>\n",
       "    <tr>\n",
       "      <th>17</th>\n",
       "      <td>B01FLJROJ4</td>\n",
       "      <td>Winter</td>\n",
       "    </tr>\n",
       "  </tbody>\n",
       "</table>\n",
       "</div>"
      ],
      "text/plain": [
       "          asin  SEASON\n",
       "0   B000I6AZHE  Spring\n",
       "1   B00182JYSS  Summer\n",
       "2   B002GP80EU  Autumn\n",
       "3   B002OXSKF8  Winter\n",
       "4   B00D8FUHFC  Summer\n",
       "5   B00KGKQR2Y  Spring\n",
       "6   B00RCNHRQ8  Winter\n",
       "7   B00U0PABWW  Summer\n",
       "8   B0189CM3U0  Winter\n",
       "9   B019FOXB70  Winter\n",
       "10  B01AUOTSVW  Spring\n",
       "11  B01B54XW54  Spring\n",
       "12  B01B5GTUM6  Spring\n",
       "13  B01BEWYRJ2  Autumn\n",
       "14  B01CJNZKZK  Summer\n",
       "15  B01E0DO7GU  Summer\n",
       "16  B01F0QLD3G  Summer\n",
       "17  B01FLJROJ4  Winter"
      ]
     },
     "execution_count": 126,
     "metadata": {},
     "output_type": "execute_result"
    }
   ],
   "source": [
    "season_data = season_tmp_data.drop(['sum', 'mean', 'std', 'fstd'], axis=1)\n",
    "season_data = season_data.idxmax(axis=1).reset_index(name='SEASON')\n",
    "season_data"
   ]
  },
  {
   "cell_type": "code",
   "execution_count": 127,
   "metadata": {},
   "outputs": [],
   "source": [
    "metadata_tmp = pd.merge(season_data, metadata_tmp, left_on=\"asin\", right_on=\"asin\", how='right')\n",
    "metadata_tmp['SEASON'].fillna('None', inplace=True)"
   ]
  },
  {
   "cell_type": "code",
   "execution_count": 128,
   "metadata": {},
   "outputs": [],
   "source": [
    "# clear not-used DataFrame\n",
    "del tmp_data\n",
    "del season_data"
   ]
  },
  {
   "cell_type": "markdown",
   "metadata": {
    "id": "LFLEmgmg91y8"
   },
   "source": [
    "---"
   ]
  },
  {
   "cell_type": "markdown",
   "metadata": {},
   "source": [
    "## 若沒有相似商品的替代推薦"
   ]
  },
  {
   "cell_type": "markdown",
   "metadata": {},
   "source": [
    "### 近一個月熱銷\n",
    "由`A6_cf-user-based.ipynb`作業發現，近一個月熱銷比其他最近熱銷、長期熱銷更好，故在這熱銷只選擇這種方式。"
   ]
  },
  {
   "cell_type": "code",
   "execution_count": 103,
   "metadata": {},
   "outputs": [],
   "source": [
    "def get_recent_topN(k=10):\n",
    "    recent_training_data = ratings_trainings[(ratings_trainings['DATE'] >= '2018-08-01') \\\n",
    "                                  & (ratings_trainings['DATE'] < '2018-09-01')]\n",
    "    \n",
    "    recent_top = recent_training_data.groupby('asin') \\\n",
    "           .agg({'asin':'size', 'overall':'mean'}) \\\n",
    "           .rename(columns={'asin':'sold_count','overall':'mean_score'}) \\\n",
    "           .reset_index().sort_values('sold_count', ascending=False) \\\n",
    "           .head(k).asin.reset_index(drop=True).to_list()\n",
    "    \n",
    "    return recent_top"
   ]
  },
  {
   "cell_type": "code",
   "execution_count": null,
   "metadata": {},
   "outputs": [],
   "source": [
    "# TODO: 思考是否還有其他方案？用`SIMILAR`欄位？"
   ]
  },
  {
   "cell_type": "markdown",
   "metadata": {},
   "source": [
    "---"
   ]
  },
  {
   "cell_type": "markdown",
   "metadata": {},
   "source": [
    "## 產生推薦"
   ]
  },
  {
   "cell_type": "code",
   "execution_count": 189,
   "metadata": {},
   "outputs": [],
   "source": [
    "import pandas as pd\n",
    "from itertools import combinations\n",
    "from collections import defaultdict\n",
    "\n",
    "def get_item_similarity(training_data, is_add_feature=False):\n",
    "    # loading data from dataframe\n",
    "    # item_to_users dict:\n",
    "    # {\n",
    "    #   'item': {\n",
    "    #       'user': ratings...\n",
    "    #   }...\n",
    "    # }\n",
    "    item_to_users = defaultdict(dict)\n",
    "    for _, row in training_data.iterrows():\n",
    "        row = dict(row)\n",
    "        user = row['reviewerID']\n",
    "        item = row['asin']\n",
    "        rating = float(row['overall'])\n",
    "        item_to_users[item][user] = rating\n",
    "\n",
    "    # TODO: 加入item特徵\n",
    "    if (is_add_feature):\n",
    "        for item, rating_users in item_to_users.items():\n",
    "            for _, row in metadata_tmp2.iterrows():\n",
    "                for col_name in metadata_tmp2.columns.values[2:]:  # only category now\n",
    "                    item_to_users[item][col_name] = row[col_name]\n",
    "#     print(\"data converted\")\n",
    "\n",
    "    user_to_items = defaultdict(dict)\n",
    "    for item, rating_users in item_to_users.items():\n",
    "        for user, rating in rating_users.items():\n",
    "            user_to_items[user][item] = rating\n",
    "\n",
    "#     print(\"data inverted\")\n",
    "\n",
    "    init_sim = lambda: [0, 0, 0]\n",
    "    factory = lambda: defaultdict(init_sim)\n",
    "    pre_item_similarity = defaultdict(factory)\n",
    "    for user, items in user_to_items.items():\n",
    "        if len(items) > 1:\n",
    "            for i1, i2 in combinations(items.keys(), 2):\n",
    "                xy = items[i1] * items[i2]\n",
    "                xx = items[i1] ** 2\n",
    "                yy = items[i2] ** 2\n",
    "                pre_item_similarity[i1][i2][0] += xy\n",
    "                pre_item_similarity[i1][i2][1] += xx\n",
    "                pre_item_similarity[i1][i2][2] += yy\n",
    "\n",
    "                pre_item_similarity[i2][i1][0] += xy\n",
    "                pre_item_similarity[i2][i1][1] += xx\n",
    "                pre_item_similarity[i2][i1][2] += yy\n",
    "\n",
    "#     print(\"sim data prepared\")\n",
    "    \n",
    "    item_similarity = {}\n",
    "    for src_item in pre_item_similarity:\n",
    "        item_similarity_order = []\n",
    "        for dst_item, val in pre_item_similarity[src_item].items():\n",
    "            xy = val[0]\n",
    "            xx = val[1]\n",
    "            yy = val[2]\n",
    "            div = ((xx*yy) ** 0.5)\n",
    "            if div == 0:\n",
    "                continue\n",
    "            similarity = xy / div\n",
    "            if similarity < 0:\n",
    "                continue\n",
    "            for i, s in enumerate(item_similarity_order):\n",
    "                target_similarity = s[1]\n",
    "                if target_similarity < similarity:\n",
    "                    item_similarity_order.insert(i, (dst_item, similarity))\n",
    "                    break\n",
    "            else:\n",
    "                item_similarity_order.append((dst_item, similarity))\n",
    "        item_similarity[src_item] = item_similarity_order\n",
    "    \n",
    "    return item_similarity, user_to_items"
   ]
  },
  {
   "cell_type": "code",
   "execution_count": 147,
   "metadata": {},
   "outputs": [],
   "source": [
    "def recomend_item_sort(user, recommended_items, k=10):\n",
    "    # 儲存原本list順序\n",
    "    recommended_dict = dict()\n",
    "    for idx in range(len(recommended_items)):\n",
    "        if recommended_items[idx] not in recommended_dict:\n",
    "            recommended_dict[recommended_items[idx]] = idx\n",
    "#     recommended_dict = {k: v for v, k in enumerate(recommended_items) if k not in recommended_dict}\n",
    "    \n",
    "    for item in recommended_items:\n",
    "        if ((metadata_tmp['asin'].str.contains(item).any()) & (item in recommended_dict)):\n",
    "            item_info = metadata_tmp[metadata_tmp['asin'] == item]\n",
    "            # 剔除除分數過低的\n",
    "            if (item_info['RATE'].values[0] < 3):\n",
    "#                 recommended_items.remove(item)\n",
    "                del recommended_dict[item]\n",
    "            # 剔除非當季商品\n",
    "            elif ((item_info['SEASON'].values[0] != 'None') or (item_info['SEASON'].values[0] == 'Autumn') or (item_info['SEASON'].values[0] == 'Winter')):\n",
    "#                 recommended_items.remove(item)\n",
    "                del recommended_dict[item]\n",
    "            # TODO: 剔除近兩年未銷售出去過的商品\n",
    "        \n",
    "    \n",
    "#     # 剔除重複商品\n",
    "#     recommended_items = list(set(recommended_items))\n",
    "    \n",
    "#     # 依照RATE(COUNT)排序\n",
    "# #     print(metadata_tmp[metadata_tmp['asin'].isin(recommended_items)].sort_values('RATE', ascending=False) \\\n",
    "# #                                .head(k))\n",
    "#     recommended_list = metadata_tmp[metadata_tmp['asin'].isin(recommended_items)].sort_values('RATE', ascending=False) \\\n",
    "#                                .head(k).asin.reset_index(drop=True).to_list()\n",
    "    # 依照舊有list順序排序\n",
    "    # TODO: 考慮[每個用戶相似度x商品評論數]，才接著非來自相似用戶的推薦\n",
    "    recommended_list = [key for (key, value) in sorted(recommended_dict.items(), key=lambda x: x[1])]\n",
    "    \n",
    "    return recommended_list"
   ]
  },
  {
   "cell_type": "code",
   "execution_count": 190,
   "metadata": {},
   "outputs": [],
   "source": [
    "def recommender(training_data, users=[], k=10, is_add_feature=False, is_sorted=True):\n",
    "\n",
    "    item_similarity, user_to_items = get_item_similarity(training_data, is_add_feature)\n",
    "    \n",
    "#     print(f\"get {k} recommendation items for for user: {users}\")\n",
    "\n",
    "    recommendation = {}\n",
    "    \n",
    "    # 如果要排序就先找出兩倍k的資料\n",
    "    n = 2*k if is_sorted else k\n",
    "    \n",
    "    for user in users:\n",
    "        items = []\n",
    "        items_set = set()\n",
    "        stop = False\n",
    "        user_has_rated = set(user_to_items[user])\n",
    "        for item in user_has_rated:\n",
    "            if item in item_similarity:\n",
    "                for sim_item, _ in item_similarity[item]:\n",
    "                    # skip the item user has rated\n",
    "                    if sim_item not in user_has_rated and sim_item not in items_set:\n",
    "                        items.append(sim_item)\n",
    "                        items_set.add(sim_item)\n",
    "                    if len(items) >= n:\n",
    "                        stop = True\n",
    "                        break\n",
    "                if stop:\n",
    "                    break\n",
    "                    \n",
    "        if len(items) < n:\n",
    "            items = items + get_recent_topN(n-len(items))\n",
    "        \n",
    "        recommendation[user] = recomend_item_sort(user, items, k) if is_sorted else items\n",
    "        \n",
    "    return recommendation"
   ]
  },
  {
   "cell_type": "markdown",
   "metadata": {},
   "source": [
    "---"
   ]
  },
  {
   "cell_type": "markdown",
   "metadata": {},
   "source": [
    "## 結果評估"
   ]
  },
  {
   "cell_type": "code",
   "execution_count": 10,
   "metadata": {},
   "outputs": [],
   "source": [
    "def evaluate(ratings_testings_by_user={}, ratings_by_user={}, method=None):\n",
    "    '''\n",
    "    * ratings_testings_by_user: dict 真實被購買的商品資料（2018-09-01 以後資料）\n",
    "    * ratings_by_user: dict 利用訓練資料學習的推薦商品\n",
    "    * method: str\n",
    "    * score: float\n",
    "    '''\n",
    "    total = 0\n",
    "    for d in ratings_testings_by_user:\n",
    "        if d in ratings_by_user:\n",
    "            total += len(set(ratings_by_user[d]) & set(ratings_testings_by_user[d]))\n",
    "\n",
    "    score = total / len(ratings_testings)\n",
    "    return score"
   ]
  },
  {
   "cell_type": "markdown",
   "metadata": {},
   "source": [
    "### 方案1: 當重複評分時取平均評分，以使用者評分作為特徵，cosine相似度找相似商品，而找不到相似商品則用近一個月的熱銷推薦，未剔除評分過低、非當季商品(秋冬)。"
   ]
  },
  {
   "cell_type": "code",
   "execution_count": 193,
   "metadata": {},
   "outputs": [
    {
     "name": "stdout",
     "output_type": "stream",
     "text": [
      "top10 Recall： 0.15084745762711865\n",
      "top20 Recall： 0.15084745762711865\n"
     ]
    }
   ],
   "source": [
    "for k in [10, 20]:\n",
    "    ratings_by_user = recommender(ratings_trainings_unique, users, is_sorted=False)\n",
    "    print(f'top{k} Recall： {evaluate(ratings_testings_by_user, ratings_by_user)}')"
   ]
  },
  {
   "cell_type": "markdown",
   "metadata": {},
   "source": [
    "### 方案2: 當重複評分時取平均評分，以使用者評分作為特徵，cosine相似度找相似商品，而找不到相似商品則用近一個月的熱銷推薦，剔除評分過低、非當季商品(秋冬)。"
   ]
  },
  {
   "cell_type": "code",
   "execution_count": 148,
   "metadata": {},
   "outputs": [
    {
     "name": "stdout",
     "output_type": "stream",
     "text": [
      "top10 Recall： 0.16440677966101694\n",
      "top20 Recall： 0.16440677966101694\n"
     ]
    }
   ],
   "source": [
    "for k in [10, 20]:\n",
    "    ratings_by_user = recommender(ratings_trainings_unique, users)\n",
    "    print(f'top{k} Recall： {evaluate(ratings_testings_by_user, ratings_by_user)}')"
   ]
  },
  {
   "cell_type": "markdown",
   "metadata": {},
   "source": [
    "發現top10和top20的Recall皆相同，認為可能推薦排序影響不大，而是當初選入的候選推薦不夠好。"
   ]
  },
  {
   "cell_type": "markdown",
   "metadata": {},
   "source": [
    "或許加入新特徵來找相似商品是個方向。"
   ]
  },
  {
   "cell_type": "code",
   "execution_count": null,
   "metadata": {},
   "outputs": [],
   "source": [
    "查看推薦結果，是否有與用戶評分商品有差異，若沒有或許加入CATEGORY特徵，不會有差異。\n",
    "這樣原因可能來自於，大多數商品都集中在幾類中。"
   ]
  },
  {
   "cell_type": "code",
   "execution_count": null,
   "metadata": {},
   "outputs": [],
   "source": [
    "ratings_by_user\n",
    "# 已評分商品類別vs被推薦的商品類別"
   ]
  },
  {
   "cell_type": "code",
   "execution_count": null,
   "metadata": {},
   "outputs": [],
   "source": [
    "### 方案3: 加入商品資料集中title，與使用者評分一起做cosine相似度計算。"
   ]
  },
  {
   "cell_type": "code",
   "execution_count": null,
   "metadata": {},
   "outputs": [],
   "source": [
    "但維度可能太高，計算過久，可能需要降維，想說之後用surprise來實現。"
   ]
  },
  {
   "cell_type": "markdown",
   "metadata": {},
   "source": [
    "想說更複雜的實現(如:不同相似度計算方法、分群等)，用surprise來測試實現，比較快速。"
   ]
  }
 ],
 "metadata": {
  "colab": {
   "collapsed_sections": [
    "kawSkfL16rd-",
    "DXvpOBld6reD"
   ],
   "include_colab_link": true,
   "name": "A6_cf-item-based.ipynb",
   "provenance": []
  },
  "kernelspec": {
   "display_name": "Python 3",
   "language": "python",
   "name": "python3"
  },
  "language_info": {
   "codemirror_mode": {
    "name": "ipython",
    "version": 3
   },
   "file_extension": ".py",
   "mimetype": "text/x-python",
   "name": "python",
   "nbconvert_exporter": "python",
   "pygments_lexer": "ipython3",
   "version": "3.7.1"
  }
 },
 "nbformat": 4,
 "nbformat_minor": 5
}

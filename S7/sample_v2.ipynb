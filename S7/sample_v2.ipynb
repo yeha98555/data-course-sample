{
 "cells": [
  {
   "cell_type": "code",
   "execution_count": 1,
   "metadata": {},
   "outputs": [],
   "source": [
    "import pandas as pd\n",
    "import numpy as np\n",
    "import matplotlib.pyplot as plt"
   ]
  },
  {
   "cell_type": "markdown",
   "metadata": {},
   "source": [
    "## 載入資料"
   ]
  },
  {
   "cell_type": "code",
   "execution_count": 2,
   "metadata": {},
   "outputs": [],
   "source": [
    "# 2020 年全年 iCook 上發布的食譜與使用者收藏互動行為資料\n",
    "recipes_df = pd.read_json('./data/recipes.jsonl.gz', lines=True, compression='gzip')\n",
    "ingredients_df = pd.read_json('./data/ingredients.jsonl.gz', lines=True, compression='gzip')\n",
    "favorites_df = pd.read_json('./data/favorites.json.gz', compression='gzip')"
   ]
  },
  {
   "cell_type": "code",
   "execution_count": 3,
   "metadata": {},
   "outputs": [],
   "source": [
    "# 2021 年 1~3 月 iCook 上有收藏上述食譜的使用者 IDs\n",
    "test_favorites_df = pd.read_json('./data/test_favorites.json.gz', compression='gzip')\n",
    "# 2021 年 1~3 月 iCook 上有收藏上述食譜的使用者 IDs 與實際收藏的食譜 IDs（評估推薦系統使用）\n",
    "test_user_ids = pd.read_csv('./data/test_user_ids.txt.gz', compression='gzip', names=['user_id'])"
   ]
  },
  {
   "cell_type": "markdown",
   "metadata": {},
   "source": [
    "## 資料整理"
   ]
  },
  {
   "cell_type": "markdown",
   "metadata": {},
   "source": [
    "### 是否有需要刪除的資料？（如：資料不全的、重複等）"
   ]
  },
  {
   "cell_type": "markdown",
   "metadata": {},
   "source": [
    "#### 重複資料（全部欄位值相同）\n",
    "參考[Finding and removing duplicate rows in Pandas DataFrame](https://towardsdatascience.com/finding-and-removing-duplicate-rows-in-pandas-dataframe-c6117668631f)。"
   ]
  },
  {
   "cell_type": "code",
   "execution_count": 4,
   "metadata": {},
   "outputs": [
    {
     "data": {
      "text/plain": [
       "0"
      ]
     },
     "execution_count": 4,
     "metadata": {},
     "output_type": "execute_result"
    }
   ],
   "source": [
    "recipes_df.duplicated().sum()"
   ]
  },
  {
   "cell_type": "code",
   "execution_count": 5,
   "metadata": {},
   "outputs": [
    {
     "data": {
      "text/plain": [
       "0"
      ]
     },
     "execution_count": 5,
     "metadata": {},
     "output_type": "execute_result"
    }
   ],
   "source": [
    "ingredients_df.duplicated().sum()"
   ]
  },
  {
   "cell_type": "code",
   "execution_count": 6,
   "metadata": {},
   "outputs": [
    {
     "data": {
      "text/plain": [
       "0"
      ]
     },
     "execution_count": 6,
     "metadata": {},
     "output_type": "execute_result"
    }
   ],
   "source": [
    "favorites_df.duplicated().sum()"
   ]
  },
  {
   "cell_type": "markdown",
   "metadata": {},
   "source": [
    "#### 資料不全"
   ]
  },
  {
   "cell_type": "markdown",
   "metadata": {},
   "source": [
    "##### recipes"
   ]
  },
  {
   "cell_type": "code",
   "execution_count": 7,
   "metadata": {},
   "outputs": [
    {
     "name": "stdout",
     "output_type": "stream",
     "text": [
      "description為NaN數量: 5147 (18.81%)\n",
      "servings為NaN數量: 1502 (5.49%)\n",
      "time為NaN數量: 6226 (22.76%)\n"
     ]
    }
   ],
   "source": [
    "num_recipes = len(recipes_df)\n",
    "\n",
    "for i in recipes_df.columns[recipes_df.isna().any()].tolist():\n",
    "    print('{0}為NaN數量: {1} ({2}%)'.format(i, recipes_df[i].isnull().sum(), round(recipes_df[i].isnull().sum() / num_recipes *100, 2)))"
   ]
  },
  {
   "cell_type": "markdown",
   "metadata": {},
   "source": [
    "##### ingredients"
   ]
  },
  {
   "cell_type": "code",
   "execution_count": 8,
   "metadata": {},
   "outputs": [
    {
     "name": "stdout",
     "output_type": "stream",
     "text": [
      "group_name為NaN數量: 144731 (68.63%)\n"
     ]
    }
   ],
   "source": [
    "num_ingredients = len(ingredients_df)\n",
    "\n",
    "for i in ingredients_df.columns[ingredients_df.isna().any()].tolist():\n",
    "    print('{0}為NaN數量: {1} ({2}%)'.format(i, ingredients_df[i].isnull().sum(), round(ingredients_df[i].isnull().sum() / num_ingredients *100, 2)))"
   ]
  },
  {
   "cell_type": "markdown",
   "metadata": {},
   "source": [
    "接近一半的食材資料都沒有該欄位值，故選擇捨去該欄位。"
   ]
  },
  {
   "cell_type": "code",
   "execution_count": 9,
   "metadata": {},
   "outputs": [],
   "source": [
    "ingredients_df = ingredients_df.drop(['group_name'], axis=1)"
   ]
  },
  {
   "cell_type": "markdown",
   "metadata": {},
   "source": [
    "##### favorites"
   ]
  },
  {
   "cell_type": "code",
   "execution_count": 10,
   "metadata": {},
   "outputs": [
    {
     "name": "stdout",
     "output_type": "stream",
     "text": [
      "user_id為NaN數量: 1 (0.0%)\n"
     ]
    }
   ],
   "source": [
    "num_favorites = len(favorites_df)\n",
    "\n",
    "for i in favorites_df.columns[favorites_df.isna().any()].tolist():\n",
    "    print('{0}為NaN數量: {1} ({2}%)'.format(i, favorites_df[i].isnull().sum(), round(favorites_df[i].isnull().sum() / num_favorites *100, 2)))"
   ]
  },
  {
   "cell_type": "markdown",
   "metadata": {},
   "source": [
    "認為沒有user_id資料的favorites_df，不具意義，故選擇刪除該筆資料。"
   ]
  },
  {
   "cell_type": "code",
   "execution_count": 11,
   "metadata": {},
   "outputs": [],
   "source": [
    "favorites_df.dropna(subset=[\"user_id\"], inplace=True)"
   ]
  },
  {
   "cell_type": "markdown",
   "metadata": {},
   "source": [
    "---"
   ]
  },
  {
   "cell_type": "markdown",
   "metadata": {},
   "source": [
    "保留原始資料，複製一份出來處理。"
   ]
  },
  {
   "cell_type": "code",
   "execution_count": 12,
   "metadata": {},
   "outputs": [],
   "source": [
    "recipes_tmp = recipes_df.copy()\n",
    "ingredients_tmp = ingredients_df.copy()\n",
    "favorites_tmp = favorites_df.copy()"
   ]
  },
  {
   "cell_type": "markdown",
   "metadata": {},
   "source": [
    "---"
   ]
  },
  {
   "cell_type": "markdown",
   "metadata": {},
   "source": [
    "## 資料探索"
   ]
  },
  {
   "cell_type": "markdown",
   "metadata": {},
   "source": [
    "### user_id統一使用int"
   ]
  },
  {
   "cell_type": "code",
   "execution_count": 13,
   "metadata": {},
   "outputs": [],
   "source": [
    "favorites_tmp.user_id = favorites_tmp.user_id.astype(int)"
   ]
  },
  {
   "cell_type": "markdown",
   "metadata": {},
   "source": [
    "### 去除明顯不具有意義的欄位"
   ]
  },
  {
   "cell_type": "markdown",
   "metadata": {},
   "source": [
    "認為每份食材的份量，影響用戶是否喜歡或收藏該食譜的機率偏低，故選擇捨去該欄位。"
   ]
  },
  {
   "cell_type": "code",
   "execution_count": 14,
   "metadata": {},
   "outputs": [],
   "source": [
    "ingredients_tmp = ingredients_tmp.drop(['quantity'], axis=1)"
   ]
  },
  {
   "cell_type": "markdown",
   "metadata": {},
   "source": [
    "### 一些好奇"
   ]
  },
  {
   "cell_type": "markdown",
   "metadata": {},
   "source": [
    "#### 每份食譜通常用多少食材？其分佈？\n",
    "好奇食材數會不會影響用戶？故先將食材數也加入食譜資料表中。"
   ]
  },
  {
   "cell_type": "code",
   "execution_count": 15,
   "metadata": {},
   "outputs": [],
   "source": [
    "# 移除非必須、可省\n",
    "ingredients_tmp = ingredients_tmp.drop(ingredients_tmp[ingredients_tmp['name'].str.contains('（非必須）')].index).reset_index(drop=True)\n",
    "ingredients_tmp = ingredients_tmp.drop(ingredients_tmp[ingredients_tmp['name'].str.contains('（可省）')].index).reset_index(drop=True)"
   ]
  },
  {
   "cell_type": "code",
   "execution_count": 16,
   "metadata": {},
   "outputs": [],
   "source": [
    "recipe_ingredients_count = ingredients_tmp.groupby('recipe_id') \\\n",
    "       .agg({'name':'size'}) \\\n",
    "       .rename(columns={'name':'ingredients_count'}) \\\n",
    "       .reset_index().sort_values('ingredients_count', ascending=False)"
   ]
  },
  {
   "cell_type": "code",
   "execution_count": 17,
   "metadata": {},
   "outputs": [
    {
     "data": {
      "text/plain": [
       "count    27353.000000\n",
       "mean         7.708222\n",
       "std          3.946373\n",
       "min          1.000000\n",
       "25%          5.000000\n",
       "50%          7.000000\n",
       "75%         10.000000\n",
       "max         41.000000\n",
       "Name: ingredients_count, dtype: float64"
      ]
     },
     "execution_count": 17,
     "metadata": {},
     "output_type": "execute_result"
    }
   ],
   "source": [
    "recipe_ingredients_count.ingredients_count.describe()"
   ]
  },
  {
   "cell_type": "code",
   "execution_count": 18,
   "metadata": {},
   "outputs": [
    {
     "data": {
      "text/plain": [
       "<matplotlib.axes._subplots.AxesSubplot at 0x10cc73c50>"
      ]
     },
     "execution_count": 18,
     "metadata": {},
     "output_type": "execute_result"
    },
    {
     "data": {
      "image/png": "[encoded data removed]",
      "text/plain": [
       "<Figure size 432x288 with 1 Axes>"
      ]
     },
     "metadata": {
      "needs_background": "light"
     },
     "output_type": "display_data"
    }
   ],
   "source": [
    "recipe_ingredients_count['ingredients_count'].plot.box()"
   ]
  },
  {
   "cell_type": "markdown",
   "metadata": {},
   "source": [
    "將食材數加入食譜資料表中。<br>\n",
    "因為考量後面會用食材做tfidf，故選擇將無食材的食譜移除。"
   ]
  },
  {
   "cell_type": "code",
   "execution_count": 19,
   "metadata": {
    "scrolled": true
   },
   "outputs": [
    {
     "name": "stdout",
     "output_type": "stream",
     "text": [
      "原本食譜數: 27358\n",
      "有 5 筆食譜沒有食材資料\n",
      "移除沒有食材資料的食譜...\n",
      "移除後食譜數: 27353\n"
     ]
    }
   ],
   "source": [
    "print('原本食譜數: {0}'.format(len(recipes_tmp)))\n",
    "recipes_tmp = pd.merge(recipe_ingredients_count, recipes_tmp, left_on=\"recipe_id\", right_on=\"id\", how='right')\n",
    "recipes_tmp = recipes_tmp.drop(['recipe_id'], axis=1)\n",
    "print('有 {0} 筆食譜沒有食材資料'.format(len(recipes_tmp[recipes_tmp.ingredients_count.isna()])))\n",
    "print('移除沒有食材資料的食譜...')\n",
    "recipes_tmp = recipes_tmp.drop(recipes_tmp[recipes_tmp.ingredients_count.isna()].index).reset_index(drop=True)\n",
    "print('移除後食譜數: {0}'.format(len(recipes_tmp)))"
   ]
  },
  {
   "cell_type": "code",
   "execution_count": 20,
   "metadata": {},
   "outputs": [],
   "source": [
    "# clear not-used DataFrame\n",
    "del recipe_ingredients_count"
   ]
  },
  {
   "cell_type": "markdown",
   "metadata": {},
   "source": [
    "#### favorite_count、favorite_tmp中食譜被紀錄收藏數是否一致？"
   ]
  },
  {
   "cell_type": "code",
   "execution_count": 21,
   "metadata": {
    "scrolled": true
   },
   "outputs": [],
   "source": [
    "recipe_fav2020_count = favorites_tmp.groupby('recipe_id') \\\n",
    "       .agg({'user_id':'size'}) \\\n",
    "       .rename(columns={'user_id':'fav2020_count'}) \\\n",
    "       .reset_index().sort_values('fav2020_count', ascending=False)"
   ]
  },
  {
   "cell_type": "code",
   "execution_count": 22,
   "metadata": {},
   "outputs": [],
   "source": [
    "recipes_fav_tmp = pd.merge(recipe_fav2020_count, recipes_tmp, left_on=\"recipe_id\", right_on=\"id\", how='right')\n",
    "recipes_fav_tmp = recipes_fav_tmp.drop(['recipe_id'], axis=1)"
   ]
  },
  {
   "cell_type": "code",
   "execution_count": 23,
   "metadata": {},
   "outputs": [
    {
     "name": "stdout",
     "output_type": "stream",
     "text": [
      "兩者一致的有 3443 (12.59%) 筆\n"
     ]
    }
   ],
   "source": [
    "print('兩者一致的有 {0} ({1}%) 筆'.format(\n",
    "    recipes_fav_tmp[recipes_fav_tmp['fav2020_count'] == recipes_fav_tmp['favorites_count']].id.count(),\n",
    "    round(recipes_fav_tmp[recipes_fav_tmp['fav2020_count'] == recipes_fav_tmp['favorites_count']].id.count() / len(recipes_fav_tmp) * 100, 2)\n",
    "))"
   ]
  },
  {
   "cell_type": "code",
   "execution_count": 24,
   "metadata": {},
   "outputs": [
    {
     "name": "stdout",
     "output_type": "stream",
     "text": [
      "兩者不一致的有 23910 (87.41%) 筆\n"
     ]
    }
   ],
   "source": [
    "print('兩者不一致的有 {0} ({1}%) 筆'.format(\n",
    "    recipes_fav_tmp[recipes_fav_tmp['fav2020_count'] != recipes_fav_tmp['favorites_count']].id.count(),\n",
    "    round(recipes_fav_tmp[recipes_fav_tmp['fav2020_count'] != recipes_fav_tmp['favorites_count']].id.count() / len(recipes_fav_tmp) * 100, 2)\n",
    "))"
   ]
  },
  {
   "cell_type": "code",
   "execution_count": 25,
   "metadata": {
    "scrolled": true
   },
   "outputs": [
    {
     "data": {
      "text/plain": [
       "0"
      ]
     },
     "execution_count": 25,
     "metadata": {},
     "output_type": "execute_result"
    }
   ],
   "source": [
    "recipes_fav_tmp[recipes_fav_tmp['fav2020_count'] > recipes_fav_tmp['favorites_count']].id.count()"
   ]
  },
  {
   "cell_type": "markdown",
   "metadata": {},
   "source": [
    "發現兩者大多不一致，不一致的情況多為favorites_count大於fav2020_count。推測favorites_count是從發布那年(2020)一直到下載資料集時的，或許能用favorites_count-fav2020_count作為近期熱銷，favorites_count作為長期熱銷，故先加入食譜資料集中。"
   ]
  },
  {
   "cell_type": "code",
   "execution_count": 26,
   "metadata": {},
   "outputs": [],
   "source": [
    "recipes_tmp = pd.merge(recipe_fav2020_count, recipes_tmp, left_on=\"recipe_id\", right_on=\"id\", how='right')\n",
    "recipes_tmp['fav2020_count'].fillna(0, inplace=True)\n",
    "recipes_tmp = recipes_tmp.drop(['recipe_id'], axis=1)"
   ]
  },
  {
   "cell_type": "code",
   "execution_count": 27,
   "metadata": {},
   "outputs": [],
   "source": [
    "recipes_tmp['recent_favorites_count'] = (recipes_tmp.favorites_count - recipes_tmp.fav2020_count).fillna(0)"
   ]
  },
  {
   "cell_type": "code",
   "execution_count": 28,
   "metadata": {},
   "outputs": [],
   "source": [
    "# clear not-used DataFrame\n",
    "del recipes_fav_tmp"
   ]
  },
  {
   "cell_type": "markdown",
   "metadata": {},
   "source": [
    "#### 食譜資料集與收藏資料集關係\n",
    "想根據查看以下兩個面向，決定若用cf該是user-based好？還是item-based？\n",
    "- 每份食譜通常被多少人收藏？其分佈？\n",
    "- 每個人通常收藏多少食譜？其分佈？"
   ]
  },
  {
   "cell_type": "markdown",
   "metadata": {},
   "source": [
    "##### 用戶收藏過多少食譜？"
   ]
  },
  {
   "cell_type": "code",
   "execution_count": 29,
   "metadata": {},
   "outputs": [
    {
     "data": {
      "text/html": [
       "<div>\n",
       "<style scoped>\n",
       "    .dataframe tbody tr th:only-of-type {\n",
       "        vertical-align: middle;\n",
       "    }\n",
       "\n",
       "    .dataframe tbody tr th {\n",
       "        vertical-align: top;\n",
       "    }\n",
       "\n",
       "    .dataframe thead th {\n",
       "        text-align: right;\n",
       "    }\n",
       "</style>\n",
       "<table border=\"1\" class=\"dataframe\">\n",
       "  <thead>\n",
       "    <tr style=\"text-align: right;\">\n",
       "      <th></th>\n",
       "      <th>user_id</th>\n",
       "      <th>favorites_count</th>\n",
       "    </tr>\n",
       "  </thead>\n",
       "  <tbody>\n",
       "    <tr>\n",
       "      <th>23770</th>\n",
       "      <td>318496</td>\n",
       "      <td>8155</td>\n",
       "    </tr>\n",
       "    <tr>\n",
       "      <th>82195</th>\n",
       "      <td>1169007</td>\n",
       "      <td>7166</td>\n",
       "    </tr>\n",
       "    <tr>\n",
       "      <th>16846</th>\n",
       "      <td>221194</td>\n",
       "      <td>6142</td>\n",
       "    </tr>\n",
       "    <tr>\n",
       "      <th>54313</th>\n",
       "      <td>754960</td>\n",
       "      <td>5613</td>\n",
       "    </tr>\n",
       "    <tr>\n",
       "      <th>81925</th>\n",
       "      <td>1164973</td>\n",
       "      <td>5459</td>\n",
       "    </tr>\n",
       "  </tbody>\n",
       "</table>\n",
       "</div>"
      ],
      "text/plain": [
       "       user_id  favorites_count\n",
       "23770   318496             8155\n",
       "82195  1169007             7166\n",
       "16846   221194             6142\n",
       "54313   754960             5613\n",
       "81925  1164973             5459"
      ]
     },
     "execution_count": 29,
     "metadata": {},
     "output_type": "execute_result"
    }
   ],
   "source": [
    "favorites_user = favorites_tmp.groupby('user_id') \\\n",
    "       .agg({'recipe_id':'size'}) \\\n",
    "       .rename(columns={'recipe_id':'favorites_count'}) \\\n",
    "       .reset_index().sort_values('favorites_count', ascending=False)\n",
    "favorites_user.head()"
   ]
  },
  {
   "cell_type": "code",
   "execution_count": 30,
   "metadata": {},
   "outputs": [
    {
     "name": "stdout",
     "output_type": "stream",
     "text": [
      "23770     8155\n",
      "82195     7166\n",
      "16846     6142\n",
      "54313     5613\n",
      "81925     5459\n",
      "          ... \n",
      "96223        1\n",
      "96218        1\n",
      "96215        1\n",
      "96209        1\n",
      "200849       1\n",
      "Name: favorites_count, Length: 200850, dtype: int64\n",
      "這些人平均對多少食譜收藏 5.176694050286283\n"
     ]
    }
   ],
   "source": [
    "print(favorites_user['favorites_count'])\n",
    "print('這些人平均對多少食譜收藏 {0}'.format(favorites_user['favorites_count'].mean()))"
   ]
  },
  {
   "cell_type": "markdown",
   "metadata": {},
   "source": [
    "但認為只有收藏過一個食譜的用戶沒有用，因為由該食譜找到與用戶相似後，就無能推薦的食譜，故移除該用戶。"
   ]
  },
  {
   "cell_type": "code",
   "execution_count": 31,
   "metadata": {},
   "outputs": [],
   "source": [
    "favorites_user = favorites_user[favorites_user['favorites_count'] > 1]"
   ]
  },
  {
   "cell_type": "code",
   "execution_count": 32,
   "metadata": {},
   "outputs": [
    {
     "name": "stdout",
     "output_type": "stream",
     "text": [
      "23770     8155\n",
      "82195     7166\n",
      "16846     6142\n",
      "54313     5613\n",
      "81925     5459\n",
      "          ... \n",
      "16654        2\n",
      "173174       2\n",
      "13154        2\n",
      "170225       2\n",
      "16288        2\n",
      "Name: favorites_count, Length: 116464, dtype: int64\n",
      "這些人平均收藏多少食譜 8.202989765077621\n"
     ]
    }
   ],
   "source": [
    "print(favorites_user['favorites_count'])\n",
    "print('這些人平均收藏多少食譜 {0}'.format(favorites_user['favorites_count'].mean()))"
   ]
  },
  {
   "cell_type": "code",
   "execution_count": 33,
   "metadata": {},
   "outputs": [
    {
     "data": {
      "text/plain": [
       "count    116464.000000\n",
       "mean          8.202990\n",
       "std          52.081415\n",
       "min           2.000000\n",
       "25%           2.000000\n",
       "50%           4.000000\n",
       "75%           7.000000\n",
       "max        8155.000000\n",
       "Name: favorites_count, dtype: float64"
      ]
     },
     "execution_count": 33,
     "metadata": {},
     "output_type": "execute_result"
    }
   ],
   "source": [
    "favorites_user['favorites_count'].describe()"
   ]
  },
  {
   "cell_type": "code",
   "execution_count": 34,
   "metadata": {},
   "outputs": [
    {
     "data": {
      "text/plain": [
       "<matplotlib.axes._subplots.AxesSubplot at 0x10cd38470>"
      ]
     },
     "execution_count": 34,
     "metadata": {},
     "output_type": "execute_result"
    },
    {
     "data": {
      "image/png": "[encoded data removed]",
      "text/plain": [
       "<Figure size 432x288 with 1 Axes>"
      ]
     },
     "metadata": {
      "needs_background": "light"
     },
     "output_type": "display_data"
    }
   ],
   "source": [
    "favorites_user['favorites_count'].plot.box()"
   ]
  },
  {
   "cell_type": "code",
   "execution_count": 35,
   "metadata": {},
   "outputs": [
    {
     "data": {
      "image/png": "[encoded data removed]",
      "text/plain": [
       "<Figure size 432x288 with 1 Axes>"
      ]
     },
     "metadata": {
      "needs_background": "light"
     },
     "output_type": "display_data"
    },
    {
     "name": "stdout",
     "output_type": "stream",
     "text": [
      "將評分商品數超過8個的放大來看...\n"
     ]
    },
    {
     "data": {
      "image/png": "[encoded data removed]",
      "text/plain": [
       "<Figure size 432x288 with 1 Axes>"
      ]
     },
     "metadata": {
      "needs_background": "light"
     },
     "output_type": "display_data"
    },
    {
     "name": "stdout",
     "output_type": "stream",
     "text": [
      "將評分商品數超過60個的放大來看...\n"
     ]
    },
    {
     "data": {
      "image/png": "[encoded data removed]",
      "text/plain": [
       "<Figure size 432x288 with 1 Axes>"
      ]
     },
     "metadata": {
      "needs_background": "light"
     },
     "output_type": "display_data"
    },
    {
     "name": "stdout",
     "output_type": "stream",
     "text": [
      "將評分商品數超過112個的放大來看...\n"
     ]
    },
    {
     "data": {
      "image/png": "[encoded data removed]",
      "text/plain": [
       "<Figure size 432x288 with 1 Axes>"
      ]
     },
     "metadata": {
      "needs_background": "light"
     },
     "output_type": "display_data"
    },
    {
     "name": "stdout",
     "output_type": "stream",
     "text": [
      "將評分商品數超過1000個的放大來看...\n"
     ]
    },
    {
     "data": {
      "image/png": "[encoded data removed]",
      "text/plain": [
       "<Figure size 432x288 with 1 Axes>"
      ]
     },
     "metadata": {
      "needs_background": "light"
     },
     "output_type": "display_data"
    }
   ],
   "source": [
    "plt.hist(favorites_user['favorites_count'])\n",
    "plt.show()\n",
    "print('將評分商品數超過8個的放大來看...')\n",
    "plt.hist(favorites_user[favorites_user['favorites_count']> 8]['favorites_count'])\n",
    "plt.show()\n",
    "print('將評分商品數超過60個的放大來看...')\n",
    "plt.hist(favorites_user[favorites_user['favorites_count'] > 60]['favorites_count'])\n",
    "plt.show()\n",
    "print('將評分商品數超過112個的放大來看...')\n",
    "plt.hist(favorites_user[favorites_user['favorites_count'] > 112]['favorites_count'])\n",
    "plt.show()\n",
    "print('將評分商品數超過1000個的放大來看...')\n",
    "plt.hist(favorites_user[favorites_user['favorites_count'] > 1000]['favorites_count'])\n",
    "plt.show()"
   ]
  },
  {
   "cell_type": "markdown",
   "metadata": {},
   "source": [
    "##### 在食譜有多少被收藏？"
   ]
  },
  {
   "cell_type": "code",
   "execution_count": 36,
   "metadata": {},
   "outputs": [
    {
     "data": {
      "text/html": [
       "<div>\n",
       "<style scoped>\n",
       "    .dataframe tbody tr th:only-of-type {\n",
       "        vertical-align: middle;\n",
       "    }\n",
       "\n",
       "    .dataframe tbody tr th {\n",
       "        vertical-align: top;\n",
       "    }\n",
       "\n",
       "    .dataframe thead th {\n",
       "        text-align: right;\n",
       "    }\n",
       "</style>\n",
       "<table border=\"1\" class=\"dataframe\">\n",
       "  <thead>\n",
       "    <tr style=\"text-align: right;\">\n",
       "      <th></th>\n",
       "      <th>recipe_id</th>\n",
       "      <th>users_count</th>\n",
       "    </tr>\n",
       "  </thead>\n",
       "  <tbody>\n",
       "    <tr>\n",
       "      <th>22055</th>\n",
       "      <td>354535</td>\n",
       "      <td>2300</td>\n",
       "    </tr>\n",
       "    <tr>\n",
       "      <th>3071</th>\n",
       "      <td>324324</td>\n",
       "      <td>1947</td>\n",
       "    </tr>\n",
       "    <tr>\n",
       "      <th>17204</th>\n",
       "      <td>346764</td>\n",
       "      <td>1858</td>\n",
       "    </tr>\n",
       "    <tr>\n",
       "      <th>7150</th>\n",
       "      <td>330968</td>\n",
       "      <td>1779</td>\n",
       "    </tr>\n",
       "    <tr>\n",
       "      <th>2832</th>\n",
       "      <td>323921</td>\n",
       "      <td>1777</td>\n",
       "    </tr>\n",
       "  </tbody>\n",
       "</table>\n",
       "</div>"
      ],
      "text/plain": [
       "       recipe_id  users_count\n",
       "22055     354535         2300\n",
       "3071      324324         1947\n",
       "17204     346764         1858\n",
       "7150      330968         1779\n",
       "2832      323921         1777"
      ]
     },
     "execution_count": 36,
     "metadata": {},
     "output_type": "execute_result"
    }
   ],
   "source": [
    "favorites_recipe = favorites_tmp.groupby('recipe_id') \\\n",
    "       .agg({'user_id':'size'}) \\\n",
    "       .rename(columns={'user_id':'users_count'}) \\\n",
    "       .reset_index().sort_values('users_count', ascending=False)\n",
    "favorites_recipe.head()"
   ]
  },
  {
   "cell_type": "code",
   "execution_count": 37,
   "metadata": {},
   "outputs": [
    {
     "name": "stdout",
     "output_type": "stream",
     "text": [
      "22055    2300\n",
      "3071     1947\n",
      "17204    1858\n",
      "7150     1779\n",
      "2832     1777\n",
      "         ... \n",
      "9307        1\n",
      "14693       1\n",
      "20706       1\n",
      "5551        1\n",
      "10726       1\n",
      "Name: users_count, Length: 26616, dtype: int64\n",
      "這些食譜平均被多少用戶收藏: 39.064434926360086\n"
     ]
    }
   ],
   "source": [
    "print(favorites_recipe['users_count'])\n",
    "print('這些食譜平均被多少用戶收藏: {0}'.format(favorites_recipe['users_count'].mean()))"
   ]
  },
  {
   "cell_type": "markdown",
   "metadata": {},
   "source": [
    "但認為只有被一個用戶收藏的食譜，表示只有一個用戶收藏，無法推薦給其他用戶，因為由其他用戶找曾收藏食譜找到食譜後，不會跟這個食譜有任何相似，故移除該食譜。"
   ]
  },
  {
   "cell_type": "code",
   "execution_count": 38,
   "metadata": {},
   "outputs": [],
   "source": [
    "favorites_recipe = favorites_recipe[favorites_recipe['users_count'] > 1]"
   ]
  },
  {
   "cell_type": "code",
   "execution_count": 39,
   "metadata": {},
   "outputs": [
    {
     "name": "stdout",
     "output_type": "stream",
     "text": [
      "22055    2300\n",
      "3071     1947\n",
      "17204    1858\n",
      "7150     1779\n",
      "2832     1777\n",
      "         ... \n",
      "16086       2\n",
      "24849       2\n",
      "15931       2\n",
      "10990       2\n",
      "10754       2\n",
      "Name: users_count, Length: 25939, dtype: int64\n",
      "這些食譜平均被多少用戶收藏: 40.057905085007135\n"
     ]
    }
   ],
   "source": [
    "print(favorites_recipe['users_count'])\n",
    "print('這些食譜平均被多少用戶收藏: {0}'.format(favorites_recipe['users_count'].mean()))"
   ]
  },
  {
   "cell_type": "code",
   "execution_count": 40,
   "metadata": {},
   "outputs": [
    {
     "data": {
      "text/plain": [
       "count    25939.000000\n",
       "mean        40.057905\n",
       "std         81.410381\n",
       "min          2.000000\n",
       "25%          8.000000\n",
       "50%         17.000000\n",
       "75%         39.000000\n",
       "max       2300.000000\n",
       "Name: users_count, dtype: float64"
      ]
     },
     "execution_count": 40,
     "metadata": {},
     "output_type": "execute_result"
    }
   ],
   "source": [
    "favorites_recipe['users_count'].describe()"
   ]
  },
  {
   "cell_type": "code",
   "execution_count": 41,
   "metadata": {},
   "outputs": [
    {
     "data": {
      "text/plain": [
       "<matplotlib.axes._subplots.AxesSubplot at 0x10cdcfba8>"
      ]
     },
     "execution_count": 41,
     "metadata": {},
     "output_type": "execute_result"
    },
    {
     "data": {
      "image/png": "[encoded data removed]",
      "text/plain": [
       "<Figure size 432x288 with 1 Axes>"
      ]
     },
     "metadata": {
      "needs_background": "light"
     },
     "output_type": "display_data"
    }
   ],
   "source": [
    "favorites_recipe['users_count'].plot.box()"
   ]
  },
  {
   "cell_type": "code",
   "execution_count": 42,
   "metadata": {},
   "outputs": [
    {
     "data": {
      "image/png": "[encoded data removed]",
      "text/plain": [
       "<Figure size 432x288 with 1 Axes>"
      ]
     },
     "metadata": {
      "needs_background": "light"
     },
     "output_type": "display_data"
    },
    {
     "name": "stdout",
     "output_type": "stream",
     "text": [
      "將評分商品數超過8個的放大來看...\n"
     ]
    },
    {
     "data": {
      "image/png": "[encoded data removed]",
      "text/plain": [
       "<Figure size 432x288 with 1 Axes>"
      ]
     },
     "metadata": {
      "needs_background": "light"
     },
     "output_type": "display_data"
    },
    {
     "name": "stdout",
     "output_type": "stream",
     "text": [
      "將評分商品數超過60個的放大來看...\n"
     ]
    },
    {
     "data": {
      "image/png": "[encoded data removed]",
      "text/plain": [
       "<Figure size 432x288 with 1 Axes>"
      ]
     },
     "metadata": {
      "needs_background": "light"
     },
     "output_type": "display_data"
    },
    {
     "name": "stdout",
     "output_type": "stream",
     "text": [
      "將評分商品數超過112個的放大來看...\n"
     ]
    },
    {
     "data": {
      "image/png": "[encoded data removed]",
      "text/plain": [
       "<Figure size 432x288 with 1 Axes>"
      ]
     },
     "metadata": {
      "needs_background": "light"
     },
     "output_type": "display_data"
    },
    {
     "name": "stdout",
     "output_type": "stream",
     "text": [
      "將評分商品數超過1000個的放大來看...\n"
     ]
    },
    {
     "data": {
      "image/png": "[encoded data removed]",
      "text/plain": [
       "<Figure size 432x288 with 1 Axes>"
      ]
     },
     "metadata": {
      "needs_background": "light"
     },
     "output_type": "display_data"
    }
   ],
   "source": [
    "plt.hist(favorites_recipe['users_count'])\n",
    "plt.show()\n",
    "print('將評分商品數超過8個的放大來看...')\n",
    "plt.hist(favorites_recipe[favorites_recipe['users_count']> 40]['users_count'])\n",
    "plt.show()\n",
    "print('將評分商品數超過60個的放大來看...')\n",
    "plt.hist(favorites_recipe[favorites_recipe['users_count'] > 121]['users_count'])\n",
    "plt.show()\n",
    "print('將評分商品數超過112個的放大來看...')\n",
    "plt.hist(favorites_recipe[favorites_recipe['users_count'] > 202]['users_count'])\n",
    "plt.show()\n",
    "print('將評分商品數超過1000個的放大來看...')\n",
    "plt.hist(favorites_recipe[favorites_recipe['users_count'] > 1200]['users_count'])\n",
    "plt.show()"
   ]
  },
  {
   "cell_type": "markdown",
   "metadata": {},
   "source": [
    "初步推斷item-based可能表現會比較好，由於分佈的較密集。\n",
    "但乃會兩個資料皆保留，待之後測試看看。"
   ]
  },
  {
   "cell_type": "code",
   "execution_count": 43,
   "metadata": {},
   "outputs": [
    {
     "name": "stdout",
     "output_type": "stream",
     "text": [
      "剩下多少用戶: 116464 (57.99)\n",
      "剩下多少食譜: 25935 (94.82)\n"
     ]
    }
   ],
   "source": [
    "# user-based 剔除收藏資料表中收藏數小於等於1的用戶\n",
    "favorites_tmp_user = favorites_tmp[favorites_tmp['user_id'].isin(favorites_user['user_id'].unique())]\n",
    "print('剩下多少用戶: {0} ({1})'.format(favorites_tmp_user.user_id.nunique(), \n",
    "                                 round(favorites_tmp_user.user_id.nunique()/ favorites_tmp.user_id.nunique() * 100, 2)))\n",
    "# item-based 剔除收藏資料表中收藏數小於等於1的食譜\n",
    "recipes_tmp_item = recipes_tmp[recipes_tmp['id'].isin(favorites_recipe['recipe_id'].unique())]\n",
    "print('剩下多少食譜: {0} ({1})'.format(len(recipes_tmp_item), \n",
    "                                 round(len(recipes_tmp_item)/ recipes_tmp.id.nunique() * 100, 2)))"
   ]
  },
  {
   "cell_type": "code",
   "execution_count": 44,
   "metadata": {},
   "outputs": [],
   "source": [
    "# clear not-used DataFrame\n",
    "del favorites_user\n",
    "del favorites_recipe"
   ]
  },
  {
   "cell_type": "markdown",
   "metadata": {},
   "source": [
    "### recipes欄位取捨\n",
    "初步評估，將分成以下三個方向處理。\n",
    "- description、name、食材：可做tdidf\n",
    "- favorites_count、dishes_count、photo_steps_count、text_steps_count、time、ingredients_count：資料探索，思考是否與用戶喜愛有關聯，接著思考怎麼用？normalize或分成高中低？\n",
    "- published_at：改成月份(因為可能會有季節性食譜？)"
   ]
  },
  {
   "cell_type": "code",
   "execution_count": 45,
   "metadata": {},
   "outputs": [
    {
     "name": "stdout",
     "output_type": "stream",
     "text": [
      "<class 'pandas.core.frame.DataFrame'>\n",
      "Int64Index: 27353 entries, 0 to 27352\n",
      "Data columns (total 14 columns):\n",
      " #   Column                  Non-Null Count  Dtype         \n",
      "---  ------                  --------------  -----         \n",
      " 0   fav2020_count           27353 non-null  float64       \n",
      " 1   ingredients_count       27353 non-null  float64       \n",
      " 2   id                      27353 non-null  int64         \n",
      " 3   name                    27353 non-null  object        \n",
      " 4   description             22208 non-null  object        \n",
      " 5   user_id                 27353 non-null  int64         \n",
      " 6   servings                25854 non-null  float64       \n",
      " 7   time                    21130 non-null  float64       \n",
      " 8   favorites_count         27353 non-null  int64         \n",
      " 9   dishes_count            27353 non-null  int64         \n",
      " 10  text_steps_count        27353 non-null  int64         \n",
      " 11  photo_steps_count       27353 non-null  int64         \n",
      " 12  published_at            27353 non-null  datetime64[ns]\n",
      " 13  recent_favorites_count  27353 non-null  float64       \n",
      "dtypes: datetime64[ns](1), float64(5), int64(6), object(2)\n",
      "memory usage: 3.1+ MB\n"
     ]
    }
   ],
   "source": [
    "recipes_tmp.info()"
   ]
  },
  {
   "cell_type": "code",
   "execution_count": 46,
   "metadata": {},
   "outputs": [],
   "source": [
    "recipes_tmp['MONTH'] = recipes_tmp['published_at'].dt.month"
   ]
  },
  {
   "cell_type": "code",
   "execution_count": 47,
   "metadata": {},
   "outputs": [
    {
     "data": {
      "image/png": "[encoded data removed]",
      "text/plain": [
       "<Figure size 432x288 with 1 Axes>"
      ]
     },
     "metadata": {
      "needs_background": "light"
     },
     "output_type": "display_data"
    },
    {
     "data": {
      "image/png": "[encoded data removed]",
      "text/plain": [
       "<Figure size 432x288 with 1 Axes>"
      ]
     },
     "metadata": {
      "needs_background": "light"
     },
     "output_type": "display_data"
    },
    {
     "data": {
      "image/png": "[encoded data removed]",
      "text/plain": [
       "<Figure size 432x288 with 1 Axes>"
      ]
     },
     "metadata": {
      "needs_background": "light"
     },
     "output_type": "display_data"
    },
    {
     "data": {
      "image/png": "[encoded data removed]",
      "text/plain": [
       "<Figure size 432x288 with 1 Axes>"
      ]
     },
     "metadata": {
      "needs_background": "light"
     },
     "output_type": "display_data"
    },
    {
     "data": {
      "image/png": "[encoded data removed]",
      "text/plain": [
       "<Figure size 432x288 with 1 Axes>"
      ]
     },
     "metadata": {
      "needs_background": "light"
     },
     "output_type": "display_data"
    },
    {
     "data": {
      "image/png": "[encoded data removed]",
      "text/plain": [
       "<Figure size 432x288 with 1 Axes>"
      ]
     },
     "metadata": {
      "needs_background": "light"
     },
     "output_type": "display_data"
    },
    {
     "data": {
      "image/png": "[encoded data removed]",
      "text/plain": [
       "<Figure size 432x288 with 1 Axes>"
      ]
     },
     "metadata": {
      "needs_background": "light"
     },
     "output_type": "display_data"
    }
   ],
   "source": [
    "recipes_cols = ['ingredients_count', 'servings', 'time', 'dishes_count', 'text_steps_count', 'photo_steps_count', 'MONTH']\n",
    "\n",
    "for col_name in recipes_cols:\n",
    "    recipes_tmp.plot.scatter(x=col_name, y=\"favorites_count\")"
   ]
  },
  {
   "cell_type": "markdown",
   "metadata": {},
   "source": [
    "明顯的看出來被收藏的數量與dishes_count、published_at(以MONTH代表)無關，故選擇先移除。"
   ]
  },
  {
   "cell_type": "code",
   "execution_count": 48,
   "metadata": {},
   "outputs": [],
   "source": [
    "recipes_tmp = recipes_tmp.drop(['dishes_count', 'published_at'], axis=1)"
   ]
  },
  {
   "cell_type": "markdown",
   "metadata": {},
   "source": [
    "而photo_steps_count、time、ingredients_count在某區間內大受收藏的機率較高，text_steps_count則是越少越可能大受收藏，而servings則不太一定，推測可能會跟用戶本身有關。"
   ]
  },
  {
   "cell_type": "markdown",
   "metadata": {},
   "source": [
    "將time、servings的NaN補0。"
   ]
  },
  {
   "cell_type": "code",
   "execution_count": 49,
   "metadata": {},
   "outputs": [],
   "source": [
    "recipes_tmp.time.fillna(0.0, inplace=True)\n",
    "recipes_tmp.servings.fillna(0.0, inplace=True)"
   ]
  },
  {
   "cell_type": "markdown",
   "metadata": {},
   "source": [
    "#### 加入季節性\n",
    "(`None`: 代表商品無季節性)"
   ]
  },
  {
   "cell_type": "code",
   "execution_count": 50,
   "metadata": {},
   "outputs": [
    {
     "data": {
      "text/html": [
       "<div>\n",
       "<style scoped>\n",
       "    .dataframe tbody tr th:only-of-type {\n",
       "        vertical-align: middle;\n",
       "    }\n",
       "\n",
       "    .dataframe tbody tr th {\n",
       "        vertical-align: top;\n",
       "    }\n",
       "\n",
       "    .dataframe thead th {\n",
       "        text-align: right;\n",
       "    }\n",
       "</style>\n",
       "<table border=\"1\" class=\"dataframe\">\n",
       "  <thead>\n",
       "    <tr style=\"text-align: right;\">\n",
       "      <th></th>\n",
       "      <th>recipe_id</th>\n",
       "      <th>user_id</th>\n",
       "      <th>created_at</th>\n",
       "      <th>SEASON</th>\n",
       "    </tr>\n",
       "  </thead>\n",
       "  <tbody>\n",
       "    <tr>\n",
       "      <th>0</th>\n",
       "      <td>319968</td>\n",
       "      <td>1474700</td>\n",
       "      <td>2020-01-01 04:30:24</td>\n",
       "      <td>Winter</td>\n",
       "    </tr>\n",
       "    <tr>\n",
       "      <th>1</th>\n",
       "      <td>319968</td>\n",
       "      <td>2897690</td>\n",
       "      <td>2020-01-01 04:41:12</td>\n",
       "      <td>Winter</td>\n",
       "    </tr>\n",
       "    <tr>\n",
       "      <th>2</th>\n",
       "      <td>319968</td>\n",
       "      <td>938575</td>\n",
       "      <td>2020-01-01 05:00:42</td>\n",
       "      <td>Winter</td>\n",
       "    </tr>\n",
       "    <tr>\n",
       "      <th>3</th>\n",
       "      <td>319968</td>\n",
       "      <td>839280</td>\n",
       "      <td>2020-01-01 05:13:30</td>\n",
       "      <td>Winter</td>\n",
       "    </tr>\n",
       "    <tr>\n",
       "      <th>4</th>\n",
       "      <td>319968</td>\n",
       "      <td>1292248</td>\n",
       "      <td>2020-01-01 05:19:50</td>\n",
       "      <td>Winter</td>\n",
       "    </tr>\n",
       "  </tbody>\n",
       "</table>\n",
       "</div>"
      ],
      "text/plain": [
       "   recipe_id  user_id          created_at  SEASON\n",
       "0     319968  1474700 2020-01-01 04:30:24  Winter\n",
       "1     319968  2897690 2020-01-01 04:41:12  Winter\n",
       "2     319968   938575 2020-01-01 05:00:42  Winter\n",
       "3     319968   839280 2020-01-01 05:13:30  Winter\n",
       "4     319968  1292248 2020-01-01 05:19:50  Winter"
      ]
     },
     "execution_count": 50,
     "metadata": {},
     "output_type": "execute_result"
    }
   ],
   "source": [
    "def MonthToSeason(x):   \n",
    "    global season\n",
    "    if x == 3 or x == 4 or x == 5:\n",
    "         season = \"Spring\"\n",
    "    elif x == 6 or x == 7 or x == 8:\n",
    "         season = \"Summer\"\n",
    "    elif x == 9 or x == 10 or x == 11:\n",
    "         season = \"Autumn\"\n",
    "    elif x == 12 or x == 1 or x == 2:\n",
    "         season = \"Winter\"\n",
    "    else:\n",
    "         season = np.nan \n",
    "    return season\n",
    "\n",
    "tmp_data = favorites_tmp.copy()\n",
    "tmp_data['SEASON'] = favorites_tmp['created_at'].dt.month.apply(lambda x : MonthToSeason(x))\n",
    "tmp_data.head()"
   ]
  },
  {
   "cell_type": "code",
   "execution_count": 51,
   "metadata": {},
   "outputs": [],
   "source": [
    "tmp_data = tmp_data.groupby(['SEASON', 'recipe_id']).size().reset_index(name='count')\n",
    "\n",
    "tmp_data = tmp_data.pivot(index='recipe_id', columns='SEASON',values='count').reset_index()\n",
    "tmp_data.fillna(0.0, inplace=True)\n",
    "tmp_data.set_index(\"recipe_id\" , inplace=True)"
   ]
  },
  {
   "cell_type": "code",
   "execution_count": 52,
   "metadata": {},
   "outputs": [],
   "source": [
    "tmp_data['sum'] = tmp_data[['Autumn', 'Spring', 'Summer', 'Winter']].sum(axis=1).astype(int)\n",
    "\n",
    "sum_threshold = 60\n",
    "tmp_data = tmp_data[tmp_data['sum'] > sum_threshold]  # 希望至少有一定的收藏紀錄才做判別\n",
    "\n",
    "tmp_data['mean'] = tmp_data[['Autumn', 'Spring', 'Summer', 'Winter']].mean(axis=1).round(2).astype(float)\n",
    "tmp_data['std'] = tmp_data[['Autumn', 'Spring', 'Summer', 'Winter']].std(axis=1).round(3).astype(float)\n",
    "tmp_data['fstd'] = tmp_data['std'] / tmp_data['mean']  # fixed std"
   ]
  },
  {
   "cell_type": "code",
   "execution_count": 53,
   "metadata": {},
   "outputs": [
    {
     "name": "stdout",
     "output_type": "stream",
     "text": [
      "以最低至少60的銷售紀錄為門檻時，得到的季節性商品占全部商品的約76%。\n",
      "\n",
      "SEASON     Autumn  Spring  Summer  Winter  sum   mean     std      fstd\n",
      "recipe_id                                                              \n",
      "118471       90.0     0.0     0.0    10.0  100  25.00  43.589  1.743560\n",
      "161963       33.0     0.0   122.0     7.0  162  40.50  56.158  1.386617\n",
      "220200      118.0     0.0     0.0    10.0  128  32.00  57.527  1.797719\n",
      "250670        2.0    40.0     6.0   106.0  154  38.50  48.121  1.249896\n",
      "271725        6.0     0.0    87.0     1.0   94  23.50  42.415  1.804894\n",
      "...           ...     ...     ...     ...  ...    ...     ...       ...\n",
      "361636        0.0     0.0     0.0   183.0  183  45.75  91.500  2.000000\n",
      "361745        0.0     0.0     0.0    79.0   79  19.75  39.500  2.000000\n",
      "361811        0.0     0.0     0.0    63.0   63  15.75  31.500  2.000000\n",
      "361839        0.0     0.0     0.0   167.0  167  41.75  83.500  2.000000\n",
      "361953        0.0     0.0     0.0    82.0   82  20.50  41.000  2.000000\n",
      "\n",
      "[3022 rows x 8 columns]\n"
     ]
    }
   ],
   "source": [
    "# 使用fstd篩選\n",
    "season_tmp_data = tmp_data[tmp_data['fstd'] > 1]\n",
    "print('以最低至少{0}的銷售紀錄為門檻時，得到的季節性商品占全部商品的約{1}%。\\n'.format(sum_threshold, round(len(season_tmp_data) / len(tmp_data) * 100)))\n",
    "print(season_tmp_data)"
   ]
  },
  {
   "cell_type": "code",
   "execution_count": 54,
   "metadata": {},
   "outputs": [
    {
     "data": {
      "text/html": [
       "<div>\n",
       "<style scoped>\n",
       "    .dataframe tbody tr th:only-of-type {\n",
       "        vertical-align: middle;\n",
       "    }\n",
       "\n",
       "    .dataframe tbody tr th {\n",
       "        vertical-align: top;\n",
       "    }\n",
       "\n",
       "    .dataframe thead th {\n",
       "        text-align: right;\n",
       "    }\n",
       "</style>\n",
       "<table border=\"1\" class=\"dataframe\">\n",
       "  <thead>\n",
       "    <tr style=\"text-align: right;\">\n",
       "      <th></th>\n",
       "      <th>recipe_id</th>\n",
       "      <th>SEASON</th>\n",
       "    </tr>\n",
       "  </thead>\n",
       "  <tbody>\n",
       "    <tr>\n",
       "      <th>0</th>\n",
       "      <td>118471</td>\n",
       "      <td>Autumn</td>\n",
       "    </tr>\n",
       "    <tr>\n",
       "      <th>1</th>\n",
       "      <td>161963</td>\n",
       "      <td>Summer</td>\n",
       "    </tr>\n",
       "    <tr>\n",
       "      <th>2</th>\n",
       "      <td>220200</td>\n",
       "      <td>Autumn</td>\n",
       "    </tr>\n",
       "    <tr>\n",
       "      <th>3</th>\n",
       "      <td>250670</td>\n",
       "      <td>Winter</td>\n",
       "    </tr>\n",
       "    <tr>\n",
       "      <th>4</th>\n",
       "      <td>271725</td>\n",
       "      <td>Summer</td>\n",
       "    </tr>\n",
       "    <tr>\n",
       "      <th>...</th>\n",
       "      <td>...</td>\n",
       "      <td>...</td>\n",
       "    </tr>\n",
       "    <tr>\n",
       "      <th>3017</th>\n",
       "      <td>361636</td>\n",
       "      <td>Winter</td>\n",
       "    </tr>\n",
       "    <tr>\n",
       "      <th>3018</th>\n",
       "      <td>361745</td>\n",
       "      <td>Winter</td>\n",
       "    </tr>\n",
       "    <tr>\n",
       "      <th>3019</th>\n",
       "      <td>361811</td>\n",
       "      <td>Winter</td>\n",
       "    </tr>\n",
       "    <tr>\n",
       "      <th>3020</th>\n",
       "      <td>361839</td>\n",
       "      <td>Winter</td>\n",
       "    </tr>\n",
       "    <tr>\n",
       "      <th>3021</th>\n",
       "      <td>361953</td>\n",
       "      <td>Winter</td>\n",
       "    </tr>\n",
       "  </tbody>\n",
       "</table>\n",
       "<p>3022 rows × 2 columns</p>\n",
       "</div>"
      ],
      "text/plain": [
       "      recipe_id  SEASON\n",
       "0        118471  Autumn\n",
       "1        161963  Summer\n",
       "2        220200  Autumn\n",
       "3        250670  Winter\n",
       "4        271725  Summer\n",
       "...         ...     ...\n",
       "3017     361636  Winter\n",
       "3018     361745  Winter\n",
       "3019     361811  Winter\n",
       "3020     361839  Winter\n",
       "3021     361953  Winter\n",
       "\n",
       "[3022 rows x 2 columns]"
      ]
     },
     "execution_count": 54,
     "metadata": {},
     "output_type": "execute_result"
    }
   ],
   "source": [
    "season_data = season_tmp_data.drop(['sum', 'mean', 'std', 'fstd'], axis=1)\n",
    "season_data = season_data.idxmax(axis=1).reset_index(name='SEASON')\n",
    "season_data"
   ]
  },
  {
   "cell_type": "markdown",
   "metadata": {},
   "source": [
    "認為可能會出現誤判，因為此收藏紀錄只有2020年的，若食譜在下半年才出現，可能容易被歸類為秋季或冬季食譜，故將判為秋、冬季食譜，且發布在2020年7月以後的排除，改判為None。"
   ]
  },
  {
   "cell_type": "code",
   "execution_count": 55,
   "metadata": {},
   "outputs": [],
   "source": [
    "recipe_season_data = recipes_tmp.merge(season_data, left_on='id', right_on='recipe_id')"
   ]
  },
  {
   "cell_type": "code",
   "execution_count": 56,
   "metadata": {},
   "outputs": [
    {
     "data": {
      "text/plain": [
       "3022"
      ]
     },
     "execution_count": 56,
     "metadata": {},
     "output_type": "execute_result"
    }
   ],
   "source": [
    "len(recipe_season_data)"
   ]
  },
  {
   "cell_type": "code",
   "execution_count": 57,
   "metadata": {},
   "outputs": [],
   "source": [
    "recipe_season_data = recipe_season_data.drop(recipe_season_data[(recipe_season_data['SEASON'].isin(['Winter', 'Autumn'])) & \n",
    "                             (recipe_season_data['MONTH'] > 6)].index).reset_index(drop=True)"
   ]
  },
  {
   "cell_type": "code",
   "execution_count": 58,
   "metadata": {},
   "outputs": [
    {
     "data": {
      "text/plain": [
       "2273"
      ]
     },
     "execution_count": 58,
     "metadata": {},
     "output_type": "execute_result"
    }
   ],
   "source": [
    "len(recipe_season_data)"
   ]
  },
  {
   "cell_type": "code",
   "execution_count": 59,
   "metadata": {},
   "outputs": [],
   "source": [
    "recipe_season_data = recipe_season_data[['id', 'SEASON']]"
   ]
  },
  {
   "cell_type": "code",
   "execution_count": 60,
   "metadata": {},
   "outputs": [
    {
     "data": {
      "text/html": [
       "<div>\n",
       "<style scoped>\n",
       "    .dataframe tbody tr th:only-of-type {\n",
       "        vertical-align: middle;\n",
       "    }\n",
       "\n",
       "    .dataframe tbody tr th {\n",
       "        vertical-align: top;\n",
       "    }\n",
       "\n",
       "    .dataframe thead th {\n",
       "        text-align: right;\n",
       "    }\n",
       "</style>\n",
       "<table border=\"1\" class=\"dataframe\">\n",
       "  <thead>\n",
       "    <tr style=\"text-align: right;\">\n",
       "      <th></th>\n",
       "      <th>id</th>\n",
       "      <th>SEASON</th>\n",
       "    </tr>\n",
       "  </thead>\n",
       "  <tbody>\n",
       "    <tr>\n",
       "      <th>0</th>\n",
       "      <td>319968</td>\n",
       "      <td>Winter</td>\n",
       "    </tr>\n",
       "    <tr>\n",
       "      <th>1</th>\n",
       "      <td>319797</td>\n",
       "      <td>Winter</td>\n",
       "    </tr>\n",
       "    <tr>\n",
       "      <th>2</th>\n",
       "      <td>319979</td>\n",
       "      <td>Winter</td>\n",
       "    </tr>\n",
       "    <tr>\n",
       "      <th>3</th>\n",
       "      <td>319981</td>\n",
       "      <td>Winter</td>\n",
       "    </tr>\n",
       "    <tr>\n",
       "      <th>4</th>\n",
       "      <td>319973</td>\n",
       "      <td>Winter</td>\n",
       "    </tr>\n",
       "    <tr>\n",
       "      <th>...</th>\n",
       "      <td>...</td>\n",
       "      <td>...</td>\n",
       "    </tr>\n",
       "    <tr>\n",
       "      <th>2268</th>\n",
       "      <td>349434</td>\n",
       "      <td>Summer</td>\n",
       "    </tr>\n",
       "    <tr>\n",
       "      <th>2269</th>\n",
       "      <td>349813</td>\n",
       "      <td>Summer</td>\n",
       "    </tr>\n",
       "    <tr>\n",
       "      <th>2270</th>\n",
       "      <td>349886</td>\n",
       "      <td>Summer</td>\n",
       "    </tr>\n",
       "    <tr>\n",
       "      <th>2271</th>\n",
       "      <td>350033</td>\n",
       "      <td>Summer</td>\n",
       "    </tr>\n",
       "    <tr>\n",
       "      <th>2272</th>\n",
       "      <td>349289</td>\n",
       "      <td>Summer</td>\n",
       "    </tr>\n",
       "  </tbody>\n",
       "</table>\n",
       "<p>2273 rows × 2 columns</p>\n",
       "</div>"
      ],
      "text/plain": [
       "          id  SEASON\n",
       "0     319968  Winter\n",
       "1     319797  Winter\n",
       "2     319979  Winter\n",
       "3     319981  Winter\n",
       "4     319973  Winter\n",
       "...      ...     ...\n",
       "2268  349434  Summer\n",
       "2269  349813  Summer\n",
       "2270  349886  Summer\n",
       "2271  350033  Summer\n",
       "2272  349289  Summer\n",
       "\n",
       "[2273 rows x 2 columns]"
      ]
     },
     "execution_count": 60,
     "metadata": {},
     "output_type": "execute_result"
    }
   ],
   "source": [
    "recipe_season_data"
   ]
  },
  {
   "cell_type": "code",
   "execution_count": 61,
   "metadata": {},
   "outputs": [],
   "source": [
    "recipes_tmp = pd.merge(recipe_season_data, recipes_tmp, on=\"id\", how='right')\n",
    "recipes_tmp['SEASON'].fillna('None', inplace=True)"
   ]
  },
  {
   "cell_type": "code",
   "execution_count": 62,
   "metadata": {},
   "outputs": [],
   "source": [
    "# clear not-used DataFrame\n",
    "del tmp_data\n",
    "del season_data\n",
    "del recipe_season_data"
   ]
  },
  {
   "cell_type": "markdown",
   "metadata": {},
   "source": [
    "#### tdidf"
   ]
  },
  {
   "cell_type": "markdown",
   "metadata": {},
   "source": [
    "將食材資料表與食譜資料表合併。"
   ]
  },
  {
   "cell_type": "code",
   "execution_count": 63,
   "metadata": {},
   "outputs": [],
   "source": [
    "gb = ingredients_tmp.groupby(['recipe_id'])\n",
    "result = gb['name'].unique()\n",
    "result = pd.DataFrame(result)\n",
    "result = result.reset_index()\n",
    "result.name = result.name.apply(lambda x: ' '.join(x))\n",
    "result = result.rename(columns={'name':'ingredients'})"
   ]
  },
  {
   "cell_type": "code",
   "execution_count": 64,
   "metadata": {},
   "outputs": [],
   "source": [
    "recipes_tmp = pd.merge(result, recipes_tmp, left_on=\"recipe_id\", right_on=\"id\", how='right')\n",
    "recipes_tmp = recipes_tmp.drop(['recipe_id'], axis=1)"
   ]
  },
  {
   "cell_type": "markdown",
   "metadata": {},
   "source": [
    "文字前處理"
   ]
  },
  {
   "cell_type": "code",
   "execution_count": 65,
   "metadata": {
    "scrolled": true
   },
   "outputs": [],
   "source": [
    "recipes_tmp['description'].fillna('', inplace=True)"
   ]
  },
  {
   "cell_type": "code",
   "execution_count": 66,
   "metadata": {},
   "outputs": [],
   "source": [
    "# 合併三個文字欄位\n",
    "recipes_tmp['ALL_TEXT'] = recipes_tmp['name'] + ' ' + recipes_tmp['description'] + ' ' + recipes_tmp['ingredients']"
   ]
  },
  {
   "cell_type": "code",
   "execution_count": 67,
   "metadata": {},
   "outputs": [
    {
     "data": {
      "text/plain": [
       "0                                           鮮奶燉蛋  雞蛋 鮮奶 砂糖\n",
       "1        初次醃蘿蔔【鬼怪】 前陣子電視重播時才迷上「鬼怪」，雖然穿差著看，但老闆娘的「醃蘿蔔」單配酒...\n",
       "2        零基礎免揉-哈拉Challah辮子麵包\\n 不需要理論基礎\\n也不需要桌上型攪拌機\\n的五分...\n",
       "3        洋蔥豬扒 簡單的兩樣食材，没有花巧的煮法，美味可口，吃得滿足。 梅頭豬扒 洋蔥 蕃茄醬 糖 ...\n",
       "4                             蒜香肉絲小松菜  小松菜 肉絲 醬油 蒜頭 米酒 鹽 水\n",
       "                               ...                        \n",
       "27348    藥膳火鍋鍋底 最近細雨綿綿加寒風刺骨，來一道熱呼呼藥膳火鍋，輕輕鬆鬆補補身子驅除寒氣。 大雞...\n",
       "27349              在家自製斧頭扒～大廚級出馬  斧頭牛扒 無鹽牛油 黑椒粉 蒜頭 鹽 油 香草碎\n",
       "27350    皮蛋瘦肉粥（健康）（減肥）（零失敗） 蔬菜比例的調配\\n低碳飲食，健康生活\\n冷冷的冬天\\n...\n",
       "27351    簡易櫻花蝦蘿蔔糕 因為要煮成蘿蔔糕湯，所以沒有特別加豬肉和香菇。\\n如果要直接煎來吃的可以自...\n",
       "27352    咔拉炸雞大破解 市售的脆粉漿如果讓你食不安心，其實也不要慌，因為喀拉脆粉真的沒有你相像中那麽...\n",
       "Name: ALL_TEXT, Length: 27353, dtype: object"
      ]
     },
     "execution_count": 67,
     "metadata": {},
     "output_type": "execute_result"
    }
   ],
   "source": [
    "recipes_tmp['ALL_TEXT']"
   ]
  },
  {
   "cell_type": "markdown",
   "metadata": {},
   "source": [
    "斷詞\n",
    "參考[資料分析概念大全｜認識文本分析](https://medium.com/datamixcontent-lab/%E6%96%87%E6%9C%AC%E5%88%86%E6%9E%90%E5%85%A5%E9%96%80-%E6%A6%82%E5%BF%B5%E7%AF%87-%E7%B5%A6%E6%88%91%E4%B8%80%E6%AE%B5%E8%A9%B1-%E6%88%91%E5%91%8A%E8%A8%B4%E4%BD%A0%E9%87%8D%E9%BB%9E%E5%9C%A8%E5%93%AA-%E5%B0%8D%E6%96%87%E6%9C%AC%E9%87%8D%E9%BB%9E%E5%AD%97%E8%A9%9E%E5%8A%A0%E6%AC%8A%E7%9A%84tf-idf%E6%96%B9%E6%B3%95-f6a2790b4991)、[如何用sklearn计算TF-IDF](https://www.cnblogs.com/CheeseZH/p/8644893.html)。"
   ]
  },
  {
   "cell_type": "code",
   "execution_count": 68,
   "metadata": {},
   "outputs": [],
   "source": [
    "from sklearn.feature_extraction.text import TfidfTransformer\n",
    "from sklearn.feature_extraction.text import CountVectorizer\n",
    "import jieba\n",
    "jieba.set_dictionary('./dict.txt.big.txt') # 使用官方的繁體詞典"
   ]
  },
  {
   "cell_type": "code",
   "execution_count": 69,
   "metadata": {},
   "outputs": [],
   "source": [
    "with open('./stopwords.txt', 'rb') as fp:\n",
    "    stopword = fp.read().decode('utf-8')  # 提用詞提取\n",
    "#將停用詞表轉換爲list  \n",
    "stpwrdlst = stopword.splitlines()"
   ]
  },
  {
   "cell_type": "code",
   "execution_count": 70,
   "metadata": {},
   "outputs": [
    {
     "name": "stderr",
     "output_type": "stream",
     "text": [
      "Building prefix dict from /Users/stork/03_Project/class/AC_RecSys2/S7/dict.txt.big.txt ...\n",
      "Loading model from cache /var/folders/x3/fgk9qlk519xgr2nh11ndchz80000gn/T/jieba.u388ab37af5129dca46686fb240c351ab.cache\n",
      "Loading model cost 1.459 seconds.\n",
      "Prefix dict has been built successfully.\n"
     ]
    }
   ],
   "source": [
    "def preprocessing(sentences):\n",
    "    w_string = str()\n",
    "    ws = jieba.cut(sentences, cut_all=False) # 精確模式\n",
    "    for w in ws:\n",
    "        if w not in stpwrdlst:\n",
    "            w_string += w + ' '\n",
    "    return w_string\n",
    "recipes_tmp['ALL_TEXT'] = recipes_tmp['ALL_TEXT'].apply(lambda x: preprocessing(x))"
   ]
  },
  {
   "cell_type": "code",
   "execution_count": 71,
   "metadata": {},
   "outputs": [
    {
     "data": {
      "text/plain": [
       "0                                 鮮奶 燉 蛋     雞蛋   鮮奶   砂糖 \n",
       "1        初次 醃 蘿蔔 鬼怪   前 陣子 電視 重播 時才 迷上 鬼怪 穿 差著 老闆娘 醃 蘿蔔...\n",
       "2        基礎 揉 哈拉 Challah 辮子 麵 包 \\n   理論 基礎 \\n 桌上型 攪拌機 \\...\n",
       "3        洋蔥 豬扒   簡單 兩樣 食材 没有 花巧 煮法 美味可口   梅頭 豬扒   洋蔥   ...\n",
       "4          蒜 香 肉絲 小松菜     小松菜   肉絲   醬油   蒜頭   米酒   鹽   水 \n",
       "                               ...                        \n",
       "27348    藥膳 火鍋 鍋底   細雨綿綿 寒風刺骨 熱呼呼 藥膳 火鍋 輕輕鬆鬆 補補 身子 驅除 寒...\n",
       "27349    在家 斧頭 扒 大廚 級 出馬     斧頭 牛扒   無鹽 牛油   黑椒 粉   蒜頭 ...\n",
       "27350    皮蛋 瘦肉粥 健康 減肥 失敗   蔬菜 比例 調配 \\n 低碳 飲食 健康 生活 \\n 冷...\n",
       "27351    簡易 櫻花 蝦 蘿蔔 糕   煮成 蘿蔔 糕湯 特別 豬肉 香菇 \\n 煎 豬肉 香菇 香 ...\n",
       "27352    咔拉 炸雞 破解   市售 脆 粉漿 食 安心 慌 喀拉 脆粉 真的 相像 中 難 原理 喀...\n",
       "Name: ALL_TEXT, Length: 27353, dtype: object"
      ]
     },
     "execution_count": 71,
     "metadata": {},
     "output_type": "execute_result"
    }
   ],
   "source": [
    "recipes_tmp['ALL_TEXT']"
   ]
  },
  {
   "cell_type": "code",
   "execution_count": 72,
   "metadata": {},
   "outputs": [
    {
     "name": "stderr",
     "output_type": "stream",
     "text": [
      "/anaconda3/envs/t/lib/python3.6/site-packages/sklearn/feature_extraction/text.py:300: UserWarning: Your stop_words may be inconsistent with your preprocessing. Tokenizing the stop words generated tokens ['a', 'lex', 'n', 'β', 'δ', 'λ', 'ξ', 'ψ', 'в', 'ⅴ', 'ⅵ', '①①', '①②', '①③', '①④', '①⑤', '①⑥', '①⑦', '①⑧', '①⑨', '①ａ', '①ｂ', '①ｃ', '①ｄ', '①ｅ', '①ｆ', '①ｇ', '①ｈ', '①ｉ', '①ｏ', '②①', '②②', '②③', '②④', '②⑤', '②⑥', '②⑦', '②⑧', '②⑩', '②ａ', '②ｂ', '②ｄ', '②ｅ', '②ｆ', '②ｇ', '②ｈ', '②ｉ', '②ｊ', '③①', '③⑩', '③ａ', '③ｂ', '③ｃ', '③ｄ', '③ｅ', '③ｆ', '③ｇ', '③ｈ', '④ａ', '④ｂ', '④ｃ', '④ｄ', '④ｅ', '⑤ａ', '⑤ｂ', '⑤ｄ', '⑤ｅ', '⑤ｆ', '元', '噸', '數', '日', '末', '１２', 'ａ', 'ｂ', 'ｃ', 'ｅ', 'ｆ', 'ｌ', 'ｌｉ', 'ｒ', 'ｚｘｆｉｔｌ'] not in stop_words.\n",
      "  'stop_words.' % sorted(inconsistent))\n"
     ]
    }
   ],
   "source": [
    "vectoerizer = CountVectorizer(max_features=1000, max_df=0.9, token_pattern='\\\\b\\\\w+\\\\b', stop_words=stpwrdlst)\n",
    "vectoerizer.fit(recipes_tmp['ALL_TEXT'])\n",
    "bag_of_words = vectoerizer.get_feature_names()\n",
    "X = vectoerizer.transform(recipes_tmp['ALL_TEXT'])"
   ]
  },
  {
   "cell_type": "code",
   "execution_count": 73,
   "metadata": {},
   "outputs": [
    {
     "name": "stdout",
     "output_type": "stream",
     "text": [
      "['3cvknyl', 'diy', 'e5', 'gl', 'goo', 'hd9642', 'house', 'little', 'ly', 'omnipork', 'popo320pig', 'small', 'tudoubar', 'womanritaskitchen', '一', '七味', '三層', '三明治', '三杯', '上桌', '上菜', '下午茶', '下酒菜', '下飯', '不想', '不膩', '不錯', '不難', '中', '中筋', '丸', '丸子', '丼', '九層', '乳酪', '乾', '乾燥', '二砂', '五花', '五花肉', '五香粉', '享受', '享用', '仔', '仔魚', '令人', '以表', '份量', '伯爵', '低', '低筋', '低脂', '佐', '來源', '來點', '便宜', '便當', '保存', '做做', '做出', '做好', '做成', '健康', '傳統', '優格', '充滿', '光泉', '入口', '入味', '內餡', '全國', '全素', '全聯', '全蛋', '全麥', '兩種', '八角', '冬天', '冬瓜', '冬粉', '冰', '冰塊', '冰淇淋', '冰箱', '冰糖', '冷', '冷凍', '冷水', '冷藏', '凍', '分', '分鐘', '切丁', '切塊', '切末', '切段', '切片', '切碎', '切絲', '利用', '前', '剝皮', '剩下', '創意', '加熱', '加點', '動手', '動手做', '動物性', '包', '包粉', '十足', '千層', '千張', '午餐', '南洋', '南瓜', '卡士', '即可', '卷', '原味', '去皮', '參考', '取代', '口', '口味', '口感', '古早', '可不', '可口', '可可', '可可粉', '可愛', '可樂', '可用', '可略', '台式', '台灣', '吃不完', '吉利', '吋', '吐司', '含', '含有', '含量', '吻', '呦', '味增', '味精', '味道', '味霖', '咖哩', '咖哩粉', '咖啡', '咖喱', '品嚐', '啤酒', '喜好', '喜愛', '喜歡', '喜菇', '嘗試', '嘴', '噌', '囉', '四季豆', '回家', '圓', '圖文', '土', '在來米', '在家', '地瓜', '培根', '堅果', '塔', '塩', '增加', '增添', '墨西哥', '壽司', '夏天', '夏日', '外皮', '外面', '多汁', '多種', '大人', '大卡', '大小', '大白菜', '大蒜', '天', '天氣', '天然', '太白粉', '失敗', '女', '奶', '奶油', '奶粉', '奶酥', '奶酪', '好吃', '好喝', '好市', '娃娃', '媽媽', '嫩', '嫩豆腐', '孜然', '季節', '孩子', '安心', '完整', '完美', '客家', '室溫', '家', '家中', '家人', '家常', '家常菜', '家庭', '家裡', '富含', '實在', '寶寶', '專頁', '小吃', '小孩', '小時候', '小朋友', '小白菜', '小菜', '小魚', '小黃瓜', '少', '少許', '尼', '層次', '山藥', '巧克力', '巴斯克', '巴西', '市售', '市場', '布丁', '布朗', '希望', '帶有', '常備', '常見', '幫', '干貝', '年', '年糕', '幸福', '店', '店萬用鍋', '康寶', '廚房', '廚藝', '建議', '彈', '彩椒', '影片', '影音', '很棒', '心', '必備', '快來', '快速', '想要', '意外', '愛', '愛吃', '感', '感覺', '懶人', '成', '成功', '成品', '戚風', '手', '手作', '手工', '技巧', '披薩', '抹', '抽', '拉', '拌', '拿來', '捲', '排', '排骨', '排骨湯', '接', '推薦', '揉', '提供', '提升', '換成', '搞定', '搭', '搭配', '攝取', '攪拌', '支持', '放', '放入', '教學', '料', '料理', '新', '新店', '新手', '新餐', '新鮮', '方式', '方法', '日式', '日本', '早餐', '昆布', '時間', '晚餐', '暖', '更是', '最愛', '月', '月桂', '有機', '朋友', '木耳', '木薯', '末', '李錦記', '杏仁', '杏鮑菇', '材料', '杯', '杯子', '板', '果乾', '果醬', '枸杞', '柔軟', '柚子', '柴', '柴魚', '栗子', '核桃', '格', '梅子', '梅花', '條', '梨', '棒', '棕櫚', '植物', '植物油', '椒', '椒鹽', '椰奶', '椰子', '椰漿', '橄欖油', '檸檬', '檸檬汁', '檸檬皮', '櫛瓜', '櫻花', '次', '歡', '步驟', '歸仁', '段', '母', '每次', '比例', '毛豆', '民權', '氣炸', '水', '水果', '水煮蛋', '水餃', '沒想到', '沙', '沙拉', '沙拉油', '沙拉醬', '沙茶', '油', '油炸', '油脂', '油膩', '油蔥', '油豆腐', '沾', '法', '法國', '法式', '泡', '泡打粉', '泡菜', '泥', '泰國', '泰式', '洋蔥', '派', '浪費', '海帶', '海苔', '海鮮', '海鹽', '消化', '消暑', '涼拌', '淡淡的', '添加', '清', '清水', '清淡', '清炒', '清爽', '清甜', '清蒸', '清酒', '清香', '減', '減少', '港式', '湯', '湯品', '湯圓', '湯汁', '湯頭', '溫水', '滋味', '滑', '滷', '滷肉', '滿分', '滿滿', '滿滿的', '漢堡', '漢子', '漿', '澎湖', '澱粉', '澳洲', '濃湯', '濃郁', '濕潤', '火腿', '火鍋', '炊飯', '炎炎夏日', '炎熱', '炒', '炒手', '炒蛋', '炒飯', '炸', '炸鍋', '炸雞', '烏醋', '烏龍', '烘烤', '烘焙', '烤', '烤箱', '烤肉', '烤肉醬', '烤雞', '烹煮', '烹調', '焗', '無糖', '無鹽', '焦糖', '煉乳', '煎', '煎蛋', '煎餅', '照燒', '煮', '煮出', '煮湯', '煲', '熟', '熬', '熱水', '熱量', '燉', '燉煮', '燒', '燒烤', '燒肉', '燕麥', '燙', '營養', '營養價值', '燴', '爽口', '牌', '牛', '牛奶', '牛小排', '牛排', '牛油', '牛肉', '牛腱', '牛頭', '特別', '獨特', '玉米', '玉米粉', '玉米粒', '玩', '玫瑰', '珍珠', '現成', '球', '甘甜', '甜', '甜味', '甜度', '甜椒', '甜甜', '甜甜的', '甜點', '生', '生抽', '生活', '生菜', '番茄', '番茄醬', '當作', '發現', '發酵', '白砂糖', '白米', '白糖', '白胡椒', '白芝麻', '白菜', '白蘿蔔', '白蝦', '白酒', '白醋', '白醬', '白飯', '百里香', '百香果', '皆', '皮', '皮蛋', '盛產', '省略', '真的', '瞧瞧', '石蟹', '砂糖', '碎', '碗', '磅', '磨坊', '秋葵', '空心菜', '竹筍', '第一次', '筍', '簡單', '簡易', '簡易版', '米', '米漿', '米粉', '米酒', '米飯', '籽', '粉', '粉絲', '粉絲團', '粒', '粥', '精', '粿', '糊', '糕', '糖', '糖粉', '糖醋', '糙米', '糬', '糯米', '糯米粉', '糰', '約', '紅', '紅棗', '紅椒', '紅燒', '紅茶', '紅蔥', '紅蘿蔔', '紅豆', '紅辣椒', '紅酒', '純素', '素', '素食', '紫', '細', '細砂糖', '紹興酒', '組合', '絞肉', '絲', '絲瓜', '經典', '綜合', '綠', '綠色', '綠豆', '維生素', '綿密', '線', '纖維', '罐頭', '羅勒', '美', '美乃滋', '美味', '美國', '美好', '美式', '美食', '義大利', '義式', '翅', '老師', '老薑', '肉', '肉末', '肉桂', '肉桂粉', '肉燥', '肉片', '肉絲', '肉質', '肉醬', '肉類', '肉鬆', '肋條', '肌', '胃', '胃口', '胡椒', '胡椒粉', '胡蘿蔔', '脂肪', '脆', '脆皮', '脆脆', '腰果', '腿', '膳食', '臉書', '自然', '芋頭', '芒果', '芝士', '芝麻', '芝麻油', '芥末', '花', '花枝', '花椒', '花椰菜', '花生', '花生醬', '芹菜', '芽', '苦瓜', '茄子', '茄汁', '茶', '茶粉', '草莓', '菇', '菇菇', '菇類', '菜', '菜色', '菠菜', '萬用', '萬用鍋', '葉', '葡萄乾', '蒜', '蒜末', '蒜泥', '蒜片', '蒜苗', '蒜蓉', '蒜頭', '蒸', '蒸蛋', '蓮藕', '蔓越莓', '蔥', '蔥末', '蔥段', '蔥爆', '蔥白', '蔥花', '蔥頭', '蔬果', '蔬菜', '蔬食', '蕃茄', '蕃茄醬', '薄片', '薏仁', '薑', '薑末', '薑片', '薑絲', '薑黃', '藍莓', '藜', '蘆筍', '蘋果', '蘑菇', '蘿拉', '蘿蔔', '虱目', '蚵', '蛋', '蛋液', '蛋炒飯', '蛋白', '蛋白質', '蛋糕', '蛋餅', '蛋黃', '蛤蜊', '蛤蠣', '蜂蜜', '蜜汁', '蝦', '蝦仁', '蝦子', '蝦皮', '蝦米', '融化', '蟹', '蟹肉', '蠔油', '血', '表面', '補充', '裝飾', '裡', '裡面', '裹', '製作', '西洋', '西班牙', '親子', '訂閱', '記得', '試做', '試試', '試試看', '詳細', '調味', '調味料', '調整', '調理', '變化', '變得', '讚', '豆', '豆乾', '豆包', '豆干', '豆漿', '豆瓣醬', '豆皮', '豆腐', '豆芽菜', '豆豉', '豬', '豬排', '豬油', '豬肉', '豬腳', '負擔', '賣', '起司', '起司片', '起士', '超市', '超級', '身體', '軟', '軟嫩', '輕鬆', '辣', '辣味', '辣椒', '辣椒粉', '辣椒醬', '辣油', '辣醬', '迎來', '迷你', '迷迭香', '追蹤', '透', '逛逛', '造型', '連結', '過年', '過程', '過篩', '道菜', '適量', '選擇', '還能', '部落', '配上', '配料', '配方', '配菜', '配飯', '酒', '酥', '酥皮', '酥脆', '酪', '酵母', '酵母粉', '酸', '酸甜', '酸菜', '酸辣', '酸酸甜甜', '醂', '醃', '醃料', '醃漬', '醋', '醣', '醬', '醬料', '醬汁', '醬油', '醬油膏', '醬燒', '里', '里肌肉', '重', '重點', '野生', '量', '金牌', '金針菇', '銀耳', '鍋', '開水', '開胃', '附', '雞', '雞丁', '雞湯', '雞粉', '雞翅', '雞肉', '雞胸', '雞胸肉', '雞腿', '雞腿肉', '雞蛋', '雪白', '電子', '電鍋', '需', '露', '青', '青椒', '青江', '青菜', '青蔥', '非常簡單', '非常適合', '韓國', '韓式', '韭菜', '頻道', '顆', '顏色', '風', '風味', '飛利浦', '食', '食光', '食堂', '食慾', '食材', '食物', '食用', '食用油', '食譜', '飯', '飯糰', '飲食', '飽足', '餅', '餅乾', '養生', '餐廳', '餡', '餡料', '饅頭', '香', '香味', '香料', '香氣', '香油', '香濃', '香甜', '香腸', '香茅', '香草', '香菇', '香菜', '香蕉', '香辣', '馬', '馬鈴薯', '骨', '高', '高湯', '高筋', '高粱', '高蛋白', '高麗菜', '鬆軟', '鬆餅', '魚', '魚片', '魚露', '魷魚', '鮪', '鮭魚', '鮮', '鮮味', '鮮奶', '鮮奶油', '鮮嫩', '鮮甜', '鮮美', '鮮蝦', '鯖魚', '鯛魚', '鰹魚', '鱈魚', '鱸魚', '鳳梨', '鴨', '鴻', '鴻禧', '鹹', '鹹蛋', '鹹豬肉', '鹽', '鹽巴', '麥', '麵', '麻', '麻婆豆腐', '麻油', '麻辣', '黃', '黃瓜', '黃金', '黑', '黑木耳', '黑糖', '黑胡椒', '黑芝麻', '黑豆', '點心']\n"
     ]
    }
   ],
   "source": [
    "print(bag_of_words)"
   ]
  },
  {
   "cell_type": "code",
   "execution_count": 74,
   "metadata": {
    "scrolled": false
   },
   "outputs": [],
   "source": [
    "tfidf_transformer = TfidfTransformer()\n",
    "tfidf_transformer.fit(X.toarray())\n",
    "\n",
    "# for idx, word in enumerate(vectoerizer.get_feature_names()):\n",
    "#   print(\"{}\\t{}\".format(word, tfidf_transformer.idf_[idx]))\n",
    "\n",
    "tmp_word_features = tfidf_transformer.transform(X)\n",
    "# print(tmp_word_features.toarray())"
   ]
  },
  {
   "cell_type": "code",
   "execution_count": 75,
   "metadata": {},
   "outputs": [
    {
     "data": {
      "text/plain": [
       "27353000"
      ]
     },
     "execution_count": 75,
     "metadata": {},
     "output_type": "execute_result"
    }
   ],
   "source": [
    "tmp_word_features.toarray().size"
   ]
  },
  {
   "cell_type": "code",
   "execution_count": 76,
   "metadata": {},
   "outputs": [
    {
     "data": {
      "text/plain": [
       "5470600"
      ]
     },
     "execution_count": 76,
     "metadata": {},
     "output_type": "execute_result"
    }
   ],
   "source": [
    "len(recipes_tmp) * 200"
   ]
  },
  {
   "cell_type": "code",
   "execution_count": 77,
   "metadata": {},
   "outputs": [
    {
     "data": {
      "text/plain": [
       "1000"
      ]
     },
     "execution_count": 77,
     "metadata": {},
     "output_type": "execute_result"
    }
   ],
   "source": [
    "len(vectoerizer.get_feature_names())"
   ]
  },
  {
   "cell_type": "markdown",
   "metadata": {},
   "source": [
    "加入食譜資料表中。"
   ]
  },
  {
   "cell_type": "code",
   "execution_count": 78,
   "metadata": {},
   "outputs": [],
   "source": [
    "word_features = pd.DataFrame(tmp_word_features.toarray(), columns = np.array(vectoerizer.get_feature_names()))"
   ]
  },
  {
   "cell_type": "code",
   "execution_count": null,
   "metadata": {},
   "outputs": [],
   "source": [
    "# recipes_tmp_word = pd.concat([recipes_tmp, word_features], axis=1)"
   ]
  },
  {
   "cell_type": "code",
   "execution_count": 79,
   "metadata": {},
   "outputs": [],
   "source": [
    "# clear not-used DataFrame\n",
    "del gb\n",
    "del result\n",
    "del vectoerizer\n",
    "del bag_of_words\n",
    "del X\n",
    "del tfidf_transformer"
   ]
  },
  {
   "cell_type": "markdown",
   "metadata": {},
   "source": [
    "---"
   ]
  },
  {
   "cell_type": "markdown",
   "metadata": {},
   "source": [
    "## 特徵選擇"
   ]
  },
  {
   "cell_type": "code",
   "execution_count": 82,
   "metadata": {},
   "outputs": [],
   "source": [
    "from sklearn.compose import ColumnTransformer\n",
    "from sklearn.preprocessing import StandardScaler\n",
    "\n",
    "# ct = ColumnTransformer([\n",
    "#         ('servings', StandardScaler(), ['servings'])\n",
    "#     ], remainder='passthrough')\n",
    "\n",
    "# a['servings'] = ct.fit_transform(a)"
   ]
  },
  {
   "cell_type": "code",
   "execution_count": 83,
   "metadata": {},
   "outputs": [],
   "source": [
    "recipes_features_list = ['SEASON', 'user_id', 'ALL_TEXT', 'servings', 'time', 'favorites_count', 'text_steps_count', 'photo_steps_count', 'ingredients_count']"
   ]
  },
  {
   "cell_type": "code",
   "execution_count": 84,
   "metadata": {},
   "outputs": [],
   "source": [
    "def get_features(df, cols_list=['ALL_TEXT'], is_normalized=False, norm=StandardScaler()):\n",
    "#     cols_list = cols_list + ['id']\n",
    "    df = df.drop([col for col in recipes_tmp.columns if col not in cols_list], axis=1)\n",
    "    for col in cols_list:\n",
    "        if (col == 'ALL_TEXT'):\n",
    "            df = pd.concat([df, word_features], axis=1)\n",
    "            df = df.drop(['ALL_TEXT'], axis=1)\n",
    "        elif ((col in recipes_features_list[3:]) & is_normalized):\n",
    "            # normalized\n",
    "            ct = ColumnTransformer([\n",
    "                    ('servings', norm, [col])\n",
    "                ], remainder='passthrough')\n",
    "            df[col] = ct.fit_transform(df)\n",
    "    return df"
   ]
  },
  {
   "cell_type": "markdown",
   "metadata": {},
   "source": [
    "---"
   ]
  },
  {
   "cell_type": "markdown",
   "metadata": {},
   "source": [
    "## 若找不到相似的替代算法"
   ]
  },
  {
   "cell_type": "markdown",
   "metadata": {},
   "source": [
    "#### 長期熱銷(favorites_count)"
   ]
  },
  {
   "cell_type": "code",
   "execution_count": 85,
   "metadata": {},
   "outputs": [],
   "source": [
    "def get_longterm_top(k=3):\n",
    "    longterm_top = recipes_tmp.sort_values('favorites_count', ascending=False).head(k).id.reset_index(drop=True).to_list()\n",
    "    return longterm_top"
   ]
  },
  {
   "cell_type": "markdown",
   "metadata": {},
   "source": [
    "#### 近期熱銷(favorites_count-fav2020_count)"
   ]
  },
  {
   "cell_type": "code",
   "execution_count": 86,
   "metadata": {},
   "outputs": [],
   "source": [
    "def get_recent_top(k=3):\n",
    "    recent_top = recipes_tmp.sort_values('recent_favorites_count', ascending=False).head(k).id.reset_index(drop=True).to_list()\n",
    "    return recent_top"
   ]
  },
  {
   "cell_type": "markdown",
   "metadata": {},
   "source": [
    "長期熱銷 vs 近期熱銷 一致性？"
   ]
  },
  {
   "cell_type": "markdown",
   "metadata": {},
   "source": [
    "---"
   ]
  },
  {
   "cell_type": "markdown",
   "metadata": {},
   "source": [
    "### Content-based"
   ]
  },
  {
   "cell_type": "code",
   "execution_count": 87,
   "metadata": {},
   "outputs": [],
   "source": [
    "# # 計算商品間的相似程度\n",
    "# from sklearn.metrics.pairwise import cosine_similarity\n",
    "# similarity_matrix = cosine_similarity(tfidf_matrix)\n",
    "# mapping = pd.Series(df.index,index = df['title'])\n",
    "\n",
    "from sklearn.metrics.pairwise import cosine_similarity\n",
    "\n",
    "# 每個商品回傳 k 個最相近的商品\n",
    "def recommend_item(similarity_matrix, mapping, item_input, k=3):\n",
    "    try:\n",
    "        item_index = mapping[item_input]\n",
    "        similarity_score = list(enumerate(similarity_matrix[item_index]))\n",
    "        similarity_score = sorted(similarity_score, key=lambda x: x[1], reverse=True)\n",
    "        similarity_score = similarity_score[:k]\n",
    "        item_indices = [i[0] for i in similarity_score]\n",
    "        return (df['id'].iloc[item_indices].tolist())\n",
    "    except:\n",
    "        return []\n",
    "\n",
    "# 利用使用者購買過的商品產生推薦\n",
    "def recommend_items(similarity_matrix, mapping, items, k=3):\n",
    "    res = []\n",
    "    for d in items:\n",
    "        res.extend(recommend_item(similarity_matrix, mapping, d, k))\n",
    "    return res"
   ]
  },
  {
   "cell_type": "markdown",
   "metadata": {},
   "source": [
    "### user-based cf"
   ]
  },
  {
   "cell_type": "code",
   "execution_count": null,
   "metadata": {},
   "outputs": [],
   "source": [
    "# favorites_tmp"
   ]
  },
  {
   "cell_type": "code",
   "execution_count": null,
   "metadata": {},
   "outputs": [],
   "source": [
    "# from lightfm.data import Dataset\n",
    "# import nltk\n",
    "# from nltk.corpus import stopwords\n",
    "# from nltk.stem import WordNetLemmatizer\n",
    "\n",
    "# pd.options.mode.chained_assignment = None\n",
    "# nltk.download('stopwords')\n",
    "# nltk.download('punkt')\n",
    "# nltk.download('wordnet')\n",
    "\n",
    "# from lightfm import LightFM\n",
    "# import numpy as np\n",
    "\n",
    "# def recommend_items(model, data, user_id, item_list, k):\n",
    "    \n",
    "#     # 取得item數量\n",
    "#     n_users, n_items = data.shape\n",
    "\n",
    "#     # 預測user對所有item的評分並進行推薦\n",
    "#     scores = model.predict(user_id, np.arange(n_items))\n",
    "#     top_items = item_list[np.argsort(-scores)]\n",
    "#     return top_items[:k].tolist()\n",
    "\n",
    "\n",
    "# def recommender(training_data, users=[], k=10, rule_based = False, add_test_user = False, add_item_feature = False, metadata = ''):\n",
    "#     '''\n",
    "#     * training_data: dataframe 輸入的訓練資料集（2018-09-01 以前資料）\n",
    "#     * users: [] 需要被推薦的使用者\n",
    "#     * k: int 每個使用者需要推薦的商品數\n",
    "#     * recommendations: dict\n",
    "#       {\n",
    "#           使用者一： [推薦商品一, 推薦商品二, ...],\n",
    "#           使用者二： [...], ...\n",
    "#       }\n",
    "#     '''\n",
    "#     # 移除使用者對商品的重複評論，只留最新\n",
    "#     training_data = training_data.sort_values(\"DATE\", ascending=False).groupby(['reviewerID', 'asin']).head(1)\n",
    "#     recommendations = {}\n",
    "#     '''\n",
    "#     mf-based, lightFM\n",
    "#     '''\n",
    "#     # Rule based\n",
    "#     if rule_based and isinstance(training_data, pd.DataFrame):\n",
    "#         hot = training_data[(training_data['DATE'] >= '2018-08-01') & (training_data['DATE'] < '2018-09-01') & (training_data['overall'] >= 4)]\n",
    "#         hot = pd.DataFrame(hot.asin.value_counts())\n",
    "#         hot.reset_index(inplace=True)\n",
    "#         hot.columns = ['asin', 'count']\n",
    "    \n",
    "#     # 取出評分矩陣所需的訓練資料並以lightfm的Dataset形式存取\n",
    "#     training_data = training_data[[\"reviewerID\",\"asin\",\"overall\"]]\n",
    "#     dataset = Dataset()\n",
    "\n",
    "#     if add_test_user:\n",
    "#         dataset.fit(np.append(training_data.reviewerID.unique(), users, 0), training_data.asin.unique())\n",
    "#     else:\n",
    "#         dataset.fit(training_data.reviewerID.unique(), training_data.asin.unique())\n",
    "    \n",
    "#     interactions_matrix, weights_matrix = dataset.build_interactions([tuple(i) for i in training_data.values])\n",
    "\n",
    "\n",
    "#     # 取得user與item的mapping資料\n",
    "#     user_id_map, user_feature_map, item_id_map, item_feature_map = dataset.mapping()\n",
    "#     item_list = np.array(list(item_id_map.keys())).astype(object)\n",
    "\n",
    "#     # 訓練模型\n",
    "#     if add_item_feature:\n",
    "#         assert isinstance(metadata, pd.DataFrame), \"Please input the item's data\"\n",
    "#         # 篩選資料\n",
    "#         metadata = metadata[metadata.asin.isin(training_data.asin.tolist())]\n",
    "#         metadata.reset_index(drop=True, inplace=True)\n",
    "        \n",
    "#         # set lemmatizer\n",
    "#         lemmatizer = WordNetLemmatizer()\n",
    "        \n",
    "#         # 處理掉description 的中括號\n",
    "#         metadata['description'] = metadata['description'].apply(lambda x: ' '.join(x))\n",
    "\n",
    "#         # 處理rank\n",
    "#         rankdata = metadata['rank'].str.split(' ', n=1, expand=True)\n",
    "#         metadata['rank_no'], metadata['rank'] = rankdata.iloc[:,0], rankdata.iloc[:,1]\n",
    "\n",
    "#         # 合併文字欄位\n",
    "#         metadata['all_text'] = metadata['description'] + ' ' + metadata['title'] # + ' ' + metadata['rank'] + ' ' + metadata['brand']\n",
    "\n",
    "#         # 去除特殊符號，除了數字之間的\n",
    "#         import re\n",
    "#         regex = r\"(?<!\\d)[\\W](?!\\d)\"\n",
    "#         metadata['all_text'] = metadata['all_text'].apply(lambda x: re.sub(regex, ' ', str(x)))\n",
    "#         metadata['rank'] = metadata['rank'].apply(lambda x: re.sub(regex, ' ', str(x)))\n",
    "#         metadata['brand'] = metadata['brand'].apply(lambda x: re.sub(regex, ' ', str(x)))\n",
    "\n",
    "#         # 轉小寫\n",
    "#         metadata['all_text'] = metadata['all_text'].str.lower()\n",
    "#         metadata['rank'] = metadata['rank'].str.lower() \n",
    "#         metadata['brand'] = metadata['brand'].str.lower()         \n",
    "\n",
    "#         # remove stopword\n",
    "#         def remove_stopword(sentence):\n",
    "#             tokens = nltk.word_tokenize(sentence)\n",
    "#             result = [lemmatizer.lemmatize(voca) for voca in tokens if not voca in stopwords.words('english')]\n",
    "#             return result\n",
    "\n",
    "#         metadata['all_text'] = metadata['all_text'].apply(lambda x: remove_stopword(x))\n",
    "\n",
    "#         # merge column\n",
    "#         for i in range(len(metadata)):\n",
    "#             try:\n",
    "#                 metadata['all_text'][i] = metadata['all_text'][i].append(metadata['rank'][i]).append(metadata['brand'][i])\n",
    "#             except:\n",
    "#                 metadata['all_text'][i] = []\n",
    "\n",
    "#         # 建立隱性標籤\n",
    "#         item_features = dataset.build_item_features([tuple(x) for x in metadata[['asin','all_text']].values])\n",
    "\n",
    "#         # 訓練混合模型（Hybrid Model）加入 user / item feature\n",
    "#         model = LightFM(loss='warp', item_alpha=1e-6, no_components=100)\n",
    "#         model = model.fit(interactions_matrix, sample_weight = weights_matrix, item_features=item_features, epochs=20, num_threads=8)\n",
    "\n",
    "#     else:\n",
    "#         model = LightFM(loss='warp', item_alpha=1e-6, no_components=100)\n",
    "#         model = model.fit(interactions_matrix, sample_weight = weights_matrix, epochs=20, num_threads = 8)\n",
    "\n",
    "#     # 推薦\n",
    "#     for user in users:\n",
    "#         try:\n",
    "#             recommendations[user] = recommend_items(model, interactions_matrix, user_id_map[user], item_list, k)\n",
    "#         except:\n",
    "#             if rule_based:\n",
    "#                 recommendations[user] = hot.asin[:k].tolist()\n",
    "#             else:\n",
    "#                 recommendations[user] = []\n",
    "\n",
    "#     return recommendations"
   ]
  },
  {
   "cell_type": "markdown",
   "metadata": {
    "id": "f7eO--k2Vbsy"
   },
   "source": [
    "## 計算推薦"
   ]
  },
  {
   "cell_type": "markdown",
   "metadata": {},
   "source": [
    "cmethod(1: content-based, 2: user-based, 3: item-based)<br>\n",
    "rmethod(1: long-term, 2: recent)"
   ]
  },
  {
   "cell_type": "code",
   "execution_count": 88,
   "metadata": {},
   "outputs": [],
   "source": [
    "def recomend_item_sort(user, recommended_items, k=3):\n",
    "    \n",
    "    # 儲存原本list順序\n",
    "    recommended_dict = dict()\n",
    "    for idx in range(len(recommended_items)):\n",
    "        if recommended_items[idx] not in recommended_dict:\n",
    "            recommended_dict[recommended_items[idx]] = idx\n",
    "#     recommended_dict = {k: v for v, k in enumerate(recommended_items) if k not in recommended_dict}\n",
    "    \n",
    "    for item in recommended_items:\n",
    "        if (recipes_tmp['id'].str.contains(item).any()):\n",
    "            item_info = recipes_tmp[recipes_tmp['id'] == item]\n",
    "            # 剔除除分數過低的\n",
    "            if (item_info['favorites_count'].values[0] < 3):\n",
    "#                 recommended_items.remove(item)\n",
    "                del recommended_dict[item]\n",
    "            # 剔除非當季商品\n",
    "            elif ((item_info['SEASON'].values[0] != 'None') or (item_info['SEASON'].values[0] == 'Spring') or (item_info['SEASON'].values[0] == 'Winter')):\n",
    "#                 recommended_items.remove(item)\n",
    "                del recommended_dict[item]\n",
    "            # TODO: 剔除近兩年未銷售出去過的商品\n",
    "        \n",
    "    \n",
    "#     # 剔除重複商品\n",
    "#     recommended_items = list(set(recommended_items))\n",
    "    \n",
    "#     # 依照RATE(COUNT)排序\n",
    "# #     print(metadata_tmp[metadata_tmp['asin'].isin(recommended_items)].sort_values('RATE', ascending=False) \\\n",
    "# #                                .head(k))\n",
    "#     recommended_list = metadata_tmp[metadata_tmp['asin'].isin(recommended_items)].sort_values('RATE', ascending=False) \\\n",
    "#                                .head(k).asin.reset_index(drop=True).to_list()\n",
    "    # 依照舊有list順序排序\n",
    "    # TODO: 考慮[每個用戶相似度x商品評論數]，才接著非來自相似用戶的推薦\n",
    "    recommended_list = [key for (key, value) in sorted(recommended_dict.items(), key=lambda x: x[1])]\n",
    "    \n",
    "    return recommended_list"
   ]
  },
  {
   "cell_type": "code",
   "execution_count": 89,
   "metadata": {
    "id": "8ZR2g_3sagCJ"
   },
   "outputs": [],
   "source": [
    "from sklearn.decomposition import PCA\n",
    "from sklearn.cluster import KMeans\n",
    "\n",
    "def recommender(users=[], k=3, cmethod=1, rmethod=1, is_pca=True, num_pca=10, is_sorted=True):\n",
    "  # 同學的 TODO\n",
    "  # return { user_id_1: [recipe_ids], user_id_2: [recipe_ids] ... }\n",
    "    df = get_features(recipes_tmp)\n",
    "    if (is_pca):\n",
    "        pca = PCA(n_components=num_pca)\n",
    "        df = pd.DataFrame(pca.fit_transform(df))\n",
    "    \n",
    "    n = 10*k if is_sorted else k\n",
    "    \n",
    "    recommendations = {}\n",
    "    \n",
    "    if (cmethod == 1):\n",
    "        similarity_matrix = cosine_similarity(df)\n",
    "        mapping = pd.Series(recipes_tmp.index, index = recipes_tmp['id'])\n",
    "        \n",
    "        for user in users:\n",
    "            recommended_items = []\n",
    "            recommended_items = recommend_items(similarity_matrix, \n",
    "                                                 mapping,\n",
    "                                                 recipes_tmp[recipes_tmp['id'].isin(favorites_df[(favorites_df['user_id'] == user)]['recipe_id'].tolist())]['id'].tolist(), \n",
    "                                                 n) \n",
    "            if (len(recommended_items) < n):\n",
    "                if (rmethod == 1):\n",
    "                    recommended_items = recommended_items + get_longterm_top(n-len(recommended_items))\n",
    "                else:\n",
    "                    recommended_items = recommended_items + get_recent_top(n-len(recommended_items))\n",
    "                \n",
    "            recommendations[user] = recomend_item_sort(user, recommended_items, k) if is_sorted else recommended_items\n",
    "        \n",
    "#         recommendations = {user: recommend_items(similarity_matrix, \n",
    "#                                                  mapping,\n",
    "#                                                  recipes_tmp[recipes_tmp['id'].isin(favorites_df[(favorites_df['user_id'] == user)]['recipe_id'].tolist())]['id'].tolist(), \n",
    "#                                                  n) \n",
    "#                            for user in users}\n",
    "    elif (cmethod == 2):\n",
    "        pass\n",
    "    else:\n",
    "        pass\n",
    "  \n",
    "    return recommendations\n",
    "  # 以下為 Random 推薦實作\n",
    "#   return { user: recipes_df['id'].sample(n=k).tolist() for user in users}\n",
    "\n",
    "  # 以下為直接抄答案的實作\n",
    "  # return { user: test_favorites_df[test_favorites_df['user_id'] == user]['recipe_id'].values for user in users}"
   ]
  },
  {
   "cell_type": "markdown",
   "metadata": {
    "id": "hS1-8UnlVhJd"
   },
   "source": [
    "## 評估結果"
   ]
  },
  {
   "cell_type": "code",
   "execution_count": 90,
   "metadata": {
    "id": "4u0C1Ie5d_WN"
   },
   "outputs": [],
   "source": [
    "def evaluate(real_results={}, predicted_results={}):\n",
    "    '''\n",
    "    * real_results: dict 真實被收藏的食譜資料\n",
    "    * predicted_results: dict 利用訓練資料學習的推薦食譜\n",
    "    * method: str\n",
    "    * score: float\n",
    "    '''\n",
    "    total = 0\n",
    "    for d in predicted_results:\n",
    "          total += len(set(predicted_results[d]) & set(test_favorites_df[test_favorites_df['user_id'] == d]['recipe_id']))\n",
    "\n",
    "    score = total / test_favorites_df.shape[0]\n",
    "    return score"
   ]
  },
  {
   "cell_type": "code",
   "execution_count": null,
   "metadata": {},
   "outputs": [],
   "source": [
    "predictions = recommender(test_user_ids['user_id'], is_sorted=False)\n",
    "print(f'top3 Recall： {evaluate(test_favorites_df, predictions)}')"
   ]
  },
  {
   "cell_type": "code",
   "execution_count": null,
   "metadata": {},
   "outputs": [],
   "source": []
  }
 ],
 "metadata": {
  "kernelspec": {
   "display_name": "Python 3.6.6 64-bit ('t': conda)",
   "language": "python",
   "name": "python36664bittconda02ef492752d045b78a4ece1cc31ff7de"
  },
  "language_info": {
   "codemirror_mode": {
    "name": "ipython",
    "version": 3
   },
   "file_extension": ".py",
   "mimetype": "text/x-python",
   "name": "python",
   "nbconvert_exporter": "python",
   "pygments_lexer": "ipython3",
   "version": "3.6.6"
  }
 },
 "nbformat": 4,
 "nbformat_minor": 2
}

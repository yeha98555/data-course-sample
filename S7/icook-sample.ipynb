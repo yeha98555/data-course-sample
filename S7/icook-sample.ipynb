{
  "nbformat": 4,
  "nbformat_minor": 0,
  "metadata": {
    "colab": {
      "name": "Untitled7.ipynb",
      "provenance": []
    },
    "kernelspec": {
      "name": "python3",
      "display_name": "Python 3"
    },
    "language_info": {
      "name": "python"
    }
  },
  "cells": [
    {
      "cell_type": "code",
      "metadata": {
        "id": "Dt3chha1eq2A"
      },
      "source": [
        "import pandas as pd"
      ],
      "execution_count": 21,
      "outputs": []
    },
    {
      "cell_type": "markdown",
      "source": [
        "## 載入資料"
      ],
      "metadata": {
        "id": "3BaH0NDcVZNo"
      }
    },
    {
      "cell_type": "code",
      "source": [
        "# TODO: 可能找個地方放 iCook 資料檔案，然後在這邊 wget 下來"
      ],
      "metadata": {
        "id": "gIvd_1UmVpaq"
      },
      "execution_count": null,
      "outputs": []
    },
    {
      "cell_type": "code",
      "source": [
        "recipes_df = pd.read_json('recipes.jsonl.gz', lines=True, compression='gzip')\n",
        "recipes_df\n",
        "\n",
        "ingredients_df = pd.read_json('ingredients.jsonl.gz', lines=True, compression='gzip')\n",
        "ingredients_df\n",
        "\n",
        "favorites_df = pd.read_json('favorites.json.gz', compression='gzip')\n",
        "favorites_df\n",
        "\n",
        "test_favorites_df = pd.read_json('test_favorites.json.gz', compression='gzip')\n",
        "test_favorites_df\n",
        "\n",
        "test_user_ids = pd.read_csv('test_user_ids.txt.gz', compression='gzip', names=['user_id'])\n",
        "test_user_ids"
      ],
      "metadata": {
        "id": "vhuD8hrvbxTv"
      },
      "execution_count": null,
      "outputs": []
    },
    {
      "cell_type": "markdown",
      "source": [
        "## 計算推薦"
      ],
      "metadata": {
        "id": "f7eO--k2Vbsy"
      }
    },
    {
      "cell_type": "code",
      "source": [
        "def recommender(users=[], k=3):\n",
        "  # 同學的 TODO\n",
        "  # return { user_id_1: [recipe_ids], user_id_2: [recipe_ids] ... }\n",
        "  \n",
        "  # 以下為 Random 推薦實作\n",
        "  return { user: recipes_df['id'].sample(n=k).tolist() for user in users}\n",
        "\n",
        "  # 以下為直接抄答案的實作\n",
        "  # return { user: test_favorites_df[test_favorites_df['user_id'] == user]['recipe_id'].values for user in users}\n",
        "\n",
        "\n",
        "predictions = recommender(test_user_ids['user_id'])"
      ],
      "metadata": {
        "id": "8ZR2g_3sagCJ"
      },
      "execution_count": 76,
      "outputs": []
    },
    {
      "cell_type": "markdown",
      "source": [
        "## 評估結果"
      ],
      "metadata": {
        "id": "hS1-8UnlVhJd"
      }
    },
    {
      "cell_type": "code",
      "source": [
        "def evaluate(real_results={}, predicted_results={}):\n",
        "    '''\n",
        "    * real_results: dict 真實被收藏的食譜資料\n",
        "    * predicted_results: dict 利用訓練資料學習的推薦食譜\n",
        "    * method: str\n",
        "    * score: float\n",
        "    '''\n",
        "    total = 0\n",
        "    for d in predicted_results:\n",
        "          total += len(set(predicted_results[d]) & set(test_favorites_df[test_favorites_df['user_id'] == d]['recipe_id']))\n",
        "\n",
        "    score = total / test_favorites_df.shape[0]\n",
        "    return score\n",
        "\n",
        "evaluate(test_favorites_df, predictions)"
      ],
      "metadata": {
        "id": "4u0C1Ie5d_WN"
      },
      "execution_count": null,
      "outputs": []
    }
  ]
}
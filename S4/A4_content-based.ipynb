{
  "cells": [
    {
      "cell_type": "markdown",
      "metadata": {
        "id": "view-in-github",
        "colab_type": "text"
      },
      "source": [
        "<a href=\"https://colab.research.google.com/github/yeha98555/data-course-sample/blob/main/S4/A4_content-based.ipynb\" target=\"_parent\"><img src=\"https://colab.research.google.com/assets/colab-badge.svg\" alt=\"Open In Colab\"/></a>"
      ]
    },
    {
      "cell_type": "markdown",
      "id": "84de56a8",
      "metadata": {
        "id": "84de56a8"
      },
      "source": [
        "# Content-based"
      ]
    },
    {
      "cell_type": "markdown",
      "id": "688675f5",
      "metadata": {
        "id": "688675f5"
      },
      "source": [
        "## 基礎建設"
      ]
    },
    {
      "cell_type": "code",
      "execution_count": 4,
      "id": "b32226db",
      "metadata": {
        "scrolled": true,
        "id": "b32226db"
      },
      "outputs": [],
      "source": [
        "import pandas as pd\n",
        "import gzip, json\n",
        "\n",
        "def parse(path):\n",
        "    g = gzip.open(path, 'rb')\n",
        "    for l in g:\n",
        "        yield json.loads(l)\n",
        "\n",
        "def getDF(path):\n",
        "    i = 0\n",
        "    df = {}\n",
        "    for d in parse(path):\n",
        "        df[i] = d\n",
        "        i += 1\n",
        "    return pd.DataFrame.from_dict(df, orient='index')"
      ]
    },
    {
      "cell_type": "markdown",
      "id": "84ff0f9d",
      "metadata": {
        "id": "84ff0f9d"
      },
      "source": [
        "## 載入資料"
      ]
    },
    {
      "cell_type": "code",
      "execution_count": 5,
      "id": "9402e9c7",
      "metadata": {
        "id": "9402e9c7",
        "outputId": "aaaf5bda-faa4-45c7-f332-04399db14dfb",
        "colab": {
          "base_uri": "https://localhost:8080/"
        }
      },
      "outputs": [
        {
          "output_type": "stream",
          "name": "stdout",
          "text": [
            "--2022-01-02 16:42:28--  http://deepyeti.ucsd.edu/jianmo/amazon/categoryFilesSmall/All_Beauty.csv\n",
            "Resolving deepyeti.ucsd.edu (deepyeti.ucsd.edu)... 169.228.63.50\n",
            "Connecting to deepyeti.ucsd.edu (deepyeti.ucsd.edu)|169.228.63.50|:80... connected.\n",
            "HTTP request sent, awaiting response... 200 OK\n",
            "Length: 15499476 (15M) [application/octet-stream]\n",
            "Saving to: ‘All_Beauty.csv.1’\n",
            "\n",
            "All_Beauty.csv.1    100%[===================>]  14.78M  20.1MB/s    in 0.7s    \n",
            "\n",
            "2022-01-02 16:42:29 (20.1 MB/s) - ‘All_Beauty.csv.1’ saved [15499476/15499476]\n",
            "\n",
            "--2022-01-02 16:42:29--  http://deepyeti.ucsd.edu/jianmo/amazon/metaFiles2/meta_All_Beauty.json.gz\n",
            "Resolving deepyeti.ucsd.edu (deepyeti.ucsd.edu)... 169.228.63.50\n",
            "Connecting to deepyeti.ucsd.edu (deepyeti.ucsd.edu)|169.228.63.50|:80... connected.\n",
            "HTTP request sent, awaiting response... 200 OK\n",
            "Length: 10329961 (9.9M) [application/octet-stream]\n",
            "Saving to: ‘meta_All_Beauty.json.gz.1’\n",
            "\n",
            "meta_All_Beauty.jso 100%[===================>]   9.85M  15.2MB/s    in 0.6s    \n",
            "\n",
            "2022-01-02 16:42:30 (15.2 MB/s) - ‘meta_All_Beauty.json.gz.1’ saved [10329961/10329961]\n",
            "\n"
          ]
        }
      ],
      "source": [
        "!wget http://deepyeti.ucsd.edu/jianmo/amazon/categoryFilesSmall/All_Beauty.csv\n",
        "!wget http://deepyeti.ucsd.edu/jianmo/amazon/metaFiles2/meta_All_Beauty.json.gz"
      ]
    },
    {
      "cell_type": "code",
      "execution_count": 6,
      "id": "84b66cc7",
      "metadata": {
        "id": "84b66cc7"
      },
      "outputs": [],
      "source": [
        "metadata = getDF('/content/meta_All_Beauty.json.gz')\n",
        "ratings = pd.read_csv('/content/All_Beauty.csv', names=['asin', 'reviewerID', 'overall', 'unixReviewTime'], header=None)"
      ]
    },
    {
      "cell_type": "code",
      "execution_count": 7,
      "id": "9fd77203",
      "metadata": {
        "id": "9fd77203",
        "outputId": "6ad0b99f-cb20-4d2a-b4cf-763ec2d2cc5b",
        "colab": {
          "base_uri": "https://localhost:8080/",
          "height": 630
        }
      },
      "outputs": [
        {
          "output_type": "execute_result",
          "data": {
            "text/html": [
              "\n",
              "  <div id=\"df-a6868202-fa21-4d2c-a108-5b014a80493e\">\n",
              "    <div class=\"colab-df-container\">\n",
              "      <div>\n",
              "<style scoped>\n",
              "    .dataframe tbody tr th:only-of-type {\n",
              "        vertical-align: middle;\n",
              "    }\n",
              "\n",
              "    .dataframe tbody tr th {\n",
              "        vertical-align: top;\n",
              "    }\n",
              "\n",
              "    .dataframe thead th {\n",
              "        text-align: right;\n",
              "    }\n",
              "</style>\n",
              "<table border=\"1\" class=\"dataframe\">\n",
              "  <thead>\n",
              "    <tr style=\"text-align: right;\">\n",
              "      <th></th>\n",
              "      <th>category</th>\n",
              "      <th>tech1</th>\n",
              "      <th>description</th>\n",
              "      <th>fit</th>\n",
              "      <th>title</th>\n",
              "      <th>also_buy</th>\n",
              "      <th>tech2</th>\n",
              "      <th>brand</th>\n",
              "      <th>feature</th>\n",
              "      <th>rank</th>\n",
              "      <th>also_view</th>\n",
              "      <th>details</th>\n",
              "      <th>main_cat</th>\n",
              "      <th>similar_item</th>\n",
              "      <th>date</th>\n",
              "      <th>price</th>\n",
              "      <th>asin</th>\n",
              "      <th>imageURL</th>\n",
              "      <th>imageURLHighRes</th>\n",
              "    </tr>\n",
              "  </thead>\n",
              "  <tbody>\n",
              "    <tr>\n",
              "      <th>0</th>\n",
              "      <td>[]</td>\n",
              "      <td></td>\n",
              "      <td>[Loud 'N Clear Personal Sound Amplifier allows...</td>\n",
              "      <td></td>\n",
              "      <td>Loud 'N Clear&amp;trade; Personal Sound Amplifier</td>\n",
              "      <td>[]</td>\n",
              "      <td></td>\n",
              "      <td>idea village</td>\n",
              "      <td>[]</td>\n",
              "      <td>2,938,573 in Beauty &amp; Personal Care (</td>\n",
              "      <td>[]</td>\n",
              "      <td>{'ASIN: ': '6546546450'}</td>\n",
              "      <td>All Beauty</td>\n",
              "      <td></td>\n",
              "      <td></td>\n",
              "      <td></td>\n",
              "      <td>6546546450</td>\n",
              "      <td>[]</td>\n",
              "      <td>[]</td>\n",
              "    </tr>\n",
              "    <tr>\n",
              "      <th>1</th>\n",
              "      <td>[]</td>\n",
              "      <td></td>\n",
              "      <td>[No7 Lift &amp; Luminate Triple Action Serum 50ml ...</td>\n",
              "      <td></td>\n",
              "      <td>No7 Lift &amp;amp; Luminate Triple Action Serum 50...</td>\n",
              "      <td>[B01E7LCSL6, B008X5RVME]</td>\n",
              "      <td></td>\n",
              "      <td></td>\n",
              "      <td>[]</td>\n",
              "      <td>872,854 in Beauty &amp; Personal Care (</td>\n",
              "      <td>[]</td>\n",
              "      <td>{'Shipping Weight:': '0.3 ounces (', 'ASIN: ':...</td>\n",
              "      <td>All Beauty</td>\n",
              "      <td>class=\"a-bordered a-horizontal-stripes  a-spa...</td>\n",
              "      <td></td>\n",
              "      <td>$44.99</td>\n",
              "      <td>7178680776</td>\n",
              "      <td>[]</td>\n",
              "      <td>[]</td>\n",
              "    </tr>\n",
              "    <tr>\n",
              "      <th>2</th>\n",
              "      <td>[]</td>\n",
              "      <td></td>\n",
              "      <td>[No7 Stay Perfect Foundation now stays perfect...</td>\n",
              "      <td></td>\n",
              "      <td>No7 Stay Perfect Foundation Cool Vanilla by No7</td>\n",
              "      <td>[]</td>\n",
              "      <td></td>\n",
              "      <td>No7</td>\n",
              "      <td>[]</td>\n",
              "      <td>956,696 in Beauty &amp; Personal Care (</td>\n",
              "      <td>[B01B8BR0O8, B01B8BR0NO, B014MHXXM8]</td>\n",
              "      <td>{'Shipping Weight:': '3.5 ounces (', 'ASIN: ':...</td>\n",
              "      <td>All Beauty</td>\n",
              "      <td></td>\n",
              "      <td></td>\n",
              "      <td>$28.76</td>\n",
              "      <td>7250468162</td>\n",
              "      <td>[]</td>\n",
              "      <td>[]</td>\n",
              "    </tr>\n",
              "    <tr>\n",
              "      <th>3</th>\n",
              "      <td>[]</td>\n",
              "      <td></td>\n",
              "      <td>[]</td>\n",
              "      <td></td>\n",
              "      <td>Wella Koleston Perfect Hair Colour 44/44 Mediu...</td>\n",
              "      <td>[B0041PBXX8]</td>\n",
              "      <td></td>\n",
              "      <td></td>\n",
              "      <td>[]</td>\n",
              "      <td>1,870,258 in Beauty &amp; Personal Care (</td>\n",
              "      <td>[]</td>\n",
              "      <td>{'\n",
              "    Item Weight: \n",
              "    ': '1.76 ounces', 'Sh...</td>\n",
              "      <td>All Beauty</td>\n",
              "      <td></td>\n",
              "      <td></td>\n",
              "      <td></td>\n",
              "      <td>7367905066</td>\n",
              "      <td>[https://images-na.ssl-images-amazon.com/image...</td>\n",
              "      <td>[https://images-na.ssl-images-amazon.com/image...</td>\n",
              "    </tr>\n",
              "    <tr>\n",
              "      <th>4</th>\n",
              "      <td>[]</td>\n",
              "      <td></td>\n",
              "      <td>[Lacto Calamine Skin Balance Daily Nourishing ...</td>\n",
              "      <td></td>\n",
              "      <td>Lacto Calamine Skin Balance Oil control 120 ml...</td>\n",
              "      <td>[]</td>\n",
              "      <td></td>\n",
              "      <td>Pirmal Healthcare</td>\n",
              "      <td>[]</td>\n",
              "      <td>67,701 in Beauty &amp; Personal Care (</td>\n",
              "      <td>[3254895630, B007VL1D9S, B00EH9A0RI, B0773MBG4...</td>\n",
              "      <td>{'Shipping Weight:': '12 ounces (', 'ASIN: ': ...</td>\n",
              "      <td>All Beauty</td>\n",
              "      <td></td>\n",
              "      <td></td>\n",
              "      <td>$12.15</td>\n",
              "      <td>7414204790</td>\n",
              "      <td>[https://images-na.ssl-images-amazon.com/image...</td>\n",
              "      <td>[https://images-na.ssl-images-amazon.com/image...</td>\n",
              "    </tr>\n",
              "  </tbody>\n",
              "</table>\n",
              "</div>\n",
              "      <button class=\"colab-df-convert\" onclick=\"convertToInteractive('df-a6868202-fa21-4d2c-a108-5b014a80493e')\"\n",
              "              title=\"Convert this dataframe to an interactive table.\"\n",
              "              style=\"display:none;\">\n",
              "        \n",
              "  <svg xmlns=\"http://www.w3.org/2000/svg\" height=\"24px\"viewBox=\"0 0 24 24\"\n",
              "       width=\"24px\">\n",
              "    <path d=\"M0 0h24v24H0V0z\" fill=\"none\"/>\n",
              "    <path d=\"M18.56 5.44l.94 2.06.94-2.06 2.06-.94-2.06-.94-.94-2.06-.94 2.06-2.06.94zm-11 1L8.5 8.5l.94-2.06 2.06-.94-2.06-.94L8.5 2.5l-.94 2.06-2.06.94zm10 10l.94 2.06.94-2.06 2.06-.94-2.06-.94-.94-2.06-.94 2.06-2.06.94z\"/><path d=\"M17.41 7.96l-1.37-1.37c-.4-.4-.92-.59-1.43-.59-.52 0-1.04.2-1.43.59L10.3 9.45l-7.72 7.72c-.78.78-.78 2.05 0 2.83L4 21.41c.39.39.9.59 1.41.59.51 0 1.02-.2 1.41-.59l7.78-7.78 2.81-2.81c.8-.78.8-2.07 0-2.86zM5.41 20L4 18.59l7.72-7.72 1.47 1.35L5.41 20z\"/>\n",
              "  </svg>\n",
              "      </button>\n",
              "      \n",
              "  <style>\n",
              "    .colab-df-container {\n",
              "      display:flex;\n",
              "      flex-wrap:wrap;\n",
              "      gap: 12px;\n",
              "    }\n",
              "\n",
              "    .colab-df-convert {\n",
              "      background-color: #E8F0FE;\n",
              "      border: none;\n",
              "      border-radius: 50%;\n",
              "      cursor: pointer;\n",
              "      display: none;\n",
              "      fill: #1967D2;\n",
              "      height: 32px;\n",
              "      padding: 0 0 0 0;\n",
              "      width: 32px;\n",
              "    }\n",
              "\n",
              "    .colab-df-convert:hover {\n",
              "      background-color: #E2EBFA;\n",
              "      box-shadow: 0px 1px 2px rgba(60, 64, 67, 0.3), 0px 1px 3px 1px rgba(60, 64, 67, 0.15);\n",
              "      fill: #174EA6;\n",
              "    }\n",
              "\n",
              "    [theme=dark] .colab-df-convert {\n",
              "      background-color: #3B4455;\n",
              "      fill: #D2E3FC;\n",
              "    }\n",
              "\n",
              "    [theme=dark] .colab-df-convert:hover {\n",
              "      background-color: #434B5C;\n",
              "      box-shadow: 0px 1px 3px 1px rgba(0, 0, 0, 0.15);\n",
              "      filter: drop-shadow(0px 1px 2px rgba(0, 0, 0, 0.3));\n",
              "      fill: #FFFFFF;\n",
              "    }\n",
              "  </style>\n",
              "\n",
              "      <script>\n",
              "        const buttonEl =\n",
              "          document.querySelector('#df-a6868202-fa21-4d2c-a108-5b014a80493e button.colab-df-convert');\n",
              "        buttonEl.style.display =\n",
              "          google.colab.kernel.accessAllowed ? 'block' : 'none';\n",
              "\n",
              "        async function convertToInteractive(key) {\n",
              "          const element = document.querySelector('#df-a6868202-fa21-4d2c-a108-5b014a80493e');\n",
              "          const dataTable =\n",
              "            await google.colab.kernel.invokeFunction('convertToInteractive',\n",
              "                                                     [key], {});\n",
              "          if (!dataTable) return;\n",
              "\n",
              "          const docLinkHtml = 'Like what you see? Visit the ' +\n",
              "            '<a target=\"_blank\" href=https://colab.research.google.com/notebooks/data_table.ipynb>data table notebook</a>'\n",
              "            + ' to learn more about interactive tables.';\n",
              "          element.innerHTML = '';\n",
              "          dataTable['output_type'] = 'display_data';\n",
              "          await google.colab.output.renderOutput(dataTable, element);\n",
              "          const docLink = document.createElement('div');\n",
              "          docLink.innerHTML = docLinkHtml;\n",
              "          element.appendChild(docLink);\n",
              "        }\n",
              "      </script>\n",
              "    </div>\n",
              "  </div>\n",
              "  "
            ],
            "text/plain": [
              "  category  ...                                    imageURLHighRes\n",
              "0       []  ...                                                 []\n",
              "1       []  ...                                                 []\n",
              "2       []  ...                                                 []\n",
              "3       []  ...  [https://images-na.ssl-images-amazon.com/image...\n",
              "4       []  ...  [https://images-na.ssl-images-amazon.com/image...\n",
              "\n",
              "[5 rows x 19 columns]"
            ]
          },
          "metadata": {},
          "execution_count": 7
        }
      ],
      "source": [
        "metadata.head()"
      ]
    },
    {
      "cell_type": "code",
      "execution_count": 8,
      "id": "b402792c",
      "metadata": {
        "id": "b402792c",
        "outputId": "2f67ebc5-64d4-4d95-ef5d-4817dd7ee153",
        "colab": {
          "base_uri": "https://localhost:8080/",
          "height": 204
        }
      },
      "outputs": [
        {
          "output_type": "execute_result",
          "data": {
            "text/html": [
              "\n",
              "  <div id=\"df-28f20176-ac86-46aa-b580-26e2c935edc6\">\n",
              "    <div class=\"colab-df-container\">\n",
              "      <div>\n",
              "<style scoped>\n",
              "    .dataframe tbody tr th:only-of-type {\n",
              "        vertical-align: middle;\n",
              "    }\n",
              "\n",
              "    .dataframe tbody tr th {\n",
              "        vertical-align: top;\n",
              "    }\n",
              "\n",
              "    .dataframe thead th {\n",
              "        text-align: right;\n",
              "    }\n",
              "</style>\n",
              "<table border=\"1\" class=\"dataframe\">\n",
              "  <thead>\n",
              "    <tr style=\"text-align: right;\">\n",
              "      <th></th>\n",
              "      <th>asin</th>\n",
              "      <th>reviewerID</th>\n",
              "      <th>overall</th>\n",
              "      <th>unixReviewTime</th>\n",
              "    </tr>\n",
              "  </thead>\n",
              "  <tbody>\n",
              "    <tr>\n",
              "      <th>0</th>\n",
              "      <td>0143026860</td>\n",
              "      <td>A1V6B6TNIC10QE</td>\n",
              "      <td>1.0</td>\n",
              "      <td>1424304000</td>\n",
              "    </tr>\n",
              "    <tr>\n",
              "      <th>1</th>\n",
              "      <td>0143026860</td>\n",
              "      <td>A2F5GHSXFQ0W6J</td>\n",
              "      <td>4.0</td>\n",
              "      <td>1418860800</td>\n",
              "    </tr>\n",
              "    <tr>\n",
              "      <th>2</th>\n",
              "      <td>0143026860</td>\n",
              "      <td>A1572GUYS7DGSR</td>\n",
              "      <td>4.0</td>\n",
              "      <td>1407628800</td>\n",
              "    </tr>\n",
              "    <tr>\n",
              "      <th>3</th>\n",
              "      <td>0143026860</td>\n",
              "      <td>A1PSGLFK1NSVO</td>\n",
              "      <td>5.0</td>\n",
              "      <td>1362960000</td>\n",
              "    </tr>\n",
              "    <tr>\n",
              "      <th>4</th>\n",
              "      <td>0143026860</td>\n",
              "      <td>A6IKXKZMTKGSC</td>\n",
              "      <td>5.0</td>\n",
              "      <td>1324771200</td>\n",
              "    </tr>\n",
              "  </tbody>\n",
              "</table>\n",
              "</div>\n",
              "      <button class=\"colab-df-convert\" onclick=\"convertToInteractive('df-28f20176-ac86-46aa-b580-26e2c935edc6')\"\n",
              "              title=\"Convert this dataframe to an interactive table.\"\n",
              "              style=\"display:none;\">\n",
              "        \n",
              "  <svg xmlns=\"http://www.w3.org/2000/svg\" height=\"24px\"viewBox=\"0 0 24 24\"\n",
              "       width=\"24px\">\n",
              "    <path d=\"M0 0h24v24H0V0z\" fill=\"none\"/>\n",
              "    <path d=\"M18.56 5.44l.94 2.06.94-2.06 2.06-.94-2.06-.94-.94-2.06-.94 2.06-2.06.94zm-11 1L8.5 8.5l.94-2.06 2.06-.94-2.06-.94L8.5 2.5l-.94 2.06-2.06.94zm10 10l.94 2.06.94-2.06 2.06-.94-2.06-.94-.94-2.06-.94 2.06-2.06.94z\"/><path d=\"M17.41 7.96l-1.37-1.37c-.4-.4-.92-.59-1.43-.59-.52 0-1.04.2-1.43.59L10.3 9.45l-7.72 7.72c-.78.78-.78 2.05 0 2.83L4 21.41c.39.39.9.59 1.41.59.51 0 1.02-.2 1.41-.59l7.78-7.78 2.81-2.81c.8-.78.8-2.07 0-2.86zM5.41 20L4 18.59l7.72-7.72 1.47 1.35L5.41 20z\"/>\n",
              "  </svg>\n",
              "      </button>\n",
              "      \n",
              "  <style>\n",
              "    .colab-df-container {\n",
              "      display:flex;\n",
              "      flex-wrap:wrap;\n",
              "      gap: 12px;\n",
              "    }\n",
              "\n",
              "    .colab-df-convert {\n",
              "      background-color: #E8F0FE;\n",
              "      border: none;\n",
              "      border-radius: 50%;\n",
              "      cursor: pointer;\n",
              "      display: none;\n",
              "      fill: #1967D2;\n",
              "      height: 32px;\n",
              "      padding: 0 0 0 0;\n",
              "      width: 32px;\n",
              "    }\n",
              "\n",
              "    .colab-df-convert:hover {\n",
              "      background-color: #E2EBFA;\n",
              "      box-shadow: 0px 1px 2px rgba(60, 64, 67, 0.3), 0px 1px 3px 1px rgba(60, 64, 67, 0.15);\n",
              "      fill: #174EA6;\n",
              "    }\n",
              "\n",
              "    [theme=dark] .colab-df-convert {\n",
              "      background-color: #3B4455;\n",
              "      fill: #D2E3FC;\n",
              "    }\n",
              "\n",
              "    [theme=dark] .colab-df-convert:hover {\n",
              "      background-color: #434B5C;\n",
              "      box-shadow: 0px 1px 3px 1px rgba(0, 0, 0, 0.15);\n",
              "      filter: drop-shadow(0px 1px 2px rgba(0, 0, 0, 0.3));\n",
              "      fill: #FFFFFF;\n",
              "    }\n",
              "  </style>\n",
              "\n",
              "      <script>\n",
              "        const buttonEl =\n",
              "          document.querySelector('#df-28f20176-ac86-46aa-b580-26e2c935edc6 button.colab-df-convert');\n",
              "        buttonEl.style.display =\n",
              "          google.colab.kernel.accessAllowed ? 'block' : 'none';\n",
              "\n",
              "        async function convertToInteractive(key) {\n",
              "          const element = document.querySelector('#df-28f20176-ac86-46aa-b580-26e2c935edc6');\n",
              "          const dataTable =\n",
              "            await google.colab.kernel.invokeFunction('convertToInteractive',\n",
              "                                                     [key], {});\n",
              "          if (!dataTable) return;\n",
              "\n",
              "          const docLinkHtml = 'Like what you see? Visit the ' +\n",
              "            '<a target=\"_blank\" href=https://colab.research.google.com/notebooks/data_table.ipynb>data table notebook</a>'\n",
              "            + ' to learn more about interactive tables.';\n",
              "          element.innerHTML = '';\n",
              "          dataTable['output_type'] = 'display_data';\n",
              "          await google.colab.output.renderOutput(dataTable, element);\n",
              "          const docLink = document.createElement('div');\n",
              "          docLink.innerHTML = docLinkHtml;\n",
              "          element.appendChild(docLink);\n",
              "        }\n",
              "      </script>\n",
              "    </div>\n",
              "  </div>\n",
              "  "
            ],
            "text/plain": [
              "         asin      reviewerID  overall  unixReviewTime\n",
              "0  0143026860  A1V6B6TNIC10QE      1.0      1424304000\n",
              "1  0143026860  A2F5GHSXFQ0W6J      4.0      1418860800\n",
              "2  0143026860  A1572GUYS7DGSR      4.0      1407628800\n",
              "3  0143026860   A1PSGLFK1NSVO      5.0      1362960000\n",
              "4  0143026860   A6IKXKZMTKGSC      5.0      1324771200"
            ]
          },
          "metadata": {},
          "execution_count": 8
        }
      ],
      "source": [
        "ratings.head()"
      ]
    },
    {
      "cell_type": "markdown",
      "id": "695362e3",
      "metadata": {
        "id": "695362e3"
      },
      "source": [
        "## 資料整理"
      ]
    },
    {
      "cell_type": "code",
      "execution_count": 9,
      "id": "b552fb23",
      "metadata": {
        "id": "b552fb23"
      },
      "outputs": [],
      "source": [
        "ratings['DATE'] = pd.to_datetime(ratings['unixReviewTime'], unit='s')"
      ]
    },
    {
      "cell_type": "markdown",
      "source": [
        "### 去除完全相同的資料"
      ],
      "metadata": {
        "id": "twvKxOAMYR_K"
      },
      "id": "twvKxOAMYR_K"
    },
    {
      "cell_type": "markdown",
      "source": [
        "metadata"
      ],
      "metadata": {
        "id": "7IpXKH_eYm8G"
      },
      "id": "7IpXKH_eYm8G"
    },
    {
      "cell_type": "code",
      "source": [
        "print('Original Num of metadata: {0}'.format(len(metadata)))\n",
        "print('Num of duplicated metadata: {0}'.format(metadata.duplicated(subset=['asin', 'title']).sum()))"
      ],
      "metadata": {
        "id": "v4srKzKmYNjz",
        "outputId": "d8b6bd24-29c6-49de-e42b-7f52c9682b69",
        "colab": {
          "base_uri": "https://localhost:8080/"
        }
      },
      "id": "v4srKzKmYNjz",
      "execution_count": 10,
      "outputs": [
        {
          "output_type": "stream",
          "name": "stdout",
          "text": [
            "Original Num of metadata: 32892\n",
            "Num of duplicated metadata: 404\n"
          ]
        }
      ]
    },
    {
      "cell_type": "code",
      "source": [
        "print('Drop duplicated metadata...')\n",
        "metadata.drop_duplicates(subset=['asin', 'title'], keep=False, inplace=True)\n",
        "print('Current Num of metadata: {0}'.format(len(metadata)))"
      ],
      "metadata": {
        "id": "oc2njlVmYbvt",
        "outputId": "40c95099-b791-4858-d422-481740ddfe57",
        "colab": {
          "base_uri": "https://localhost:8080/"
        }
      },
      "id": "oc2njlVmYbvt",
      "execution_count": 11,
      "outputs": [
        {
          "output_type": "stream",
          "name": "stdout",
          "text": [
            "Drop duplicated metadata...\n",
            "Current Num of metadata: 32084\n"
          ]
        }
      ]
    },
    {
      "cell_type": "code",
      "source": [
        "metadata = metadata.reset_index(drop=True)"
      ],
      "metadata": {
        "id": "db5c5NkwYcjP"
      },
      "id": "db5c5NkwYcjP",
      "execution_count": 12,
      "outputs": []
    },
    {
      "cell_type": "markdown",
      "source": [
        "ratings"
      ],
      "metadata": {
        "id": "Y0DeOffzYhp_"
      },
      "id": "Y0DeOffzYhp_"
    },
    {
      "cell_type": "code",
      "source": [
        "print('Original Num of ratings: {0}'.format(len(ratings)))\n",
        "print('Num of duplicated ratings: {0}'.format(ratings.duplicated().sum()))"
      ],
      "metadata": {
        "id": "_gtkpWn6YeVj",
        "outputId": "b90ddd44-efe0-4f9c-ff73-f6b20622d85e",
        "colab": {
          "base_uri": "https://localhost:8080/"
        }
      },
      "id": "_gtkpWn6YeVj",
      "execution_count": 13,
      "outputs": [
        {
          "output_type": "stream",
          "name": "stdout",
          "text": [
            "Original Num of ratings: 371345\n",
            "Num of duplicated ratings: 9070\n"
          ]
        }
      ]
    },
    {
      "cell_type": "code",
      "source": [
        "print('Drop duplicated ratings...')\n",
        "ratings.drop_duplicates(keep=False, inplace=True)\n",
        "print('Current Num of ratings: {0}'.format(len(ratings)))"
      ],
      "metadata": {
        "colab": {
          "base_uri": "https://localhost:8080/"
        },
        "id": "qHW5XawoY1Nd",
        "outputId": "75a2690a-4045-4e25-8c4f-449319b6804c"
      },
      "id": "qHW5XawoY1Nd",
      "execution_count": 14,
      "outputs": [
        {
          "output_type": "stream",
          "name": "stdout",
          "text": [
            "Drop duplicated ratings...\n",
            "Current Num of ratings: 353351\n"
          ]
        }
      ]
    },
    {
      "cell_type": "code",
      "source": [
        "ratings = ratings.reset_index(drop=True)"
      ],
      "metadata": {
        "id": "9qFulLe7Y3Vq"
      },
      "id": "9qFulLe7Y3Vq",
      "execution_count": 15,
      "outputs": []
    },
    {
      "cell_type": "markdown",
      "id": "054eeba4",
      "metadata": {
        "id": "054eeba4"
      },
      "source": [
        "## 資料切分"
      ]
    },
    {
      "cell_type": "code",
      "execution_count": 17,
      "id": "284b14a8",
      "metadata": {
        "id": "284b14a8"
      },
      "outputs": [],
      "source": [
        "ratings_trainings = ratings[\n",
        "    (ratings['DATE'] < '2018-09-01')\n",
        "]\n",
        "ratings_testings = ratings[\n",
        "    (ratings['DATE'] >= '2018-09-01') & \n",
        "    (ratings['DATE'] <= '2018-09-30')\n",
        "]\n",
        "ratings_testings_by_user = ratings_testings.groupby('reviewerID').agg(list).reset_index()[['reviewerID', 'asin']].to_dict('records')\n",
        "ratings_testings_by_user = { rating['reviewerID']: rating['asin'] for rating in ratings_testings_by_user }\n",
        "users = list(ratings_testings_by_user.keys())"
      ]
    },
    {
      "cell_type": "markdown",
      "source": [
        "## 欄位選擇（新增、剔除）"
      ],
      "metadata": {
        "id": "NgOtQT2KZD-W"
      },
      "id": "NgOtQT2KZD-W"
    },
    {
      "cell_type": "markdown",
      "source": [
        "### 加入評分"
      ],
      "metadata": {
        "id": "DSAVcEfWZIL2"
      },
      "id": "DSAVcEfWZIL2"
    },
    {
      "cell_type": "code",
      "source": [
        "rating_mean = ratings_trainings.groupby('asin')['overall'].mean().round(2).reset_index(name='RATE')\n",
        "rating_count = pd.DataFrame(ratings_trainings.asin.value_counts())\n",
        "rating_count.reset_index(inplace=True)\n",
        "rating_count.columns = ['asin', 'RATE(COUNT)']\n",
        "# merge\n",
        "rating_data = rating_mean.merge(rating_count, on='asin')\n",
        "rating_data"
      ],
      "metadata": {
        "colab": {
          "base_uri": "https://localhost:8080/",
          "height": 419
        },
        "id": "n2IFfHocZC29",
        "outputId": "bb234545-52c3-4565-e98a-5e7d5f99b390"
      },
      "id": "n2IFfHocZC29",
      "execution_count": 18,
      "outputs": [
        {
          "output_type": "execute_result",
          "data": {
            "text/html": [
              "\n",
              "  <div id=\"df-6602206b-bc0f-409a-98a1-470ad478d30c\">\n",
              "    <div class=\"colab-df-container\">\n",
              "      <div>\n",
              "<style scoped>\n",
              "    .dataframe tbody tr th:only-of-type {\n",
              "        vertical-align: middle;\n",
              "    }\n",
              "\n",
              "    .dataframe tbody tr th {\n",
              "        vertical-align: top;\n",
              "    }\n",
              "\n",
              "    .dataframe thead th {\n",
              "        text-align: right;\n",
              "    }\n",
              "</style>\n",
              "<table border=\"1\" class=\"dataframe\">\n",
              "  <thead>\n",
              "    <tr style=\"text-align: right;\">\n",
              "      <th></th>\n",
              "      <th>asin</th>\n",
              "      <th>RATE</th>\n",
              "      <th>RATE(COUNT)</th>\n",
              "    </tr>\n",
              "  </thead>\n",
              "  <tbody>\n",
              "    <tr>\n",
              "      <th>0</th>\n",
              "      <td>0061073717</td>\n",
              "      <td>5.00</td>\n",
              "      <td>2</td>\n",
              "    </tr>\n",
              "    <tr>\n",
              "      <th>1</th>\n",
              "      <td>0143026860</td>\n",
              "      <td>4.12</td>\n",
              "      <td>17</td>\n",
              "    </tr>\n",
              "    <tr>\n",
              "      <th>2</th>\n",
              "      <td>014789302X</td>\n",
              "      <td>4.35</td>\n",
              "      <td>20</td>\n",
              "    </tr>\n",
              "    <tr>\n",
              "      <th>3</th>\n",
              "      <td>0571348351</td>\n",
              "      <td>5.00</td>\n",
              "      <td>3</td>\n",
              "    </tr>\n",
              "    <tr>\n",
              "      <th>4</th>\n",
              "      <td>0692508988</td>\n",
              "      <td>5.00</td>\n",
              "      <td>1</td>\n",
              "    </tr>\n",
              "    <tr>\n",
              "      <th>...</th>\n",
              "      <td>...</td>\n",
              "      <td>...</td>\n",
              "      <td>...</td>\n",
              "    </tr>\n",
              "    <tr>\n",
              "      <th>32575</th>\n",
              "      <td>B01HIWLLUK</td>\n",
              "      <td>5.00</td>\n",
              "      <td>1</td>\n",
              "    </tr>\n",
              "    <tr>\n",
              "      <th>32576</th>\n",
              "      <td>B01HJ1K3YK</td>\n",
              "      <td>1.00</td>\n",
              "      <td>1</td>\n",
              "    </tr>\n",
              "    <tr>\n",
              "      <th>32577</th>\n",
              "      <td>B01HJ84SGM</td>\n",
              "      <td>5.00</td>\n",
              "      <td>5</td>\n",
              "    </tr>\n",
              "    <tr>\n",
              "      <th>32578</th>\n",
              "      <td>B01HJASD20</td>\n",
              "      <td>1.00</td>\n",
              "      <td>1</td>\n",
              "    </tr>\n",
              "    <tr>\n",
              "      <th>32579</th>\n",
              "      <td>B01HJEGTYK</td>\n",
              "      <td>3.00</td>\n",
              "      <td>10</td>\n",
              "    </tr>\n",
              "  </tbody>\n",
              "</table>\n",
              "<p>32580 rows × 3 columns</p>\n",
              "</div>\n",
              "      <button class=\"colab-df-convert\" onclick=\"convertToInteractive('df-6602206b-bc0f-409a-98a1-470ad478d30c')\"\n",
              "              title=\"Convert this dataframe to an interactive table.\"\n",
              "              style=\"display:none;\">\n",
              "        \n",
              "  <svg xmlns=\"http://www.w3.org/2000/svg\" height=\"24px\"viewBox=\"0 0 24 24\"\n",
              "       width=\"24px\">\n",
              "    <path d=\"M0 0h24v24H0V0z\" fill=\"none\"/>\n",
              "    <path d=\"M18.56 5.44l.94 2.06.94-2.06 2.06-.94-2.06-.94-.94-2.06-.94 2.06-2.06.94zm-11 1L8.5 8.5l.94-2.06 2.06-.94-2.06-.94L8.5 2.5l-.94 2.06-2.06.94zm10 10l.94 2.06.94-2.06 2.06-.94-2.06-.94-.94-2.06-.94 2.06-2.06.94z\"/><path d=\"M17.41 7.96l-1.37-1.37c-.4-.4-.92-.59-1.43-.59-.52 0-1.04.2-1.43.59L10.3 9.45l-7.72 7.72c-.78.78-.78 2.05 0 2.83L4 21.41c.39.39.9.59 1.41.59.51 0 1.02-.2 1.41-.59l7.78-7.78 2.81-2.81c.8-.78.8-2.07 0-2.86zM5.41 20L4 18.59l7.72-7.72 1.47 1.35L5.41 20z\"/>\n",
              "  </svg>\n",
              "      </button>\n",
              "      \n",
              "  <style>\n",
              "    .colab-df-container {\n",
              "      display:flex;\n",
              "      flex-wrap:wrap;\n",
              "      gap: 12px;\n",
              "    }\n",
              "\n",
              "    .colab-df-convert {\n",
              "      background-color: #E8F0FE;\n",
              "      border: none;\n",
              "      border-radius: 50%;\n",
              "      cursor: pointer;\n",
              "      display: none;\n",
              "      fill: #1967D2;\n",
              "      height: 32px;\n",
              "      padding: 0 0 0 0;\n",
              "      width: 32px;\n",
              "    }\n",
              "\n",
              "    .colab-df-convert:hover {\n",
              "      background-color: #E2EBFA;\n",
              "      box-shadow: 0px 1px 2px rgba(60, 64, 67, 0.3), 0px 1px 3px 1px rgba(60, 64, 67, 0.15);\n",
              "      fill: #174EA6;\n",
              "    }\n",
              "\n",
              "    [theme=dark] .colab-df-convert {\n",
              "      background-color: #3B4455;\n",
              "      fill: #D2E3FC;\n",
              "    }\n",
              "\n",
              "    [theme=dark] .colab-df-convert:hover {\n",
              "      background-color: #434B5C;\n",
              "      box-shadow: 0px 1px 3px 1px rgba(0, 0, 0, 0.15);\n",
              "      filter: drop-shadow(0px 1px 2px rgba(0, 0, 0, 0.3));\n",
              "      fill: #FFFFFF;\n",
              "    }\n",
              "  </style>\n",
              "\n",
              "      <script>\n",
              "        const buttonEl =\n",
              "          document.querySelector('#df-6602206b-bc0f-409a-98a1-470ad478d30c button.colab-df-convert');\n",
              "        buttonEl.style.display =\n",
              "          google.colab.kernel.accessAllowed ? 'block' : 'none';\n",
              "\n",
              "        async function convertToInteractive(key) {\n",
              "          const element = document.querySelector('#df-6602206b-bc0f-409a-98a1-470ad478d30c');\n",
              "          const dataTable =\n",
              "            await google.colab.kernel.invokeFunction('convertToInteractive',\n",
              "                                                     [key], {});\n",
              "          if (!dataTable) return;\n",
              "\n",
              "          const docLinkHtml = 'Like what you see? Visit the ' +\n",
              "            '<a target=\"_blank\" href=https://colab.research.google.com/notebooks/data_table.ipynb>data table notebook</a>'\n",
              "            + ' to learn more about interactive tables.';\n",
              "          element.innerHTML = '';\n",
              "          dataTable['output_type'] = 'display_data';\n",
              "          await google.colab.output.renderOutput(dataTable, element);\n",
              "          const docLink = document.createElement('div');\n",
              "          docLink.innerHTML = docLinkHtml;\n",
              "          element.appendChild(docLink);\n",
              "        }\n",
              "      </script>\n",
              "    </div>\n",
              "  </div>\n",
              "  "
            ],
            "text/plain": [
              "             asin  RATE  RATE(COUNT)\n",
              "0      0061073717  5.00            2\n",
              "1      0143026860  4.12           17\n",
              "2      014789302X  4.35           20\n",
              "3      0571348351  5.00            3\n",
              "4      0692508988  5.00            1\n",
              "...           ...   ...          ...\n",
              "32575  B01HIWLLUK  5.00            1\n",
              "32576  B01HJ1K3YK  1.00            1\n",
              "32577  B01HJ84SGM  5.00            5\n",
              "32578  B01HJASD20  1.00            1\n",
              "32579  B01HJEGTYK  3.00           10\n",
              "\n",
              "[32580 rows x 3 columns]"
            ]
          },
          "metadata": {},
          "execution_count": 18
        }
      ]
    },
    {
      "cell_type": "code",
      "source": [
        "metadata = pd.merge(rating_data, metadata, left_on=\"asin\", right_on=\"asin\", how='right')"
      ],
      "metadata": {
        "id": "-ZP2vAIAZOHa"
      },
      "id": "-ZP2vAIAZOHa",
      "execution_count": 19,
      "outputs": []
    },
    {
      "cell_type": "markdown",
      "source": [
        "加入季節性標註\n",
        "( None：表示商品無季節性 )"
      ],
      "metadata": {
        "id": "ZhSJuJWNZQpV"
      },
      "id": "ZhSJuJWNZQpV"
    },
    {
      "cell_type": "code",
      "source": [
        "def MonthToSeason(x):   \n",
        "    global season\n",
        "    if x == 3 or x == 4 or x == 5:\n",
        "         season = \"Spring\"\n",
        "    elif x == 6 or x == 7 or x == 8:\n",
        "         season = \"Summer\"\n",
        "    elif x == 9 or x == 10 or x == 11:\n",
        "         season = \"Autumn\"\n",
        "    elif x == 12 or x == 1 or x == 2:\n",
        "         season = \"Winter\"\n",
        "    else:\n",
        "         season = np.nan \n",
        "    return season\n",
        "\n",
        "tmp_data = ratings_trainings.drop('unixReviewTime', axis=1)\n",
        "tmp_data['SEASON'] = tmp_data['DATE'].dt.month.apply(lambda x : MonthToSeason(x))"
      ],
      "metadata": {
        "id": "wP9FWMjVZP91"
      },
      "id": "wP9FWMjVZP91",
      "execution_count": 20,
      "outputs": []
    },
    {
      "cell_type": "code",
      "source": [
        "tmp_data.head()"
      ],
      "metadata": {
        "colab": {
          "base_uri": "https://localhost:8080/",
          "height": 204
        },
        "id": "4PieQWxrZZs2",
        "outputId": "5c5ba4e9-2f30-4486-e178-c4bb1949104c"
      },
      "id": "4PieQWxrZZs2",
      "execution_count": 21,
      "outputs": [
        {
          "output_type": "execute_result",
          "data": {
            "text/html": [
              "\n",
              "  <div id=\"df-a86e2add-35b3-4294-b410-f00186b52bdd\">\n",
              "    <div class=\"colab-df-container\">\n",
              "      <div>\n",
              "<style scoped>\n",
              "    .dataframe tbody tr th:only-of-type {\n",
              "        vertical-align: middle;\n",
              "    }\n",
              "\n",
              "    .dataframe tbody tr th {\n",
              "        vertical-align: top;\n",
              "    }\n",
              "\n",
              "    .dataframe thead th {\n",
              "        text-align: right;\n",
              "    }\n",
              "</style>\n",
              "<table border=\"1\" class=\"dataframe\">\n",
              "  <thead>\n",
              "    <tr style=\"text-align: right;\">\n",
              "      <th></th>\n",
              "      <th>asin</th>\n",
              "      <th>reviewerID</th>\n",
              "      <th>overall</th>\n",
              "      <th>DATE</th>\n",
              "      <th>SEASON</th>\n",
              "    </tr>\n",
              "  </thead>\n",
              "  <tbody>\n",
              "    <tr>\n",
              "      <th>0</th>\n",
              "      <td>0143026860</td>\n",
              "      <td>A1V6B6TNIC10QE</td>\n",
              "      <td>1.0</td>\n",
              "      <td>2015-02-19</td>\n",
              "      <td>Winter</td>\n",
              "    </tr>\n",
              "    <tr>\n",
              "      <th>1</th>\n",
              "      <td>0143026860</td>\n",
              "      <td>A2F5GHSXFQ0W6J</td>\n",
              "      <td>4.0</td>\n",
              "      <td>2014-12-18</td>\n",
              "      <td>Winter</td>\n",
              "    </tr>\n",
              "    <tr>\n",
              "      <th>2</th>\n",
              "      <td>0143026860</td>\n",
              "      <td>A1572GUYS7DGSR</td>\n",
              "      <td>4.0</td>\n",
              "      <td>2014-08-10</td>\n",
              "      <td>Summer</td>\n",
              "    </tr>\n",
              "    <tr>\n",
              "      <th>3</th>\n",
              "      <td>0143026860</td>\n",
              "      <td>A1PSGLFK1NSVO</td>\n",
              "      <td>5.0</td>\n",
              "      <td>2013-03-11</td>\n",
              "      <td>Spring</td>\n",
              "    </tr>\n",
              "    <tr>\n",
              "      <th>4</th>\n",
              "      <td>0143026860</td>\n",
              "      <td>A6IKXKZMTKGSC</td>\n",
              "      <td>5.0</td>\n",
              "      <td>2011-12-25</td>\n",
              "      <td>Winter</td>\n",
              "    </tr>\n",
              "  </tbody>\n",
              "</table>\n",
              "</div>\n",
              "      <button class=\"colab-df-convert\" onclick=\"convertToInteractive('df-a86e2add-35b3-4294-b410-f00186b52bdd')\"\n",
              "              title=\"Convert this dataframe to an interactive table.\"\n",
              "              style=\"display:none;\">\n",
              "        \n",
              "  <svg xmlns=\"http://www.w3.org/2000/svg\" height=\"24px\"viewBox=\"0 0 24 24\"\n",
              "       width=\"24px\">\n",
              "    <path d=\"M0 0h24v24H0V0z\" fill=\"none\"/>\n",
              "    <path d=\"M18.56 5.44l.94 2.06.94-2.06 2.06-.94-2.06-.94-.94-2.06-.94 2.06-2.06.94zm-11 1L8.5 8.5l.94-2.06 2.06-.94-2.06-.94L8.5 2.5l-.94 2.06-2.06.94zm10 10l.94 2.06.94-2.06 2.06-.94-2.06-.94-.94-2.06-.94 2.06-2.06.94z\"/><path d=\"M17.41 7.96l-1.37-1.37c-.4-.4-.92-.59-1.43-.59-.52 0-1.04.2-1.43.59L10.3 9.45l-7.72 7.72c-.78.78-.78 2.05 0 2.83L4 21.41c.39.39.9.59 1.41.59.51 0 1.02-.2 1.41-.59l7.78-7.78 2.81-2.81c.8-.78.8-2.07 0-2.86zM5.41 20L4 18.59l7.72-7.72 1.47 1.35L5.41 20z\"/>\n",
              "  </svg>\n",
              "      </button>\n",
              "      \n",
              "  <style>\n",
              "    .colab-df-container {\n",
              "      display:flex;\n",
              "      flex-wrap:wrap;\n",
              "      gap: 12px;\n",
              "    }\n",
              "\n",
              "    .colab-df-convert {\n",
              "      background-color: #E8F0FE;\n",
              "      border: none;\n",
              "      border-radius: 50%;\n",
              "      cursor: pointer;\n",
              "      display: none;\n",
              "      fill: #1967D2;\n",
              "      height: 32px;\n",
              "      padding: 0 0 0 0;\n",
              "      width: 32px;\n",
              "    }\n",
              "\n",
              "    .colab-df-convert:hover {\n",
              "      background-color: #E2EBFA;\n",
              "      box-shadow: 0px 1px 2px rgba(60, 64, 67, 0.3), 0px 1px 3px 1px rgba(60, 64, 67, 0.15);\n",
              "      fill: #174EA6;\n",
              "    }\n",
              "\n",
              "    [theme=dark] .colab-df-convert {\n",
              "      background-color: #3B4455;\n",
              "      fill: #D2E3FC;\n",
              "    }\n",
              "\n",
              "    [theme=dark] .colab-df-convert:hover {\n",
              "      background-color: #434B5C;\n",
              "      box-shadow: 0px 1px 3px 1px rgba(0, 0, 0, 0.15);\n",
              "      filter: drop-shadow(0px 1px 2px rgba(0, 0, 0, 0.3));\n",
              "      fill: #FFFFFF;\n",
              "    }\n",
              "  </style>\n",
              "\n",
              "      <script>\n",
              "        const buttonEl =\n",
              "          document.querySelector('#df-a86e2add-35b3-4294-b410-f00186b52bdd button.colab-df-convert');\n",
              "        buttonEl.style.display =\n",
              "          google.colab.kernel.accessAllowed ? 'block' : 'none';\n",
              "\n",
              "        async function convertToInteractive(key) {\n",
              "          const element = document.querySelector('#df-a86e2add-35b3-4294-b410-f00186b52bdd');\n",
              "          const dataTable =\n",
              "            await google.colab.kernel.invokeFunction('convertToInteractive',\n",
              "                                                     [key], {});\n",
              "          if (!dataTable) return;\n",
              "\n",
              "          const docLinkHtml = 'Like what you see? Visit the ' +\n",
              "            '<a target=\"_blank\" href=https://colab.research.google.com/notebooks/data_table.ipynb>data table notebook</a>'\n",
              "            + ' to learn more about interactive tables.';\n",
              "          element.innerHTML = '';\n",
              "          dataTable['output_type'] = 'display_data';\n",
              "          await google.colab.output.renderOutput(dataTable, element);\n",
              "          const docLink = document.createElement('div');\n",
              "          docLink.innerHTML = docLinkHtml;\n",
              "          element.appendChild(docLink);\n",
              "        }\n",
              "      </script>\n",
              "    </div>\n",
              "  </div>\n",
              "  "
            ],
            "text/plain": [
              "         asin      reviewerID  overall       DATE  SEASON\n",
              "0  0143026860  A1V6B6TNIC10QE      1.0 2015-02-19  Winter\n",
              "1  0143026860  A2F5GHSXFQ0W6J      4.0 2014-12-18  Winter\n",
              "2  0143026860  A1572GUYS7DGSR      4.0 2014-08-10  Summer\n",
              "3  0143026860   A1PSGLFK1NSVO      5.0 2013-03-11  Spring\n",
              "4  0143026860   A6IKXKZMTKGSC      5.0 2011-12-25  Winter"
            ]
          },
          "metadata": {},
          "execution_count": 21
        }
      ]
    },
    {
      "cell_type": "code",
      "source": [
        "tmp_data = tmp_data.groupby(['SEASON', 'asin']).size().reset_index(name='count')\n",
        "\n",
        "tmp_data = tmp_data.pivot(index='asin',columns='SEASON',values='count').reset_index()\n",
        "tmp_data.fillna(0.0,inplace=True)\n",
        "tmp_data.set_index(\"asin\" , inplace=True)"
      ],
      "metadata": {
        "id": "zmgSbOqgZdC2"
      },
      "id": "zmgSbOqgZdC2",
      "execution_count": 22,
      "outputs": []
    },
    {
      "cell_type": "code",
      "source": [
        "tmp_data['sum'] = tmp_data[['Autumn', 'Spring', 'Summer', 'Winter']].sum(axis=1).astype(int)\n",
        "\n",
        "sum_threshold = 60\n",
        "tmp_data = tmp_data[tmp_data['sum'] > sum_threshold]  # 希望至少有一定的銷售紀錄才做判別\n",
        "\n",
        "tmp_data['mean'] = tmp_data[['Autumn', 'Spring', 'Summer', 'Winter']].mean(axis=1).round(2).astype(float)\n",
        "tmp_data['std'] = tmp_data[['Autumn', 'Spring', 'Summer', 'Winter']].std(axis=1).round(3).astype(float)\n",
        "tmp_data['fstd'] = tmp_data['std'] / tmp_data['mean']  # fixed std"
      ],
      "metadata": {
        "colab": {
          "base_uri": "https://localhost:8080/"
        },
        "id": "292ZfIxyZfuA",
        "outputId": "debd40b1-0f85-43c5-f70b-7a9872541499"
      },
      "id": "292ZfIxyZfuA",
      "execution_count": 23,
      "outputs": [
        {
          "output_type": "stream",
          "name": "stderr",
          "text": [
            "/usr/local/lib/python3.7/dist-packages/ipykernel_launcher.py:6: SettingWithCopyWarning: \n",
            "A value is trying to be set on a copy of a slice from a DataFrame.\n",
            "Try using .loc[row_indexer,col_indexer] = value instead\n",
            "\n",
            "See the caveats in the documentation: https://pandas.pydata.org/pandas-docs/stable/user_guide/indexing.html#returning-a-view-versus-a-copy\n",
            "  \n",
            "/usr/local/lib/python3.7/dist-packages/ipykernel_launcher.py:7: SettingWithCopyWarning: \n",
            "A value is trying to be set on a copy of a slice from a DataFrame.\n",
            "Try using .loc[row_indexer,col_indexer] = value instead\n",
            "\n",
            "See the caveats in the documentation: https://pandas.pydata.org/pandas-docs/stable/user_guide/indexing.html#returning-a-view-versus-a-copy\n",
            "  import sys\n",
            "/usr/local/lib/python3.7/dist-packages/ipykernel_launcher.py:8: SettingWithCopyWarning: \n",
            "A value is trying to be set on a copy of a slice from a DataFrame.\n",
            "Try using .loc[row_indexer,col_indexer] = value instead\n",
            "\n",
            "See the caveats in the documentation: https://pandas.pydata.org/pandas-docs/stable/user_guide/indexing.html#returning-a-view-versus-a-copy\n",
            "  \n"
          ]
        }
      ]
    },
    {
      "cell_type": "code",
      "source": [
        "tmp_data"
      ],
      "metadata": {
        "colab": {
          "base_uri": "https://localhost:8080/",
          "height": 450
        },
        "id": "Tih1a3WLZlP6",
        "outputId": "a4be918f-7186-4b09-e67e-615bd67f87db"
      },
      "id": "Tih1a3WLZlP6",
      "execution_count": 24,
      "outputs": [
        {
          "output_type": "execute_result",
          "data": {
            "text/html": [
              "\n",
              "  <div id=\"df-6799db88-ffce-4fc3-b898-de0e54b4e71c\">\n",
              "    <div class=\"colab-df-container\">\n",
              "      <div>\n",
              "<style scoped>\n",
              "    .dataframe tbody tr th:only-of-type {\n",
              "        vertical-align: middle;\n",
              "    }\n",
              "\n",
              "    .dataframe tbody tr th {\n",
              "        vertical-align: top;\n",
              "    }\n",
              "\n",
              "    .dataframe thead th {\n",
              "        text-align: right;\n",
              "    }\n",
              "</style>\n",
              "<table border=\"1\" class=\"dataframe\">\n",
              "  <thead>\n",
              "    <tr style=\"text-align: right;\">\n",
              "      <th>SEASON</th>\n",
              "      <th>Autumn</th>\n",
              "      <th>Spring</th>\n",
              "      <th>Summer</th>\n",
              "      <th>Winter</th>\n",
              "      <th>sum</th>\n",
              "      <th>mean</th>\n",
              "      <th>std</th>\n",
              "      <th>fstd</th>\n",
              "    </tr>\n",
              "    <tr>\n",
              "      <th>asin</th>\n",
              "      <th></th>\n",
              "      <th></th>\n",
              "      <th></th>\n",
              "      <th></th>\n",
              "      <th></th>\n",
              "      <th></th>\n",
              "      <th></th>\n",
              "      <th></th>\n",
              "    </tr>\n",
              "  </thead>\n",
              "  <tbody>\n",
              "    <tr>\n",
              "      <th>1620213982</th>\n",
              "      <td>1066.0</td>\n",
              "      <td>1070.0</td>\n",
              "      <td>1160.0</td>\n",
              "      <td>1496.0</td>\n",
              "      <td>4792</td>\n",
              "      <td>1198.00</td>\n",
              "      <td>203.352</td>\n",
              "      <td>0.169743</td>\n",
              "    </tr>\n",
              "    <tr>\n",
              "      <th>B000050B6B</th>\n",
              "      <td>47.0</td>\n",
              "      <td>30.0</td>\n",
              "      <td>43.0</td>\n",
              "      <td>34.0</td>\n",
              "      <td>154</td>\n",
              "      <td>38.50</td>\n",
              "      <td>7.853</td>\n",
              "      <td>0.203974</td>\n",
              "    </tr>\n",
              "    <tr>\n",
              "      <th>B000050B6H</th>\n",
              "      <td>22.0</td>\n",
              "      <td>15.0</td>\n",
              "      <td>22.0</td>\n",
              "      <td>33.0</td>\n",
              "      <td>92</td>\n",
              "      <td>23.00</td>\n",
              "      <td>7.439</td>\n",
              "      <td>0.323435</td>\n",
              "    </tr>\n",
              "    <tr>\n",
              "      <th>B000050FDT</th>\n",
              "      <td>23.0</td>\n",
              "      <td>24.0</td>\n",
              "      <td>15.0</td>\n",
              "      <td>24.0</td>\n",
              "      <td>86</td>\n",
              "      <td>21.50</td>\n",
              "      <td>4.359</td>\n",
              "      <td>0.202744</td>\n",
              "    </tr>\n",
              "    <tr>\n",
              "      <th>B000050FDY</th>\n",
              "      <td>374.0</td>\n",
              "      <td>396.0</td>\n",
              "      <td>421.0</td>\n",
              "      <td>347.0</td>\n",
              "      <td>1538</td>\n",
              "      <td>384.50</td>\n",
              "      <td>31.522</td>\n",
              "      <td>0.081982</td>\n",
              "    </tr>\n",
              "    <tr>\n",
              "      <th>...</th>\n",
              "      <td>...</td>\n",
              "      <td>...</td>\n",
              "      <td>...</td>\n",
              "      <td>...</td>\n",
              "      <td>...</td>\n",
              "      <td>...</td>\n",
              "      <td>...</td>\n",
              "      <td>...</td>\n",
              "    </tr>\n",
              "    <tr>\n",
              "      <th>B01H640HTG</th>\n",
              "      <td>37.0</td>\n",
              "      <td>42.0</td>\n",
              "      <td>34.0</td>\n",
              "      <td>29.0</td>\n",
              "      <td>142</td>\n",
              "      <td>35.50</td>\n",
              "      <td>5.447</td>\n",
              "      <td>0.153437</td>\n",
              "    </tr>\n",
              "    <tr>\n",
              "      <th>B01HBSH2EK</th>\n",
              "      <td>22.0</td>\n",
              "      <td>10.0</td>\n",
              "      <td>19.0</td>\n",
              "      <td>20.0</td>\n",
              "      <td>71</td>\n",
              "      <td>17.75</td>\n",
              "      <td>5.315</td>\n",
              "      <td>0.299437</td>\n",
              "    </tr>\n",
              "    <tr>\n",
              "      <th>B01HC6G4D6</th>\n",
              "      <td>24.0</td>\n",
              "      <td>52.0</td>\n",
              "      <td>22.0</td>\n",
              "      <td>40.0</td>\n",
              "      <td>138</td>\n",
              "      <td>34.50</td>\n",
              "      <td>14.177</td>\n",
              "      <td>0.410928</td>\n",
              "    </tr>\n",
              "    <tr>\n",
              "      <th>B01HC9ONI6</th>\n",
              "      <td>18.0</td>\n",
              "      <td>16.0</td>\n",
              "      <td>11.0</td>\n",
              "      <td>19.0</td>\n",
              "      <td>64</td>\n",
              "      <td>16.00</td>\n",
              "      <td>3.559</td>\n",
              "      <td>0.222438</td>\n",
              "    </tr>\n",
              "    <tr>\n",
              "      <th>B01HD23OJG</th>\n",
              "      <td>21.0</td>\n",
              "      <td>39.0</td>\n",
              "      <td>25.0</td>\n",
              "      <td>19.0</td>\n",
              "      <td>104</td>\n",
              "      <td>26.00</td>\n",
              "      <td>9.018</td>\n",
              "      <td>0.346846</td>\n",
              "    </tr>\n",
              "  </tbody>\n",
              "</table>\n",
              "<p>879 rows × 8 columns</p>\n",
              "</div>\n",
              "      <button class=\"colab-df-convert\" onclick=\"convertToInteractive('df-6799db88-ffce-4fc3-b898-de0e54b4e71c')\"\n",
              "              title=\"Convert this dataframe to an interactive table.\"\n",
              "              style=\"display:none;\">\n",
              "        \n",
              "  <svg xmlns=\"http://www.w3.org/2000/svg\" height=\"24px\"viewBox=\"0 0 24 24\"\n",
              "       width=\"24px\">\n",
              "    <path d=\"M0 0h24v24H0V0z\" fill=\"none\"/>\n",
              "    <path d=\"M18.56 5.44l.94 2.06.94-2.06 2.06-.94-2.06-.94-.94-2.06-.94 2.06-2.06.94zm-11 1L8.5 8.5l.94-2.06 2.06-.94-2.06-.94L8.5 2.5l-.94 2.06-2.06.94zm10 10l.94 2.06.94-2.06 2.06-.94-2.06-.94-.94-2.06-.94 2.06-2.06.94z\"/><path d=\"M17.41 7.96l-1.37-1.37c-.4-.4-.92-.59-1.43-.59-.52 0-1.04.2-1.43.59L10.3 9.45l-7.72 7.72c-.78.78-.78 2.05 0 2.83L4 21.41c.39.39.9.59 1.41.59.51 0 1.02-.2 1.41-.59l7.78-7.78 2.81-2.81c.8-.78.8-2.07 0-2.86zM5.41 20L4 18.59l7.72-7.72 1.47 1.35L5.41 20z\"/>\n",
              "  </svg>\n",
              "      </button>\n",
              "      \n",
              "  <style>\n",
              "    .colab-df-container {\n",
              "      display:flex;\n",
              "      flex-wrap:wrap;\n",
              "      gap: 12px;\n",
              "    }\n",
              "\n",
              "    .colab-df-convert {\n",
              "      background-color: #E8F0FE;\n",
              "      border: none;\n",
              "      border-radius: 50%;\n",
              "      cursor: pointer;\n",
              "      display: none;\n",
              "      fill: #1967D2;\n",
              "      height: 32px;\n",
              "      padding: 0 0 0 0;\n",
              "      width: 32px;\n",
              "    }\n",
              "\n",
              "    .colab-df-convert:hover {\n",
              "      background-color: #E2EBFA;\n",
              "      box-shadow: 0px 1px 2px rgba(60, 64, 67, 0.3), 0px 1px 3px 1px rgba(60, 64, 67, 0.15);\n",
              "      fill: #174EA6;\n",
              "    }\n",
              "\n",
              "    [theme=dark] .colab-df-convert {\n",
              "      background-color: #3B4455;\n",
              "      fill: #D2E3FC;\n",
              "    }\n",
              "\n",
              "    [theme=dark] .colab-df-convert:hover {\n",
              "      background-color: #434B5C;\n",
              "      box-shadow: 0px 1px 3px 1px rgba(0, 0, 0, 0.15);\n",
              "      filter: drop-shadow(0px 1px 2px rgba(0, 0, 0, 0.3));\n",
              "      fill: #FFFFFF;\n",
              "    }\n",
              "  </style>\n",
              "\n",
              "      <script>\n",
              "        const buttonEl =\n",
              "          document.querySelector('#df-6799db88-ffce-4fc3-b898-de0e54b4e71c button.colab-df-convert');\n",
              "        buttonEl.style.display =\n",
              "          google.colab.kernel.accessAllowed ? 'block' : 'none';\n",
              "\n",
              "        async function convertToInteractive(key) {\n",
              "          const element = document.querySelector('#df-6799db88-ffce-4fc3-b898-de0e54b4e71c');\n",
              "          const dataTable =\n",
              "            await google.colab.kernel.invokeFunction('convertToInteractive',\n",
              "                                                     [key], {});\n",
              "          if (!dataTable) return;\n",
              "\n",
              "          const docLinkHtml = 'Like what you see? Visit the ' +\n",
              "            '<a target=\"_blank\" href=https://colab.research.google.com/notebooks/data_table.ipynb>data table notebook</a>'\n",
              "            + ' to learn more about interactive tables.';\n",
              "          element.innerHTML = '';\n",
              "          dataTable['output_type'] = 'display_data';\n",
              "          await google.colab.output.renderOutput(dataTable, element);\n",
              "          const docLink = document.createElement('div');\n",
              "          docLink.innerHTML = docLinkHtml;\n",
              "          element.appendChild(docLink);\n",
              "        }\n",
              "      </script>\n",
              "    </div>\n",
              "  </div>\n",
              "  "
            ],
            "text/plain": [
              "SEASON      Autumn  Spring  Summer  Winter   sum     mean      std      fstd\n",
              "asin                                                                        \n",
              "1620213982  1066.0  1070.0  1160.0  1496.0  4792  1198.00  203.352  0.169743\n",
              "B000050B6B    47.0    30.0    43.0    34.0   154    38.50    7.853  0.203974\n",
              "B000050B6H    22.0    15.0    22.0    33.0    92    23.00    7.439  0.323435\n",
              "B000050FDT    23.0    24.0    15.0    24.0    86    21.50    4.359  0.202744\n",
              "B000050FDY   374.0   396.0   421.0   347.0  1538   384.50   31.522  0.081982\n",
              "...            ...     ...     ...     ...   ...      ...      ...       ...\n",
              "B01H640HTG    37.0    42.0    34.0    29.0   142    35.50    5.447  0.153437\n",
              "B01HBSH2EK    22.0    10.0    19.0    20.0    71    17.75    5.315  0.299437\n",
              "B01HC6G4D6    24.0    52.0    22.0    40.0   138    34.50   14.177  0.410928\n",
              "B01HC9ONI6    18.0    16.0    11.0    19.0    64    16.00    3.559  0.222438\n",
              "B01HD23OJG    21.0    39.0    25.0    19.0   104    26.00    9.018  0.346846\n",
              "\n",
              "[879 rows x 8 columns]"
            ]
          },
          "metadata": {},
          "execution_count": 24
        }
      ]
    },
    {
      "cell_type": "code",
      "source": [
        "# 使用fstd篩選\n",
        "season_tmp_data = tmp_data[tmp_data['fstd'] > 1]\n",
        "print('以最低至少{0}的銷售紀錄為門檻時，得到的季節性商品占全部商品的約{1}%。\\n'.format(sum_threshold, round(len(season_tmp_data) / len(tmp_data) * 100)))\n",
        "print(season_tmp_data)"
      ],
      "metadata": {
        "colab": {
          "base_uri": "https://localhost:8080/"
        },
        "id": "YIx_gasHZn-j",
        "outputId": "5392d369-7792-40ea-8213-a27099f040d0"
      },
      "id": "YIx_gasHZn-j",
      "execution_count": 25,
      "outputs": [
        {
          "output_type": "stream",
          "name": "stdout",
          "text": [
            "以最低至少60的銷售紀錄為門檻時，得到的季節性商品占全部商品的約2%。\n",
            "\n",
            "SEASON      Autumn  Spring  Summer  Winter  sum   mean      std      fstd\n",
            "asin                                                                     \n",
            "B000I6AZHE     1.0   161.0     1.0     1.0  164  41.00   80.000  1.951220\n",
            "B002GP80EU    93.0     4.0    10.0    13.0  120  30.00   42.166  1.405533\n",
            "B002OXSKF8     2.0     0.0     1.0   104.0  107  26.75   51.506  1.925458\n",
            "B00D8FUHFC    28.0     9.0   208.0    21.0  266  66.50   94.659  1.423444\n",
            "B00KGKQR2Y     7.0    63.0    16.0    10.0   96  24.00   26.268  1.094500\n",
            "B00RCNHRQ8    12.0    30.0    12.0    87.0  141  35.25   35.528  1.007887\n",
            "B00U0PABWW     8.0    10.0    58.0     7.0   83  20.75   24.865  1.198313\n",
            "B0189CM3U0     0.0    33.0     9.0   260.0  302  75.50  123.786  1.639550\n",
            "B019FOXB70    10.0    84.0     7.0   291.0  392  98.00  133.504  1.362286\n",
            "B01AUOTSVW     7.0    63.0    22.0     7.0   99  24.75   26.462  1.069172\n",
            "B01B54XW54    24.0   260.0    72.0    15.0  371  92.75  114.273  1.232054\n",
            "B01B5GTUM6     6.0    94.0    12.0    14.0  126  31.50   41.805  1.327143\n",
            "B01BEWYRJ2    42.0     2.0     6.0    12.0   62  15.50   18.138  1.170194\n",
            "B01CJNZKZK    17.0     6.0    96.0    10.0  129  32.25   42.742  1.325333\n",
            "B01E0DO7GU    13.0    33.0    96.0     5.0  147  36.75   41.218  1.121578\n",
            "B01F0QLD3G     8.0     8.0    48.0     5.0   69  17.25   20.549  1.191246\n",
            "B01FLJROJ4     8.0    37.0    16.0   135.0  196  49.00   58.623  1.196388\n"
          ]
        }
      ]
    },
    {
      "cell_type": "code",
      "source": [
        "season_data = season_tmp_data.drop(['sum', 'mean', 'std', 'fstd'], axis=1)\n",
        "season_data = season_data.idxmax(axis=1).reset_index(name='SEASON')\n",
        "season_data"
      ],
      "metadata": {
        "colab": {
          "base_uri": "https://localhost:8080/",
          "height": 576
        },
        "id": "s1Z8PVZnZruq",
        "outputId": "4aff9d34-4996-46e6-c351-1b03d45084f4"
      },
      "id": "s1Z8PVZnZruq",
      "execution_count": 26,
      "outputs": [
        {
          "output_type": "execute_result",
          "data": {
            "text/html": [
              "\n",
              "  <div id=\"df-02a8fc62-6f3d-4f6f-843e-e5912a0e98ec\">\n",
              "    <div class=\"colab-df-container\">\n",
              "      <div>\n",
              "<style scoped>\n",
              "    .dataframe tbody tr th:only-of-type {\n",
              "        vertical-align: middle;\n",
              "    }\n",
              "\n",
              "    .dataframe tbody tr th {\n",
              "        vertical-align: top;\n",
              "    }\n",
              "\n",
              "    .dataframe thead th {\n",
              "        text-align: right;\n",
              "    }\n",
              "</style>\n",
              "<table border=\"1\" class=\"dataframe\">\n",
              "  <thead>\n",
              "    <tr style=\"text-align: right;\">\n",
              "      <th></th>\n",
              "      <th>asin</th>\n",
              "      <th>SEASON</th>\n",
              "    </tr>\n",
              "  </thead>\n",
              "  <tbody>\n",
              "    <tr>\n",
              "      <th>0</th>\n",
              "      <td>B000I6AZHE</td>\n",
              "      <td>Spring</td>\n",
              "    </tr>\n",
              "    <tr>\n",
              "      <th>1</th>\n",
              "      <td>B002GP80EU</td>\n",
              "      <td>Autumn</td>\n",
              "    </tr>\n",
              "    <tr>\n",
              "      <th>2</th>\n",
              "      <td>B002OXSKF8</td>\n",
              "      <td>Winter</td>\n",
              "    </tr>\n",
              "    <tr>\n",
              "      <th>3</th>\n",
              "      <td>B00D8FUHFC</td>\n",
              "      <td>Summer</td>\n",
              "    </tr>\n",
              "    <tr>\n",
              "      <th>4</th>\n",
              "      <td>B00KGKQR2Y</td>\n",
              "      <td>Spring</td>\n",
              "    </tr>\n",
              "    <tr>\n",
              "      <th>5</th>\n",
              "      <td>B00RCNHRQ8</td>\n",
              "      <td>Winter</td>\n",
              "    </tr>\n",
              "    <tr>\n",
              "      <th>6</th>\n",
              "      <td>B00U0PABWW</td>\n",
              "      <td>Summer</td>\n",
              "    </tr>\n",
              "    <tr>\n",
              "      <th>7</th>\n",
              "      <td>B0189CM3U0</td>\n",
              "      <td>Winter</td>\n",
              "    </tr>\n",
              "    <tr>\n",
              "      <th>8</th>\n",
              "      <td>B019FOXB70</td>\n",
              "      <td>Winter</td>\n",
              "    </tr>\n",
              "    <tr>\n",
              "      <th>9</th>\n",
              "      <td>B01AUOTSVW</td>\n",
              "      <td>Spring</td>\n",
              "    </tr>\n",
              "    <tr>\n",
              "      <th>10</th>\n",
              "      <td>B01B54XW54</td>\n",
              "      <td>Spring</td>\n",
              "    </tr>\n",
              "    <tr>\n",
              "      <th>11</th>\n",
              "      <td>B01B5GTUM6</td>\n",
              "      <td>Spring</td>\n",
              "    </tr>\n",
              "    <tr>\n",
              "      <th>12</th>\n",
              "      <td>B01BEWYRJ2</td>\n",
              "      <td>Autumn</td>\n",
              "    </tr>\n",
              "    <tr>\n",
              "      <th>13</th>\n",
              "      <td>B01CJNZKZK</td>\n",
              "      <td>Summer</td>\n",
              "    </tr>\n",
              "    <tr>\n",
              "      <th>14</th>\n",
              "      <td>B01E0DO7GU</td>\n",
              "      <td>Summer</td>\n",
              "    </tr>\n",
              "    <tr>\n",
              "      <th>15</th>\n",
              "      <td>B01F0QLD3G</td>\n",
              "      <td>Summer</td>\n",
              "    </tr>\n",
              "    <tr>\n",
              "      <th>16</th>\n",
              "      <td>B01FLJROJ4</td>\n",
              "      <td>Winter</td>\n",
              "    </tr>\n",
              "  </tbody>\n",
              "</table>\n",
              "</div>\n",
              "      <button class=\"colab-df-convert\" onclick=\"convertToInteractive('df-02a8fc62-6f3d-4f6f-843e-e5912a0e98ec')\"\n",
              "              title=\"Convert this dataframe to an interactive table.\"\n",
              "              style=\"display:none;\">\n",
              "        \n",
              "  <svg xmlns=\"http://www.w3.org/2000/svg\" height=\"24px\"viewBox=\"0 0 24 24\"\n",
              "       width=\"24px\">\n",
              "    <path d=\"M0 0h24v24H0V0z\" fill=\"none\"/>\n",
              "    <path d=\"M18.56 5.44l.94 2.06.94-2.06 2.06-.94-2.06-.94-.94-2.06-.94 2.06-2.06.94zm-11 1L8.5 8.5l.94-2.06 2.06-.94-2.06-.94L8.5 2.5l-.94 2.06-2.06.94zm10 10l.94 2.06.94-2.06 2.06-.94-2.06-.94-.94-2.06-.94 2.06-2.06.94z\"/><path d=\"M17.41 7.96l-1.37-1.37c-.4-.4-.92-.59-1.43-.59-.52 0-1.04.2-1.43.59L10.3 9.45l-7.72 7.72c-.78.78-.78 2.05 0 2.83L4 21.41c.39.39.9.59 1.41.59.51 0 1.02-.2 1.41-.59l7.78-7.78 2.81-2.81c.8-.78.8-2.07 0-2.86zM5.41 20L4 18.59l7.72-7.72 1.47 1.35L5.41 20z\"/>\n",
              "  </svg>\n",
              "      </button>\n",
              "      \n",
              "  <style>\n",
              "    .colab-df-container {\n",
              "      display:flex;\n",
              "      flex-wrap:wrap;\n",
              "      gap: 12px;\n",
              "    }\n",
              "\n",
              "    .colab-df-convert {\n",
              "      background-color: #E8F0FE;\n",
              "      border: none;\n",
              "      border-radius: 50%;\n",
              "      cursor: pointer;\n",
              "      display: none;\n",
              "      fill: #1967D2;\n",
              "      height: 32px;\n",
              "      padding: 0 0 0 0;\n",
              "      width: 32px;\n",
              "    }\n",
              "\n",
              "    .colab-df-convert:hover {\n",
              "      background-color: #E2EBFA;\n",
              "      box-shadow: 0px 1px 2px rgba(60, 64, 67, 0.3), 0px 1px 3px 1px rgba(60, 64, 67, 0.15);\n",
              "      fill: #174EA6;\n",
              "    }\n",
              "\n",
              "    [theme=dark] .colab-df-convert {\n",
              "      background-color: #3B4455;\n",
              "      fill: #D2E3FC;\n",
              "    }\n",
              "\n",
              "    [theme=dark] .colab-df-convert:hover {\n",
              "      background-color: #434B5C;\n",
              "      box-shadow: 0px 1px 3px 1px rgba(0, 0, 0, 0.15);\n",
              "      filter: drop-shadow(0px 1px 2px rgba(0, 0, 0, 0.3));\n",
              "      fill: #FFFFFF;\n",
              "    }\n",
              "  </style>\n",
              "\n",
              "      <script>\n",
              "        const buttonEl =\n",
              "          document.querySelector('#df-02a8fc62-6f3d-4f6f-843e-e5912a0e98ec button.colab-df-convert');\n",
              "        buttonEl.style.display =\n",
              "          google.colab.kernel.accessAllowed ? 'block' : 'none';\n",
              "\n",
              "        async function convertToInteractive(key) {\n",
              "          const element = document.querySelector('#df-02a8fc62-6f3d-4f6f-843e-e5912a0e98ec');\n",
              "          const dataTable =\n",
              "            await google.colab.kernel.invokeFunction('convertToInteractive',\n",
              "                                                     [key], {});\n",
              "          if (!dataTable) return;\n",
              "\n",
              "          const docLinkHtml = 'Like what you see? Visit the ' +\n",
              "            '<a target=\"_blank\" href=https://colab.research.google.com/notebooks/data_table.ipynb>data table notebook</a>'\n",
              "            + ' to learn more about interactive tables.';\n",
              "          element.innerHTML = '';\n",
              "          dataTable['output_type'] = 'display_data';\n",
              "          await google.colab.output.renderOutput(dataTable, element);\n",
              "          const docLink = document.createElement('div');\n",
              "          docLink.innerHTML = docLinkHtml;\n",
              "          element.appendChild(docLink);\n",
              "        }\n",
              "      </script>\n",
              "    </div>\n",
              "  </div>\n",
              "  "
            ],
            "text/plain": [
              "          asin  SEASON\n",
              "0   B000I6AZHE  Spring\n",
              "1   B002GP80EU  Autumn\n",
              "2   B002OXSKF8  Winter\n",
              "3   B00D8FUHFC  Summer\n",
              "4   B00KGKQR2Y  Spring\n",
              "5   B00RCNHRQ8  Winter\n",
              "6   B00U0PABWW  Summer\n",
              "7   B0189CM3U0  Winter\n",
              "8   B019FOXB70  Winter\n",
              "9   B01AUOTSVW  Spring\n",
              "10  B01B54XW54  Spring\n",
              "11  B01B5GTUM6  Spring\n",
              "12  B01BEWYRJ2  Autumn\n",
              "13  B01CJNZKZK  Summer\n",
              "14  B01E0DO7GU  Summer\n",
              "15  B01F0QLD3G  Summer\n",
              "16  B01FLJROJ4  Winter"
            ]
          },
          "metadata": {},
          "execution_count": 26
        }
      ]
    },
    {
      "cell_type": "code",
      "source": [
        "metadata = pd.merge(season_data, metadata, left_on=\"asin\", right_on=\"asin\", how='right')\n",
        "metadata['SEASON'].fillna('None', inplace=True)"
      ],
      "metadata": {
        "id": "qJDrbidlZvRj"
      },
      "id": "qJDrbidlZvRj",
      "execution_count": 27,
      "outputs": []
    },
    {
      "cell_type": "markdown",
      "source": [
        "### 刪除非必要欄位"
      ],
      "metadata": {
        "id": "KUTplFPDZU2W"
      },
      "id": "KUTplFPDZU2W"
    },
    {
      "cell_type": "markdown",
      "source": [
        "檢視各欄位分佈狀況（占有資料的占全部多少比例）。"
      ],
      "metadata": {
        "id": "E--au_DYZ3Zo"
      },
      "id": "E--au_DYZ3Zo"
    },
    {
      "cell_type": "code",
      "source": [
        "import numpy as np\n",
        "def product_columns_distribution(product_df):\n",
        "    # replace empty with NaN\n",
        "    product_df = product_df.replace('', np.nan)\n",
        "    # replace empty list with NaN\n",
        "    product_df.category = product_df.category.apply(lambda y: np.nan if len(y)==0 else y)\n",
        "    product_df.description = product_df.description.apply(lambda y: np.nan if len(y)==0 else y)\n",
        "    product_df.also_buy = product_df.also_buy.apply(lambda y: np.nan if len(y)==0 else y)\n",
        "    product_df.feature = product_df.feature.apply(lambda y: np.nan if len(y)==0 else y)\n",
        "    product_df.also_view = product_df.also_view.apply(lambda y: np.nan if len(y)==0 else y)\n",
        "    product_df.imageURL = product_df.imageURL.apply(lambda y: np.nan if len(y)==0 else y)\n",
        "\n",
        "    notnull_features = product_df.notnull()\n",
        "    print(notnull_features.sum() / len(product_df['asin']) * 100)\n",
        "    \n",
        "product_columns_distribution(metadata)"
      ],
      "metadata": {
        "colab": {
          "base_uri": "https://localhost:8080/"
        },
        "id": "Bm-eBwg3Z7y9",
        "outputId": "0a90bb9b-2173-4554-a7dc-8b095cfc1491"
      },
      "id": "Bm-eBwg3Z7y9",
      "execution_count": 28,
      "outputs": [
        {
          "output_type": "stream",
          "name": "stdout",
          "text": [
            "asin               100.000000\n",
            "SEASON             100.000000\n",
            "RATE                99.975065\n",
            "RATE(COUNT)         99.975065\n",
            "category             0.000000\n",
            "tech1                0.031168\n",
            "description         45.334123\n",
            "fit                  0.000000\n",
            "title               99.996883\n",
            "also_buy            20.312305\n",
            "tech2                0.000000\n",
            "brand               51.792171\n",
            "feature              0.801022\n",
            "rank               100.000000\n",
            "also_view           24.535594\n",
            "details            100.000000\n",
            "main_cat           100.000000\n",
            "similar_item         4.039397\n",
            "date                 0.059220\n",
            "price               35.023688\n",
            "imageURL            50.308565\n",
            "imageURLHighRes    100.000000\n",
            "dtype: float64\n"
          ]
        }
      ]
    },
    {
      "cell_type": "code",
      "source": [
        "metadata = metadata.drop(['category', 'tech1', 'fit', 'tech2', 'feature', 'date', 'imageURLHighRes'], axis=1)"
      ],
      "metadata": {
        "id": "3H_vgtguZ-2V"
      },
      "id": "3H_vgtguZ-2V",
      "execution_count": 29,
      "outputs": []
    },
    {
      "cell_type": "markdown",
      "source": [
        "展開欄位查看。"
      ],
      "metadata": {
        "id": "NcBlEYoGg2Kv"
      },
      "id": "NcBlEYoGg2Kv"
    },
    {
      "cell_type": "markdown",
      "source": [
        "(1) `title`: 有一資料為空值，捨棄該筆資料。"
      ],
      "metadata": {
        "id": "vTfFfca-g6gY"
      },
      "id": "vTfFfca-g6gY"
    },
    {
      "cell_type": "code",
      "source": [
        "metadata[metadata['title'] == '']"
      ],
      "metadata": {
        "colab": {
          "base_uri": "https://localhost:8080/",
          "height": 183
        },
        "id": "Et44uYTYg4kx",
        "outputId": "9fc9f456-cd32-47ae-af0d-922023093738"
      },
      "id": "Et44uYTYg4kx",
      "execution_count": 30,
      "outputs": [
        {
          "output_type": "execute_result",
          "data": {
            "text/html": [
              "\n",
              "  <div id=\"df-7a8d479f-b3a7-4c0c-9b90-ed7d211a8d03\">\n",
              "    <div class=\"colab-df-container\">\n",
              "      <div>\n",
              "<style scoped>\n",
              "    .dataframe tbody tr th:only-of-type {\n",
              "        vertical-align: middle;\n",
              "    }\n",
              "\n",
              "    .dataframe tbody tr th {\n",
              "        vertical-align: top;\n",
              "    }\n",
              "\n",
              "    .dataframe thead th {\n",
              "        text-align: right;\n",
              "    }\n",
              "</style>\n",
              "<table border=\"1\" class=\"dataframe\">\n",
              "  <thead>\n",
              "    <tr style=\"text-align: right;\">\n",
              "      <th></th>\n",
              "      <th>asin</th>\n",
              "      <th>SEASON</th>\n",
              "      <th>RATE</th>\n",
              "      <th>RATE(COUNT)</th>\n",
              "      <th>description</th>\n",
              "      <th>title</th>\n",
              "      <th>also_buy</th>\n",
              "      <th>brand</th>\n",
              "      <th>rank</th>\n",
              "      <th>also_view</th>\n",
              "      <th>details</th>\n",
              "      <th>main_cat</th>\n",
              "      <th>similar_item</th>\n",
              "      <th>price</th>\n",
              "      <th>imageURL</th>\n",
              "    </tr>\n",
              "  </thead>\n",
              "  <tbody>\n",
              "    <tr>\n",
              "      <th>26209</th>\n",
              "      <td>B01A9MZLS4</td>\n",
              "      <td>None</td>\n",
              "      <td>4.5</td>\n",
              "      <td>16.0</td>\n",
              "      <td>[]</td>\n",
              "      <td></td>\n",
              "      <td>[B00QGQTVHK, B00WRYQWW2, B00WRYP1WO, B01M122DM...</td>\n",
              "      <td>BCW</td>\n",
              "      <td>[]</td>\n",
              "      <td>[B00WRYQWW2, B00QGQTVHK, B00VUAYN70, B00W2N65F...</td>\n",
              "      <td>{'ASIN: ': 'B07DKSV8TC'}</td>\n",
              "      <td>All Beauty</td>\n",
              "      <td></td>\n",
              "      <td>$2.89 - $13.99</td>\n",
              "      <td>[https://images-na.ssl-images-amazon.com/image...</td>\n",
              "    </tr>\n",
              "  </tbody>\n",
              "</table>\n",
              "</div>\n",
              "      <button class=\"colab-df-convert\" onclick=\"convertToInteractive('df-7a8d479f-b3a7-4c0c-9b90-ed7d211a8d03')\"\n",
              "              title=\"Convert this dataframe to an interactive table.\"\n",
              "              style=\"display:none;\">\n",
              "        \n",
              "  <svg xmlns=\"http://www.w3.org/2000/svg\" height=\"24px\"viewBox=\"0 0 24 24\"\n",
              "       width=\"24px\">\n",
              "    <path d=\"M0 0h24v24H0V0z\" fill=\"none\"/>\n",
              "    <path d=\"M18.56 5.44l.94 2.06.94-2.06 2.06-.94-2.06-.94-.94-2.06-.94 2.06-2.06.94zm-11 1L8.5 8.5l.94-2.06 2.06-.94-2.06-.94L8.5 2.5l-.94 2.06-2.06.94zm10 10l.94 2.06.94-2.06 2.06-.94-2.06-.94-.94-2.06-.94 2.06-2.06.94z\"/><path d=\"M17.41 7.96l-1.37-1.37c-.4-.4-.92-.59-1.43-.59-.52 0-1.04.2-1.43.59L10.3 9.45l-7.72 7.72c-.78.78-.78 2.05 0 2.83L4 21.41c.39.39.9.59 1.41.59.51 0 1.02-.2 1.41-.59l7.78-7.78 2.81-2.81c.8-.78.8-2.07 0-2.86zM5.41 20L4 18.59l7.72-7.72 1.47 1.35L5.41 20z\"/>\n",
              "  </svg>\n",
              "      </button>\n",
              "      \n",
              "  <style>\n",
              "    .colab-df-container {\n",
              "      display:flex;\n",
              "      flex-wrap:wrap;\n",
              "      gap: 12px;\n",
              "    }\n",
              "\n",
              "    .colab-df-convert {\n",
              "      background-color: #E8F0FE;\n",
              "      border: none;\n",
              "      border-radius: 50%;\n",
              "      cursor: pointer;\n",
              "      display: none;\n",
              "      fill: #1967D2;\n",
              "      height: 32px;\n",
              "      padding: 0 0 0 0;\n",
              "      width: 32px;\n",
              "    }\n",
              "\n",
              "    .colab-df-convert:hover {\n",
              "      background-color: #E2EBFA;\n",
              "      box-shadow: 0px 1px 2px rgba(60, 64, 67, 0.3), 0px 1px 3px 1px rgba(60, 64, 67, 0.15);\n",
              "      fill: #174EA6;\n",
              "    }\n",
              "\n",
              "    [theme=dark] .colab-df-convert {\n",
              "      background-color: #3B4455;\n",
              "      fill: #D2E3FC;\n",
              "    }\n",
              "\n",
              "    [theme=dark] .colab-df-convert:hover {\n",
              "      background-color: #434B5C;\n",
              "      box-shadow: 0px 1px 3px 1px rgba(0, 0, 0, 0.15);\n",
              "      filter: drop-shadow(0px 1px 2px rgba(0, 0, 0, 0.3));\n",
              "      fill: #FFFFFF;\n",
              "    }\n",
              "  </style>\n",
              "\n",
              "      <script>\n",
              "        const buttonEl =\n",
              "          document.querySelector('#df-7a8d479f-b3a7-4c0c-9b90-ed7d211a8d03 button.colab-df-convert');\n",
              "        buttonEl.style.display =\n",
              "          google.colab.kernel.accessAllowed ? 'block' : 'none';\n",
              "\n",
              "        async function convertToInteractive(key) {\n",
              "          const element = document.querySelector('#df-7a8d479f-b3a7-4c0c-9b90-ed7d211a8d03');\n",
              "          const dataTable =\n",
              "            await google.colab.kernel.invokeFunction('convertToInteractive',\n",
              "                                                     [key], {});\n",
              "          if (!dataTable) return;\n",
              "\n",
              "          const docLinkHtml = 'Like what you see? Visit the ' +\n",
              "            '<a target=\"_blank\" href=https://colab.research.google.com/notebooks/data_table.ipynb>data table notebook</a>'\n",
              "            + ' to learn more about interactive tables.';\n",
              "          element.innerHTML = '';\n",
              "          dataTable['output_type'] = 'display_data';\n",
              "          await google.colab.output.renderOutput(dataTable, element);\n",
              "          const docLink = document.createElement('div');\n",
              "          docLink.innerHTML = docLinkHtml;\n",
              "          element.appendChild(docLink);\n",
              "        }\n",
              "      </script>\n",
              "    </div>\n",
              "  </div>\n",
              "  "
            ],
            "text/plain": [
              "             asin  ...                                           imageURL\n",
              "26209  B01A9MZLS4  ...  [https://images-na.ssl-images-amazon.com/image...\n",
              "\n",
              "[1 rows x 15 columns]"
            ]
          },
          "metadata": {},
          "execution_count": 30
        }
      ]
    },
    {
      "cell_type": "code",
      "source": [
        "metadata = metadata.drop(metadata[metadata['title'] == ''].index).reset_index(drop=True)"
      ],
      "metadata": {
        "id": "XD9NqnhphDE3"
      },
      "id": "XD9NqnhphDE3",
      "execution_count": 31,
      "outputs": []
    },
    {
      "cell_type": "markdown",
      "source": [
        "(2) `main_cat`: 全部資料皆相同值，不具意義，捨去該欄位。"
      ],
      "metadata": {
        "id": "g3JUL5M3hHKy"
      },
      "id": "g3JUL5M3hHKy"
    },
    {
      "cell_type": "code",
      "source": [
        "metadata['main_cat'].value_counts()"
      ],
      "metadata": {
        "colab": {
          "base_uri": "https://localhost:8080/"
        },
        "id": "LrilB6qAhFQn",
        "outputId": "f9576199-2b52-4aa0-ff1a-f9e8a8eb8ed0"
      },
      "id": "LrilB6qAhFQn",
      "execution_count": 32,
      "outputs": [
        {
          "output_type": "execute_result",
          "data": {
            "text/plain": [
              "All Beauty    32083\n",
              "Name: main_cat, dtype: int64"
            ]
          },
          "metadata": {},
          "execution_count": 32
        }
      ]
    },
    {
      "cell_type": "code",
      "source": [
        "metadata = metadata.drop(['main_cat'], axis=1)"
      ],
      "metadata": {
        "id": "ABh0KYhNhMnw"
      },
      "id": "ABh0KYhNhMnw",
      "execution_count": 33,
      "outputs": []
    },
    {
      "cell_type": "markdown",
      "source": [
        "(3) `details`: 資料雜亂不齊全，選擇捨去該欄位。"
      ],
      "metadata": {
        "id": "VSu0L57NhPwY"
      },
      "id": "VSu0L57NhPwY"
    },
    {
      "cell_type": "code",
      "source": [
        "metadata['details'].apply(pd.Series)"
      ],
      "metadata": {
        "colab": {
          "base_uri": "https://localhost:8080/",
          "height": 468
        },
        "id": "cE8hhFJahNSn",
        "outputId": "88b699fe-5f10-422e-afae-37287c9659a7"
      },
      "id": "cE8hhFJahNSn",
      "execution_count": 34,
      "outputs": [
        {
          "output_type": "execute_result",
          "data": {
            "text/html": [
              "\n",
              "  <div id=\"df-6e9e6a28-c594-4ad9-8de2-cc69959fe156\">\n",
              "    <div class=\"colab-df-container\">\n",
              "      <div>\n",
              "<style scoped>\n",
              "    .dataframe tbody tr th:only-of-type {\n",
              "        vertical-align: middle;\n",
              "    }\n",
              "\n",
              "    .dataframe tbody tr th {\n",
              "        vertical-align: top;\n",
              "    }\n",
              "\n",
              "    .dataframe thead th {\n",
              "        text-align: right;\n",
              "    }\n",
              "</style>\n",
              "<table border=\"1\" class=\"dataframe\">\n",
              "  <thead>\n",
              "    <tr style=\"text-align: right;\">\n",
              "      <th></th>\n",
              "      <th>ASIN:</th>\n",
              "      <th>Shipping Weight:</th>\n",
              "      <th>\\n    Item Weight: \\n</th>\n",
              "      <th>Item model number:</th>\n",
              "      <th>UPC:</th>\n",
              "      <th>\\n    Product Dimensions: \\n</th>\n",
              "      <th>Discontinued by manufacturer:</th>\n",
              "      <th>Domestic Shipping:</th>\n",
              "      <th>International Shipping:</th>\n",
              "      <th>Batteries</th>\n",
              "      <th>Shipping Advisory:</th>\n",
              "      <th>ASIN:</th>\n",
              "    </tr>\n",
              "  </thead>\n",
              "  <tbody>\n",
              "    <tr>\n",
              "      <th>0</th>\n",
              "      <td>6546546450</td>\n",
              "      <td>NaN</td>\n",
              "      <td>NaN</td>\n",
              "      <td>NaN</td>\n",
              "      <td>NaN</td>\n",
              "      <td>NaN</td>\n",
              "      <td>NaN</td>\n",
              "      <td>NaN</td>\n",
              "      <td>NaN</td>\n",
              "      <td>NaN</td>\n",
              "      <td>NaN</td>\n",
              "      <td>NaN</td>\n",
              "    </tr>\n",
              "    <tr>\n",
              "      <th>1</th>\n",
              "      <td>7178680776</td>\n",
              "      <td>0.3 ounces (</td>\n",
              "      <td>NaN</td>\n",
              "      <td>NaN</td>\n",
              "      <td>NaN</td>\n",
              "      <td>NaN</td>\n",
              "      <td>NaN</td>\n",
              "      <td>NaN</td>\n",
              "      <td>NaN</td>\n",
              "      <td>NaN</td>\n",
              "      <td>NaN</td>\n",
              "      <td>NaN</td>\n",
              "    </tr>\n",
              "    <tr>\n",
              "      <th>2</th>\n",
              "      <td>7250468162</td>\n",
              "      <td>3.5 ounces (</td>\n",
              "      <td>NaN</td>\n",
              "      <td>NaN</td>\n",
              "      <td>NaN</td>\n",
              "      <td>NaN</td>\n",
              "      <td>NaN</td>\n",
              "      <td>NaN</td>\n",
              "      <td>NaN</td>\n",
              "      <td>NaN</td>\n",
              "      <td>NaN</td>\n",
              "      <td>NaN</td>\n",
              "    </tr>\n",
              "    <tr>\n",
              "      <th>3</th>\n",
              "      <td>7367905066</td>\n",
              "      <td>1.8 ounces</td>\n",
              "      <td>1.76 ounces</td>\n",
              "      <td>0000011837</td>\n",
              "      <td>NaN</td>\n",
              "      <td>NaN</td>\n",
              "      <td>NaN</td>\n",
              "      <td>NaN</td>\n",
              "      <td>NaN</td>\n",
              "      <td>NaN</td>\n",
              "      <td>NaN</td>\n",
              "      <td>NaN</td>\n",
              "    </tr>\n",
              "    <tr>\n",
              "      <th>4</th>\n",
              "      <td>7414204790</td>\n",
              "      <td>12 ounces (</td>\n",
              "      <td>NaN</td>\n",
              "      <td>NaN</td>\n",
              "      <td>NaN</td>\n",
              "      <td>NaN</td>\n",
              "      <td>NaN</td>\n",
              "      <td>NaN</td>\n",
              "      <td>NaN</td>\n",
              "      <td>NaN</td>\n",
              "      <td>NaN</td>\n",
              "      <td>NaN</td>\n",
              "    </tr>\n",
              "    <tr>\n",
              "      <th>...</th>\n",
              "      <td>...</td>\n",
              "      <td>...</td>\n",
              "      <td>...</td>\n",
              "      <td>...</td>\n",
              "      <td>...</td>\n",
              "      <td>...</td>\n",
              "      <td>...</td>\n",
              "      <td>...</td>\n",
              "      <td>...</td>\n",
              "      <td>...</td>\n",
              "      <td>...</td>\n",
              "      <td>...</td>\n",
              "    </tr>\n",
              "    <tr>\n",
              "      <th>32078</th>\n",
              "      <td>B01HIWLLUK</td>\n",
              "      <td>NaN</td>\n",
              "      <td>NaN</td>\n",
              "      <td>NaN</td>\n",
              "      <td>NaN</td>\n",
              "      <td>NaN</td>\n",
              "      <td>NaN</td>\n",
              "      <td>NaN</td>\n",
              "      <td>NaN</td>\n",
              "      <td>NaN</td>\n",
              "      <td>NaN</td>\n",
              "      <td>NaN</td>\n",
              "    </tr>\n",
              "    <tr>\n",
              "      <th>32079</th>\n",
              "      <td>B01HJ1K3YK</td>\n",
              "      <td>NaN</td>\n",
              "      <td>NaN</td>\n",
              "      <td>NaN</td>\n",
              "      <td>671635851871</td>\n",
              "      <td>NaN</td>\n",
              "      <td>NaN</td>\n",
              "      <td>NaN</td>\n",
              "      <td>NaN</td>\n",
              "      <td>NaN</td>\n",
              "      <td>NaN</td>\n",
              "      <td>NaN</td>\n",
              "    </tr>\n",
              "    <tr>\n",
              "      <th>32080</th>\n",
              "      <td>B01HJ84SGM</td>\n",
              "      <td>1 pounds (</td>\n",
              "      <td>NaN</td>\n",
              "      <td>NaN</td>\n",
              "      <td>NaN</td>\n",
              "      <td>NaN</td>\n",
              "      <td>NaN</td>\n",
              "      <td>NaN</td>\n",
              "      <td>NaN</td>\n",
              "      <td>NaN</td>\n",
              "      <td>NaN</td>\n",
              "      <td>NaN</td>\n",
              "    </tr>\n",
              "    <tr>\n",
              "      <th>32081</th>\n",
              "      <td>B01HJASD20</td>\n",
              "      <td>4.8 ounces (</td>\n",
              "      <td>NaN</td>\n",
              "      <td>NaN</td>\n",
              "      <td>739340584351</td>\n",
              "      <td>NaN</td>\n",
              "      <td>NaN</td>\n",
              "      <td>NaN</td>\n",
              "      <td>NaN</td>\n",
              "      <td>NaN</td>\n",
              "      <td>NaN</td>\n",
              "      <td>NaN</td>\n",
              "    </tr>\n",
              "    <tr>\n",
              "      <th>32082</th>\n",
              "      <td>B01HJEGTYK</td>\n",
              "      <td>1 ounces</td>\n",
              "      <td>1.12 ounces</td>\n",
              "      <td>NaN</td>\n",
              "      <td>712836540680</td>\n",
              "      <td>NaN</td>\n",
              "      <td>NaN</td>\n",
              "      <td>NaN</td>\n",
              "      <td>NaN</td>\n",
              "      <td>NaN</td>\n",
              "      <td>NaN</td>\n",
              "      <td>NaN</td>\n",
              "    </tr>\n",
              "  </tbody>\n",
              "</table>\n",
              "<p>32083 rows × 12 columns</p>\n",
              "</div>\n",
              "      <button class=\"colab-df-convert\" onclick=\"convertToInteractive('df-6e9e6a28-c594-4ad9-8de2-cc69959fe156')\"\n",
              "              title=\"Convert this dataframe to an interactive table.\"\n",
              "              style=\"display:none;\">\n",
              "        \n",
              "  <svg xmlns=\"http://www.w3.org/2000/svg\" height=\"24px\"viewBox=\"0 0 24 24\"\n",
              "       width=\"24px\">\n",
              "    <path d=\"M0 0h24v24H0V0z\" fill=\"none\"/>\n",
              "    <path d=\"M18.56 5.44l.94 2.06.94-2.06 2.06-.94-2.06-.94-.94-2.06-.94 2.06-2.06.94zm-11 1L8.5 8.5l.94-2.06 2.06-.94-2.06-.94L8.5 2.5l-.94 2.06-2.06.94zm10 10l.94 2.06.94-2.06 2.06-.94-2.06-.94-.94-2.06-.94 2.06-2.06.94z\"/><path d=\"M17.41 7.96l-1.37-1.37c-.4-.4-.92-.59-1.43-.59-.52 0-1.04.2-1.43.59L10.3 9.45l-7.72 7.72c-.78.78-.78 2.05 0 2.83L4 21.41c.39.39.9.59 1.41.59.51 0 1.02-.2 1.41-.59l7.78-7.78 2.81-2.81c.8-.78.8-2.07 0-2.86zM5.41 20L4 18.59l7.72-7.72 1.47 1.35L5.41 20z\"/>\n",
              "  </svg>\n",
              "      </button>\n",
              "      \n",
              "  <style>\n",
              "    .colab-df-container {\n",
              "      display:flex;\n",
              "      flex-wrap:wrap;\n",
              "      gap: 12px;\n",
              "    }\n",
              "\n",
              "    .colab-df-convert {\n",
              "      background-color: #E8F0FE;\n",
              "      border: none;\n",
              "      border-radius: 50%;\n",
              "      cursor: pointer;\n",
              "      display: none;\n",
              "      fill: #1967D2;\n",
              "      height: 32px;\n",
              "      padding: 0 0 0 0;\n",
              "      width: 32px;\n",
              "    }\n",
              "\n",
              "    .colab-df-convert:hover {\n",
              "      background-color: #E2EBFA;\n",
              "      box-shadow: 0px 1px 2px rgba(60, 64, 67, 0.3), 0px 1px 3px 1px rgba(60, 64, 67, 0.15);\n",
              "      fill: #174EA6;\n",
              "    }\n",
              "\n",
              "    [theme=dark] .colab-df-convert {\n",
              "      background-color: #3B4455;\n",
              "      fill: #D2E3FC;\n",
              "    }\n",
              "\n",
              "    [theme=dark] .colab-df-convert:hover {\n",
              "      background-color: #434B5C;\n",
              "      box-shadow: 0px 1px 3px 1px rgba(0, 0, 0, 0.15);\n",
              "      filter: drop-shadow(0px 1px 2px rgba(0, 0, 0, 0.3));\n",
              "      fill: #FFFFFF;\n",
              "    }\n",
              "  </style>\n",
              "\n",
              "      <script>\n",
              "        const buttonEl =\n",
              "          document.querySelector('#df-6e9e6a28-c594-4ad9-8de2-cc69959fe156 button.colab-df-convert');\n",
              "        buttonEl.style.display =\n",
              "          google.colab.kernel.accessAllowed ? 'block' : 'none';\n",
              "\n",
              "        async function convertToInteractive(key) {\n",
              "          const element = document.querySelector('#df-6e9e6a28-c594-4ad9-8de2-cc69959fe156');\n",
              "          const dataTable =\n",
              "            await google.colab.kernel.invokeFunction('convertToInteractive',\n",
              "                                                     [key], {});\n",
              "          if (!dataTable) return;\n",
              "\n",
              "          const docLinkHtml = 'Like what you see? Visit the ' +\n",
              "            '<a target=\"_blank\" href=https://colab.research.google.com/notebooks/data_table.ipynb>data table notebook</a>'\n",
              "            + ' to learn more about interactive tables.';\n",
              "          element.innerHTML = '';\n",
              "          dataTable['output_type'] = 'display_data';\n",
              "          await google.colab.output.renderOutput(dataTable, element);\n",
              "          const docLink = document.createElement('div');\n",
              "          docLink.innerHTML = docLinkHtml;\n",
              "          element.appendChild(docLink);\n",
              "        }\n",
              "      </script>\n",
              "    </div>\n",
              "  </div>\n",
              "  "
            ],
            "text/plain": [
              "           ASIN:  Shipping Weight:  ... Shipping Advisory: ASIN:\n",
              "0      6546546450              NaN  ...                NaN   NaN\n",
              "1      7178680776     0.3 ounces (  ...                NaN   NaN\n",
              "2      7250468162     3.5 ounces (  ...                NaN   NaN\n",
              "3      7367905066       1.8 ounces  ...                NaN   NaN\n",
              "4      7414204790      12 ounces (  ...                NaN   NaN\n",
              "...           ...              ...  ...                ...   ...\n",
              "32078  B01HIWLLUK              NaN  ...                NaN   NaN\n",
              "32079  B01HJ1K3YK              NaN  ...                NaN   NaN\n",
              "32080  B01HJ84SGM       1 pounds (  ...                NaN   NaN\n",
              "32081  B01HJASD20     4.8 ounces (  ...                NaN   NaN\n",
              "32082  B01HJEGTYK         1 ounces  ...                NaN   NaN\n",
              "\n",
              "[32083 rows x 12 columns]"
            ]
          },
          "metadata": {},
          "execution_count": 34
        }
      ]
    },
    {
      "cell_type": "code",
      "source": [
        "metadata = metadata.drop(['details'], axis=1)"
      ],
      "metadata": {
        "id": "89WRG_PChXXa"
      },
      "id": "89WRG_PChXXa",
      "execution_count": 35,
      "outputs": []
    },
    {
      "cell_type": "markdown",
      "source": [
        "(4) `rank`: 內含有商品類別和其商品於該類別排名，將其拆成RANK、CATEGORY兩欄位。"
      ],
      "metadata": {
        "id": "nJfIun2ghj6S"
      },
      "id": "nJfIun2ghj6S"
    },
    {
      "cell_type": "code",
      "source": [
        "metadata[['RANK', 'CATEGORY']] = metadata['rank'].str.split(' in ', 1, expand=True)\n",
        "metadata['CATEGORY'] = metadata['CATEGORY'].str.replace(' \\(', '')\n",
        "metadata['CATEGORY'] = metadata['CATEGORY'].str.replace('\\&amp;', '&')\n",
        "metadata['CATEGORY'].value_counts()"
      ],
      "metadata": {
        "colab": {
          "base_uri": "https://localhost:8080/"
        },
        "id": "zhBmkX5ehl1d",
        "outputId": "3ccb30cd-64a2-4880-c20f-10095bbf753c"
      },
      "id": "zhBmkX5ehl1d",
      "execution_count": 36,
      "outputs": [
        {
          "output_type": "execute_result",
          "data": {
            "text/plain": [
              "Beauty & Personal Care       31650\n",
              "Grocery & Gourmet Food          36\n",
              "Health & Household              21\n",
              "Toys & Games                     3\n",
              "Sports & Outdoors                3\n",
              "Clothing, Shoes & Jewelry        2\n",
              "Baby                             2\n",
              "Tools & Home Improvement         1\n",
              "Automotive                       1\n",
              "Home & Kitchen                   1\n",
              "Name: CATEGORY, dtype: int64"
            ]
          },
          "metadata": {},
          "execution_count": 36
        }
      ]
    },
    {
      "cell_type": "code",
      "source": [
        "metadata = metadata.drop(['rank'], axis=1)"
      ],
      "metadata": {
        "id": "_ypwbvC8hqg2"
      },
      "id": "_ypwbvC8hqg2",
      "execution_count": 37,
      "outputs": []
    },
    {
      "cell_type": "markdown",
      "source": [
        "(5) `similar_item`: 資料為html表格，在每個`<th class=\"comparison_image_title_cell\">`底下`<span aria-hidden=\"true\" class=\"a-size-base a-color-base a-text-bold\">`的`text`含有相似商品的title，將其格式轉換如`also_buy`、`also_view`。"
      ],
      "metadata": {
        "id": "uyf2Uiayhs_X"
      },
      "id": "uyf2Uiayhs_X"
    },
    {
      "cell_type": "code",
      "source": [
        "from bs4 import BeautifulSoup\n",
        "metadata['asin'] = metadata['asin'].astype(str)\n",
        "\n",
        "def convert_similar_table_to_asin_list(html):\n",
        "#     if (html == ''): return []\n",
        "    asin_list = []\n",
        "    \n",
        "    soup = BeautifulSoup(html)\n",
        "    \n",
        "    compare_list = soup.findAll('th', {'class': 'comparison_image_title_cell'})\n",
        "    for item in compare_list:\n",
        "        title = item.span.text.strip()\n",
        "        if (len(metadata[metadata['title'] == title]) > 0):\n",
        "            asin = metadata[metadata['title'] == title]['asin'].iloc[0]\n",
        "#             if (not any(asin.str in s for s in asin_list)):  # 去除重複\n",
        "            asin_list.append(asin)\n",
        "    \n",
        "    return asin_list"
      ],
      "metadata": {
        "id": "avImPZzHhuIY"
      },
      "id": "avImPZzHhuIY",
      "execution_count": 38,
      "outputs": []
    },
    {
      "cell_type": "code",
      "source": [
        "metadata['SIMILAR_ITEM'] = metadata['similar_item'].apply(lambda x: convert_similar_table_to_asin_list(x) if x != ''  else x)"
      ],
      "metadata": {
        "id": "R88037z7hxbf"
      },
      "id": "R88037z7hxbf",
      "execution_count": 39,
      "outputs": []
    },
    {
      "cell_type": "markdown",
      "source": [
        "查看確認。"
      ],
      "metadata": {
        "id": "SS4M55Vwh4Sh"
      },
      "id": "SS4M55Vwh4Sh"
    },
    {
      "cell_type": "code",
      "source": [
        "metadata[metadata['SIMILAR_ITEM'] != ''][['similar_item', 'SIMILAR_ITEM']]"
      ],
      "metadata": {
        "colab": {
          "base_uri": "https://localhost:8080/",
          "height": 419
        },
        "id": "AcECbEJrh3Y3",
        "outputId": "f5bdb5ab-2318-4a07-955b-4dc4fc16770b"
      },
      "id": "AcECbEJrh3Y3",
      "execution_count": null,
      "outputs": [
        {
          "output_type": "execute_result",
          "data": {
            "text/html": [
              "\n",
              "  <div id=\"df-68c72aa4-3842-406e-832c-f78643b6b36e\">\n",
              "    <div class=\"colab-df-container\">\n",
              "      <div>\n",
              "<style scoped>\n",
              "    .dataframe tbody tr th:only-of-type {\n",
              "        vertical-align: middle;\n",
              "    }\n",
              "\n",
              "    .dataframe tbody tr th {\n",
              "        vertical-align: top;\n",
              "    }\n",
              "\n",
              "    .dataframe thead th {\n",
              "        text-align: right;\n",
              "    }\n",
              "</style>\n",
              "<table border=\"1\" class=\"dataframe\">\n",
              "  <thead>\n",
              "    <tr style=\"text-align: right;\">\n",
              "      <th></th>\n",
              "      <th>similar_item</th>\n",
              "      <th>SIMILAR_ITEM</th>\n",
              "    </tr>\n",
              "  </thead>\n",
              "  <tbody>\n",
              "    <tr>\n",
              "      <th>1</th>\n",
              "      <td>class=\"a-bordered a-horizontal-stripes  a-spa...</td>\n",
              "      <td>[]</td>\n",
              "    </tr>\n",
              "    <tr>\n",
              "      <th>122</th>\n",
              "      <td>class=\"a-bordered a-horizontal-stripes  a-spa...</td>\n",
              "      <td>[B005DMBC0C, B017WTVQI6]</td>\n",
              "    </tr>\n",
              "    <tr>\n",
              "      <th>344</th>\n",
              "      <td>class=\"a-bordered a-horizontal-stripes  a-spa...</td>\n",
              "      <td>[B015OI58OU]</td>\n",
              "    </tr>\n",
              "    <tr>\n",
              "      <th>455</th>\n",
              "      <td>class=\"a-bordered a-horizontal-stripes  a-spa...</td>\n",
              "      <td>[B000FQMTOE]</td>\n",
              "    </tr>\n",
              "    <tr>\n",
              "      <th>458</th>\n",
              "      <td>class=\"a-bordered a-horizontal-stripes  a-spa...</td>\n",
              "      <td>[]</td>\n",
              "    </tr>\n",
              "    <tr>\n",
              "      <th>...</th>\n",
              "      <td>...</td>\n",
              "      <td>...</td>\n",
              "    </tr>\n",
              "    <tr>\n",
              "      <th>32031</th>\n",
              "      <td>class=\"a-bordered a-horizontal-stripes  a-spa...</td>\n",
              "      <td>[B01EBIY7HS, B01E82O696, B01F9XGGXW]</td>\n",
              "    </tr>\n",
              "    <tr>\n",
              "      <th>32039</th>\n",
              "      <td>class=\"a-bordered a-horizontal-stripes  a-spa...</td>\n",
              "      <td>[]</td>\n",
              "    </tr>\n",
              "    <tr>\n",
              "      <th>32044</th>\n",
              "      <td>class=\"a-bordered a-horizontal-stripes  a-spa...</td>\n",
              "      <td>[]</td>\n",
              "    </tr>\n",
              "    <tr>\n",
              "      <th>32051</th>\n",
              "      <td>class=\"a-bordered a-horizontal-stripes  a-spa...</td>\n",
              "      <td>[]</td>\n",
              "    </tr>\n",
              "    <tr>\n",
              "      <th>32076</th>\n",
              "      <td>class=\"a-bordered a-horizontal-stripes  a-spa...</td>\n",
              "      <td>[]</td>\n",
              "    </tr>\n",
              "  </tbody>\n",
              "</table>\n",
              "<p>1296 rows × 2 columns</p>\n",
              "</div>\n",
              "      <button class=\"colab-df-convert\" onclick=\"convertToInteractive('df-68c72aa4-3842-406e-832c-f78643b6b36e')\"\n",
              "              title=\"Convert this dataframe to an interactive table.\"\n",
              "              style=\"display:none;\">\n",
              "        \n",
              "  <svg xmlns=\"http://www.w3.org/2000/svg\" height=\"24px\"viewBox=\"0 0 24 24\"\n",
              "       width=\"24px\">\n",
              "    <path d=\"M0 0h24v24H0V0z\" fill=\"none\"/>\n",
              "    <path d=\"M18.56 5.44l.94 2.06.94-2.06 2.06-.94-2.06-.94-.94-2.06-.94 2.06-2.06.94zm-11 1L8.5 8.5l.94-2.06 2.06-.94-2.06-.94L8.5 2.5l-.94 2.06-2.06.94zm10 10l.94 2.06.94-2.06 2.06-.94-2.06-.94-.94-2.06-.94 2.06-2.06.94z\"/><path d=\"M17.41 7.96l-1.37-1.37c-.4-.4-.92-.59-1.43-.59-.52 0-1.04.2-1.43.59L10.3 9.45l-7.72 7.72c-.78.78-.78 2.05 0 2.83L4 21.41c.39.39.9.59 1.41.59.51 0 1.02-.2 1.41-.59l7.78-7.78 2.81-2.81c.8-.78.8-2.07 0-2.86zM5.41 20L4 18.59l7.72-7.72 1.47 1.35L5.41 20z\"/>\n",
              "  </svg>\n",
              "      </button>\n",
              "      \n",
              "  <style>\n",
              "    .colab-df-container {\n",
              "      display:flex;\n",
              "      flex-wrap:wrap;\n",
              "      gap: 12px;\n",
              "    }\n",
              "\n",
              "    .colab-df-convert {\n",
              "      background-color: #E8F0FE;\n",
              "      border: none;\n",
              "      border-radius: 50%;\n",
              "      cursor: pointer;\n",
              "      display: none;\n",
              "      fill: #1967D2;\n",
              "      height: 32px;\n",
              "      padding: 0 0 0 0;\n",
              "      width: 32px;\n",
              "    }\n",
              "\n",
              "    .colab-df-convert:hover {\n",
              "      background-color: #E2EBFA;\n",
              "      box-shadow: 0px 1px 2px rgba(60, 64, 67, 0.3), 0px 1px 3px 1px rgba(60, 64, 67, 0.15);\n",
              "      fill: #174EA6;\n",
              "    }\n",
              "\n",
              "    [theme=dark] .colab-df-convert {\n",
              "      background-color: #3B4455;\n",
              "      fill: #D2E3FC;\n",
              "    }\n",
              "\n",
              "    [theme=dark] .colab-df-convert:hover {\n",
              "      background-color: #434B5C;\n",
              "      box-shadow: 0px 1px 3px 1px rgba(0, 0, 0, 0.15);\n",
              "      filter: drop-shadow(0px 1px 2px rgba(0, 0, 0, 0.3));\n",
              "      fill: #FFFFFF;\n",
              "    }\n",
              "  </style>\n",
              "\n",
              "      <script>\n",
              "        const buttonEl =\n",
              "          document.querySelector('#df-68c72aa4-3842-406e-832c-f78643b6b36e button.colab-df-convert');\n",
              "        buttonEl.style.display =\n",
              "          google.colab.kernel.accessAllowed ? 'block' : 'none';\n",
              "\n",
              "        async function convertToInteractive(key) {\n",
              "          const element = document.querySelector('#df-68c72aa4-3842-406e-832c-f78643b6b36e');\n",
              "          const dataTable =\n",
              "            await google.colab.kernel.invokeFunction('convertToInteractive',\n",
              "                                                     [key], {});\n",
              "          if (!dataTable) return;\n",
              "\n",
              "          const docLinkHtml = 'Like what you see? Visit the ' +\n",
              "            '<a target=\"_blank\" href=https://colab.research.google.com/notebooks/data_table.ipynb>data table notebook</a>'\n",
              "            + ' to learn more about interactive tables.';\n",
              "          element.innerHTML = '';\n",
              "          dataTable['output_type'] = 'display_data';\n",
              "          await google.colab.output.renderOutput(dataTable, element);\n",
              "          const docLink = document.createElement('div');\n",
              "          docLink.innerHTML = docLinkHtml;\n",
              "          element.appendChild(docLink);\n",
              "        }\n",
              "      </script>\n",
              "    </div>\n",
              "  </div>\n",
              "  "
            ],
            "text/plain": [
              "                                            similar_item                          SIMILAR_ITEM\n",
              "1       class=\"a-bordered a-horizontal-stripes  a-spa...                                    []\n",
              "122     class=\"a-bordered a-horizontal-stripes  a-spa...              [B005DMBC0C, B017WTVQI6]\n",
              "344     class=\"a-bordered a-horizontal-stripes  a-spa...                          [B015OI58OU]\n",
              "455     class=\"a-bordered a-horizontal-stripes  a-spa...                          [B000FQMTOE]\n",
              "458     class=\"a-bordered a-horizontal-stripes  a-spa...                                    []\n",
              "...                                                  ...                                   ...\n",
              "32031   class=\"a-bordered a-horizontal-stripes  a-spa...  [B01EBIY7HS, B01E82O696, B01F9XGGXW]\n",
              "32039   class=\"a-bordered a-horizontal-stripes  a-spa...                                    []\n",
              "32044   class=\"a-bordered a-horizontal-stripes  a-spa...                                    []\n",
              "32051   class=\"a-bordered a-horizontal-stripes  a-spa...                                    []\n",
              "32076   class=\"a-bordered a-horizontal-stripes  a-spa...                                    []\n",
              "\n",
              "[1296 rows x 2 columns]"
            ]
          },
          "metadata": {},
          "execution_count": 37
        }
      ]
    },
    {
      "cell_type": "code",
      "source": [
        "metadata = metadata.drop(['similar_item'], axis=1)"
      ],
      "metadata": {
        "id": "mZYKpbPDh6Xa"
      },
      "id": "mZYKpbPDh6Xa",
      "execution_count": 40,
      "outputs": []
    },
    {
      "cell_type": "markdown",
      "source": [
        "在剩下的欄位中，資料較齊全的有：`SEASON`、`RATE`、`RATE(COUNT)`、`title`、`rank`，規劃在方案1中選擇以這些特徵做為推薦參考。<br>\n",
        "在方案2中，多考慮資料沒這麼不齊全但認為很重要的欄位：`description`、`brand`，將他們與`title`串接成新欄位`ALL_TEXT`，替代`title`作為推薦參考。<br>\n",
        "在方案3中，以方案1、2中比較好為基底，新增如果商品未找到特徵計算得的相似商品，則以該商品`also_buy`、`also_view`、`similar_item`列表去推薦。<br>\n",
        "其他像是`price`等，資料量太少，尚未想到使用方式，故暫時選擇捨去，或許未來能在思考如何使用。"
      ],
      "metadata": {
        "id": "skqwKldPiCbI"
      },
      "id": "skqwKldPiCbI"
    },
    {
      "cell_type": "code",
      "source": [
        "metadata['SIMILAR'] = [set(list(x)+y+z) for x, y, z in zip(metadata.SIMILAR_ITEM, metadata.also_view, metadata.also_buy)]"
      ],
      "metadata": {
        "id": "3a13vczoh8xY"
      },
      "id": "3a13vczoh8xY",
      "execution_count": 41,
      "outputs": []
    },
    {
      "cell_type": "code",
      "source": [
        "metadata = metadata.drop(['SIMILAR_ITEM', 'also_view', 'also_buy'], axis=1)"
      ],
      "metadata": {
        "id": "HDYlxozbiKif"
      },
      "id": "HDYlxozbiKif",
      "execution_count": 42,
      "outputs": []
    },
    {
      "cell_type": "code",
      "source": [
        "metadata = metadata.drop(['price', 'imageURL'], axis=1)"
      ],
      "metadata": {
        "id": "6kVQF1r8iLHS"
      },
      "id": "6kVQF1r8iLHS",
      "execution_count": 43,
      "outputs": []
    },
    {
      "cell_type": "code",
      "source": [
        "metadata.info()"
      ],
      "metadata": {
        "colab": {
          "base_uri": "https://localhost:8080/"
        },
        "id": "7-e8MeEgiQ3F",
        "outputId": "d3602391-556a-4ec0-84bf-3dcc9d20e649"
      },
      "id": "7-e8MeEgiQ3F",
      "execution_count": null,
      "outputs": [
        {
          "output_type": "stream",
          "name": "stdout",
          "text": [
            "<class 'pandas.core.frame.DataFrame'>\n",
            "RangeIndex: 32083 entries, 0 to 32082\n",
            "Data columns (total 10 columns):\n",
            " #   Column       Non-Null Count  Dtype  \n",
            "---  ------       --------------  -----  \n",
            " 0   asin         32083 non-null  object \n",
            " 1   SEASON       32083 non-null  object \n",
            " 2   RATE         32075 non-null  float64\n",
            " 3   RATE(COUNT)  32075 non-null  float64\n",
            " 4   description  32083 non-null  object \n",
            " 5   title        32083 non-null  object \n",
            " 6   brand        32083 non-null  object \n",
            " 7   RANK         31720 non-null  object \n",
            " 8   CATEGORY     31720 non-null  object \n",
            " 9   SIMILAR      32083 non-null  object \n",
            "dtypes: float64(2), object(8)\n",
            "memory usage: 2.4+ MB\n"
          ]
        }
      ]
    },
    {
      "cell_type": "markdown",
      "source": [
        "## 資料處理"
      ],
      "metadata": {
        "id": "EJd8fv4miV2c"
      },
      "id": "EJd8fv4miV2c"
    },
    {
      "cell_type": "markdown",
      "source": [
        "### 文字處理"
      ],
      "metadata": {
        "id": "6UEhh54PirpQ"
      },
      "id": "6UEhh54PirpQ"
    },
    {
      "cell_type": "code",
      "source": [
        "# 處理掉description 的中括號\n",
        "metadata['description'] = metadata['description'].apply(lambda x: ' '.join(x))\n",
        "\n",
        "# 合併三個文字欄位\n",
        "metadata['ALL_TEXT'] = metadata['description'] + ' ' + metadata['brand'] + ' ' + metadata['title']"
      ],
      "metadata": {
        "id": "9vmbdM0riSmp"
      },
      "id": "9vmbdM0riSmp",
      "execution_count": 44,
      "outputs": []
    },
    {
      "cell_type": "code",
      "source": [
        "metadata = metadata.drop(['description', 'brand'], axis=1)"
      ],
      "metadata": {
        "id": "REcX7-1ai1Qj"
      },
      "id": "REcX7-1ai1Qj",
      "execution_count": 45,
      "outputs": []
    },
    {
      "cell_type": "code",
      "source": [
        "# 去除特殊符號，除了數字之間的\n",
        "import re\n",
        "regex = r\"(?<!\\d)[\\W](?!\\d)\"\n",
        "metadata['title'] = metadata['title'].apply(lambda x: re.sub(regex, ' ', str(x)))\n",
        "metadata['ALL_TEXT'] = metadata['ALL_TEXT'].apply(lambda x: re.sub(regex, ' ', str(x)))\n",
        "\n",
        "# 轉小寫\n",
        "metadata['title'] = metadata['title'].str.lower()\n",
        "metadata['ALL_TEXT'] = metadata['ALL_TEXT'].str.lower()"
      ],
      "metadata": {
        "id": "skTFfBKdiv8x"
      },
      "id": "skTFfBKdiv8x",
      "execution_count": 46,
      "outputs": []
    },
    {
      "cell_type": "code",
      "source": [
        "import nltk\n",
        "from nltk.corpus import stopwords\n",
        "from nltk.stem import WordNetLemmatizer\n",
        "nltk.download('stopwords')\n",
        "nltk.download('punkt')\n",
        "nltk.download('wordnet')\n",
        "\n",
        "# set lemmatizer\n",
        "lemmatizer = WordNetLemmatizer()\n",
        "\n",
        "# remove stopword\n",
        "def remove_stopword(sentence):\n",
        "    tokens = nltk.word_tokenize(sentence)\n",
        "    result = [lemmatizer.lemmatize(voca) for voca in tokens if not voca in stopwords.words('english')]\n",
        "    return ' '.join(result)\n",
        "\n",
        "metadata['title'] = metadata['title'].apply(lambda x: remove_stopword(x))\n",
        "metadata['ALL_TEXT'] = metadata['ALL_TEXT'].apply(lambda x: remove_stopword(x))"
      ],
      "metadata": {
        "colab": {
          "base_uri": "https://localhost:8080/"
        },
        "id": "pzl52_q_izbv",
        "outputId": "d0a9e5ac-ecc1-4422-e41d-496239545dc2"
      },
      "id": "pzl52_q_izbv",
      "execution_count": 47,
      "outputs": [
        {
          "output_type": "stream",
          "name": "stdout",
          "text": [
            "[nltk_data] Downloading package stopwords to /root/nltk_data...\n",
            "[nltk_data]   Package stopwords is already up-to-date!\n",
            "[nltk_data] Downloading package punkt to /root/nltk_data...\n",
            "[nltk_data]   Package punkt is already up-to-date!\n",
            "[nltk_data] Downloading package wordnet to /root/nltk_data...\n",
            "[nltk_data]   Package wordnet is already up-to-date!\n"
          ]
        }
      ]
    },
    {
      "cell_type": "markdown",
      "source": [
        "### TFIDF"
      ],
      "metadata": {
        "id": "wEGM2wEMiekc"
      },
      "id": "wEGM2wEMiekc"
    },
    {
      "cell_type": "code",
      "source": [
        "from sklearn.feature_extraction.text import TfidfVectorizer"
      ],
      "metadata": {
        "id": "p4KmGqYiickI"
      },
      "id": "p4KmGqYiickI",
      "execution_count": 48,
      "outputs": []
    },
    {
      "cell_type": "markdown",
      "source": [
        "#### 方案1: 只用title算tfidf-matrix¶"
      ],
      "metadata": {
        "id": "yXjTdI7ljQpi"
      },
      "id": "yXjTdI7ljQpi"
    },
    {
      "cell_type": "code",
      "source": [
        "metadata1 = metadata.copy()"
      ],
      "metadata": {
        "id": "DZg3UTZ_jUh6"
      },
      "id": "DZg3UTZ_jUh6",
      "execution_count": 49,
      "outputs": []
    },
    {
      "cell_type": "code",
      "source": [
        "tmp_text = metadata1.drop_duplicates('title')\n",
        "tf = TfidfVectorizer(max_features=200)\n",
        "tfidf_matrix = tf.fit(tmp_text['title'])\n",
        "tmp_word_features = tf.transform(metadata1['title'])"
      ],
      "metadata": {
        "id": "JDuaO87KjZ4i"
      },
      "id": "JDuaO87KjZ4i",
      "execution_count": 50,
      "outputs": []
    },
    {
      "cell_type": "code",
      "source": [
        "# 查看tfidf_matrix資料，為調整TfidfVectorizer()參數。b\n",
        "print(tmp_word_features.toarray())\n",
        "print('=')\n",
        "print(tf.get_feature_names())\n",
        "print('=')\n",
        "print(tf.vocabulary_)"
      ],
      "metadata": {
        "id": "cKBxHJDajgBo"
      },
      "id": "cKBxHJDajgBo",
      "execution_count": null,
      "outputs": []
    },
    {
      "cell_type": "code",
      "source": [
        "word_features = pd.DataFrame(tmp_word_features.toarray(), columns = np.array(tf.get_feature_names()))"
      ],
      "metadata": {
        "colab": {
          "base_uri": "https://localhost:8080/"
        },
        "id": "-8wtIhgJjwT3",
        "outputId": "bbd10bb1-ea99-4217-d3e8-7cec9e923866"
      },
      "id": "-8wtIhgJjwT3",
      "execution_count": 51,
      "outputs": [
        {
          "output_type": "stream",
          "name": "stderr",
          "text": [
            "/usr/local/lib/python3.7/dist-packages/sklearn/utils/deprecation.py:87: FutureWarning: Function get_feature_names is deprecated; get_feature_names is deprecated in 1.0 and will be removed in 1.2. Please use get_feature_names_out instead.\n",
            "  warnings.warn(msg, category=FutureWarning)\n"
          ]
        }
      ]
    },
    {
      "cell_type": "code",
      "source": [
        "metadata1 = pd.concat([metadata1, word_features], axis=1)"
      ],
      "metadata": {
        "id": "9RgGtq9-j2ye"
      },
      "id": "9RgGtq9-j2ye",
      "execution_count": 52,
      "outputs": []
    },
    {
      "cell_type": "markdown",
      "source": [
        "#### 方案2：用title、brand、description算tfidf-matrix"
      ],
      "metadata": {
        "id": "4K7A1KPgjQRH"
      },
      "id": "4K7A1KPgjQRH"
    },
    {
      "cell_type": "code",
      "source": [
        "metadata2 = metadata.copy()"
      ],
      "metadata": {
        "id": "ZB8S8Hb9jX8g"
      },
      "id": "ZB8S8Hb9jX8g",
      "execution_count": 53,
      "outputs": []
    },
    {
      "cell_type": "code",
      "source": [
        "tmp_text = metadata2.drop_duplicates('ALL_TEXT')\n",
        "tf = TfidfVectorizer(max_features=200)\n",
        "tfidf_matrix = tf.fit(tmp_text['ALL_TEXT'])\n",
        "tmp_word_features = tf.transform(metadata2['ALL_TEXT'])"
      ],
      "metadata": {
        "id": "9dz4q4MsjIyp"
      },
      "id": "9dz4q4MsjIyp",
      "execution_count": 54,
      "outputs": []
    },
    {
      "cell_type": "code",
      "source": [
        "word_features = pd.DataFrame(tmp_word_features.toarray(), columns = np.array(tf.get_feature_names()))"
      ],
      "metadata": {
        "colab": {
          "base_uri": "https://localhost:8080/"
        },
        "id": "3pRi_RtOkkOW",
        "outputId": "00aca92b-67eb-4427-92b4-b5871008dec9"
      },
      "id": "3pRi_RtOkkOW",
      "execution_count": 55,
      "outputs": [
        {
          "output_type": "stream",
          "name": "stderr",
          "text": [
            "/usr/local/lib/python3.7/dist-packages/sklearn/utils/deprecation.py:87: FutureWarning: Function get_feature_names is deprecated; get_feature_names is deprecated in 1.0 and will be removed in 1.2. Please use get_feature_names_out instead.\n",
            "  warnings.warn(msg, category=FutureWarning)\n"
          ]
        }
      ]
    },
    {
      "cell_type": "code",
      "source": [
        "metadata2 = pd.concat([metadata2, word_features], axis=1)"
      ],
      "metadata": {
        "id": "gLtcXGVwkplg"
      },
      "id": "gLtcXGVwkplg",
      "execution_count": 56,
      "outputs": []
    },
    {
      "cell_type": "markdown",
      "source": [
        "## 相似度計算"
      ],
      "metadata": {
        "id": "xFIjCczNkyX2"
      },
      "id": "xFIjCczNkyX2"
    },
    {
      "cell_type": "code",
      "source": [
        "from sklearn.metrics.pairwise import cosine_similarity"
      ],
      "metadata": {
        "id": "h3mduVKKlOb3"
      },
      "id": "h3mduVKKlOb3",
      "execution_count": 57,
      "outputs": []
    },
    {
      "cell_type": "markdown",
      "source": [
        "#### 方案1"
      ],
      "metadata": {
        "id": "8L0O6K4Ak6hA"
      },
      "id": "8L0O6K4Ak6hA"
    },
    {
      "cell_type": "code",
      "source": [
        "metadata1_features = metadata1.drop(['asin', 'SEASON', 'title', 'RANK', 'RATE', 'RATE(COUNT)', 'CATEGORY', 'SIMILAR', 'ALL_TEXT'], axis=1)"
      ],
      "metadata": {
        "id": "kmNPdVZ1k5M0"
      },
      "id": "kmNPdVZ1k5M0",
      "execution_count": 58,
      "outputs": []
    },
    {
      "cell_type": "code",
      "source": [
        "metadata1_similarity_matrix = cosine_similarity(metadata1_features)"
      ],
      "metadata": {
        "id": "trh-43O7lHGa"
      },
      "id": "trh-43O7lHGa",
      "execution_count": 59,
      "outputs": []
    },
    {
      "cell_type": "markdown",
      "source": [
        "#### 方案2"
      ],
      "metadata": {
        "id": "Scek80oYlWlo"
      },
      "id": "Scek80oYlWlo"
    },
    {
      "cell_type": "code",
      "source": [
        "metadata2_features = metadata2.drop(['asin', 'SEASON', 'title', 'RANK', 'RATE', 'RATE(COUNT)', 'CATEGORY', 'SIMILAR', 'ALL_TEXT'], axis=1)"
      ],
      "metadata": {
        "id": "3lcLxMywlHmo"
      },
      "id": "3lcLxMywlHmo",
      "execution_count": null,
      "outputs": []
    },
    {
      "cell_type": "code",
      "source": [
        "metadata2_similarity_matrix = cosine_similarity(metadata2_features)"
      ],
      "metadata": {
        "id": "ZO0rJnzWleVE"
      },
      "id": "ZO0rJnzWleVE",
      "execution_count": null,
      "outputs": []
    },
    {
      "cell_type": "markdown",
      "source": [
        "## 若沒有相似商品的替代推薦"
      ],
      "metadata": {
        "id": "iwOWEpJplymN"
      },
      "id": "iwOWEpJplymN"
    },
    {
      "cell_type": "code",
      "source": [
        "# 近一個月熱銷\n",
        "recent_training_data = ratings_trainings[(ratings_trainings['DATE'] >= '2018-08-01') \\\n",
        "                                      & (ratings_trainings['DATE'] < '2018-09-01')]\n",
        "def get_recent_topN(n=10):\n",
        "    recent_top = recent_training_data.groupby('asin') \\\n",
        "           .agg({'asin':'size', 'overall':'mean'}) \\\n",
        "           .rename(columns={'asin':'sold_count','overall':'mean_score'}) \\\n",
        "           .reset_index().sort_values('sold_count', ascending=False) \\\n",
        "           .head(n).asin.reset_index(drop=True).to_list()\n",
        "    return recent_top"
      ],
      "metadata": {
        "id": "tuizMJqelsP4"
      },
      "id": "tuizMJqelsP4",
      "execution_count": 60,
      "outputs": []
    },
    {
      "cell_type": "code",
      "source": [
        "# TODO\n",
        "# 長期熱銷\n",
        "# asin_list找同CATEGORY的RANK排名前幾名\n",
        "# 參考SIMILAR"
      ],
      "metadata": {
        "id": "uz6INWS7mA-a"
      },
      "id": "uz6INWS7mA-a",
      "execution_count": null,
      "outputs": []
    },
    {
      "cell_type": "markdown",
      "id": "a6c76061",
      "metadata": {
        "id": "a6c76061"
      },
      "source": [
        "## 產生推薦"
      ]
    },
    {
      "cell_type": "code",
      "source": [
        "mapping = pd.Series(metadata.index, index = metadata['asin'])"
      ],
      "metadata": {
        "id": "bK4kosZ0mPrq"
      },
      "id": "bK4kosZ0mPrq",
      "execution_count": 61,
      "outputs": []
    },
    {
      "cell_type": "code",
      "execution_count": 62,
      "id": "61e7487b",
      "metadata": {
        "id": "61e7487b"
      },
      "outputs": [],
      "source": [
        "# 每個商品回傳 k 個最相近的商品\n",
        "def recommend_item(similarity_matrix, item_input, k=10):\n",
        "    try:\n",
        "        item_index = mapping[item_input]\n",
        "        similarity_score = list(enumerate(similarity_matrix[item_index]))\n",
        "        similarity_score = sorted(similarity_score, key=lambda x: x[1], reverse=True)\n",
        "        similarity_score = similarity_score[:k]\n",
        "        item_indices = [i[0] for i in similarity_score]\n",
        "        return (metadata['asin'].iloc[item_indices].tolist())\n",
        "    except:\n",
        "        return []\n",
        "\n",
        "# 利用使用者購買過的商品產生推薦\n",
        "def recommend_items(similarity_matrix, items, rmethod=1, k=10):\n",
        "    res = []\n",
        "    for d in items:\n",
        "        res.extend(recommend_item(d, k))\n",
        "        \n",
        "    if len(res) != k:  # 如果相似商品們不足k個\n",
        "        res = res + get_recent_topN(k-len(res))\n",
        "    return res"
      ]
    },
    {
      "cell_type": "code",
      "execution_count": 63,
      "id": "9280a043",
      "metadata": {
        "id": "9280a043"
      },
      "outputs": [],
      "source": [
        "def recommender(training_data, users=[], cmethod=1, rmethod=1, k=10):\n",
        "    '''\n",
        "    * training_data: dataframe 輸入的訓練資料集（2018-09-01 以前資料）\n",
        "    * users: [] 需要被推薦的使用者\n",
        "    * k: int 每個使用者需要推薦的商品數\n",
        "    * recommendations: dict\n",
        "      {\n",
        "          使用者一： [推薦商品一, 推薦商品二, ...],\n",
        "          使用者二： [...], ...\n",
        "      }\n",
        "    '''\n",
        "    recommendations = {}\n",
        "    ratings_trainings = training_data\n",
        "    \n",
        "    if (cmethod == 2):\n",
        "        similarity_matrix = metadata2_similarity_matrix\n",
        "    else:\n",
        "        similarity_matrix = metadata1_similarity_matrix\n",
        "\n",
        "#     recommendations = {user: recommend_items(metadata[metadata['asin'].isin(ratings_trainings[ratings_trainings['reviewerID'] == user]['asin'].tolist())]['title'].tolist(), k) for user in users}\n",
        "    recommendations = {user: recommend_items(similarity_matrix, metadata[metadata['asin'].isin(ratings_trainings[(ratings_trainings['reviewerID'] == user) & (ratings_trainings['overall'] > 3)]['asin'].tolist())]['title'].tolist(), rmethod, k) for user in users}\n",
        "\n",
        "    return recommendations"
      ]
    },
    {
      "cell_type": "markdown",
      "id": "04a4ca9e",
      "metadata": {
        "id": "04a4ca9e"
      },
      "source": [
        "## 結果評估"
      ]
    },
    {
      "cell_type": "code",
      "execution_count": 64,
      "id": "ee763747",
      "metadata": {
        "id": "ee763747"
      },
      "outputs": [],
      "source": [
        "def evaluate(ratings_testings_by_user={}, ratings_by_user={}, method=None):\n",
        "    '''\n",
        "    * ratings_testings_by_user: dict 真實被購買的商品資料（2018-09-01 以後資料）\n",
        "    * ratings_by_user: dict 利用訓練資料學習的推薦商品\n",
        "    * method: str\n",
        "    * score: float\n",
        "    '''\n",
        "    total = 0\n",
        "    for d in ratings_testings_by_user:\n",
        "        if d in ratings_by_user:\n",
        "            total += len(set(ratings_by_user[d]) & set(ratings_testings_by_user[d]))\n",
        "\n",
        "    score = total / len(ratings_testings)\n",
        "    return score"
      ]
    },
    {
      "cell_type": "markdown",
      "source": [
        "#### 方案1"
      ],
      "metadata": {
        "id": "DtmvoBvpm38N"
      },
      "id": "DtmvoBvpm38N"
    },
    {
      "cell_type": "code",
      "source": [
        "for k in [10, 20, 30]:\n",
        "    ratings_by_user = recommender(ratings_trainings, users, cmethod=1, rmethod=1, k=k)\n",
        "    print(f'top{k} Recall： {evaluate(ratings_testings_by_user, ratings_by_user)}')"
      ],
      "metadata": {
        "id": "HyaDfMQSmvv1",
        "colab": {
          "base_uri": "https://localhost:8080/"
        },
        "outputId": "d063cc7b-770f-48e2-850e-1fd3c2a215b0"
      },
      "id": "HyaDfMQSmvv1",
      "execution_count": 65,
      "outputs": [
        {
          "output_type": "stream",
          "name": "stdout",
          "text": [
            "top10 Recall： 0.15593220338983052\n",
            "top20 Recall： 0.19322033898305085\n",
            "top30 Recall： 0.2627118644067797\n"
          ]
        }
      ]
    },
    {
      "cell_type": "code",
      "source": [
        "metadata1 = metadata1[0:0]\n",
        "metadata1_similarity_matrix = metadata1_similarity_matrix[0:0]\n",
        "metadata1_features = metadata1_features[0:0]"
      ],
      "metadata": {
        "id": "bmilPwJQtty8"
      },
      "id": "bmilPwJQtty8",
      "execution_count": 66,
      "outputs": []
    },
    {
      "cell_type": "markdown",
      "source": [
        "#### 方案2"
      ],
      "metadata": {
        "id": "s54IQMlPnTO9"
      },
      "id": "s54IQMlPnTO9"
    },
    {
      "cell_type": "code",
      "execution_count": null,
      "id": "53055ac2",
      "metadata": {
        "id": "53055ac2"
      },
      "outputs": [],
      "source": [
        "for k in [10, 20, 30]:\n",
        "    ratings_by_user = recommender(ratings_trainings, users, cmethod=2, rmethod=1, k=k)\n",
        "    print(f'top{k} Recall： {evaluate(ratings_testings_by_user, ratings_by_user)}')"
      ]
    }
  ],
  "metadata": {
    "kernelspec": {
      "display_name": "Python 3",
      "language": "python",
      "name": "python3"
    },
    "language_info": {
      "codemirror_mode": {
        "name": "ipython",
        "version": 3
      },
      "file_extension": ".py",
      "mimetype": "text/x-python",
      "name": "python",
      "nbconvert_exporter": "python",
      "pygments_lexer": "ipython3",
      "version": "3.9.0"
    },
    "colab": {
      "name": "「A4_content-based.ipynb」的副本",
      "provenance": [],
      "collapsed_sections": [],
      "include_colab_link": true
    }
  },
  "nbformat": 4,
  "nbformat_minor": 5
}